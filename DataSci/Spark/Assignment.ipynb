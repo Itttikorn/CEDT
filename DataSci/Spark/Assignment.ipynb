{
 "cells": [
  {
   "cell_type": "markdown",
   "metadata": {},
   "source": [
    "# Spark Preparation\n",
    "We check if we are in Google Colab.  If this is the case, install all necessary packages.\n",
    "\n",
    "To run spark in Colab, we need to first install all the dependencies in Colab environment i.e. Apache Spark 3.3.2 with hadoop 3.3, Java 8 and Findspark to locate the spark in the system. The tools installation can be carried out inside the Jupyter Notebook of the Colab.\n",
    "Learn more from [A Must-Read Guide on How to Work with PySpark on Google Colab for Data Scientists!](https://www.analyticsvidhya.com/blog/2020/11/a-must-read-guide-on-how-to-work-with-pyspark-on-google-colab-for-data-scientists/)"
   ]
  },
  {
   "cell_type": "code",
   "execution_count": null,
   "metadata": {},
   "outputs": [],
   "source": [
    "# try:\n",
    "#   import google.colab\n",
    "#   IN_COLAB = True\n",
    "# except:\n",
    "#   IN_COLAB = False"
   ]
  },
  {
   "cell_type": "code",
   "execution_count": null,
   "metadata": {},
   "outputs": [],
   "source": [
    "# if IN_COLAB:\n",
    "#     !apt-get install openjdk-8-jdk-headless -qq > /dev/null\n",
    "#     !wget -q https://dlcdn.apache.org/spark/spark-3.3.2/spark-3.3.2-bin-hadoop3.tgz\n",
    "#     !tar xf spark-3.3.2-bin-hadoop3.tgz\n",
    "#     !mv spark-3.3.2-bin-hadoop3 spark\n",
    "#     !pip install -q findspark\n",
    "#     import os\n",
    "#     os.environ[\"JAVA_HOME\"] = \"/usr/lib/jvm/java-8-openjdk-amd64\"\n",
    "#     os.environ[\"SPARK_HOME\"] = \"/content/spark\""
   ]
  },
  {
   "cell_type": "markdown",
   "metadata": {},
   "source": [
    "# Start a Local Cluster"
   ]
  },
  {
   "cell_type": "code",
   "execution_count": 1,
   "metadata": {},
   "outputs": [],
   "source": [
    "import findspark\n",
    "findspark.init()\n",
    "from pyspark.sql import SparkSession\n",
    "spark_url = 'local'\n",
    "\n",
    "spark = SparkSession.builder\\\n",
    "        .master(spark_url)\\\n",
    "        .appName('Spark Assignment')\\\n",
    "        .config('spark.ui.port', '4040')\\\n",
    "        .getOrCreate()\n",
    "sc = spark.sparkContext"
   ]
  },
  {
   "cell_type": "markdown",
   "metadata": {},
   "source": [
    "# Spark Assignment\n",
    "\n",
    "Based on the movie review dataset in 'netflix-rotten-tomatoes-metacritic-imdb.csv', answer the below questions.\n",
    "\n",
    "**Note:** do not clean or remove missing data"
   ]
  },
  {
   "cell_type": "code",
   "execution_count": 5,
   "metadata": {},
   "outputs": [
    {
     "name": "stdout",
     "output_type": "stream",
     "text": [
      "root\n",
      " |-- Title: string (nullable = true)\n",
      " |-- Genre: string (nullable = true)\n",
      " |-- Tags: string (nullable = true)\n",
      " |-- Languages: string (nullable = true)\n",
      " |-- Series or Movie: string (nullable = true)\n",
      " |-- Hidden Gem Score: double (nullable = true)\n",
      " |-- Country Availability: string (nullable = true)\n",
      " |-- Runtime: string (nullable = true)\n",
      " |-- Director: string (nullable = true)\n",
      " |-- Writer: string (nullable = true)\n",
      " |-- Actors: string (nullable = true)\n",
      " |-- View Rating: string (nullable = true)\n",
      " |-- IMDb Score: string (nullable = true)\n",
      " |-- Rotten Tomatoes Score: string (nullable = true)\n",
      " |-- Metacritic Score: string (nullable = true)\n",
      " |-- Awards Received: double (nullable = true)\n",
      " |-- Awards Nominated For: double (nullable = true)\n",
      " |-- Boxoffice: string (nullable = true)\n",
      " |-- Release Date: string (nullable = true)\n",
      " |-- Netflix Release Date: string (nullable = true)\n",
      " |-- Production House: string (nullable = true)\n",
      " |-- Netflix Link: string (nullable = true)\n",
      " |-- IMDb Link: string (nullable = true)\n",
      " |-- Summary: string (nullable = true)\n",
      " |-- IMDb Votes: string (nullable = true)\n",
      " |-- Image: string (nullable = true)\n",
      " |-- Poster: string (nullable = true)\n",
      " |-- TMDb Trailer: string (nullable = true)\n",
      " |-- Trailer Site: string (nullable = true)\n",
      "\n"
     ]
    }
   ],
   "source": [
    "path = 'netflix-rotten-tomatoes-metacritic-imdb.csv'\n",
    "df = spark.read.csv(path,header=True,inferSchema=True)\n",
    "df.printSchema()"
   ]
  },
  {
   "cell_type": "markdown",
   "metadata": {},
   "source": [
    "## What is the maximum and average of the overall hidden gem score?"
   ]
  },
  {
   "cell_type": "code",
   "execution_count": 7,
   "metadata": {},
   "outputs": [
    {
     "name": "stdout",
     "output_type": "stream",
     "text": [
      "+---------------------+---------------------+\n",
      "|max(Hidden Gem Score)|avg(Hidden Gem Score)|\n",
      "+---------------------+---------------------+\n",
      "|                  9.8|    5.937551386501226|\n",
      "+---------------------+---------------------+\n",
      "\n"
     ]
    }
   ],
   "source": [
    "from pyspark.sql.functions import avg, max\n",
    "df.select(max('Hidden Gem Score'),avg('Hidden Gem Score')).show()"
   ]
  },
  {
   "cell_type": "markdown",
   "metadata": {},
   "source": [
    "## How many movies that are available in Korea?"
   ]
  },
  {
   "cell_type": "code",
   "execution_count": 26,
   "metadata": {},
   "outputs": [
    {
     "data": {
      "text/plain": [
       "735"
      ]
     },
     "execution_count": 26,
     "metadata": {},
     "output_type": "execute_result"
    }
   ],
   "source": [
    "df.filter(df['Languages'].contains(\"Korea\")).count()"
   ]
  },
  {
   "cell_type": "markdown",
   "metadata": {},
   "source": [
    "## Which director has the highest average hidden gem score?"
   ]
  },
  {
   "cell_type": "code",
   "execution_count": 17,
   "metadata": {},
   "outputs": [
    {
     "name": "stdout",
     "output_type": "stream",
     "text": [
      "+-----------+--------------------+\n",
      "|   Director|avg_hidden_gem_score|\n",
      "+-----------+--------------------+\n",
      "|Dorin Marcu|                 9.8|\n",
      "+-----------+--------------------+\n",
      "only showing top 1 row\n",
      "\n"
     ]
    }
   ],
   "source": [
    "from pyspark.sql.functions import col\n",
    "\n",
    "df.groupBy('Director') \\\n",
    "    .agg(avg('Hidden Gem Score').alias('avg_hidden_gem_score')) \\\n",
    "    .orderBy(col('avg_hidden_gem_score').desc()) \\\n",
    "    .show(1)"
   ]
  },
  {
   "cell_type": "markdown",
   "metadata": {},
   "source": [
    "## How many genres are there in the dataset?"
   ]
  },
  {
   "cell_type": "code",
   "execution_count": 25,
   "metadata": {},
   "outputs": [
    {
     "data": {
      "text/plain": [
       "28"
      ]
     },
     "execution_count": 25,
     "metadata": {},
     "output_type": "execute_result"
    }
   ],
   "source": [
    "from pyspark.sql.functions import explode, split\n",
    "\n",
    "df.withColumn('Genre', explode(split('Genre', ', '))) \\\n",
    "    .select('Genre') \\\n",
    "    .distinct() \\\n",
    "    .count()"
   ]
  }
 ],
 "metadata": {
  "kernelspec": {
   "display_name": "Python 3",
   "language": "python",
   "name": "python3"
  },
  "language_info": {
   "codemirror_mode": {
    "name": "ipython",
    "version": 3
   },
   "file_extension": ".py",
   "mimetype": "text/x-python",
   "name": "python",
   "nbconvert_exporter": "python",
   "pygments_lexer": "ipython3",
   "version": "3.11.9"
  },
  "toc": {
   "base_numbering": 1,
   "nav_menu": {},
   "number_sections": true,
   "sideBar": true,
   "skip_h1_title": false,
   "title_cell": "Table of Contents",
   "title_sidebar": "Contents",
   "toc_cell": false,
   "toc_position": {},
   "toc_section_display": true,
   "toc_window_display": false
  },
  "varInspector": {
   "cols": {
    "lenName": 16,
    "lenType": 16,
    "lenVar": 40
   },
   "kernels_config": {
    "python": {
     "delete_cmd_postfix": "",
     "delete_cmd_prefix": "del ",
     "library": "var_list.py",
     "varRefreshCmd": "print(var_dic_list())"
    },
    "r": {
     "delete_cmd_postfix": ") ",
     "delete_cmd_prefix": "rm(",
     "library": "var_list.r",
     "varRefreshCmd": "cat(var_dic_list()) "
    }
   },
   "types_to_exclude": [
    "module",
    "function",
    "builtin_function_or_method",
    "instance",
    "_Feature"
   ],
   "window_display": false
  }
 },
 "nbformat": 4,
 "nbformat_minor": 4
}
