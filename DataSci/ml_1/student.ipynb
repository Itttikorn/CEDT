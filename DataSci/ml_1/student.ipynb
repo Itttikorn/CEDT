{
 "cells": [
  {
   "cell_type": "markdown",
   "metadata": {
    "id": "iKq5vgbI3QOi"
   },
   "source": [
    "##**Assignment 3 (2023/2): ML1**\n",
    "**Safe to eat or deadly poison?**\n",
    "\n"
   ]
  },
  {
   "cell_type": "markdown",
   "metadata": {
    "id": "JtWlAnW-4IIw"
   },
   "source": [
    "This homework is a classification task to identify whether a mushroom is edible or poisonous.\n",
    "\n",
    "This dataset includes descriptions of hypothetical samples corresponding to 23 species of gilled mushrooms in the Agaricus and Lepiota Family Mushroom drawn from The Audubon Society Field Guide to North American Mushrooms (1981).\n",
    "\n",
    "Each species is identified as definitely edible, definitely poisonous, or of unknown edibility and not recommended. This latter class was combined with the poisonous one. The Guide clearly states that there is no simple rule for determining the credibility of a mushroom; no rule like \"leaflets three, let it be'' for Poisonous Oak and Ivy.\n"
   ]
  },
  {
   "cell_type": "markdown",
   "metadata": {
    "id": "ia90I1DY4hYT"
   },
   "source": [
    "Step 1. Load 'mushroom2020_dataset.csv' data from the “Attachment” (note: this data set has been preliminarily prepared.).\n",
    "\n",
    "Step 2. Drop rows where the target (label) variable is missing.\n",
    "\n",
    "Step 3. Drop the following variables:\n",
    "'id','gill-attachment', 'gill-spacing', 'gill-size','gill-color-rate', 'stalk-root', 'stalk-surface-above-ring', 'stalk-surface-below-ring', 'stalk-color-above-ring-rate','stalk-color-below-ring-rate','veil-color-rate','veil-type'\n",
    "\n",
    "Step 4. Examine the number of rows, the number of digits, and whether any are missing.\n",
    "\n",
    "Step 5. Fill missing values by adding the mean for numeric variables and the mode for nominal variables.\n",
    "\n",
    "Step 6. Convert the label variable e (edible) to 1 and p (poisonous) to 0 and check the quantity. class0: class1\n",
    "\n",
    "Step 7. Convert the nominal variable to numeric using a dummy code with drop_first = True.\n",
    "\n",
    "Step 8. Split train/test with 20% test, stratify, and seed = 2020.\n",
    "\n",
    "Step 9. Create a Random Forest with GridSearch on training data with 5 CV with n_jobs=-1.\n",
    "\t'criterion':['gini','entropy']\n",
    "'max_depth': [2,3]\n",
    "'min_samples_leaf':[2,5]\n",
    "'N_estimators':[100]\n",
    "'random_state': 2020\n",
    "\n",
    "Step 10.  Predict the testing data set with classification_report.\n"
   ]
  },
  {
   "cell_type": "markdown",
   "metadata": {
    "id": "uEoNW_114VQh"
   },
   "source": [
    "**Complete class MushroomClassifier from given code template below.**"
   ]
  },
  {
   "cell_type": "code",
   "execution_count": 3,
   "metadata": {
    "id": "-Xw2UEzU3s0k"
   },
   "outputs": [],
   "source": [
    "#import your other libraries here\n",
    "import pandas as pd\n"
   ]
  },
  {
   "cell_type": "code",
   "execution_count": 5,
   "metadata": {
    "id": "j59N5vzD3P1Z"
   },
   "outputs": [],
   "source": [
    "import pandas as pd\n",
    "import sklearn.ensemble\n",
    "import sklearn.metrics\n",
    "import sklearn.model_selection\n",
    "\n",
    "\n",
    "class MushroomClassifier:\n",
    "    def __init__(self, data_path): # DO NOT modify this line\n",
    "        self.data_path = data_path\n",
    "        self.df = pd.read_csv(data_path)\n",
    "\n",
    "    def Q1(self): # DO NOT modify this line\n",
    "        \"\"\"\n",
    "            1. (From step 1) Before doing the data prep., how many \"na\" are there in \"gill-size\" variables?\n",
    "        \"\"\"\n",
    "        # remove pass and replace with you code\n",
    "        return self.df['gill-size'].isnull().sum()\n",
    "\n",
    "\n",
    "    def Q2(self): # DO NOT modify this line\n",
    "        \"\"\"\n",
    "            2. (From step 2-4) How many rows of data, how many variables?\n",
    "            - Drop rows where the target (label) variable is missing.\n",
    "            - Drop the following variables:\n",
    "            'id','gill-attachment', 'gill-spacing', 'gill-size','gill-color-rate','stalk-root', 'stalk-surface-above-ring',\n",
    "            'stalk-surface-below-ring', 'stalk-color-above-ring-rate','stalk-color-below-ring-rate','veil-color-rate','veil-type'\n",
    "            - Examine the number of rows, the number of digits, and whether any are missing.\n",
    "        \"\"\"\n",
    "        # remove pass and replace with you code\n",
    "        self.df.dropna(subset=['label'],inplace=True)\n",
    "        self.df.drop(columns=['id','gill-attachment', 'gill-spacing', 'gill-size','gill-color-rate','stalk-root', 'stalk-surface-above-ring',\n",
    "            'stalk-surface-below-ring', 'stalk-color-above-ring-rate','stalk-color-below-ring-rate','veil-color-rate','veil-type'],\n",
    "            inplace=True)\n",
    "        return self.df.shape\n",
    "\n",
    "\n",
    "    def Q3(self): # DO NOT modify this line\n",
    "        \"\"\"\n",
    "            3. (From step 5-6) Answer the quantity class0:class1\n",
    "            - Fill missing values by adding the mean for numeric variables and the mode for nominal variables.\n",
    "            - Convert the label variable e (edible) to 1 and p (poisonous) to 0 and check the quantity. class0: class1\n",
    "        \"\"\"\n",
    "        # remove pass and replace with you code\n",
    "        self.df.dropna(subset=['label'],inplace=True)\n",
    "        self.df.drop(columns=['id','gill-attachment', 'gill-spacing', 'gill-size','gill-color-rate','stalk-root', 'stalk-surface-above-ring',\n",
    "            'stalk-surface-below-ring', 'stalk-color-above-ring-rate','stalk-color-below-ring-rate','veil-color-rate','veil-type'],\n",
    "            inplace=True)\n",
    "        for col in self.df.columns:\n",
    "            if(self.df[col].dtype == 'object' ):\n",
    "                self.df[col] = self.df[col].fillna(self.df[col].mode()[0])\n",
    "            else:\n",
    "                self.df[col] = self.df[col].fillna(self.df[col].mean())\n",
    "        self.df['label'] = self.df['label'].map({'e':1,'p':0})\n",
    "        return self.df['label'].value_counts()\n",
    "\n",
    "\n",
    "    def Q4(self): # DO NOT modify this line\n",
    "        \"\"\"\n",
    "            4. (From step 7-8) How much is each training and testing sets\n",
    "            - Convert the nominal variable to numeric using a dummy code with drop_first = True.\n",
    "            - Split train/test with 20% test, stratify, and seed = 2020.\n",
    "        \"\"\"\n",
    "        # remove pass and replace with you code\n",
    "        self.df.dropna(subset=['label'],inplace=True)\n",
    "        self.df.drop(columns=['id','gill-attachment', 'gill-spacing', 'gill-size','gill-color-rate','stalk-root', 'stalk-surface-above-ring',\n",
    "            'stalk-surface-below-ring', 'stalk-color-above-ring-rate','stalk-color-below-ring-rate','veil-color-rate','veil-type'],\n",
    "            inplace=True)\n",
    "        for col in self.df.columns:\n",
    "            if(self.df[col].dtype == 'object' ):\n",
    "                self.df[col] = self.df[col].fillna(self.df[col].mode()[0])\n",
    "            else:\n",
    "                self.df[col] = self.df[col].fillna(self.df[col].mean())\n",
    "        self.df['label'] = self.df['label'].map({'e':1,'p':0})\n",
    "        self.df = pd.get_dummies(self.df, drop_first=True)\n",
    "        y = self.df.pop('label')\n",
    "        X = self.df\n",
    "        X_train,X_test,y_train,y_test = sklearn.model_selection.train_test_split(X,y,stratify=y,test_size=0.20, random_state=2020)\n",
    "        return(X_train.shape, X_test.shape)\n",
    "\n",
    "\n",
    "    def Q5(self):\n",
    "        \"\"\"\n",
    "            5. (From step 9) Best params after doing random forest grid search.\n",
    "            Create a Random Forest with GridSearch on training data with 5 CV with n_jobs=-1.\n",
    "            - 'criterion':['gini','entropy']\n",
    "            - 'max_depth': [2,3]\n",
    "            - 'min_samples_leaf':[2,5]\n",
    "            - 'N_estimators':[100]\n",
    "            - 'random_state': 2020\n",
    "        \"\"\"\n",
    "        # remove pass and replace with you code\n",
    "        self.df.dropna(subset=['label'],inplace=True)\n",
    "        self.df.drop(columns=['id','gill-attachment', 'gill-spacing', 'gill-size','gill-color-rate','stalk-root', 'stalk-surface-above-ring',\n",
    "            'stalk-surface-below-ring', 'stalk-color-above-ring-rate','stalk-color-below-ring-rate','veil-color-rate','veil-type'],\n",
    "            inplace=True)\n",
    "        for col in self.df.columns:\n",
    "            if(self.df[col].dtype == 'object' ):\n",
    "                self.df[col] = self.df[col].fillna(self.df[col].mode()[0])\n",
    "            else:\n",
    "                self.df[col] = self.df[col].fillna(self.df[col].mean())\n",
    "        self.df['label'] = self.df['label'].map({'e':1,'p':0})\n",
    "        self.df = pd.get_dummies(self.df, drop_first=True)\n",
    "        y = self.df.pop('label')\n",
    "        X = self.df\n",
    "        X_train,X_test,y_train,y_test = sklearn.model_selection.train_test_split(X,y,stratify=y,test_size=0.20, random_state=2020)\n",
    "        grid_search = sklearn.model_selection.GridSearchCV(\n",
    "            estimator=sklearn.ensemble.RandomForestClassifier(),\n",
    "            param_grid=dict(\n",
    "                criterion=['gini','entropy'],\n",
    "                max_depth= [2,3],\n",
    "                min_samples_leaf=[2,5],\n",
    "                n_estimators=[100],\n",
    "                random_state=[2020]\n",
    "                ),\n",
    "            n_jobs=-1\n",
    "            )\n",
    "        grid_search.fit(X_train, y_train)\n",
    "        return grid_search.best_params_\n",
    "\n",
    "\n",
    "    def Q6(self):\n",
    "        \"\"\"\n",
    "            5. (From step 10) What is the value of macro f1 (Beware digit !)\n",
    "            Predict the testing data set with confusion_matrix and classification_report,\n",
    "            using scientific rounding (less than 0.5 dropped, more than 0.5 then increased)\n",
    "        \"\"\"\n",
    "        # remove pass and replace with you code\n",
    "        self.df.dropna(subset=['label'],inplace=True)\n",
    "        self.df.drop(columns=['id','gill-attachment', 'gill-spacing', 'gill-size','gill-color-rate','stalk-root', 'stalk-surface-above-ring',\n",
    "            'stalk-surface-below-ring', 'stalk-color-above-ring-rate','stalk-color-below-ring-rate','veil-color-rate','veil-type'],\n",
    "            inplace=True)\n",
    "        for col in self.df.columns:\n",
    "            if(self.df[col].dtype == 'object' ):\n",
    "                self.df[col] = self.df[col].fillna(self.df[col].mode()[0])\n",
    "            else:\n",
    "                self.df[col] = self.df[col].fillna(self.df[col].mean())\n",
    "        self.df['label'] = self.df['label'].map({'e':1,'p':0})\n",
    "        self.df = pd.get_dummies(self.df, drop_first=True)\n",
    "        y = self.df.pop('label')\n",
    "        X = self.df\n",
    "        X_train,X_test,y_train,y_test = sklearn.model_selection.train_test_split(X,y,stratify=y,test_size=0.20, random_state=2020)\n",
    "        grid_search = sklearn.model_selection.GridSearchCV(\n",
    "            estimator=sklearn.ensemble.RandomForestClassifier(),\n",
    "            param_grid=dict(\n",
    "                criterion=['gini','entropy'],\n",
    "                max_depth= [2,3],\n",
    "                min_samples_leaf=[2,5],\n",
    "                n_estimators=[100],\n",
    "                random_state=[2020]\n",
    "                ),\n",
    "            n_jobs=-1\n",
    "            )\n",
    "        grid_search.fit(X_train, y_train)\n",
    "        model = grid_search.best_estimator_\n",
    "        y_pred = model.predict(X_test)\n",
    "        return sklearn.metrics.classification_report(y_test,y_pred)\n"
   ]
  },
  {
   "cell_type": "markdown",
   "metadata": {
    "id": "macBnE5U5KYm"
   },
   "source": [
    "Run the code below to only test that your code can work, and there is no need to submit it to the grader."
   ]
  },
  {
   "cell_type": "code",
   "execution_count": 6,
   "metadata": {
    "id": "eGpwReMy3NCI"
   },
   "outputs": [
    {
     "name": "stdout",
     "output_type": "stream",
     "text": [
      "              precision    recall  f1-score   support\n",
      "\n",
      "           0       0.98      0.98      0.98       732\n",
      "           1       0.96      0.97      0.97       421\n",
      "\n",
      "    accuracy                           0.98      1153\n",
      "   macro avg       0.97      0.98      0.97      1153\n",
      "weighted avg       0.98      0.98      0.98      1153\n",
      "\n"
     ]
    }
   ],
   "source": [
    "def main():\n",
    "    hw = MushroomClassifier('mushroom2020_dataset.csv')\n",
    "    exec(input().strip()) # do not delete this line\n",
    "\n",
    "if __name__ == \"__main__\":\n",
    "    main()"
   ]
  },
  {
   "cell_type": "code",
   "execution_count": null,
   "metadata": {},
   "outputs": [],
   "source": [
    "print(hw.Q1())\n",
    "print(hw.Q2())\n",
    "print(hw.Q3())\n",
    "print(hw.Q4())\n",
    "print(hw.Q5())\n",
    "print(hw.Q6())\n",
    "\n",
    "\n",
    "\n"
   ]
  }
 ],
 "metadata": {
  "colab": {
   "provenance": []
  },
  "kernelspec": {
   "display_name": "Python 3",
   "name": "python3"
  },
  "language_info": {
   "codemirror_mode": {
    "name": "ipython",
    "version": 3
   },
   "file_extension": ".py",
   "mimetype": "text/x-python",
   "name": "python",
   "nbconvert_exporter": "python",
   "pygments_lexer": "ipython3",
   "version": "3.11.9"
  }
 },
 "nbformat": 4,
 "nbformat_minor": 0
}
