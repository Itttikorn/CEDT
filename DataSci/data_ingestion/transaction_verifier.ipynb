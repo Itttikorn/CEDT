{
 "cells": [
  {
   "cell_type": "code",
   "execution_count": 40,
   "id": "3d144bf2",
   "metadata": {},
   "outputs": [],
   "source": [
    "# import required libraries\n",
    "from kafka import KafkaConsumer, KafkaProducer\n",
    "import avro.schema\n",
    "import avro.io\n",
    "import io\n",
    "import hashlib, json"
   ]
  },
  {
   "cell_type": "code",
   "execution_count": 41,
   "id": "6234ffde",
   "metadata": {},
   "outputs": [],
   "source": [
    "def serialize(schema, obj):\n",
    "    bytes_writer = io.BytesIO()\n",
    "    encoder = avro.io.BinaryEncoder(bytes_writer)\n",
    "    writer = avro.io.DatumWriter(schema)\n",
    "    writer.write(obj, encoder)\n",
    "    return bytes_writer.getvalue()"
   ]
  },
  {
   "cell_type": "code",
   "execution_count": 42,
   "id": "5e1434bb",
   "metadata": {},
   "outputs": [],
   "source": [
    "def deserialize(schema, raw_bytes):\n",
    "    bytes_reader = io.BytesIO(raw_bytes)\n",
    "    decoder = avro.io.BinaryDecoder(bytes_reader)\n",
    "    reader = avro.io.DatumReader(schema)\n",
    "    return reader.read(decoder)"
   ]
  },
  {
   "cell_type": "code",
   "execution_count": 43,
   "id": "0e92e3e9",
   "metadata": {},
   "outputs": [],
   "source": [
    "schema_file = 'transaction.avsc'\n",
    "txschema = avro.schema.parse(open(schema_file).read())\n",
    "schema_file = 'submit.avsc'\n",
    "submitschema = avro.schema.parse(open(schema_file).read())\n",
    "schema_file = 'result.avsc'\n",
    "resultschema = avro.schema.parse(open(schema_file).read())"
   ]
  },
  {
   "cell_type": "code",
   "execution_count": 44,
   "id": "bcb5dc21",
   "metadata": {},
   "outputs": [],
   "source": [
    "# Connect to kafka broker running in your local host (docker). Change this to your kafka broker if needed\n",
    "kafka_broker = 'lab.aimet.tech:9092'"
   ]
  },
  {
   "cell_type": "code",
   "execution_count": 45,
   "id": "0e05b4b0",
   "metadata": {},
   "outputs": [],
   "source": [
    "producer = KafkaProducer(bootstrap_servers=[kafka_broker])"
   ]
  },
  {
   "cell_type": "code",
   "execution_count": 46,
   "id": "4a2555a3",
   "metadata": {},
   "outputs": [],
   "source": [
    "txconsumer = KafkaConsumer(\n",
    "    'transaction',\n",
    "     bootstrap_servers=[kafka_broker],\n",
    "     enable_auto_commit=True,\n",
    "     value_deserializer=lambda x: deserialize(txschema, x))\n",
    "resultconsumer = KafkaConsumer(\n",
    "    'result',\n",
    "     bootstrap_servers=[kafka_broker],\n",
    "     enable_auto_commit=True,\n",
    "     value_deserializer=lambda x: deserialize(resultschema, x))"
   ]
  },
  {
   "cell_type": "code",
   "execution_count": 47,
   "id": "fe697a88",
   "metadata": {},
   "outputs": [],
   "source": [
    "def gen_signature(txid, payer, payee, amount, token):\n",
    "    o = {'txid': txid, 'payer': payer, 'payee': payee, 'amount': amount, 'token': token}\n",
    "    return hashlib.md5(json.dumps(o, sort_keys=True).encode('utf-8')).hexdigest()"
   ]
  },
  {
   "cell_type": "code",
   "execution_count": 48,
   "id": "bcc5eee3",
   "metadata": {},
   "outputs": [],
   "source": [
    "vid = 'V570882'\n",
    "token = '1df91d828519e519b420639f24c9b42e'"
   ]
  },
  {
   "cell_type": "code",
   "execution_count": 49,
   "id": "b9915bcc",
   "metadata": {},
   "outputs": [
    {
     "name": "stdout",
     "output_type": "stream",
     "text": [
      "{'txid': 'TX00123', 'payer': 'A99662', 'payee': 'A39529', 'amount': 1763}\n"
     ]
    }
   ],
   "source": [
    "transaction = None\n",
    "#Get 1 transaction\n",
    "for message in txconsumer:\n",
    "    transaction = message.value\n",
    "    break\n",
    "print(transaction)"
   ]
  },
  {
   "cell_type": "code",
   "execution_count": 50,
   "id": "ddf68408",
   "metadata": {},
   "outputs": [
    {
     "name": "stdout",
     "output_type": "stream",
     "text": [
      "e4173e0a5abe083e1c4ee3f03f9016c8\n"
     ]
    }
   ],
   "source": [
    "#Generate signature based on given data\n",
    "signature = gen_signature(transaction['txid'],transaction['payer'], transaction['payee'], transaction['amount'], token)\n",
    "print(signature)"
   ]
  },
  {
   "cell_type": "code",
   "execution_count": 51,
   "id": "2457e7e1",
   "metadata": {},
   "outputs": [
    {
     "name": "stdout",
     "output_type": "stream",
     "text": [
      "{'vid': 'V570882', 'txid': 'TX00123', 'signature': 'e4173e0a5abe083e1c4ee3f03f9016c8'}\n",
      "b'\\x0eV570882\\x0eTX00123@e4173e0a5abe083e1c4ee3f03f9016c8'\n"
     ]
    },
    {
     "data": {
      "text/plain": [
       "<kafka.producer.future.FutureRecordMetadata at 0x2066a348910>"
      ]
     },
     "execution_count": 51,
     "metadata": {},
     "output_type": "execute_result"
    }
   ],
   "source": [
    "#Prepare data to be serialize\n",
    "to_submit = {'vid': vid, 'txid': transaction['txid'], 'signature': signature}\n",
    "print(to_submit)\n",
    "\n",
    "#Serialize data\n",
    "data = serialize(submitschema, to_submit)\n",
    "print(data)\n",
    "\n",
    "#Submit data\n",
    "producer.send('submit', value=data)"
   ]
  },
  {
   "cell_type": "code",
   "execution_count": 52,
   "id": "22a94949",
   "metadata": {},
   "outputs": [
    {
     "name": "stdout",
     "output_type": "stream",
     "text": [
      "{'timestamp': 1731658674, 'vid': 'V570882', 'txid': 'TX00123', 'checksum': '58845abba0e2a6b6d1d826702520fa28', 'code': 200, 'message': 'Confirm'}\n"
     ]
    }
   ],
   "source": [
    "result = None\n",
    "\n",
    "#Get a result that matches with vid and txid\n",
    "for message in resultconsumer:\n",
    "    if message.value['vid'] == vid and message.value['txid'] == transaction['txid']:\n",
    "        print(message.value)\n",
    "        break"
   ]
  },
  {
   "cell_type": "code",
   "execution_count": null,
   "id": "0cfd0a0d",
   "metadata": {},
   "outputs": [],
   "source": []
  }
 ],
 "metadata": {
  "kernelspec": {
   "display_name": "Python 3",
   "language": "python",
   "name": "python3"
  },
  "language_info": {
   "codemirror_mode": {
    "name": "ipython",
    "version": 3
   },
   "file_extension": ".py",
   "mimetype": "text/x-python",
   "name": "python",
   "nbconvert_exporter": "python",
   "pygments_lexer": "ipython3",
   "version": "3.11.9"
  }
 },
 "nbformat": 4,
 "nbformat_minor": 5
}
