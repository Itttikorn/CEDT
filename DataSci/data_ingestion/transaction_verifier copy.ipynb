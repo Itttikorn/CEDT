{
 "cells": [
  {
   "cell_type": "code",
   "execution_count": 2,
   "id": "3d144bf2",
   "metadata": {},
   "outputs": [],
   "source": [
    "# import required libraries\n",
    "from kafka import KafkaConsumer, KafkaProducer\n",
    "import avro.schema\n",
    "import avro.io\n",
    "import io\n",
    "import hashlib, json"
   ]
  },
  {
   "cell_type": "code",
   "execution_count": 3,
   "id": "6234ffde",
   "metadata": {},
   "outputs": [],
   "source": [
    "def serialize(schema, obj):\n",
    "    bytes_writer = io.BytesIO()\n",
    "    encoder = avro.io.BinaryEncoder(bytes_writer)\n",
    "    writer = avro.io.DatumWriter(schema)\n",
    "    writer.write(obj, encoder)\n",
    "    return bytes_writer.getvalue()"
   ]
  },
  {
   "cell_type": "code",
   "execution_count": 4,
   "id": "5e1434bb",
   "metadata": {},
   "outputs": [],
   "source": [
    "def deserialize(schema, raw_bytes):\n",
    "    print(raw_bytes)\n",
    "    bytes_reader = io.BytesIO(raw_bytes)\n",
    "    decoder = avro.io.BinaryDecoder(bytes_reader)\n",
    "    reader = avro.io.DatumReader(schema)\n",
    "    return reader.read(decoder)"
   ]
  },
  {
   "cell_type": "code",
   "execution_count": 5,
   "id": "0e92e3e9",
   "metadata": {},
   "outputs": [],
   "source": [
    "schema_file = 'transaction.avsc'\n",
    "txschema = avro.schema.parse(open(schema_file).read())\n",
    "schema_file = 'submit.avsc'\n",
    "submitschema = avro.schema.parse(open(schema_file).read())\n",
    "schema_file = 'result.avsc'\n",
    "resultschema = avro.schema.parse(open(schema_file).read())"
   ]
  },
  {
   "cell_type": "code",
   "execution_count": 6,
   "id": "bcb5dc21",
   "metadata": {},
   "outputs": [],
   "source": [
    "# Connect to kafka broker running in your local host (docker). Change this to your kafka broker if needed\n",
    "kafka_broker = 'lab.aimet.tech:9092'"
   ]
  },
  {
   "cell_type": "code",
   "execution_count": 7,
   "id": "0e05b4b0",
   "metadata": {},
   "outputs": [],
   "source": [
    "producer = KafkaProducer(bootstrap_servers=[kafka_broker])"
   ]
  },
  {
   "cell_type": "code",
   "execution_count": 8,
   "id": "4a2555a3",
   "metadata": {},
   "outputs": [],
   "source": [
    "txconsumer = KafkaConsumer(\n",
    "    'transaction',\n",
    "     bootstrap_servers=[kafka_broker],\n",
    "     enable_auto_commit=True,\n",
    "     value_deserializer=lambda x: deserialize(txschema, x))\n",
    "resultconsumer = KafkaConsumer(\n",
    "    'result',\n",
    "     bootstrap_servers=[kafka_broker],\n",
    "     enable_auto_commit=True,\n",
    "     value_deserializer=lambda x: deserialize(resultschema, x))"
   ]
  },
  {
   "cell_type": "code",
   "execution_count": 9,
   "id": "fe697a88",
   "metadata": {},
   "outputs": [],
   "source": [
    "def gen_signature(txid, payer, payee, amount, token):\n",
    "    o = {'txid': txid, 'payer': payer, 'payee': payee, 'amount': amount, 'token': token}\n",
    "    return hashlib.md5(json.dumps(o, sort_keys=True).encode('utf-8')).hexdigest()"
   ]
  },
  {
   "cell_type": "code",
   "execution_count": null,
   "id": "1e3b5c35",
   "metadata": {},
   "outputs": [],
   "source": [
    "for message in resultconsumer:\n",
    "    print(message.value)"
   ]
  }
 ],
 "metadata": {
  "kernelspec": {
   "display_name": "Python 3",
   "language": "python",
   "name": "python3"
  },
  "language_info": {
   "codemirror_mode": {
    "name": "ipython",
    "version": 3
   },
   "file_extension": ".py",
   "mimetype": "text/x-python",
   "name": "python",
   "nbconvert_exporter": "python",
   "pygments_lexer": "ipython3",
   "version": "3.11.9"
  }
 },
 "nbformat": 4,
 "nbformat_minor": 5
}
