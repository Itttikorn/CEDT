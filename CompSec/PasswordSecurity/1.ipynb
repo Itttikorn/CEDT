{
 "cells": [
  {
   "cell_type": "code",
   "execution_count": 2,
   "id": "6fe04d4b",
   "metadata": {},
   "outputs": [],
   "source": [
    "import hashlib\n",
    "import bcrypt"
   ]
  },
  {
   "cell_type": "code",
   "execution_count": 3,
   "id": "f77d6ee8",
   "metadata": {},
   "outputs": [
    {
     "name": "stdout",
     "output_type": "stream",
     "text": [
      "ca8a68498ae67cd14c15f5ebf043633224005759\n"
     ]
    }
   ],
   "source": [
    "# SHA1\n",
    "m=hashlib.sha1(b\"Chulalongkorn\").hexdigest()\n",
    "print(m)"
   ]
  },
  {
   "cell_type": "code",
   "execution_count": 4,
   "id": "856710dd",
   "metadata": {},
   "outputs": [
    {
     "name": "stdout",
     "output_type": "stream",
     "text": [
      "46fa3b56c660faff420190c18c98a56b\n"
     ]
    }
   ],
   "source": [
    "# MD5\n",
    "m=hashlib.md5(b\"Chulalongkorn\").hexdigest()\n",
    "print(m)"
   ]
  },
  {
   "cell_type": "code",
   "execution_count": 5,
   "id": "02055e1e",
   "metadata": {},
   "outputs": [
    {
     "name": "stdout",
     "output_type": "stream",
     "text": [
      "$2b$12$oXVg7I3As6eKOYQZtYTAjO7qd9DGs1zYXZxYQUEhK1THAMjN4QJM2\n"
     ]
    }
   ],
   "source": [
    "# BCRYPT\n",
    "salt = bcrypt.gensalt()\n",
    "m=bcrypt.hashpw(b\"Chulalongkorn\", salt).decode()\n",
    "print(m)"
   ]
  },
  {
   "cell_type": "code",
   "execution_count": null,
   "id": "09534711",
   "metadata": {},
   "outputs": [
    {
     "name": "stdout",
     "output_type": "stream",
     "text": [
      "Found matching password: ThaiLanD\n"
     ]
    }
   ],
   "source": [
    "# 1. Objective: Understand how attackers use pre-built word lists (dictionaries) to\n",
    "# crack hashes of common passwords.\n",
    "# Scenario: You have discovered a SHA-1 hash in a compromised system:\n",
    "# d54cc1fe76f5186380a0939d2fc1723c44e8a5f7.\n",
    "# You suspect the password is a simple, common word, possibly with some\n",
    "# character substitutions.\n",
    "# Task: Write a Python program that reads a list of words, applies common\n",
    "# substitutions, hashes the result, and checks if it matches the target hash.\n",
    "# Note that you might want to include substitution in your code (lowercase,\n",
    "# uppercase, number for letter [‘o’ => 0 , ‘l’ => 1, ‘i’ => 1]).\n",
    "\n",
    "with open(\"most-common.txt\", \"r\") as file:\n",
    "    common_passwords = file.read().splitlines()\n",
    "\n",
    "target = 'd54cc1fe76f5186380a0939d2fc1723c44e8a5f7'\n",
    "subs = {'o': '0', 'l': '1', 'i': '1', 'a': '4', 'e': '3', 'g': '6', 's': '5', 't': '7', 'b': '8', 'z': '2'}\n",
    "\n",
    "def generate_variations(word, idx=0, current=\"\"):\n",
    "    if idx == len(word):\n",
    "        return [current]\n",
    "    c = word[idx]\n",
    "    lower = c.lower()\n",
    "    variations = [c, c.upper()] if c.isalpha() else [c]\n",
    "    if lower in subs:\n",
    "        variations.append(subs[lower])\n",
    "        if subs[lower].isalpha():\n",
    "            variations.append(subs[lower].upper())\n",
    "    results = []\n",
    "    for v in variations:\n",
    "        results += generate_variations(word, idx+1, current+v)\n",
    "    return results\n",
    "\n",
    "for password in common_passwords:\n",
    "\n",
    "    variations = generate_variations(password)\n",
    "    # print(variations)\n",
    "    \n",
    "    for variation in variations:\n",
    "        if hashlib.sha1(variation.encode()).hexdigest() == target:\n",
    "            print(f\"Found matching password: {variation}\")\n",
    "            break"
   ]
  },
  {
   "cell_type": "code",
   "execution_count": null,
   "id": "56b9b311",
   "metadata": {},
   "outputs": [
    {
     "name": "stdout",
     "output_type": "stream",
     "text": [
      "MD5: 2196773 hashes computed in 1 seconds (4.5521316949907887e-07 seconds/hash)\n",
      "SHA-1: 2270678 hashes computed in 1 seconds (4.4039709725465257e-07 seconds/hash)\n",
      "bcrypt: 5 hashes computed in 1 seconds (0.2 seconds/hash)\n"
     ]
    }
   ],
   "source": [
    "# 2. Objective: To understand why modern password hashing algorithms like\n",
    "# bcrypt are more secure than older ones like MD5 and SHA-1.\n",
    "# Task: Design and run an experiment to measure how many hashes each\n",
    "# algorithm can compute in a fixed amount of time. The code must test atleast\n",
    "# MD5 , SHA-1 , and bcrypt .\n",
    "# (You may also try additional algorithms like SHA256, SHA512, scrypt,\n",
    "# Argon2.)\n",
    "\n",
    "import time\n",
    "\n",
    "with open(\"most-common.txt\", \"r\") as file:\n",
    "    common_passwords = file.read().splitlines()\n",
    "\n",
    "time_limit = 1\n",
    "target = 'password'\n",
    "\n",
    "hashing_algorithms = {\n",
    "    \"MD5\": hashlib.md5,\n",
    "    \"SHA-1\": hashlib.sha1,\n",
    "    \"bcrypt\": bcrypt.hashpw,\n",
    "}\n",
    "\n",
    "hash_rate = {\n",
    "    \"MD5\": 0,\n",
    "    \"SHA-1\": 0,\n",
    "    \"bcrypt\": 0,\n",
    "}\n",
    "\n",
    "for algo_name, algo_func in hashing_algorithms.items():\n",
    "    start_time = time.time()\n",
    "    count = 0\n",
    "    while time.time() < start_time + time_limit:\n",
    "        if algo_name == \"bcrypt\":\n",
    "            salt = bcrypt.gensalt()\n",
    "            algo_func(target.encode(), salt)\n",
    "            hash_rate[algo_name] += 1\n",
    "        else:\n",
    "            algo_func(target.encode())\n",
    "            hash_rate[algo_name] += 1\n",
    "    print(f\"{algo_name}: {hash_rate[algo_name]} hashes computed in {time_limit} seconds ({time_limit / hash_rate[algo_name]} seconds/hash)\")\n"
   ]
  },
  {
   "cell_type": "code",
   "execution_count": 35,
   "id": "41472436",
   "metadata": {},
   "outputs": [
    {
     "name": "stdout",
     "output_type": "stream",
     "text": [
      "Estimated time to brute-force a 8-character password with MD5: 87.93 years\n",
      "Estimated time to brute-force a 8-character password with SHA-1: 85.07 years\n",
      "Estimated time to brute-force a 5-character password with bcrypt: 46.51 years\n"
     ]
    }
   ],
   "source": [
    "# 3. Objective: To apply the performance measurements to understand the\n",
    "# importance of password length and algorithm choice.\n",
    "# Task: Based on the measurements from Exercise 2, estimate how long it would\n",
    "# take an attacker to brute-force a password of a given length\n",
    "# You may assume that the password contains only upper-case, lower-case,\n",
    "# numbers and symbols.\n",
    "# What does it suggest about the length of a proper password. (ie. Use more\n",
    "# than a year to brute force.)\n",
    "\n",
    "charset_size = 26 + 26 + 10 + 32  # Uppercase + Lowercase + Digits + Symbols\n",
    "\n",
    "for algo, rate in hash_rate.items():\n",
    "    for i in range(1, 12):\n",
    "        password_length = i\n",
    "        total_combinations = charset_size ** password_length\n",
    "        seconds = total_combinations / rate\n",
    "        years = seconds / (60 * 60 * 24 * 365.25)\n",
    "        if years > 1:\n",
    "            print(f\"Estimated time to brute-force a {password_length}-character password with {algo}: {years:.2f} years\")\n",
    "            break\n"
   ]
  },
  {
   "cell_type": "code",
   "execution_count": null,
   "id": "9bfeab91",
   "metadata": {},
   "outputs": [],
   "source": [
    "# 4. If a given hash value is from a bcrypt algorithm, is it practical to do a brute-force attack?\n",
    "# No, because it will take too much time."
   ]
  },
  {
   "cell_type": "code",
   "execution_count": null,
   "id": "8f28edae",
   "metadata": {},
   "outputs": [],
   "source": [
    "# 5. If a given hash value is from a bcrypt algorithm, is it practical to perform a rainbow table attack?\n",
    "# No, because bcrypt use a unique salt for each password, making precomputed rainbow table useless.\n"
   ]
  },
  {
   "cell_type": "code",
   "execution_count": null,
   "id": "0f575cab",
   "metadata": {},
   "outputs": [],
   "source": [
    "# 6. You have to store a password in a database. Please explain your design/strategy for securely storing it.\n",
    "# (Hints: Proper hash function, Salting, Cost factor, Database Security)\n",
    "\n",
    "# - Use hashing algorithm such as bcrypt to hash passwords before storing them.\n",
    "# - Use a unique salt for each password to prevent rainbow table attacks.\n",
    "# - Use a high cost factor such as bcrypt's rounds to make hashing slow to prevent brute-force attacks\n",
    "# - Use a secure database to store hashed passwords with limited access and encryption."
   ]
  }
 ],
 "metadata": {
  "kernelspec": {
   "display_name": "Python 3",
   "language": "python",
   "name": "python3"
  },
  "language_info": {
   "codemirror_mode": {
    "name": "ipython",
    "version": 3
   },
   "file_extension": ".py",
   "mimetype": "text/x-python",
   "name": "python",
   "nbconvert_exporter": "python",
   "pygments_lexer": "ipython3",
   "version": "3.13.6"
  }
 },
 "nbformat": 4,
 "nbformat_minor": 5
}
