{
 "cells": [
  {
   "cell_type": "code",
   "execution_count": 3,
   "metadata": {},
   "outputs": [
    {
     "name": "stdout",
     "output_type": "stream",
     "text": [
      "True\n"
     ]
    }
   ],
   "source": [
    "def is_legal_n_queen_solution(queen_positions):\n",
    "    n = len(queen_positions)\n",
    "    for i in range(n):\n",
    "        for j in range(i + 1, n):\n",
    "            if queen_positions[i] == queen_positions[j]:\n",
    "                return False  # Same row\n",
    "            if abs(queen_positions[i] - queen_positions[j]) == abs(i - j):\n",
    "                return False  # Same diagonal\n",
    "    return True\n",
    "\n",
    "# Example usage:\n",
    "queen_positions = [34, 60, 22, 10, 33, 87, 45, 15, 3, 12, 58, 44, 93, 82, 36, 21, 59, 42, 89, 43, 25, 63, 52, 37, 99, 7, 80, 2, 68, 74, 53, 9, 20, 65, 31, 76, 49, 6, 64, 19, 26, 79, 38, 4, 55, 72, 98, 94, 84, 30, 54, 70, 11, 90, 28, 17, 32, 67, 23, 8, 27, 16, 56, 1, 14, 81, 5, 24, 40, 61, 85, 29, 18, 41, 95, 92, 78, 86, 62, 50, 13, 66, 71, 83, 77, 97, 73, 39, 51, 0, 35, 47, 91, 57, 48, 96, 69, 88, 75, 46]  # Example array\n",
    "print(is_legal_n_queen_solution(queen_positions))  # Output: True or False"
   ]
  }
 ],
 "metadata": {
  "kernelspec": {
   "display_name": "Python 3",
   "language": "python",
   "name": "python3"
  },
  "language_info": {
   "codemirror_mode": {
    "name": "ipython",
    "version": 3
   },
   "file_extension": ".py",
   "mimetype": "text/x-python",
   "name": "python",
   "nbconvert_exporter": "python",
   "pygments_lexer": "ipython3",
   "version": "3.11.9"
  }
 },
 "nbformat": 4,
 "nbformat_minor": 2
}
