{
  "nbformat": 4,
  "nbformat_minor": 0,
  "metadata": {
    "colab": {
      "provenance": [],
      "gpuType": "T4"
    },
    "kernelspec": {
      "name": "python3",
      "display_name": "Python 3"
    },
    "language_info": {
      "name": "python"
    },
    "accelerator": "GPU",
    "widgets": {
      "application/vnd.jupyter.widget-state+json": {
        "154fca5c01c84db7a398d2c0525fed3c": {
          "model_module": "@jupyter-widgets/controls",
          "model_name": "HBoxModel",
          "model_module_version": "1.5.0",
          "state": {
            "_dom_classes": [],
            "_model_module": "@jupyter-widgets/controls",
            "_model_module_version": "1.5.0",
            "_model_name": "HBoxModel",
            "_view_count": null,
            "_view_module": "@jupyter-widgets/controls",
            "_view_module_version": "1.5.0",
            "_view_name": "HBoxView",
            "box_style": "",
            "children": [
              "IPY_MODEL_369f58c7d6574c99a6cc26d8d4e76d84",
              "IPY_MODEL_d75dda31f29f40b395185d9d01d2e68f",
              "IPY_MODEL_5e1a71cd97dc4333a2dfce6ad510eb8d"
            ],
            "layout": "IPY_MODEL_0c0df5fd79f74243ac6f10d9350d61c5"
          }
        },
        "369f58c7d6574c99a6cc26d8d4e76d84": {
          "model_module": "@jupyter-widgets/controls",
          "model_name": "HTMLModel",
          "model_module_version": "1.5.0",
          "state": {
            "_dom_classes": [],
            "_model_module": "@jupyter-widgets/controls",
            "_model_module_version": "1.5.0",
            "_model_name": "HTMLModel",
            "_view_count": null,
            "_view_module": "@jupyter-widgets/controls",
            "_view_module_version": "1.5.0",
            "_view_name": "HTMLView",
            "description": "",
            "description_tooltip": null,
            "layout": "IPY_MODEL_5540637dd2024f17917b141da7fc8204",
            "placeholder": "​",
            "style": "IPY_MODEL_11125f684942438289ae9eeb04f4a6d8",
            "value": "test: "
          }
        },
        "d75dda31f29f40b395185d9d01d2e68f": {
          "model_module": "@jupyter-widgets/controls",
          "model_name": "FloatProgressModel",
          "model_module_version": "1.5.0",
          "state": {
            "_dom_classes": [],
            "_model_module": "@jupyter-widgets/controls",
            "_model_module_version": "1.5.0",
            "_model_name": "FloatProgressModel",
            "_view_count": null,
            "_view_module": "@jupyter-widgets/controls",
            "_view_module_version": "1.5.0",
            "_view_name": "ProgressView",
            "bar_style": "success",
            "description": "",
            "description_tooltip": null,
            "layout": "IPY_MODEL_716f81cefcaf4a93bd0531ddca462395",
            "max": 8,
            "min": 0,
            "orientation": "horizontal",
            "style": "IPY_MODEL_415170d95b7f4c3b97c877a4474a91a7",
            "value": 8
          }
        },
        "5e1a71cd97dc4333a2dfce6ad510eb8d": {
          "model_module": "@jupyter-widgets/controls",
          "model_name": "HTMLModel",
          "model_module_version": "1.5.0",
          "state": {
            "_dom_classes": [],
            "_model_module": "@jupyter-widgets/controls",
            "_model_module_version": "1.5.0",
            "_model_name": "HTMLModel",
            "_view_count": null,
            "_view_module": "@jupyter-widgets/controls",
            "_view_module_version": "1.5.0",
            "_view_name": "HTMLView",
            "description": "",
            "description_tooltip": null,
            "layout": "IPY_MODEL_9c6a26b7ca9f4f378d15d134d9b3bbf6",
            "placeholder": "​",
            "style": "IPY_MODEL_8c4a4b593e7d42029e985282e6945794",
            "value": " 1650/? [00:08&lt;00:00, 1496.41it/s, f_ep=30, lr=0.0001, loss=0.0334, val_loss=0.0521, val_exact_match=0.855, val_BLEU=0.905, val_CER=0.0393, test_exact_match=0.867, test_BLEU=0.901, test_CER=0.0371]"
          }
        },
        "0c0df5fd79f74243ac6f10d9350d61c5": {
          "model_module": "@jupyter-widgets/base",
          "model_name": "LayoutModel",
          "model_module_version": "1.2.0",
          "state": {
            "_model_module": "@jupyter-widgets/base",
            "_model_module_version": "1.2.0",
            "_model_name": "LayoutModel",
            "_view_count": null,
            "_view_module": "@jupyter-widgets/base",
            "_view_module_version": "1.2.0",
            "_view_name": "LayoutView",
            "align_content": null,
            "align_items": null,
            "align_self": null,
            "border": null,
            "bottom": null,
            "display": null,
            "flex": null,
            "flex_flow": null,
            "grid_area": null,
            "grid_auto_columns": null,
            "grid_auto_flow": null,
            "grid_auto_rows": null,
            "grid_column": null,
            "grid_gap": null,
            "grid_row": null,
            "grid_template_areas": null,
            "grid_template_columns": null,
            "grid_template_rows": null,
            "height": null,
            "justify_content": null,
            "justify_items": null,
            "left": null,
            "margin": null,
            "max_height": null,
            "max_width": null,
            "min_height": null,
            "min_width": null,
            "object_fit": null,
            "object_position": null,
            "order": null,
            "overflow": null,
            "overflow_x": null,
            "overflow_y": null,
            "padding": null,
            "right": null,
            "top": null,
            "visibility": null,
            "width": null
          }
        },
        "5540637dd2024f17917b141da7fc8204": {
          "model_module": "@jupyter-widgets/base",
          "model_name": "LayoutModel",
          "model_module_version": "1.2.0",
          "state": {
            "_model_module": "@jupyter-widgets/base",
            "_model_module_version": "1.2.0",
            "_model_name": "LayoutModel",
            "_view_count": null,
            "_view_module": "@jupyter-widgets/base",
            "_view_module_version": "1.2.0",
            "_view_name": "LayoutView",
            "align_content": null,
            "align_items": null,
            "align_self": null,
            "border": null,
            "bottom": null,
            "display": null,
            "flex": null,
            "flex_flow": null,
            "grid_area": null,
            "grid_auto_columns": null,
            "grid_auto_flow": null,
            "grid_auto_rows": null,
            "grid_column": null,
            "grid_gap": null,
            "grid_row": null,
            "grid_template_areas": null,
            "grid_template_columns": null,
            "grid_template_rows": null,
            "height": null,
            "justify_content": null,
            "justify_items": null,
            "left": null,
            "margin": null,
            "max_height": null,
            "max_width": null,
            "min_height": null,
            "min_width": null,
            "object_fit": null,
            "object_position": null,
            "order": null,
            "overflow": null,
            "overflow_x": null,
            "overflow_y": null,
            "padding": null,
            "right": null,
            "top": null,
            "visibility": null,
            "width": null
          }
        },
        "11125f684942438289ae9eeb04f4a6d8": {
          "model_module": "@jupyter-widgets/controls",
          "model_name": "DescriptionStyleModel",
          "model_module_version": "1.5.0",
          "state": {
            "_model_module": "@jupyter-widgets/controls",
            "_model_module_version": "1.5.0",
            "_model_name": "DescriptionStyleModel",
            "_view_count": null,
            "_view_module": "@jupyter-widgets/base",
            "_view_module_version": "1.2.0",
            "_view_name": "StyleView",
            "description_width": ""
          }
        },
        "716f81cefcaf4a93bd0531ddca462395": {
          "model_module": "@jupyter-widgets/base",
          "model_name": "LayoutModel",
          "model_module_version": "1.2.0",
          "state": {
            "_model_module": "@jupyter-widgets/base",
            "_model_module_version": "1.2.0",
            "_model_name": "LayoutModel",
            "_view_count": null,
            "_view_module": "@jupyter-widgets/base",
            "_view_module_version": "1.2.0",
            "_view_name": "LayoutView",
            "align_content": null,
            "align_items": null,
            "align_self": null,
            "border": null,
            "bottom": null,
            "display": null,
            "flex": null,
            "flex_flow": null,
            "grid_area": null,
            "grid_auto_columns": null,
            "grid_auto_flow": null,
            "grid_auto_rows": null,
            "grid_column": null,
            "grid_gap": null,
            "grid_row": null,
            "grid_template_areas": null,
            "grid_template_columns": null,
            "grid_template_rows": null,
            "height": null,
            "justify_content": null,
            "justify_items": null,
            "left": null,
            "margin": null,
            "max_height": null,
            "max_width": null,
            "min_height": null,
            "min_width": null,
            "object_fit": null,
            "object_position": null,
            "order": null,
            "overflow": null,
            "overflow_x": null,
            "overflow_y": null,
            "padding": null,
            "right": null,
            "top": null,
            "visibility": null,
            "width": null
          }
        },
        "415170d95b7f4c3b97c877a4474a91a7": {
          "model_module": "@jupyter-widgets/controls",
          "model_name": "ProgressStyleModel",
          "model_module_version": "1.5.0",
          "state": {
            "_model_module": "@jupyter-widgets/controls",
            "_model_module_version": "1.5.0",
            "_model_name": "ProgressStyleModel",
            "_view_count": null,
            "_view_module": "@jupyter-widgets/base",
            "_view_module_version": "1.2.0",
            "_view_name": "StyleView",
            "bar_color": null,
            "description_width": ""
          }
        },
        "9c6a26b7ca9f4f378d15d134d9b3bbf6": {
          "model_module": "@jupyter-widgets/base",
          "model_name": "LayoutModel",
          "model_module_version": "1.2.0",
          "state": {
            "_model_module": "@jupyter-widgets/base",
            "_model_module_version": "1.2.0",
            "_model_name": "LayoutModel",
            "_view_count": null,
            "_view_module": "@jupyter-widgets/base",
            "_view_module_version": "1.2.0",
            "_view_name": "LayoutView",
            "align_content": null,
            "align_items": null,
            "align_self": null,
            "border": null,
            "bottom": null,
            "display": null,
            "flex": null,
            "flex_flow": null,
            "grid_area": null,
            "grid_auto_columns": null,
            "grid_auto_flow": null,
            "grid_auto_rows": null,
            "grid_column": null,
            "grid_gap": null,
            "grid_row": null,
            "grid_template_areas": null,
            "grid_template_columns": null,
            "grid_template_rows": null,
            "height": null,
            "justify_content": null,
            "justify_items": null,
            "left": null,
            "margin": null,
            "max_height": null,
            "max_width": null,
            "min_height": null,
            "min_width": null,
            "object_fit": null,
            "object_position": null,
            "order": null,
            "overflow": null,
            "overflow_x": null,
            "overflow_y": null,
            "padding": null,
            "right": null,
            "top": null,
            "visibility": null,
            "width": null
          }
        },
        "8c4a4b593e7d42029e985282e6945794": {
          "model_module": "@jupyter-widgets/controls",
          "model_name": "DescriptionStyleModel",
          "model_module_version": "1.5.0",
          "state": {
            "_model_module": "@jupyter-widgets/controls",
            "_model_module_version": "1.5.0",
            "_model_name": "DescriptionStyleModel",
            "_view_count": null,
            "_view_module": "@jupyter-widgets/base",
            "_view_module_version": "1.2.0",
            "_view_name": "StyleView",
            "description_width": ""
          }
        },
        "d2b3d23faa54460fa14b7addf6238eb9": {
          "model_module": "@jupyter-widgets/controls",
          "model_name": "HBoxModel",
          "model_module_version": "1.5.0",
          "state": {
            "_dom_classes": [],
            "_model_module": "@jupyter-widgets/controls",
            "_model_module_version": "1.5.0",
            "_model_name": "HBoxModel",
            "_view_count": null,
            "_view_module": "@jupyter-widgets/controls",
            "_view_module_version": "1.5.0",
            "_view_name": "HBoxView",
            "box_style": "",
            "children": [
              "IPY_MODEL_57360da7c8034f9d82f7be35e2561f71",
              "IPY_MODEL_16145453ebe146d08ad2421e95095f98",
              "IPY_MODEL_d9be8cdbd07c4d88824034b0bda807ff"
            ],
            "layout": "IPY_MODEL_132613a4579244f0bf744f7164d57fd3"
          }
        },
        "57360da7c8034f9d82f7be35e2561f71": {
          "model_module": "@jupyter-widgets/controls",
          "model_name": "HTMLModel",
          "model_module_version": "1.5.0",
          "state": {
            "_dom_classes": [],
            "_model_module": "@jupyter-widgets/controls",
            "_model_module_version": "1.5.0",
            "_model_name": "HTMLModel",
            "_view_count": null,
            "_view_module": "@jupyter-widgets/controls",
            "_view_module_version": "1.5.0",
            "_view_name": "HTMLView",
            "description": "",
            "description_tooltip": null,
            "layout": "IPY_MODEL_f58f3592a5554165a2752530011059ec",
            "placeholder": "​",
            "style": "IPY_MODEL_5d05d207697c47feb3be7626bc5d62db",
            "value": "predicting: 100%"
          }
        },
        "16145453ebe146d08ad2421e95095f98": {
          "model_module": "@jupyter-widgets/controls",
          "model_name": "FloatProgressModel",
          "model_module_version": "1.5.0",
          "state": {
            "_dom_classes": [],
            "_model_module": "@jupyter-widgets/controls",
            "_model_module_version": "1.5.0",
            "_model_name": "FloatProgressModel",
            "_view_count": null,
            "_view_module": "@jupyter-widgets/controls",
            "_view_module_version": "1.5.0",
            "_view_name": "ProgressView",
            "bar_style": "success",
            "description": "",
            "description_tooltip": null,
            "layout": "IPY_MODEL_77c55e3da2dc47afbac00314dd31838a",
            "max": 16,
            "min": 0,
            "orientation": "horizontal",
            "style": "IPY_MODEL_ce930f6ac56841228a6feabeea8b0f6b",
            "value": 16
          }
        },
        "d9be8cdbd07c4d88824034b0bda807ff": {
          "model_module": "@jupyter-widgets/controls",
          "model_name": "HTMLModel",
          "model_module_version": "1.5.0",
          "state": {
            "_dom_classes": [],
            "_model_module": "@jupyter-widgets/controls",
            "_model_module_version": "1.5.0",
            "_model_name": "HTMLModel",
            "_view_count": null,
            "_view_module": "@jupyter-widgets/controls",
            "_view_module_version": "1.5.0",
            "_view_name": "HTMLView",
            "description": "",
            "description_tooltip": null,
            "layout": "IPY_MODEL_127e33c5d6624fe3a2b64fbdc9f2679e",
            "placeholder": "​",
            "style": "IPY_MODEL_999758b270b4490d97a810a3c70e43b8",
            "value": " 16/16 [00:19&lt;00:00,  1.03s/it]"
          }
        },
        "132613a4579244f0bf744f7164d57fd3": {
          "model_module": "@jupyter-widgets/base",
          "model_name": "LayoutModel",
          "model_module_version": "1.2.0",
          "state": {
            "_model_module": "@jupyter-widgets/base",
            "_model_module_version": "1.2.0",
            "_model_name": "LayoutModel",
            "_view_count": null,
            "_view_module": "@jupyter-widgets/base",
            "_view_module_version": "1.2.0",
            "_view_name": "LayoutView",
            "align_content": null,
            "align_items": null,
            "align_self": null,
            "border": null,
            "bottom": null,
            "display": null,
            "flex": null,
            "flex_flow": null,
            "grid_area": null,
            "grid_auto_columns": null,
            "grid_auto_flow": null,
            "grid_auto_rows": null,
            "grid_column": null,
            "grid_gap": null,
            "grid_row": null,
            "grid_template_areas": null,
            "grid_template_columns": null,
            "grid_template_rows": null,
            "height": null,
            "justify_content": null,
            "justify_items": null,
            "left": null,
            "margin": null,
            "max_height": null,
            "max_width": null,
            "min_height": null,
            "min_width": null,
            "object_fit": null,
            "object_position": null,
            "order": null,
            "overflow": null,
            "overflow_x": null,
            "overflow_y": null,
            "padding": null,
            "right": null,
            "top": null,
            "visibility": null,
            "width": null
          }
        },
        "f58f3592a5554165a2752530011059ec": {
          "model_module": "@jupyter-widgets/base",
          "model_name": "LayoutModel",
          "model_module_version": "1.2.0",
          "state": {
            "_model_module": "@jupyter-widgets/base",
            "_model_module_version": "1.2.0",
            "_model_name": "LayoutModel",
            "_view_count": null,
            "_view_module": "@jupyter-widgets/base",
            "_view_module_version": "1.2.0",
            "_view_name": "LayoutView",
            "align_content": null,
            "align_items": null,
            "align_self": null,
            "border": null,
            "bottom": null,
            "display": null,
            "flex": null,
            "flex_flow": null,
            "grid_area": null,
            "grid_auto_columns": null,
            "grid_auto_flow": null,
            "grid_auto_rows": null,
            "grid_column": null,
            "grid_gap": null,
            "grid_row": null,
            "grid_template_areas": null,
            "grid_template_columns": null,
            "grid_template_rows": null,
            "height": null,
            "justify_content": null,
            "justify_items": null,
            "left": null,
            "margin": null,
            "max_height": null,
            "max_width": null,
            "min_height": null,
            "min_width": null,
            "object_fit": null,
            "object_position": null,
            "order": null,
            "overflow": null,
            "overflow_x": null,
            "overflow_y": null,
            "padding": null,
            "right": null,
            "top": null,
            "visibility": null,
            "width": null
          }
        },
        "5d05d207697c47feb3be7626bc5d62db": {
          "model_module": "@jupyter-widgets/controls",
          "model_name": "DescriptionStyleModel",
          "model_module_version": "1.5.0",
          "state": {
            "_model_module": "@jupyter-widgets/controls",
            "_model_module_version": "1.5.0",
            "_model_name": "DescriptionStyleModel",
            "_view_count": null,
            "_view_module": "@jupyter-widgets/base",
            "_view_module_version": "1.2.0",
            "_view_name": "StyleView",
            "description_width": ""
          }
        },
        "77c55e3da2dc47afbac00314dd31838a": {
          "model_module": "@jupyter-widgets/base",
          "model_name": "LayoutModel",
          "model_module_version": "1.2.0",
          "state": {
            "_model_module": "@jupyter-widgets/base",
            "_model_module_version": "1.2.0",
            "_model_name": "LayoutModel",
            "_view_count": null,
            "_view_module": "@jupyter-widgets/base",
            "_view_module_version": "1.2.0",
            "_view_name": "LayoutView",
            "align_content": null,
            "align_items": null,
            "align_self": null,
            "border": null,
            "bottom": null,
            "display": null,
            "flex": null,
            "flex_flow": null,
            "grid_area": null,
            "grid_auto_columns": null,
            "grid_auto_flow": null,
            "grid_auto_rows": null,
            "grid_column": null,
            "grid_gap": null,
            "grid_row": null,
            "grid_template_areas": null,
            "grid_template_columns": null,
            "grid_template_rows": null,
            "height": null,
            "justify_content": null,
            "justify_items": null,
            "left": null,
            "margin": null,
            "max_height": null,
            "max_width": null,
            "min_height": null,
            "min_width": null,
            "object_fit": null,
            "object_position": null,
            "order": null,
            "overflow": null,
            "overflow_x": null,
            "overflow_y": null,
            "padding": null,
            "right": null,
            "top": null,
            "visibility": null,
            "width": null
          }
        },
        "ce930f6ac56841228a6feabeea8b0f6b": {
          "model_module": "@jupyter-widgets/controls",
          "model_name": "ProgressStyleModel",
          "model_module_version": "1.5.0",
          "state": {
            "_model_module": "@jupyter-widgets/controls",
            "_model_module_version": "1.5.0",
            "_model_name": "ProgressStyleModel",
            "_view_count": null,
            "_view_module": "@jupyter-widgets/base",
            "_view_module_version": "1.2.0",
            "_view_name": "StyleView",
            "bar_color": null,
            "description_width": ""
          }
        },
        "127e33c5d6624fe3a2b64fbdc9f2679e": {
          "model_module": "@jupyter-widgets/base",
          "model_name": "LayoutModel",
          "model_module_version": "1.2.0",
          "state": {
            "_model_module": "@jupyter-widgets/base",
            "_model_module_version": "1.2.0",
            "_model_name": "LayoutModel",
            "_view_count": null,
            "_view_module": "@jupyter-widgets/base",
            "_view_module_version": "1.2.0",
            "_view_name": "LayoutView",
            "align_content": null,
            "align_items": null,
            "align_self": null,
            "border": null,
            "bottom": null,
            "display": null,
            "flex": null,
            "flex_flow": null,
            "grid_area": null,
            "grid_auto_columns": null,
            "grid_auto_flow": null,
            "grid_auto_rows": null,
            "grid_column": null,
            "grid_gap": null,
            "grid_row": null,
            "grid_template_areas": null,
            "grid_template_columns": null,
            "grid_template_rows": null,
            "height": null,
            "justify_content": null,
            "justify_items": null,
            "left": null,
            "margin": null,
            "max_height": null,
            "max_width": null,
            "min_height": null,
            "min_width": null,
            "object_fit": null,
            "object_position": null,
            "order": null,
            "overflow": null,
            "overflow_x": null,
            "overflow_y": null,
            "padding": null,
            "right": null,
            "top": null,
            "visibility": null,
            "width": null
          }
        },
        "999758b270b4490d97a810a3c70e43b8": {
          "model_module": "@jupyter-widgets/controls",
          "model_name": "DescriptionStyleModel",
          "model_module_version": "1.5.0",
          "state": {
            "_model_module": "@jupyter-widgets/controls",
            "_model_module_version": "1.5.0",
            "_model_name": "DescriptionStyleModel",
            "_view_count": null,
            "_view_module": "@jupyter-widgets/base",
            "_view_module_version": "1.2.0",
            "_view_name": "StyleView",
            "description_width": ""
          }
        }
      }
    }
  },
  "cells": [
    {
      "cell_type": "markdown",
      "metadata": {
        "id": "4R9rCxPwXUiI"
      },
      "source": [
        "# Transformer : Character-level Name Translation\n",
        "\n",
        "In this homework, you will create an MT : Machine Translation model that coverts names from Thai  to English\n",
        "\n",
        "For example\n",
        " - นิยม    ---> niyom\n",
        " - สมชาย  ---> chomchai"
      ]
    },
    {
      "cell_type": "markdown",
      "metadata": {
        "id": "mmlrv7TpXVoA"
      },
      "source": [
        "# (1) Install libraries"
      ]
    },
    {
      "cell_type": "code",
      "metadata": {
        "id": "XOFD_2grWkc7",
        "colab": {
          "base_uri": "https://localhost:8080/"
        },
        "outputId": "73d70db9-d110-41d6-e44f-f136bea76be7"
      },
      "source": [
        "# pythainlp\n",
        "!pip install pythainlp==5.0.2\n",
        "# trainer\n",
        "!cd /content/drive/MyDrive/pytorch-trainer && git checkout ai4eng2020 && pip install .\n",
        "\n",
        "# transformers\n",
        "!pip install transformers==4.40.0"
      ],
      "execution_count": 5,
      "outputs": [
        {
          "output_type": "stream",
          "name": "stdout",
          "text": [
            "Requirement already satisfied: pythainlp==5.0.2 in /usr/local/lib/python3.11/dist-packages (5.0.2)\n",
            "Requirement already satisfied: requests>=2.22.0 in /usr/local/lib/python3.11/dist-packages (from pythainlp==5.0.2) (2.32.3)\n",
            "Requirement already satisfied: charset-normalizer<4,>=2 in /usr/local/lib/python3.11/dist-packages (from requests>=2.22.0->pythainlp==5.0.2) (3.4.1)\n",
            "Requirement already satisfied: idna<4,>=2.5 in /usr/local/lib/python3.11/dist-packages (from requests>=2.22.0->pythainlp==5.0.2) (3.10)\n",
            "Requirement already satisfied: urllib3<3,>=1.21.1 in /usr/local/lib/python3.11/dist-packages (from requests>=2.22.0->pythainlp==5.0.2) (2.3.0)\n",
            "Requirement already satisfied: certifi>=2017.4.17 in /usr/local/lib/python3.11/dist-packages (from requests>=2.22.0->pythainlp==5.0.2) (2025.1.31)\n",
            "M\ttrainer/average.py\n",
            "M\ttrainer/seed.py\n",
            "M\ttrainer/types.py\n",
            "HEAD is now at 06fc72b fix validation cb\n",
            "Processing /content/drive/MyDrive/pytorch-trainer\n",
            "  Preparing metadata (setup.py) ... \u001b[?25l\u001b[?25hdone\n",
            "Requirement already satisfied: tqdm in /usr/local/lib/python3.11/dist-packages (from trainer==0.1) (4.67.1)\n",
            "Requirement already satisfied: matplotlib in /usr/local/lib/python3.11/dist-packages (from trainer==0.1) (3.10.0)\n",
            "Requirement already satisfied: numpy in /usr/local/lib/python3.11/dist-packages (from trainer==0.1) (2.0.2)\n",
            "Requirement already satisfied: pandas in /usr/local/lib/python3.11/dist-packages (from trainer==0.1) (2.2.2)\n",
            "Requirement already satisfied: scikit-learn in /usr/local/lib/python3.11/dist-packages (from trainer==0.1) (1.6.1)\n",
            "Requirement already satisfied: contourpy>=1.0.1 in /usr/local/lib/python3.11/dist-packages (from matplotlib->trainer==0.1) (1.3.2)\n",
            "Requirement already satisfied: cycler>=0.10 in /usr/local/lib/python3.11/dist-packages (from matplotlib->trainer==0.1) (0.12.1)\n",
            "Requirement already satisfied: fonttools>=4.22.0 in /usr/local/lib/python3.11/dist-packages (from matplotlib->trainer==0.1) (4.57.0)\n",
            "Requirement already satisfied: kiwisolver>=1.3.1 in /usr/local/lib/python3.11/dist-packages (from matplotlib->trainer==0.1) (1.4.8)\n",
            "Requirement already satisfied: packaging>=20.0 in /usr/local/lib/python3.11/dist-packages (from matplotlib->trainer==0.1) (24.2)\n",
            "Requirement already satisfied: pillow>=8 in /usr/local/lib/python3.11/dist-packages (from matplotlib->trainer==0.1) (11.1.0)\n",
            "Requirement already satisfied: pyparsing>=2.3.1 in /usr/local/lib/python3.11/dist-packages (from matplotlib->trainer==0.1) (3.2.3)\n",
            "Requirement already satisfied: python-dateutil>=2.7 in /usr/local/lib/python3.11/dist-packages (from matplotlib->trainer==0.1) (2.8.2)\n",
            "Requirement already satisfied: pytz>=2020.1 in /usr/local/lib/python3.11/dist-packages (from pandas->trainer==0.1) (2025.2)\n",
            "Requirement already satisfied: tzdata>=2022.7 in /usr/local/lib/python3.11/dist-packages (from pandas->trainer==0.1) (2025.2)\n",
            "Requirement already satisfied: scipy>=1.6.0 in /usr/local/lib/python3.11/dist-packages (from scikit-learn->trainer==0.1) (1.14.1)\n",
            "Requirement already satisfied: joblib>=1.2.0 in /usr/local/lib/python3.11/dist-packages (from scikit-learn->trainer==0.1) (1.4.2)\n",
            "Requirement already satisfied: threadpoolctl>=3.1.0 in /usr/local/lib/python3.11/dist-packages (from scikit-learn->trainer==0.1) (3.6.0)\n",
            "Requirement already satisfied: six>=1.5 in /usr/local/lib/python3.11/dist-packages (from python-dateutil>=2.7->matplotlib->trainer==0.1) (1.17.0)\n",
            "Building wheels for collected packages: trainer\n",
            "  Building wheel for trainer (setup.py) ... \u001b[?25l\u001b[?25hdone\n",
            "  Created wheel for trainer: filename=trainer-0.1-py3-none-any.whl size=37116 sha256=e9f67dac9ce4f8fe110b794240bcf0c8d832241e0df445e59588df71605d095c\n",
            "  Stored in directory: /root/.cache/pip/wheels/39/8e/49/285e7805966272b24753ba04e88a10741a36b7dbbaba4c0f63\n",
            "Successfully built trainer\n",
            "Installing collected packages: trainer\n",
            "Successfully installed trainer-0.1\n",
            "Requirement already satisfied: transformers==4.40.0 in /usr/local/lib/python3.11/dist-packages (4.40.0)\n",
            "Requirement already satisfied: filelock in /usr/local/lib/python3.11/dist-packages (from transformers==4.40.0) (3.18.0)\n",
            "Requirement already satisfied: huggingface-hub<1.0,>=0.19.3 in /usr/local/lib/python3.11/dist-packages (from transformers==4.40.0) (0.30.2)\n",
            "Requirement already satisfied: numpy>=1.17 in /usr/local/lib/python3.11/dist-packages (from transformers==4.40.0) (2.0.2)\n",
            "Requirement already satisfied: packaging>=20.0 in /usr/local/lib/python3.11/dist-packages (from transformers==4.40.0) (24.2)\n",
            "Requirement already satisfied: pyyaml>=5.1 in /usr/local/lib/python3.11/dist-packages (from transformers==4.40.0) (6.0.2)\n",
            "Requirement already satisfied: regex!=2019.12.17 in /usr/local/lib/python3.11/dist-packages (from transformers==4.40.0) (2024.11.6)\n",
            "Requirement already satisfied: requests in /usr/local/lib/python3.11/dist-packages (from transformers==4.40.0) (2.32.3)\n",
            "Requirement already satisfied: tokenizers<0.20,>=0.19 in /usr/local/lib/python3.11/dist-packages (from transformers==4.40.0) (0.19.1)\n",
            "Requirement already satisfied: safetensors>=0.4.1 in /usr/local/lib/python3.11/dist-packages (from transformers==4.40.0) (0.5.3)\n",
            "Requirement already satisfied: tqdm>=4.27 in /usr/local/lib/python3.11/dist-packages (from transformers==4.40.0) (4.67.1)\n",
            "Requirement already satisfied: fsspec>=2023.5.0 in /usr/local/lib/python3.11/dist-packages (from huggingface-hub<1.0,>=0.19.3->transformers==4.40.0) (2025.3.2)\n",
            "Requirement already satisfied: typing-extensions>=3.7.4.3 in /usr/local/lib/python3.11/dist-packages (from huggingface-hub<1.0,>=0.19.3->transformers==4.40.0) (4.13.2)\n",
            "Requirement already satisfied: charset-normalizer<4,>=2 in /usr/local/lib/python3.11/dist-packages (from requests->transformers==4.40.0) (3.4.1)\n",
            "Requirement already satisfied: idna<4,>=2.5 in /usr/local/lib/python3.11/dist-packages (from requests->transformers==4.40.0) (3.10)\n",
            "Requirement already satisfied: urllib3<3,>=1.21.1 in /usr/local/lib/python3.11/dist-packages (from requests->transformers==4.40.0) (2.3.0)\n",
            "Requirement already satisfied: certifi>=2017.4.17 in /usr/local/lib/python3.11/dist-packages (from requests->transformers==4.40.0) (2025.1.31)\n"
          ]
        }
      ]
    },
    {
      "cell_type": "code",
      "source": [
        "# from google.colab import drive\n",
        "# drive.mount('/content/drive')"
      ],
      "metadata": {
        "colab": {
          "base_uri": "https://localhost:8080/"
        },
        "id": "sp1j819V78RI",
        "outputId": "8d879b2d-dc74-4878-a179-f15d8da2a174"
      },
      "execution_count": 4,
      "outputs": [
        {
          "output_type": "stream",
          "name": "stdout",
          "text": [
            "Mounted at /content/drive\n"
          ]
        }
      ]
    },
    {
      "cell_type": "code",
      "source": [
        "import pandas as pd\n",
        "import numpy as np\n",
        "import matplotlib.pyplot as plt\n",
        "import torch\n",
        "from torch import nn, optim\n",
        "import torch.nn.functional as F"
      ],
      "metadata": {
        "id": "MlsPCSDYJdN3"
      },
      "execution_count": 6,
      "outputs": []
    },
    {
      "cell_type": "markdown",
      "metadata": {
        "id": "PjlXl73hY1K3"
      },
      "source": [
        "# (2) Our Dataset"
      ]
    },
    {
      "cell_type": "code",
      "metadata": {
        "id": "DguWECUSXw6U",
        "colab": {
          "base_uri": "https://localhost:8080/"
        },
        "outputId": "065b157c-4c77-4249-a63f-3d9d9d40acb5"
      },
      "source": [
        "!wget https://raw.githubusercontent.com/Sorananakiii/Thai-News-Topic-Classification/master/name_datasets.csv"
      ],
      "execution_count": 7,
      "outputs": [
        {
          "output_type": "stream",
          "name": "stdout",
          "text": [
            "--2025-04-24 03:58:08--  https://raw.githubusercontent.com/Sorananakiii/Thai-News-Topic-Classification/master/name_datasets.csv\n",
            "Resolving raw.githubusercontent.com (raw.githubusercontent.com)... 185.199.108.133, 185.199.109.133, 185.199.110.133, ...\n",
            "Connecting to raw.githubusercontent.com (raw.githubusercontent.com)|185.199.108.133|:443... connected.\n",
            "HTTP request sent, awaiting response... 200 OK\n",
            "Length: 258960 (253K) [text/plain]\n",
            "Saving to: ‘name_datasets.csv’\n",
            "\n",
            "name_datasets.csv   100%[===================>] 252.89K  --.-KB/s    in 0.01s   \n",
            "\n",
            "2025-04-24 03:58:08 (19.9 MB/s) - ‘name_datasets.csv’ saved [258960/258960]\n",
            "\n"
          ]
        }
      ]
    },
    {
      "cell_type": "code",
      "metadata": {
        "id": "f3nBBvhLYV8K",
        "colab": {
          "base_uri": "https://localhost:8080/",
          "height": 206
        },
        "outputId": "408da956-5cf0-4c2f-a7bc-84923f222659"
      },
      "source": [
        "df = pd.read_csv('name_datasets.csv')\n",
        "\n",
        "# Overview Our data\n",
        "df.head()"
      ],
      "execution_count": 8,
      "outputs": [
        {
          "output_type": "execute_result",
          "data": {
            "text/plain": [
              "   TH_name   ENG_name\n",
              "0  ไกรสีห์     kraisi\n",
              "1    พัชรี     phatri\n",
              "2     ธีระ      thira\n",
              "3   วุฒิกร  wutthikon\n",
              "4      ไสว      sawai"
            ],
            "text/html": [
              "\n",
              "  <div id=\"df-a4063835-4434-4ac4-83d8-eb7fe4b3289c\" class=\"colab-df-container\">\n",
              "    <div>\n",
              "<style scoped>\n",
              "    .dataframe tbody tr th:only-of-type {\n",
              "        vertical-align: middle;\n",
              "    }\n",
              "\n",
              "    .dataframe tbody tr th {\n",
              "        vertical-align: top;\n",
              "    }\n",
              "\n",
              "    .dataframe thead th {\n",
              "        text-align: right;\n",
              "    }\n",
              "</style>\n",
              "<table border=\"1\" class=\"dataframe\">\n",
              "  <thead>\n",
              "    <tr style=\"text-align: right;\">\n",
              "      <th></th>\n",
              "      <th>TH_name</th>\n",
              "      <th>ENG_name</th>\n",
              "    </tr>\n",
              "  </thead>\n",
              "  <tbody>\n",
              "    <tr>\n",
              "      <th>0</th>\n",
              "      <td>ไกรสีห์</td>\n",
              "      <td>kraisi</td>\n",
              "    </tr>\n",
              "    <tr>\n",
              "      <th>1</th>\n",
              "      <td>พัชรี</td>\n",
              "      <td>phatri</td>\n",
              "    </tr>\n",
              "    <tr>\n",
              "      <th>2</th>\n",
              "      <td>ธีระ</td>\n",
              "      <td>thira</td>\n",
              "    </tr>\n",
              "    <tr>\n",
              "      <th>3</th>\n",
              "      <td>วุฒิกร</td>\n",
              "      <td>wutthikon</td>\n",
              "    </tr>\n",
              "    <tr>\n",
              "      <th>4</th>\n",
              "      <td>ไสว</td>\n",
              "      <td>sawai</td>\n",
              "    </tr>\n",
              "  </tbody>\n",
              "</table>\n",
              "</div>\n",
              "    <div class=\"colab-df-buttons\">\n",
              "\n",
              "  <div class=\"colab-df-container\">\n",
              "    <button class=\"colab-df-convert\" onclick=\"convertToInteractive('df-a4063835-4434-4ac4-83d8-eb7fe4b3289c')\"\n",
              "            title=\"Convert this dataframe to an interactive table.\"\n",
              "            style=\"display:none;\">\n",
              "\n",
              "  <svg xmlns=\"http://www.w3.org/2000/svg\" height=\"24px\" viewBox=\"0 -960 960 960\">\n",
              "    <path d=\"M120-120v-720h720v720H120Zm60-500h600v-160H180v160Zm220 220h160v-160H400v160Zm0 220h160v-160H400v160ZM180-400h160v-160H180v160Zm440 0h160v-160H620v160ZM180-180h160v-160H180v160Zm440 0h160v-160H620v160Z\"/>\n",
              "  </svg>\n",
              "    </button>\n",
              "\n",
              "  <style>\n",
              "    .colab-df-container {\n",
              "      display:flex;\n",
              "      gap: 12px;\n",
              "    }\n",
              "\n",
              "    .colab-df-convert {\n",
              "      background-color: #E8F0FE;\n",
              "      border: none;\n",
              "      border-radius: 50%;\n",
              "      cursor: pointer;\n",
              "      display: none;\n",
              "      fill: #1967D2;\n",
              "      height: 32px;\n",
              "      padding: 0 0 0 0;\n",
              "      width: 32px;\n",
              "    }\n",
              "\n",
              "    .colab-df-convert:hover {\n",
              "      background-color: #E2EBFA;\n",
              "      box-shadow: 0px 1px 2px rgba(60, 64, 67, 0.3), 0px 1px 3px 1px rgba(60, 64, 67, 0.15);\n",
              "      fill: #174EA6;\n",
              "    }\n",
              "\n",
              "    .colab-df-buttons div {\n",
              "      margin-bottom: 4px;\n",
              "    }\n",
              "\n",
              "    [theme=dark] .colab-df-convert {\n",
              "      background-color: #3B4455;\n",
              "      fill: #D2E3FC;\n",
              "    }\n",
              "\n",
              "    [theme=dark] .colab-df-convert:hover {\n",
              "      background-color: #434B5C;\n",
              "      box-shadow: 0px 1px 3px 1px rgba(0, 0, 0, 0.15);\n",
              "      filter: drop-shadow(0px 1px 2px rgba(0, 0, 0, 0.3));\n",
              "      fill: #FFFFFF;\n",
              "    }\n",
              "  </style>\n",
              "\n",
              "    <script>\n",
              "      const buttonEl =\n",
              "        document.querySelector('#df-a4063835-4434-4ac4-83d8-eb7fe4b3289c button.colab-df-convert');\n",
              "      buttonEl.style.display =\n",
              "        google.colab.kernel.accessAllowed ? 'block' : 'none';\n",
              "\n",
              "      async function convertToInteractive(key) {\n",
              "        const element = document.querySelector('#df-a4063835-4434-4ac4-83d8-eb7fe4b3289c');\n",
              "        const dataTable =\n",
              "          await google.colab.kernel.invokeFunction('convertToInteractive',\n",
              "                                                    [key], {});\n",
              "        if (!dataTable) return;\n",
              "\n",
              "        const docLinkHtml = 'Like what you see? Visit the ' +\n",
              "          '<a target=\"_blank\" href=https://colab.research.google.com/notebooks/data_table.ipynb>data table notebook</a>'\n",
              "          + ' to learn more about interactive tables.';\n",
              "        element.innerHTML = '';\n",
              "        dataTable['output_type'] = 'display_data';\n",
              "        await google.colab.output.renderOutput(dataTable, element);\n",
              "        const docLink = document.createElement('div');\n",
              "        docLink.innerHTML = docLinkHtml;\n",
              "        element.appendChild(docLink);\n",
              "      }\n",
              "    </script>\n",
              "  </div>\n",
              "\n",
              "\n",
              "<div id=\"df-917fddb8-cadb-403e-8ec8-b4618f23760d\">\n",
              "  <button class=\"colab-df-quickchart\" onclick=\"quickchart('df-917fddb8-cadb-403e-8ec8-b4618f23760d')\"\n",
              "            title=\"Suggest charts\"\n",
              "            style=\"display:none;\">\n",
              "\n",
              "<svg xmlns=\"http://www.w3.org/2000/svg\" height=\"24px\"viewBox=\"0 0 24 24\"\n",
              "     width=\"24px\">\n",
              "    <g>\n",
              "        <path d=\"M19 3H5c-1.1 0-2 .9-2 2v14c0 1.1.9 2 2 2h14c1.1 0 2-.9 2-2V5c0-1.1-.9-2-2-2zM9 17H7v-7h2v7zm4 0h-2V7h2v10zm4 0h-2v-4h2v4z\"/>\n",
              "    </g>\n",
              "</svg>\n",
              "  </button>\n",
              "\n",
              "<style>\n",
              "  .colab-df-quickchart {\n",
              "      --bg-color: #E8F0FE;\n",
              "      --fill-color: #1967D2;\n",
              "      --hover-bg-color: #E2EBFA;\n",
              "      --hover-fill-color: #174EA6;\n",
              "      --disabled-fill-color: #AAA;\n",
              "      --disabled-bg-color: #DDD;\n",
              "  }\n",
              "\n",
              "  [theme=dark] .colab-df-quickchart {\n",
              "      --bg-color: #3B4455;\n",
              "      --fill-color: #D2E3FC;\n",
              "      --hover-bg-color: #434B5C;\n",
              "      --hover-fill-color: #FFFFFF;\n",
              "      --disabled-bg-color: #3B4455;\n",
              "      --disabled-fill-color: #666;\n",
              "  }\n",
              "\n",
              "  .colab-df-quickchart {\n",
              "    background-color: var(--bg-color);\n",
              "    border: none;\n",
              "    border-radius: 50%;\n",
              "    cursor: pointer;\n",
              "    display: none;\n",
              "    fill: var(--fill-color);\n",
              "    height: 32px;\n",
              "    padding: 0;\n",
              "    width: 32px;\n",
              "  }\n",
              "\n",
              "  .colab-df-quickchart:hover {\n",
              "    background-color: var(--hover-bg-color);\n",
              "    box-shadow: 0 1px 2px rgba(60, 64, 67, 0.3), 0 1px 3px 1px rgba(60, 64, 67, 0.15);\n",
              "    fill: var(--button-hover-fill-color);\n",
              "  }\n",
              "\n",
              "  .colab-df-quickchart-complete:disabled,\n",
              "  .colab-df-quickchart-complete:disabled:hover {\n",
              "    background-color: var(--disabled-bg-color);\n",
              "    fill: var(--disabled-fill-color);\n",
              "    box-shadow: none;\n",
              "  }\n",
              "\n",
              "  .colab-df-spinner {\n",
              "    border: 2px solid var(--fill-color);\n",
              "    border-color: transparent;\n",
              "    border-bottom-color: var(--fill-color);\n",
              "    animation:\n",
              "      spin 1s steps(1) infinite;\n",
              "  }\n",
              "\n",
              "  @keyframes spin {\n",
              "    0% {\n",
              "      border-color: transparent;\n",
              "      border-bottom-color: var(--fill-color);\n",
              "      border-left-color: var(--fill-color);\n",
              "    }\n",
              "    20% {\n",
              "      border-color: transparent;\n",
              "      border-left-color: var(--fill-color);\n",
              "      border-top-color: var(--fill-color);\n",
              "    }\n",
              "    30% {\n",
              "      border-color: transparent;\n",
              "      border-left-color: var(--fill-color);\n",
              "      border-top-color: var(--fill-color);\n",
              "      border-right-color: var(--fill-color);\n",
              "    }\n",
              "    40% {\n",
              "      border-color: transparent;\n",
              "      border-right-color: var(--fill-color);\n",
              "      border-top-color: var(--fill-color);\n",
              "    }\n",
              "    60% {\n",
              "      border-color: transparent;\n",
              "      border-right-color: var(--fill-color);\n",
              "    }\n",
              "    80% {\n",
              "      border-color: transparent;\n",
              "      border-right-color: var(--fill-color);\n",
              "      border-bottom-color: var(--fill-color);\n",
              "    }\n",
              "    90% {\n",
              "      border-color: transparent;\n",
              "      border-bottom-color: var(--fill-color);\n",
              "    }\n",
              "  }\n",
              "</style>\n",
              "\n",
              "  <script>\n",
              "    async function quickchart(key) {\n",
              "      const quickchartButtonEl =\n",
              "        document.querySelector('#' + key + ' button');\n",
              "      quickchartButtonEl.disabled = true;  // To prevent multiple clicks.\n",
              "      quickchartButtonEl.classList.add('colab-df-spinner');\n",
              "      try {\n",
              "        const charts = await google.colab.kernel.invokeFunction(\n",
              "            'suggestCharts', [key], {});\n",
              "      } catch (error) {\n",
              "        console.error('Error during call to suggestCharts:', error);\n",
              "      }\n",
              "      quickchartButtonEl.classList.remove('colab-df-spinner');\n",
              "      quickchartButtonEl.classList.add('colab-df-quickchart-complete');\n",
              "    }\n",
              "    (() => {\n",
              "      let quickchartButtonEl =\n",
              "        document.querySelector('#df-917fddb8-cadb-403e-8ec8-b4618f23760d button');\n",
              "      quickchartButtonEl.style.display =\n",
              "        google.colab.kernel.accessAllowed ? 'block' : 'none';\n",
              "    })();\n",
              "  </script>\n",
              "</div>\n",
              "\n",
              "    </div>\n",
              "  </div>\n"
            ],
            "application/vnd.google.colaboratory.intrinsic+json": {
              "type": "dataframe",
              "variable_name": "df",
              "summary": "{\n  \"name\": \"df\",\n  \"rows\": 8999,\n  \"fields\": [\n    {\n      \"column\": \"TH_name\",\n      \"properties\": {\n        \"dtype\": \"string\",\n        \"num_unique_values\": 5060,\n        \"samples\": [\n          \"\\u0e18\\u0e19\\u0e32\\u0e18\\u0e32\\u0e23\",\n          \"\\u0e40\\u0e2d\\u0e01\\u0e13\\u0e31\\u0e0f\\u0e10\\u0e4c\",\n          \"\\u0e10\\u0e32\\u0e19\\u0e31\\u0e19\\u0e14\\u0e23\"\n        ],\n        \"semantic_type\": \"\",\n        \"description\": \"\"\n      }\n    },\n    {\n      \"column\": \"ENG_name\",\n      \"properties\": {\n        \"dtype\": \"category\",\n        \"num_unique_values\": 4426,\n        \"samples\": [\n          \"kingfa\",\n          \"thawan\",\n          \"sumasitthi\"\n        ],\n        \"semantic_type\": \"\",\n        \"description\": \"\"\n      }\n    }\n  ]\n}"
            }
          },
          "metadata": {},
          "execution_count": 8
        }
      ]
    },
    {
      "cell_type": "code",
      "metadata": {
        "id": "zwvIDvCPYdfQ",
        "colab": {
          "base_uri": "https://localhost:8080/"
        },
        "outputId": "4c82c712-9fbb-45c2-c695-5f63757c8dbd"
      },
      "source": [
        "df.info()"
      ],
      "execution_count": 9,
      "outputs": [
        {
          "output_type": "stream",
          "name": "stdout",
          "text": [
            "<class 'pandas.core.frame.DataFrame'>\n",
            "RangeIndex: 8999 entries, 0 to 8998\n",
            "Data columns (total 2 columns):\n",
            " #   Column    Non-Null Count  Dtype \n",
            "---  ------    --------------  ----- \n",
            " 0   TH_name   8999 non-null   object\n",
            " 1   ENG_name  8999 non-null   object\n",
            "dtypes: object(2)\n",
            "memory usage: 140.7+ KB\n"
          ]
        }
      ]
    },
    {
      "cell_type": "markdown",
      "metadata": {
        "id": "3VR7CY3n7z1T"
      },
      "source": [
        "## Distribution of name lengths"
      ]
    },
    {
      "cell_type": "code",
      "metadata": {
        "id": "fX2nqVWb7zKZ",
        "colab": {
          "base_uri": "https://localhost:8080/",
          "height": 487
        },
        "outputId": "2f060b3f-a780-48ed-8bb1-20ee0dac69ec"
      },
      "source": [
        "print('minimum thai name length : ', df['TH_name'].apply(len).min())\n",
        "print('maximum thai name length : ',df['TH_name'].apply(len).max())\n",
        "plt.title('THAI')\n",
        "plt.hist(df['TH_name'].apply(len));"
      ],
      "execution_count": 10,
      "outputs": [
        {
          "output_type": "stream",
          "name": "stdout",
          "text": [
            "minimum thai name length :  2\n",
            "maximum thai name length :  20\n"
          ]
        },
        {
          "output_type": "display_data",
          "data": {
            "text/plain": [
              "<Figure size 640x480 with 1 Axes>"
            ],
            "image/png": "[encoded data removed]"
          },
          "metadata": {}
        }
      ]
    },
    {
      "cell_type": "code",
      "metadata": {
        "id": "kPMWH7Sn7zQO",
        "colab": {
          "base_uri": "https://localhost:8080/",
          "height": 487
        },
        "outputId": "52d2f940-3716-4dce-af31-fdb4f88406ca"
      },
      "source": [
        "print('minimum eng name length : ', df['ENG_name'].apply(len).min())\n",
        "print('maximum eng name length : ',df['ENG_name'].apply(len).max())\n",
        "plt.title('ENG')\n",
        "plt.hist(df['ENG_name'].apply(len));"
      ],
      "execution_count": 11,
      "outputs": [
        {
          "output_type": "stream",
          "name": "stdout",
          "text": [
            "minimum eng name length :  2\n",
            "maximum eng name length :  19\n"
          ]
        },
        {
          "output_type": "display_data",
          "data": {
            "text/plain": [
              "<Figure size 640x480 with 1 Axes>"
            ],
            "image/png": "[encoded data removed]"
          },
          "metadata": {}
        }
      ]
    },
    {
      "cell_type": "markdown",
      "metadata": {
        "id": "CKh9wzD6ZKRB"
      },
      "source": [
        "# (3) Split train-Validation-test Dataset"
      ]
    },
    {
      "cell_type": "code",
      "metadata": {
        "id": "0Kj1rLhiZCaE"
      },
      "source": [
        "from sklearn.model_selection import train_test_split\n",
        "\n",
        "df_train, df_test = train_test_split(df, test_size=1000, random_state=0)\n",
        "df_train, df_val = train_test_split(df_train, test_size=1000, random_state=0)"
      ],
      "execution_count": 12,
      "outputs": []
    },
    {
      "cell_type": "code",
      "metadata": {
        "id": "b9TvmsK7ZZcJ",
        "colab": {
          "base_uri": "https://localhost:8080/"
        },
        "outputId": "17c591d5-b918-4074-de38-1a6908e2d5a6"
      },
      "source": [
        "print('train:', len(df_train))\n",
        "print('val:', len(df_val))\n",
        "print('test:', len(df_test))"
      ],
      "execution_count": 13,
      "outputs": [
        {
          "output_type": "stream",
          "name": "stdout",
          "text": [
            "train: 6999\n",
            "val: 1000\n",
            "test: 1000\n"
          ]
        }
      ]
    },
    {
      "cell_type": "markdown",
      "metadata": {
        "id": "D33YR8uhZ9Q3"
      },
      "source": [
        "# (4) Create pytorch datasets\n",
        "\n",
        "Generally, there are two kinds of datasets:\n",
        "\n",
        "- Word-level\n",
        "- Character-level\n",
        "\n",
        "We will do **character-level**.\n",
        "\n",
        "### We will transform each character into an integer\n",
        "\n",
        "### Input\n",
        "\n",
        "```\n",
        "thai name ids: [0, 32, 37, 37, 21, 37, 22, 51, 1]\n",
        "thai name: พรรณรดา\n",
        "```\n",
        "\n",
        "### Output\n",
        "\n",
        "```\n",
        "eng name ids: [0, 18, 23, 16, 20, 3, 6, 3, 1]\n",
        "eng name: punrada\n",
        "```\n",
        "\n",
        "`0` = begin of sentence token (BOS)\n",
        "\n",
        "`1` = end of sentence token (EOS)\n",
        "\n",
        "**We have each dictionary for each language**\n",
        "\n",
        "### All the characters we would use in each dictionary"
      ]
    },
    {
      "cell_type": "code",
      "metadata": {
        "id": "Pd1D_-5kaFH8",
        "colab": {
          "base_uri": "https://localhost:8080/"
        },
        "outputId": "1211a852-f5c8-4b4d-93bf-f605ee239127"
      },
      "source": [
        "import pythainlp as thai\n",
        "import string\n",
        "\n",
        "extras = '.-() !?'\n",
        "th_chars = list(thai.thai_characters + extras)\n",
        "en_chars = list(string.ascii_lowercase + extras)\n",
        "\n",
        "print('th:', th_chars)\n",
        "print('en:', en_chars)"
      ],
      "execution_count": 14,
      "outputs": [
        {
          "output_type": "stream",
          "name": "stdout",
          "text": [
            "th: ['ก', 'ข', 'ฃ', 'ค', 'ฅ', 'ฆ', 'ง', 'จ', 'ฉ', 'ช', 'ซ', 'ฌ', 'ญ', 'ฎ', 'ฏ', 'ฐ', 'ฑ', 'ฒ', 'ณ', 'ด', 'ต', 'ถ', 'ท', 'ธ', 'น', 'บ', 'ป', 'ผ', 'ฝ', 'พ', 'ฟ', 'ภ', 'ม', 'ย', 'ร', 'ล', 'ว', 'ศ', 'ษ', 'ส', 'ห', 'ฬ', 'อ', 'ฮ', 'ฤ', 'ฦ', 'ะ', 'ั', 'า', 'ำ', 'ิ', 'ี', 'ึ', 'ื', 'ุ', 'ู', 'เ', 'แ', 'โ', 'ใ', 'ไ', 'ๅ', 'ํ', '็', '่', '้', '๊', '๋', 'ฯ', 'ฺ', 'ๆ', '์', 'ํ', '๎', '๏', '๚', '๛', '๐', '๑', '๒', '๓', '๔', '๕', '๖', '๗', '๘', '๙', '฿', '.', '-', '(', ')', ' ', '!', '?']\n",
            "en: ['a', 'b', 'c', 'd', 'e', 'f', 'g', 'h', 'i', 'j', 'k', 'l', 'm', 'n', 'o', 'p', 'q', 'r', 's', 't', 'u', 'v', 'w', 'x', 'y', 'z', '.', '-', '(', ')', ' ', '!', '?']\n"
          ]
        }
      ]
    },
    {
      "cell_type": "markdown",
      "metadata": {
        "id": "jTVHGk1ZaPEH"
      },
      "source": [
        "### Tokenizer\n",
        "\n",
        "Tokenizer = converter between sentence <==> ints\n",
        "\n",
        "It also holds the dictionary."
      ]
    },
    {
      "cell_type": "code",
      "metadata": {
        "id": "meD0mh6DaMtG"
      },
      "source": [
        "from torch.utils.data import Dataset\n",
        "\n",
        "class Tokenizer:\n",
        "    def __init__(self, characters, bos_token='<s>', eos_token='</s>', pad_token='<pad>'):\n",
        "        self.special_tokens = [bos_token, eos_token, pad_token]\n",
        "        self.i_to_c = self.special_tokens + list(characters)\n",
        "        self.c_to_i = {c: i for i, c in enumerate(self.i_to_c)}\n",
        "\n",
        "        self.bos_token_id = self.c_to_i[bos_token]\n",
        "        self.eos_token_id = self.c_to_i[eos_token]\n",
        "        self.pad_token_id = self.c_to_i[pad_token]\n",
        "        self.special_token_ids = [self.bos_token_id, self.eos_token_id, self.pad_token_id]\n",
        "\n",
        "    def __len__(self):\n",
        "        return len(self.i_to_c)\n",
        "\n",
        "    def encode(self, string):\n",
        "        \"\"\"encode a string into a list of ints, with sandwiched by <bos> and <eos>\"\"\"\n",
        "        return [self.bos_token_id] + [self.c_to_i[c] for c in string] + [self.eos_token_id]\n",
        "\n",
        "    def pad_encoded_batch(self, list_of_ids):\n",
        "        \"\"\"pad different lengths with <pad> to have the same length\"\"\"\n",
        "        max_len = max(len(ids) for ids in list_of_ids)\n",
        "        for ids in list_of_ids:\n",
        "            n_pad = max_len - len(ids)\n",
        "            if n_pad > 0:\n",
        "                ids.extend([self.pad_token_id] * n_pad)\n",
        "        return list_of_ids\n",
        "\n",
        "    def decode(self, ids, skip_special_tokens=False):\n",
        "        \"\"\"decode a list of ints into a string\"\"\"\n",
        "        out = []\n",
        "        for i in ids:\n",
        "            if skip_special_tokens and i in self.special_token_ids:\n",
        "                continue\n",
        "            out.append(self.i_to_c[i])\n",
        "        out = ''.join(out)\n",
        "        return out\n",
        "\n",
        "    def decode_batch(self, list_of_ids, skip_special_tokens=False):\n",
        "        \"\"\"decode a list of list of ints into a list of strings\"\"\"\n",
        "        out = []\n",
        "        for ids in list_of_ids:\n",
        "            out.append(self.decode(ids, skip_special_tokens=skip_special_tokens))\n",
        "        return out\n",
        "\n",
        "class ParallelNameDataset(Dataset):\n",
        "    \"\"\"the dataset\"\"\"\n",
        "    def __init__(self, df, tokenizer_th, tokenizer_en):\n",
        "        self.df = df\n",
        "        self.tokenizer_th = tokenizer_th\n",
        "        self.tokenizer_en = tokenizer_en\n",
        "\n",
        "    def __len__(self):\n",
        "        return len(self.df)\n",
        "\n",
        "    def __getitem__(self, i):\n",
        "        \"\"\"returns a tuple of (th, eng) names\"\"\"\n",
        "        a, b = self.df.iloc[i]\n",
        "        a = self.tokenizer_th.encode(a)\n",
        "        b = self.tokenizer_en.encode(b)\n",
        "        return a, b"
      ],
      "execution_count": 15,
      "outputs": []
    },
    {
      "cell_type": "code",
      "metadata": {
        "id": "DHQR1pTwKbxD",
        "colab": {
          "base_uri": "https://localhost:8080/"
        },
        "outputId": "aa0ca81e-65f5-4643-edf6-fa912b32d180"
      },
      "source": [
        "print('Thai Name Legnth : [{}, {}]'.format(df.TH_name.apply(len).min(), df.TH_name.apply(len).max()))\n",
        "print('English Name Legnth : [{}, {}]'.format(df.ENG_name.apply(len).min(), df.ENG_name.apply(len).max()))"
      ],
      "execution_count": 16,
      "outputs": [
        {
          "output_type": "stream",
          "name": "stdout",
          "text": [
            "Thai Name Legnth : [2, 20]\n",
            "English Name Legnth : [2, 19]\n"
          ]
        }
      ]
    },
    {
      "cell_type": "code",
      "metadata": {
        "id": "_OpHynyJaUBz"
      },
      "source": [
        "# Define Out Data\n",
        "max_len = max(df.TH_name.apply(len).max(), df.ENG_name.apply(len).max())\n",
        "\n",
        "tokenizer_th = Tokenizer(th_chars)\n",
        "tokenizer_en = Tokenizer(en_chars)\n",
        "\n",
        "train_data = ParallelNameDataset(df_train, tokenizer_th, tokenizer_en)\n",
        "val_data = ParallelNameDataset(df_val, tokenizer_th, tokenizer_en)\n",
        "test_data = ParallelNameDataset(df_test, tokenizer_th, tokenizer_en)"
      ],
      "execution_count": 17,
      "outputs": []
    },
    {
      "cell_type": "code",
      "metadata": {
        "id": "nwWDdt1xaZWa",
        "colab": {
          "base_uri": "https://localhost:8080/"
        },
        "outputId": "6401b093-f309-4b07-8f67-17c801c0482e"
      },
      "source": [
        "x, y = train_data[0]\n",
        "print('thai name ids:', x)\n",
        "print('thai name:', tokenizer_th.decode(x, skip_special_tokens=True))\n",
        "print('eng name ids:', y)\n",
        "print('eng name:', tokenizer_en.decode(y, skip_special_tokens=True))"
      ],
      "execution_count": 18,
      "outputs": [
        {
          "output_type": "stream",
          "name": "stdout",
          "text": [
            "thai name ids: [0, 25, 39, 54, 1]\n",
            "thai name: ทวี\n",
            "eng name ids: [0, 22, 10, 3, 25, 11, 1]\n",
            "eng name: thawi\n"
          ]
        }
      ]
    },
    {
      "cell_type": "markdown",
      "metadata": {
        "id": "g9RvXKxUac92"
      },
      "source": [
        "## How to load in batches?\n",
        "\n",
        "Each name has a different length. How to \"batch\" them together?\n",
        "\n",
        "Let's say we have 2 names with lengths 8, 10.\n",
        "\n",
        "The batch will have the shape `[2, 10]`\n",
        "\n",
        "- 2 = batch size\n",
        "- 10 = maximum length of the two"
      ]
    },
    {
      "cell_type": "code",
      "metadata": {
        "id": "K8R6gr9SadZS"
      },
      "source": [
        "import torch\n",
        "from torch.utils.data import DataLoader\n",
        "\n",
        "class Collator:\n",
        "    def __init__(self, tokenizer_th, tokenizer_en):\n",
        "        self.tokenizer_th = tokenizer_th\n",
        "        self.tokenizer_en = tokenizer_en\n",
        "\n",
        "    def __call__(self, list_of_xy):\n",
        "        \"\"\"input is a list of (th, eng)\"\"\"\n",
        "        X, Y = [], []\n",
        "        for x, y in list_of_xy:\n",
        "            X.append(x)\n",
        "            Y.append(y)\n",
        "        # make the names to be of equal lengtsh\n",
        "        X = self.tokenizer_th.pad_encoded_batch(X)\n",
        "        Y = self.tokenizer_en.pad_encoded_batch(Y)\n",
        "        # convert to tensor\n",
        "        X = torch.LongTensor(X)\n",
        "        Y = torch.LongTensor(Y)\n",
        "        return X, Y"
      ],
      "execution_count": 19,
      "outputs": []
    },
    {
      "cell_type": "code",
      "metadata": {
        "id": "j-dphJ3VafsM"
      },
      "source": [
        "loader = DataLoader(train_data,\n",
        "                    batch_size=2,\n",
        "                    shuffle=False,\n",
        "                    collate_fn=Collator(tokenizer_th, tokenizer_en),\n",
        ")\n",
        "itr = iter(loader)"
      ],
      "execution_count": 20,
      "outputs": []
    },
    {
      "cell_type": "code",
      "metadata": {
        "id": "CrfvQvyWaiB0",
        "colab": {
          "base_uri": "https://localhost:8080/"
        },
        "outputId": "80c85510-caab-4e2c-f970-79c28fbbb139"
      },
      "source": [
        "# Converting back ids to string\n",
        "x, y = next(itr)\n",
        "print('x:', x)\n",
        "print('decoded:', tokenizer_th.decode_batch(x, skip_special_tokens=True))\n",
        "print('y:', y)\n",
        "print('decoded:', tokenizer_en.decode_batch(y, skip_special_tokens=True))"
      ],
      "execution_count": 21,
      "outputs": [
        {
          "output_type": "stream",
          "name": "stdout",
          "text": [
            "x: tensor([[ 0, 25, 39, 54,  1,  2,  2,  2,  2],\n",
            "        [ 0, 42, 57, 39, 53, 25, 36, 74,  1]])\n",
            "decoded: ['ทวี', 'สุวิทย์']\n",
            "y: tensor([[ 0, 22, 10,  3, 25, 11,  1],\n",
            "        [ 0, 21, 23, 25, 11, 22,  1]])\n",
            "decoded: ['thawi', 'suwit']\n"
          ]
        }
      ]
    },
    {
      "cell_type": "markdown",
      "metadata": {
        "id": "RpAibktIas17"
      },
      "source": [
        "# (5) Transformer model\n",
        "paper : https://arxiv.org/pdf/1706.03762.pdf\n",
        "\n",
        "<img src=\"https://miro.medium.com/max/565/1*v1fprGL_4mBvCMi02UuhRQ.png\" style=\"width: 720px;\"/>\n"
      ]
    },
    {
      "cell_type": "markdown",
      "metadata": {
        "id": "Nc6woppwaszu"
      },
      "source": [
        "## Positional encoding\n",
        "\n",
        "Every transformer model requires a \"positional encoding\". Here we used to \"sinusoid\" encoding."
      ]
    },
    {
      "cell_type": "code",
      "metadata": {
        "id": "GbQN_G2kar7T"
      },
      "source": [
        "import math\n",
        "\n",
        "class SinPositionalEncoding(nn.Module):\n",
        "    \"\"\"\n",
        "    taken from: https://pytorch.org/tutorials/beginner/transformer_tutorial.html\n",
        "    \"\"\"\n",
        "    def __init__(self, d_model, max_len):\n",
        "        super().__init__()\n",
        "\n",
        "        pe = torch.zeros(max_len, d_model)\n",
        "        position = torch.arange(0, max_len, dtype=torch.float).unsqueeze(1)\n",
        "        div_term = torch.exp(\n",
        "            torch.arange(0, d_model, 2).float() *\n",
        "            (-math.log(10000.0) / d_model))\n",
        "        pe[:, 0::2] = torch.sin(position * div_term)\n",
        "        pe[:, 1::2] = torch.cos(position * div_term)\n",
        "        pe = pe.unsqueeze(0).transpose(0, 1)\n",
        "        self.register_buffer('pe', pe)\n",
        "\n",
        "    def forward(self, x):\n",
        "        x = x + self.pe[:x.size(0), :]\n",
        "        return x"
      ],
      "execution_count": 22,
      "outputs": []
    },
    {
      "cell_type": "markdown",
      "metadata": {
        "id": "jfK5mGQha04b"
      },
      "source": [
        "They are alternating between sin and cos of different frequencies.\n",
        "\n",
        "The model uses this knowledge to learn specfic functions on different locations of an input."
      ]
    },
    {
      "cell_type": "code",
      "metadata": {
        "id": "mdjEhjZ0azsC",
        "colab": {
          "base_uri": "https://localhost:8080/",
          "height": 475
        },
        "outputId": "70d1f580-96c1-4a67-db7c-377eee8082a3"
      },
      "source": [
        "pos_emb = SinPositionalEncoding(d_model=128, max_len=max_len)\n",
        "# example input (t, n, dim)\n",
        "x = torch.zeros(max_len, 1, 128)\n",
        "x = pos_emb(x)\n",
        "# plot the first few dims\n",
        "plt.figure(figsize=(12,8))\n",
        "for i in range(4):\n",
        "    plt.plot(range(max_len), x[:, 0, i])"
      ],
      "execution_count": 23,
      "outputs": [
        {
          "output_type": "display_data",
          "data": {
            "text/plain": [
              "<Figure size 1200x800 with 1 Axes>"
            ],
            "image/png": "[encoded data removed]"
          },
          "metadata": {}
        }
      ]
    },
    {
      "cell_type": "code",
      "metadata": {
        "id": "x-yc6kCba3BB"
      },
      "source": [
        "# from trainer.start import *\n",
        "from transformers.modeling_outputs import ModelOutput, dataclass\n",
        "from transformers import PreTrainedModel, PretrainedConfig"
      ],
      "execution_count": 24,
      "outputs": []
    },
    {
      "cell_type": "code",
      "metadata": {
        "id": "GJUEjn7ia51e"
      },
      "source": [
        "# Config\n",
        "@dataclass\n",
        "class Config:\n",
        "    vocab_size_enc: int\n",
        "    vocab_size_dec: int\n",
        "    max_len: int\n",
        "    pad_token_id_enc: int\n",
        "    pad_token_id_dec: int\n",
        "    n_hid: int\n",
        "    n_head: int\n",
        "    n_ff: int\n",
        "    dropout: float\n",
        "    n_layer: int\n",
        "\n",
        "    @property\n",
        "    def name(self):\n",
        "        name = f'{self.n_hid}hid-{self.n_head}head-{self.n_ff}ff-{self.dropout}drop-{self.n_layer}layer'\n",
        "        return name"
      ],
      "execution_count": 25,
      "outputs": []
    },
    {
      "cell_type": "code",
      "metadata": {
        "id": "mM5KDka4bFPS",
        "colab": {
          "base_uri": "https://localhost:8080/"
        },
        "outputId": "aba8aff3-3310-48fb-8c36-e310d0344b4a"
      },
      "source": [
        "conf = Config(vocab_size_enc=len(tokenizer_th),\n",
        "              vocab_size_dec=len(tokenizer_en),\n",
        "              max_len=max_len,\n",
        "              pad_token_id_enc=tokenizer_th.pad_token_id,\n",
        "              pad_token_id_dec=tokenizer_en.pad_token_id,\n",
        "              n_hid=128,\n",
        "              n_head=4,\n",
        "              n_ff=128*4,\n",
        "              dropout=0,\n",
        "              n_layer=2,\n",
        ")\n",
        "\n",
        "print(conf.name)"
      ],
      "execution_count": 26,
      "outputs": [
        {
          "output_type": "stream",
          "name": "stdout",
          "text": [
            "128hid-4head-512ff-0drop-2layer\n"
          ]
        }
      ]
    },
    {
      "cell_type": "markdown",
      "metadata": {
        "id": "mef4MKbubIjt"
      },
      "source": [
        "## Encoder"
      ]
    },
    {
      "cell_type": "code",
      "metadata": {
        "id": "DCktmuoUbGiG"
      },
      "source": [
        "class NameEncoder(nn.Module):\n",
        "    def __init__(self, conf: Config):\n",
        "        super().__init__()\n",
        "        self.conf = conf\n",
        "        self.pos_emb = SinPositionalEncoding(conf.n_hid, max_len=conf.max_len)\n",
        "        self.emb = nn.Embedding(conf.vocab_size_enc, conf.n_hid)\n",
        "        self.enc = nn.TransformerEncoder(\n",
        "            nn.TransformerEncoderLayer(\n",
        "                conf.n_hid,\n",
        "                conf.n_head,\n",
        "                conf.n_ff,\n",
        "                conf.dropout,\n",
        "            ),\n",
        "            num_layers=conf.n_layer,\n",
        "        )\n",
        "\n",
        "    def forward(self, input_ids, **kwargs):\n",
        "        \"\"\"\n",
        "        Args:\n",
        "            input_ids: long tensor (n, t) of the name\n",
        "        \"\"\"\n",
        "        # (n, t)\n",
        "        n, max_t = input_ids.shape\n",
        "        # masking the padded locations\n",
        "        # (n, t)\n",
        "        enc_pad_mask = input_ids == self.conf.pad_token_id_enc\n",
        "\n",
        "        # convert to (t, n)\n",
        "        xt = input_ids.permute([1, 0])\n",
        "        # ids => vector\n",
        "        xt = self.emb(xt)\n",
        "        # including the positional encoding (sin, cos)\n",
        "        xt = self.pos_emb(xt)\n",
        "        # put to the transformer layers\n",
        "        # (t, n, n_hid)\n",
        "        enc_out = self.enc.forward(src=xt, src_key_padding_mask=enc_pad_mask)\n",
        "        # convert back to (n, t, n_hid)\n",
        "        enc_out = enc_out.permute([1, 0, 2])\n",
        "        return {\n",
        "            'last_hidden_state': enc_out,\n",
        "            'pad_mask': enc_pad_mask,\n",
        "        }"
      ],
      "execution_count": 27,
      "outputs": []
    },
    {
      "cell_type": "code",
      "metadata": {
        "id": "oZBfPrZKbLOe",
        "colab": {
          "base_uri": "https://localhost:8080/"
        },
        "outputId": "3be595dd-0b28-4fd5-cd08-ef388148068b"
      },
      "source": [
        "enc = NameEncoder(conf)\n",
        "\n",
        "x, y = next(itr)\n",
        "print('x:', x.shape)\n",
        "enc_out = enc.forward(x)\n",
        "print('last hidden state:', enc_out['last_hidden_state'].shape)\n",
        "print('out pad mask:', enc_out['pad_mask'].shape)"
      ],
      "execution_count": 28,
      "outputs": [
        {
          "output_type": "stream",
          "name": "stdout",
          "text": [
            "x: torch.Size([2, 12])\n",
            "last hidden state: torch.Size([2, 12, 128])\n",
            "out pad mask: torch.Size([2, 12])\n"
          ]
        },
        {
          "output_type": "stream",
          "name": "stderr",
          "text": [
            "/usr/local/lib/python3.11/dist-packages/torch/nn/modules/transformer.py:385: UserWarning: enable_nested_tensor is True, but self.use_nested_tensor is False because encoder_layer.self_attn.batch_first was not True(use batch_first for better inference performance)\n",
            "  warnings.warn(\n"
          ]
        }
      ]
    },
    {
      "cell_type": "markdown",
      "metadata": {
        "id": "GbG6HFbbbNOZ"
      },
      "source": [
        "## Decoder\n",
        "\n",
        "We make use of [Huggingface's Transformer](https://huggingface.co/transformers/) library to simplify our code.\n",
        "\n",
        "The lines with `#required by Huggingface` is not that important to understand in details."
      ]
    },
    {
      "cell_type": "code",
      "metadata": {
        "id": "GOzY9NbObUtP"
      },
      "source": [
        "# required by Huggingface\n",
        "@dataclass\n",
        "class DecoderOutput(ModelOutput):\n",
        "    \"\"\"output of the decoder needed by Huggingface library\"\"\"\n",
        "    loss: torch.Tensor = None\n",
        "    logits: torch.Tensor = None\n",
        "\n",
        "class NameDecoder(PreTrainedModel):\n",
        "    def __init__(self, conf: Config):\n",
        "        # required by Huggingface\n",
        "        base_config = PretrainedConfig()\n",
        "        base_config.vocab_size = conf.vocab_size_dec\n",
        "        super().__init__(base_config)\n",
        "        # our model\n",
        "        self.conf = conf\n",
        "        self.pos_emb = SinPositionalEncoding(conf.n_hid, max_len=conf.max_len)\n",
        "        self.emb = nn.Embedding(conf.vocab_size_dec, conf.n_hid)\n",
        "        self.dec = nn.TransformerDecoder(\n",
        "            nn.TransformerDecoderLayer(\n",
        "                conf.n_hid,\n",
        "                conf.n_head,\n",
        "                conf.n_ff,\n",
        "                conf.dropout,\n",
        "            ),\n",
        "            num_layers=conf.n_layer,\n",
        "        )\n",
        "        self.head = nn.Linear(conf.n_hid, conf.vocab_size_dec)\n",
        "\n",
        "    def forward(self, input_ids, enc_out, enc_pad_mask, labels=None, **kwargs):\n",
        "        \"\"\"\n",
        "        Args:\n",
        "            input_ids: long tensor (n, t) of the target names (eng)\n",
        "            enc_out: float tensor (n, t, n_hid) from the encoder will be used as memory\n",
        "            enc_pad_mask: bool tensor (n, t) mask on the padded locations\n",
        "            labels: long tensor (n, t) expected output of the names (eng)\n",
        "                usually, input_ids = labels\n",
        "        \"\"\"\n",
        "        dev = input_ids.device\n",
        "        # (n, t)\n",
        "        n, max_t = input_ids.shape\n",
        "        # masking the future\n",
        "        # (t, t)\n",
        "        attn_mask = torch.triu(torch.ones(max_t, max_t).bool(),\n",
        "                               diagonal=1).to(dev)\n",
        "        # masking the padded locations\n",
        "        # (n, t)\n",
        "        dec_pad_mask = input_ids == self.conf.pad_token_id_dec\n",
        "\n",
        "        # convert to (t, n)\n",
        "        xt = input_ids.permute([1, 0])\n",
        "        # ints => vector\n",
        "        # (t, n, n_hid)\n",
        "        xt = self.emb(xt)\n",
        "        # positional embedding\n",
        "        # (t, n, n_hid)\n",
        "        xt = self.pos_emb(xt)\n",
        "        # convert the memory to (t, n, n_hid)\n",
        "        enc_out = enc_out.permute([1, 0, 2])\n",
        "        # put everything to the transformer decoder\n",
        "        # note: decoder requires both input and memory\n",
        "        # memory = enc_out\n",
        "        # (t, n, n_hid)\n",
        "        dec_out = self.dec.forward(\n",
        "            tgt=xt,\n",
        "            memory=enc_out,\n",
        "            tgt_mask=attn_mask,\n",
        "            memory_key_padding_mask=enc_pad_mask,\n",
        "            tgt_key_padding_mask=dec_pad_mask,\n",
        "        )\n",
        "        # put through the prediction head\n",
        "        # (t, n, n_hid)\n",
        "        dec_out = self.head(dec_out)\n",
        "        # convert to (n, t, n_hid)\n",
        "        dec_out = dec_out.permute([1, 0, 2])\n",
        "\n",
        "        # calculate the loss function\n",
        "        loss = 0\n",
        "        if labels is not None:\n",
        "            ############################\n",
        "            # labels: [0, 3, 4, 5, 1]\n",
        "            # expect pred: [3, 4, 5, 1, N/A]\n",
        "            ############################\n",
        "            # ignore the last prediction\n",
        "            shift_dec_out = dec_out[:, :-1, :]\n",
        "            # labels = shifted input to the left\n",
        "            shift_labels = labels[:, 1:]\n",
        "            # flatten to (n * t, vocab)\n",
        "            flat_pred = shift_dec_out.reshape(-1, shift_dec_out.size(-1))\n",
        "            # flatten to (n * t)\n",
        "            flat_labels = shift_labels.reshape(-1)\n",
        "            # cross entropy loss function\n",
        "            loss = F.cross_entropy(flat_pred, flat_labels)\n",
        "\n",
        "        return DecoderOutput(\n",
        "            loss=loss,\n",
        "            logits=dec_out,\n",
        "        )\n",
        "\n",
        "    # required by Huggingface\n",
        "    def get_output_embeddings(self):\n",
        "        return self.head\n",
        "\n",
        "    # required by Huggingface\n",
        "    def prepare_inputs_for_generation(self,\n",
        "                                      input_ids,\n",
        "                                      enc_out,\n",
        "                                      enc_pad_mask,\n",
        "                                      **kwargs):\n",
        "        # prepare the inputs for the forward function\n",
        "        return {\n",
        "            'input_ids': input_ids,\n",
        "            'enc_out': enc_out,\n",
        "            'enc_pad_mask': enc_pad_mask,\n",
        "        }"
      ],
      "execution_count": 29,
      "outputs": []
    },
    {
      "cell_type": "code",
      "metadata": {
        "id": "L8nJhoaLbX3w",
        "colab": {
          "base_uri": "https://localhost:8080/"
        },
        "outputId": "97532887-164e-4782-b8fa-b30a5a09f295"
      },
      "source": [
        "dec = NameDecoder(conf)\n",
        "\n",
        "x, y = next(itr)\n",
        "print('y:', y.shape)\n",
        "out = dec.forward(\n",
        "    y,\n",
        "    enc_out=enc_out['last_hidden_state'],\n",
        "    enc_pad_mask=enc_out['pad_mask'],\n",
        "    labels=y,\n",
        ")\n",
        "print('loss:', out['loss'])\n",
        "print('logits:', out['logits'].shape)"
      ],
      "execution_count": 30,
      "outputs": [
        {
          "output_type": "stream",
          "name": "stdout",
          "text": [
            "y: torch.Size([2, 10])\n",
            "loss: tensor(3.4628, grad_fn=<NllLossBackward0>)\n",
            "logits: torch.Size([2, 10, 36])\n"
          ]
        }
      ]
    },
    {
      "cell_type": "markdown",
      "metadata": {
        "id": "SBc2b6Lqbc0K"
      },
      "source": [
        "## Combine both encoder and decoder"
      ]
    },
    {
      "cell_type": "code",
      "metadata": {
        "id": "7uuHTIGDbbbW"
      },
      "source": [
        "class NameEncoderDecoder(nn.Module):\n",
        "    \"\"\"combine both encoder and decoder\"\"\"\n",
        "    def __init__(self, conf):\n",
        "        super().__init__()\n",
        "        self.conf = conf\n",
        "        self.enc = NameEncoder(conf)\n",
        "        self.dec = NameDecoder(conf)\n",
        "\n",
        "    def forward(self, input_ids, labels):\n",
        "        \"\"\"\n",
        "        Args:\n",
        "            input_ids: long tensor (n, t1) name in thai\n",
        "            labels: long tensor (n, t2) name in eng (target)\n",
        "        \"\"\"\n",
        "        enc_out = self.enc.forward(input_ids=input_ids)\n",
        "        dec_out = self.dec.forward(\n",
        "            input_ids=labels,\n",
        "            enc_out=enc_out['last_hidden_state'],\n",
        "            enc_pad_mask=enc_out['pad_mask'],\n",
        "            labels=labels,\n",
        "        )\n",
        "        return dec_out\n",
        "\n",
        "    def predict(\n",
        "            self,\n",
        "            input_ids,\n",
        "            tokenizer_en,\n",
        "    ):\n",
        "        \"\"\"generate without teacher forcing\"\"\"\n",
        "        device = input_ids.device\n",
        "        bs = len(input_ids)\n",
        "        self.eval()  # Set model to evaluation mode\n",
        "        with torch.no_grad():\n",
        "            # encode\n",
        "            enc_out = self.enc.forward(input_ids=input_ids)\n",
        "            # for generation, we need to input only the <bos> tokens\n",
        "            input_ids = torch.LongTensor(bs, 1).fill_(\n",
        "                tokenizer_en.bos_token_id).to(device)\n",
        "\n",
        "            # predict (by Huggingface)\n",
        "            pred = self.dec.generate(\n",
        "                input_ids=input_ids,\n",
        "                max_length=self.conf.max_len,\n",
        "                num_beams=1,\n",
        "                bos_token_id=tokenizer_en.bos_token_id,\n",
        "                eos_token_id=tokenizer_en.eos_token_id,\n",
        "                pad_token_id=tokenizer_en.pad_token_id,\n",
        "                enc_out=enc_out['last_hidden_state'],\n",
        "                enc_pad_mask=enc_out['pad_mask'],\n",
        "            )\n",
        "        # decode\n",
        "        pred = tokenizer_en.decode_batch(pred, skip_special_tokens=True)\n",
        "        return pred\n",
        "\n",
        "    def eval_forward(self, input_ids, labels, tokenizer_en):\n",
        "        \"\"\"forward without teacher forcing\"\"\"\n",
        "        pred = self.predict(input_ids=input_ids,\n",
        "                            tokenizer_en=tokenizer_en)\n",
        "        ref = tokenizer_en.decode_batch(labels, skip_special_tokens=True)\n",
        "        # output as strings\n",
        "        return {'reference': ref, 'prediction': pred}"
      ],
      "execution_count": 31,
      "outputs": []
    },
    {
      "cell_type": "code",
      "metadata": {
        "id": "oqpkpJWMbgM4",
        "colab": {
          "base_uri": "https://localhost:8080/"
        },
        "outputId": "8c5d45ef-0cf9-47d6-829f-aaeca5dfb1a8"
      },
      "source": [
        "enc_dec = NameEncoderDecoder(conf)\n",
        "\n",
        "x, y = next(itr)\n",
        "out = enc_dec.forward(\n",
        "    input_ids=x,\n",
        "    labels=y,\n",
        ")\n",
        "print('loss:', out['loss'])\n",
        "print('logits:', out['logits'].shape)\n",
        "\n",
        "pred = enc_dec.predict(x, tokenizer_en)\n",
        "print('prediction:', pred) # gibberish"
      ],
      "execution_count": 32,
      "outputs": [
        {
          "output_type": "stream",
          "name": "stdout",
          "text": [
            "loss: tensor(3.8543, grad_fn=<NllLossBackward0>)\n",
            "logits: torch.Size([2, 9, 36])\n",
            "prediction: ['.).)qjqjqrqrq', '.qjqjqjqjqjqjqjqjqj']\n"
          ]
        }
      ]
    },
    {
      "cell_type": "markdown",
      "metadata": {
        "id": "9i33lCOvbkIa"
      },
      "source": [
        "# (6) Training"
      ]
    },
    {
      "cell_type": "markdown",
      "metadata": {
        "id": "SJM6HTLPbkNI"
      },
      "source": [
        "## (TODO) Define Evaluation method (metric)"
      ]
    },
    {
      "cell_type": "code",
      "metadata": {
        "id": "SsXpGKtfboEK"
      },
      "source": [
        "from nltk.translate.bleu_score import sentence_bleu\n",
        "import editdistance\n",
        "\n",
        "def exact_match(Pred, Y):\n",
        "    score = 0\n",
        "    for pred, y in zip(Pred, Y):\n",
        "        score += pred == y\n",
        "    score /= len(Y)\n",
        "    return score\n",
        "\n",
        "##########################\n",
        "# DEFINE YOUR METRICS HERE\n",
        "# AND TEST THEM BELOW\n",
        "##########################\n",
        "def other_metric(Pred, Y):\n",
        "  score = 0\n",
        "  for pred, y in zip(Pred, Y):\n",
        "      score += sentence_bleu([list(y)], list(pred))\n",
        "  score /= len(Y)\n",
        "  return score\n",
        "def other_metric2(Pred, Y):\n",
        "  def cer(pred, ref):\n",
        "      return editdistance.eval(pred, ref) / len(ref)\n",
        "\n",
        "  score = 0\n",
        "  for pred, y in zip(Pred, Y):\n",
        "      score += cer(pred, y)\n",
        "  score /= len(Y)\n",
        "  return score\n"
      ],
      "execution_count": 73,
      "outputs": []
    },
    {
      "cell_type": "markdown",
      "metadata": {
        "id": "J9Zgr_37bsuo"
      },
      "source": [
        "Test your metrics:"
      ]
    },
    {
      "cell_type": "code",
      "metadata": {
        "id": "iAhMcOC1bpr3",
        "colab": {
          "base_uri": "https://localhost:8080/"
        },
        "outputId": "8f7c0a89-d55c-4a8e-f77b-e3ef91e18e03"
      },
      "source": [
        "Pred = [\n",
        "    'abc',\n",
        "    'def',\n",
        "]\n",
        "Y = [\n",
        "    'abc',\n",
        "    'deg',\n",
        "]\n",
        "exact_match(Pred, Y)"
      ],
      "execution_count": 50,
      "outputs": [
        {
          "output_type": "execute_result",
          "data": {
            "text/plain": [
              "0.5"
            ]
          },
          "metadata": {},
          "execution_count": 50
        }
      ]
    },
    {
      "cell_type": "code",
      "metadata": {
        "id": "iuAxB0e1bvB_"
      },
      "source": [
        "# Training loop\n",
        "from trainer.start import *\n",
        "\n",
        "class Trainer(BaseTrainer):\n",
        "    \"\"\"for training the model, here we just need to define the forward pass\"\"\"\n",
        "    def forward_pass(self, data, **kwargs):\n",
        "        x, y = data\n",
        "        out = self.net.forward(input_ids=x, labels=y)\n",
        "        return {\n",
        "            'loss': out['loss'],\n",
        "            'n': len(x),\n",
        "        }\n",
        "\n",
        "class Evaluator(ValidatePredictor):\n",
        "    \"\"\"for evaluating the model's generation performance,\n",
        "    the results will show in the output statistics.\"\"\"\n",
        "    @torch.no_grad()\n",
        "    def forward_pass(self, data, **kwargs):\n",
        "        x, y = data\n",
        "        with set_mode(self.trainer.net, 'eval'):\n",
        "            out = self.trainer.net.eval_forward(input_ids=x,\n",
        "                                                labels=y,\n",
        "                                                tokenizer_en=tokenizer_en)\n",
        "\n",
        "        # collect the prediction of each batch\n",
        "        # keep them as one big list\n",
        "        self.buffer['reference'] += out['reference']\n",
        "        self.buffer['prediction'] += out['prediction']\n",
        "\n",
        "    def predict(self, loader: DataLoader):\n",
        "        self.looper.loop(loader, n_max_itr=len(loader))\n",
        "\n",
        "        Pred = self.buffer['prediction']\n",
        "        Y = self.buffer['reference']\n",
        "\n",
        "        return {\n",
        "            'exact_match': exact_match(Pred, Y),\n",
        "            #####################\n",
        "            # PUT YOU METRIC HERE\n",
        "            #####################\n",
        "            'BLEU':other_metric(Pred, Y),\n",
        "            'CER':other_metric2(Pred, Y)\n",
        "        }"
      ],
      "execution_count": 74,
      "outputs": []
    },
    {
      "cell_type": "code",
      "metadata": {
        "id": "ATLnPfzXb3jq"
      },
      "source": [
        "torch.set_num_threads(1)\n",
        "\n",
        "\n",
        "def train(conf, n_ep, lr, bs, pretrain=False, autoresume=False):\n",
        "    \"\"\"\n",
        "    Args:\n",
        "        conf: config\n",
        "        n_ep: number of epochs\n",
        "        lr: learning rate\n",
        "        bs: batch size\n",
        "        autoresume: whether to resume?\n",
        "            If you see errors try setting it to false, run it, then set it back to true\n",
        "    \"\"\"\n",
        "    name = f'{conf.name}-lr{lr}-bs{bs}'\n",
        "    if pretrain:\n",
        "        name += '-pretrain'\n",
        "    print('running:', name)\n",
        "\n",
        "    def make_loader(data, shuffle, bs):\n",
        "        return ConvertLoader(\n",
        "            DataLoader(data,\n",
        "                       batch_size=bs,\n",
        "                       shuffle=shuffle,\n",
        "                       collate_fn=Collator(tokenizer_th, tokenizer_en),\n",
        "                       num_workers=1), device)\n",
        "\n",
        "    device = 'cuda'\n",
        "    train_loader = make_loader(train_data, shuffle=True, bs=bs)\n",
        "    val_loader = make_loader(val_data, shuffle=False, bs=bs)\n",
        "    test_loader = make_loader(test_data, shuffle=False, bs=bs)\n",
        "\n",
        "    def make_net():\n",
        "        net = NameEncoderDecoder(conf)\n",
        "        if pretrain:\n",
        "            state = torch.load('pretrain.pkl')\n",
        "            net.load_state_dict(state)\n",
        "        return net\n",
        "\n",
        "    def make_opt(net):\n",
        "        return optim.Adam(net.parameters(), lr=lr)\n",
        "\n",
        "    # callbacks = additional things\n",
        "    cb = Trainer.make_default_callbacks() + [\n",
        "        # clip gradient\n",
        "        GradientClipCb(clip_norm=1),\n",
        "        # report loss moving average\n",
        "        MovingAvgCb(['loss']),\n",
        "        # validate loss\n",
        "        ValidateCb(\n",
        "            val_loader,\n",
        "            callbacks=AvgCb('loss'),\n",
        "            name='val',\n",
        "            n_ep_cycle=5,  # runs every 5 epochs\n",
        "            on_end=True,\n",
        "        ),\n",
        "        # validate\n",
        "        ValidateCb(\n",
        "            val_loader,\n",
        "            n_ep_cycle=10,  # runs every 10 epochs\n",
        "            name='val',\n",
        "            on_end=True,\n",
        "            predictor_cls=Evaluator),\n",
        "        # test\n",
        "        ValidateCb(\n",
        "            test_loader,\n",
        "            name='test',\n",
        "            n_ep_cycle=10,  # runs every 10 epochs\n",
        "            on_end=True,\n",
        "            predictor_cls=Evaluator),\n",
        "        # autosave, resuming\n",
        "        AutoResumeCb(\n",
        "            f'save/{name}',\n",
        "            resume=autoresume,\n",
        "            keep_best=True,\n",
        "            ##############################\n",
        "            # YOU MAY CHANGE THIS!\n",
        "            # what metric you use for selecting the best model?\n",
        "            metric='val_loss',\n",
        "            metric_best='min', # 'min' or 'max'\n",
        "            n_ep_cycle=5, # what's the cycle of metric\n",
        "            ##############################\n",
        "            return_best_model=True, # automatically returns the best model\n",
        "        ),\n",
        "        StopAnyTimeCb(),\n",
        "    ]\n",
        "\n",
        "    # define the trainer\n",
        "    trainer = Trainer(make_net, make_opt, device=device, callbacks=cb)\n",
        "    # train\n",
        "    df = trainer.train(\n",
        "        train_loader,\n",
        "        n_max_ep=n_ep,\n",
        "    )\n",
        "\n",
        "    # put the network to cpu\n",
        "    trainer.net.cpu()\n",
        "\n",
        "    return {\n",
        "        'name': name,\n",
        "        'df': df,\n",
        "        'trainer': trainer,\n",
        "        'net': trainer.net,\n",
        "    }"
      ],
      "execution_count": 59,
      "outputs": []
    },
    {
      "cell_type": "markdown",
      "metadata": {
        "id": "wWQNausDb9QN"
      },
      "source": [
        "# (TODO) Run experiments"
      ]
    },
    {
      "cell_type": "code",
      "metadata": {
        "id": "AIcAE_iZb6ej"
      },
      "source": [
        "results = {}"
      ],
      "execution_count": 121,
      "outputs": []
    },
    {
      "cell_type": "code",
      "metadata": {
        "id": "ZOtCdZJFcBB4",
        "colab": {
          "base_uri": "https://localhost:8080/",
          "height": 154,
          "referenced_widgets": [
            "154fca5c01c84db7a398d2c0525fed3c",
            "369f58c7d6574c99a6cc26d8d4e76d84",
            "d75dda31f29f40b395185d9d01d2e68f",
            "5e1a71cd97dc4333a2dfce6ad510eb8d",
            "0c0df5fd79f74243ac6f10d9350d61c5",
            "5540637dd2024f17917b141da7fc8204",
            "11125f684942438289ae9eeb04f4a6d8",
            "716f81cefcaf4a93bd0531ddca462395",
            "415170d95b7f4c3b97c877a4474a91a7",
            "9c6a26b7ca9f4f378d15d134d9b3bbf6",
            "8c4a4b593e7d42029e985282e6945794"
          ]
        },
        "outputId": "0cb28bd2-2588-43e6-f9e7-866162adc4b1"
      },
      "source": [
        "# run and keep the results\n",
        "res = train(\n",
        "        Config(\n",
        "            vocab_size_enc=len(tokenizer_th),\n",
        "            vocab_size_dec=len(tokenizer_en),\n",
        "            max_len=40, # > 15, just in case\n",
        "            pad_token_id_enc=tokenizer_th.pad_token_id,\n",
        "            pad_token_id_dec=tokenizer_en.pad_token_id,\n",
        "            n_hid=128,\n",
        "            n_head=8,\n",
        "            n_ff=2048,\n",
        "            dropout=0.1,\n",
        "            n_layer=6,\n",
        "        ),\n",
        "        n_ep = 30,\n",
        "        lr= 1e-4,\n",
        "        bs = 128,\n",
        "        pretrain=False,\n",
        "        autoresume=False, # see errors? try setting it to false\n",
        "    )\n",
        "results[res['name']] = res\n",
        "\n",
        "print('results:', list(results.keys()))"
      ],
      "execution_count": 128,
      "outputs": [
        {
          "output_type": "stream",
          "name": "stdout",
          "text": [
            "running: 128hid-8head-2048ff-0.1drop-6layer-lr0.0001-bs128\n"
          ]
        },
        {
          "output_type": "stream",
          "name": "stderr",
          "text": [
            "/usr/local/lib/python3.11/dist-packages/torch/nn/modules/transformer.py:385: UserWarning: enable_nested_tensor is True, but self.use_nested_tensor is False because encoder_layer.self_attn.batch_first was not True(use batch_first for better inference performance)\n",
            "  warnings.warn(\n"
          ]
        },
        {
          "output_type": "display_data",
          "data": {
            "text/plain": [
              "  0%|          | 0/1650 [00:00<?, ?it/s]"
            ],
            "application/vnd.jupyter.widget-view+json": {
              "version_major": 2,
              "version_minor": 0,
              "model_id": "154fca5c01c84db7a398d2c0525fed3c"
            }
          },
          "metadata": {}
        },
        {
          "output_type": "stream",
          "name": "stdout",
          "text": [
            "results: ['128hid-4head-64ff-0drop-2layer-lr0.001-bs256', '128hid-8head-2048ff-0.1drop-6layer-lr0.0001-bs128']\n"
          ]
        }
      ]
    },
    {
      "cell_type": "markdown",
      "metadata": {
        "id": "cItFLF04cGHM"
      },
      "source": [
        "# (TODO) Compare results"
      ]
    },
    {
      "cell_type": "code",
      "metadata": {
        "id": "9MXUpRwXcDuG",
        "colab": {
          "base_uri": "https://localhost:8080/",
          "height": 790
        },
        "outputId": "7e856625-9468-4f96-db58-513d6ac288d5"
      },
      "source": [
        "nrows = 3\n",
        "ncols = 2\n",
        "fig, ax = plt.subplots(nrows=nrows, ncols=ncols, figsize=(8*ncols, 6*nrows))\n",
        "ax = ax.flatten()\n",
        "\n",
        "def plot(df, key, ax, x='f_ep', **kwargs):\n",
        "    df = df[df[key].notna()]\n",
        "    ax.plot(df[x], df[key], **kwargs)\n",
        "\n",
        "def plot_df(df, label):\n",
        "    ax[0].set_title('loss')\n",
        "    plot(df, 'loss', ax=ax[0], label=label)\n",
        "    ax[0].set_ylim(0, 1)\n",
        "    ax[0].legend()\n",
        "    # plot val loss\n",
        "    ax[1].set_title('val loss')\n",
        "    plot(df, 'val_loss', ax=ax[1], label='val', marker='.')\n",
        "    # plot val exact match\n",
        "    ax[2].set_title('val exact match')\n",
        "    plot(df, 'val_exact_match', ax=ax[2], marker='.')\n",
        "    # plot test exact match\n",
        "    ax[3].set_title('test exact match')\n",
        "    plot(df, 'test_exact_match', ax=ax[3], marker='.')\n",
        "\n",
        "    ax[4].set_title('val CER')\n",
        "    plot(df, 'val_CER', ax=ax[4], marker='.')\n",
        "\n",
        "    ax[5].set_title('test CER')\n",
        "    plot(df, 'test_CER', ax=ax[5], marker='.')\n",
        "\n",
        "# plot each and every run\n",
        "for key in results.keys():\n",
        "    plot_df(results[key]['df'], label=key)"
      ],
      "execution_count": 129,
      "outputs": [
        {
          "output_type": "display_data",
          "data": {
            "text/plain": [
              "<Figure size 1600x1800 with 6 Axes>"
            ],
            "image/png": "[encoded data removed]"
          },
          "metadata": {}
        }
      ]
    },
    {
      "cell_type": "code",
      "metadata": {
        "id": "cW86L3mhcIrH"
      },
      "source": [
        "# Best model performance"
      ],
      "execution_count": 130,
      "outputs": []
    },
    {
      "cell_type": "code",
      "metadata": {
        "id": "w2-gUEyJcJ8n",
        "colab": {
          "base_uri": "https://localhost:8080/"
        },
        "outputId": "024d019f-d93c-4537-bd35-87d5c23d274f"
      },
      "source": [
        "results.keys()"
      ],
      "execution_count": 131,
      "outputs": [
        {
          "output_type": "execute_result",
          "data": {
            "text/plain": [
              "dict_keys(['128hid-4head-64ff-0drop-2layer-lr0.001-bs256', '128hid-8head-2048ff-0.1drop-6layer-lr0.0001-bs128'])"
            ]
          },
          "metadata": {},
          "execution_count": 131
        }
      ]
    },
    {
      "cell_type": "code",
      "metadata": {
        "id": "p8YDtQs3cLa-"
      },
      "source": [
        "best_model_name = '128hid-8head-2048ff-0.1drop-6layer-lr0.0001-bs128'"
      ],
      "execution_count": 132,
      "outputs": []
    },
    {
      "cell_type": "code",
      "metadata": {
        "id": "xp8-GwB2cMsY",
        "colab": {
          "base_uri": "https://localhost:8080/",
          "height": 275,
          "referenced_widgets": [
            "d2b3d23faa54460fa14b7addf6238eb9",
            "57360da7c8034f9d82f7be35e2561f71",
            "16145453ebe146d08ad2421e95095f98",
            "d9be8cdbd07c4d88824034b0bda807ff",
            "132613a4579244f0bf744f7164d57fd3",
            "f58f3592a5554165a2752530011059ec",
            "5d05d207697c47feb3be7626bc5d62db",
            "77c55e3da2dc47afbac00314dd31838a",
            "ce930f6ac56841228a6feabeea8b0f6b",
            "127e33c5d6624fe3a2b64fbdc9f2679e",
            "999758b270b4490d97a810a3c70e43b8"
          ]
        },
        "outputId": "757c3c75-6ee1-4e36-f132-fe8d8cd657bb"
      },
      "source": [
        "# select the model\n",
        "trainer = results[best_model_name]['trainer']\n",
        "evaluator = Evaluator(trainer, callbacks=[ProgressCb('predicting')])\n",
        "# predict\n",
        "test_loader = DataLoader(test_data, batch_size=64, collate_fn=Collator(tokenizer_th, tokenizer_en))\n",
        "evaluator.predict(test_loader)"
      ],
      "execution_count": 133,
      "outputs": [
        {
          "output_type": "display_data",
          "data": {
            "text/plain": [
              "  0%|          | 0/16 [00:00<?, ?it/s]"
            ],
            "application/vnd.jupyter.widget-view+json": {
              "version_major": 2,
              "version_minor": 0,
              "model_id": "d2b3d23faa54460fa14b7addf6238eb9"
            }
          },
          "metadata": {}
        },
        {
          "output_type": "stream",
          "name": "stderr",
          "text": [
            "/usr/local/lib/python3.11/dist-packages/nltk/translate/bleu_score.py:577: UserWarning: \n",
            "The hypothesis contains 0 counts of 3-gram overlaps.\n",
            "Therefore the BLEU score evaluates to 0, independently of\n",
            "how many N-gram overlaps of lower order it contains.\n",
            "Consider using lower n-gram order or use SmoothingFunction()\n",
            "  warnings.warn(_msg)\n",
            "/usr/local/lib/python3.11/dist-packages/nltk/translate/bleu_score.py:577: UserWarning: \n",
            "The hypothesis contains 0 counts of 4-gram overlaps.\n",
            "Therefore the BLEU score evaluates to 0, independently of\n",
            "how many N-gram overlaps of lower order it contains.\n",
            "Consider using lower n-gram order or use SmoothingFunction()\n",
            "  warnings.warn(_msg)\n"
          ]
        },
        {
          "output_type": "execute_result",
          "data": {
            "text/plain": [
              "{'exact_match': 0.867, 'BLEU': 0.9006652985209189, 'CER': 0.03713381479631477}"
            ]
          },
          "metadata": {},
          "execution_count": 133
        }
      ]
    },
    {
      "cell_type": "markdown",
      "metadata": {
        "id": "oBa7Krz-cPoA"
      },
      "source": [
        "# (7) Prediction"
      ]
    },
    {
      "cell_type": "code",
      "metadata": {
        "id": "8mCwwlgYcOsH"
      },
      "source": [
        "net = results[best_model_name]['net']"
      ],
      "execution_count": 134,
      "outputs": []
    },
    {
      "cell_type": "code",
      "metadata": {
        "id": "H2_qDlAkcOup"
      },
      "source": [
        "test_loader = DataLoader(test_data, batch_size=10, collate_fn=Collator(tokenizer_th, tokenizer_en))\n",
        "itr = iter(test_loader)"
      ],
      "execution_count": 135,
      "outputs": []
    },
    {
      "cell_type": "code",
      "metadata": {
        "id": "3USLuYsIcOxs",
        "colab": {
          "base_uri": "https://localhost:8080/"
        },
        "outputId": "b30fb755-729e-4996-f2d8-4051c01945db"
      },
      "source": [
        "X, Y = next(itr)\n",
        "Pred = net.predict(X, tokenizer_en)\n",
        "X = tokenizer_th.decode_batch(X, skip_special_tokens=True)\n",
        "Y = tokenizer_en.decode_batch(Y, skip_special_tokens=True)\n",
        "\n",
        "for x, y, pred in zip(X, Y, Pred):\n",
        "    print('x:', x)\n",
        "    print('y:', y)\n",
        "    print('pred:', pred)\n",
        "    print('---')"
      ],
      "execution_count": 136,
      "outputs": [
        {
          "output_type": "stream",
          "name": "stdout",
          "text": [
            "x: ศักดา\n",
            "y: sakda\n",
            "pred: sakda\n",
            "---\n",
            "x: สุภาพ\n",
            "y: suphap\n",
            "pred: suphap\n",
            "---\n",
            "x: ประนอม\n",
            "y: pranom\n",
            "pred: pranom\n",
            "---\n",
            "x: ชาญวุฒิ\n",
            "y: chanwutthi\n",
            "pred: chanwutthi\n",
            "---\n",
            "x: เลิศศักดิ์\n",
            "y: loetsak\n",
            "pred: loetsak\n",
            "---\n",
            "x: ตูวันอิบราฮีม\n",
            "y: tuwanibarahim\n",
            "pred: tuwaniphimot\n",
            "---\n",
            "x: เตชิษฐ์\n",
            "y: tachoet\n",
            "pred: techit\n",
            "---\n",
            "x: นิคม\n",
            "y: nikhom\n",
            "pred: nikhom\n",
            "---\n",
            "x: ประยงค์\n",
            "y: prayong\n",
            "pred: prayong\n",
            "---\n",
            "x: บุญธรรม\n",
            "y: buntham\n",
            "pred: buntham\n",
            "---\n"
          ]
        }
      ]
    },
    {
      "cell_type": "markdown",
      "metadata": {
        "id": "F3ueuHGdcYmB"
      },
      "source": [
        "# (8) Test your name"
      ]
    },
    {
      "cell_type": "code",
      "metadata": {
        "id": "_qVR6TRZcXuA",
        "colab": {
          "base_uri": "https://localhost:8080/"
        },
        "outputId": "24e53390-e41a-4786-8a58-d6e9ff43a5b8"
      },
      "source": [
        "th_name = 'อิทธิกร'\n",
        "x = [tokenizer_th.encode(th_name)] # batchify\n",
        "x = torch.LongTensor(x) # convert to tensor\n",
        "print(net.predict(x, tokenizer_en)) # predict"
      ],
      "execution_count": 137,
      "outputs": [
        {
          "output_type": "stream",
          "name": "stdout",
          "text": [
            "['itthikon']\n"
          ]
        }
      ]
    },
    {
      "cell_type": "markdown",
      "metadata": {
        "id": "0Dzw2L3scfgM"
      },
      "source": [
        "# Your job\n",
        "\n",
        "## Why cross-entroy and exact match might not be good metrics for this task?\n",
        "\n",
        "- Cross entropy is too sensitive to minor errors and exact match is too strict\n",
        "\n",
        "## In your opinion, what is the \"right\" metric for this task?\n",
        "- CER (Character Error Rate) measure the percentage of characters that are incorrect in predicted translation compared to referenced translation\n",
        "\n",
        "- Propose your own metric and **justify your answer**\n",
        "\n",
        "## What is your recipe for training this network?\n",
        "\n",
        "- There are some hyperparameters worth tuning:\n",
        "    - `n_head`\n",
        "    - `n_layer`\n",
        "    - `n_ff`\n",
        "    - `dropout`\n",
        "    - `n_ep` = how long to run\n",
        "    - `lr` = learning rate\n",
        "    - `bs` = batch size\n",
        "- Finally, conclude your best results, with **your own metric**.\n",
        "\n",
        "**Write this as a report in PDF.**\n",
        "Include the screeenshots\n",
        "\n",
        "- Result of the best model.\n",
        "- Implementation of your metric\n",
        "\n"
      ]
    },
    {
      "cell_type": "code",
      "metadata": {
        "id": "lHNKq7wMHPPq"
      },
      "source": [],
      "execution_count": null,
      "outputs": []
    }
  ]
}