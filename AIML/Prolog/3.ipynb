{
 "cells": [
  {
   "cell_type": "code",
   "execution_count": 1,
   "metadata": {},
   "outputs": [],
   "source": [
    "from pyswip import Prolog, registerForeign\n",
    "prolog = Prolog()"
   ]
  },
  {
   "cell_type": "code",
   "execution_count": 2,
   "metadata": {},
   "outputs": [],
   "source": [
    "prolog.assertz(\"man(marcus)\")\n",
    "prolog.assertz(\"pompeian(marcus)\")\n",
    "prolog.assertz(\"roman(X) :- pompeian(X)\")\n",
    "prolog.assertz(\"ruler(caesar)\")\n",
    "prolog.assertz(\"loyal_to(X, caesar) :- roman(X), \\+ hates(X, caesar)\")\n",
    "prolog.assertz(\"hate(X, Y) :- man(X), ruler(Y), tryassassinate(X, Y)\")\n",
    "prolog.assertz(\"loyalto(X, f1(X))\")\n",
    "prolog.assertz(\"tryassassinate(marcus, caesar)\")"
   ]
  },
  {
   "cell_type": "code",
   "execution_count": 4,
   "metadata": {},
   "outputs": [
    {
     "name": "stdout",
     "output_type": "stream",
     "text": [
      "Does Marcus hate Caesar? True\n"
     ]
    }
   ],
   "source": [
    "result = list(prolog.query(\"hate(marcus, caesar)\"))\n",
    "print(\"Does Marcus hate Caesar?\", bool(result))"
   ]
  }
 ],
 "metadata": {
  "kernelspec": {
   "display_name": "Python 3",
   "language": "python",
   "name": "python3"
  },
  "language_info": {
   "codemirror_mode": {
    "name": "ipython",
    "version": 3
   },
   "file_extension": ".py",
   "mimetype": "text/x-python",
   "name": "python",
   "nbconvert_exporter": "python",
   "pygments_lexer": "ipython3",
   "version": "3.11.9"
  }
 },
 "nbformat": 4,
 "nbformat_minor": 2
}
