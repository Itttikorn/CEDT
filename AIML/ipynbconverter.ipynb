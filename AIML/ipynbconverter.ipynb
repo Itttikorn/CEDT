{
 "cells": [
  {
   "cell_type": "code",
   "execution_count": 10,
   "id": "7327ef1a",
   "metadata": {},
   "outputs": [],
   "source": [
    "import json\n",
    "\n",
    "def remove_widget_state(ipynb_file):\n",
    "    with open(ipynb_file, 'r', encoding='utf-8') as f:\n",
    "        notebook_data = json.load(f)\n",
    "\n",
    "    # Remove \"widgets\" key from the \"metadata\" section if it exists\n",
    "    if \"metadata\" in notebook_data and \"widgets\" in notebook_data[\"metadata\"]:\n",
    "        del notebook_data[\"metadata\"][\"widgets\"]\n",
    "\n",
    "    # Write the updated notebook back to the file\n",
    "    with open(ipynb_file, 'w', encoding='utf-8') as f:\n",
    "        json.dump(notebook_data, f, indent=2)\n",
    "\n",
    "# Example usage\n",
    "remove_widget_state(\"ipynbfile.json\")"
   ]
  }
 ],
 "metadata": {
  "kernelspec": {
   "display_name": "Python 3",
   "language": "python",
   "name": "python3"
  },
  "language_info": {
   "codemirror_mode": {
    "name": "ipython",
    "version": 3
   },
   "file_extension": ".py",
   "mimetype": "text/x-python",
   "name": "python",
   "nbconvert_exporter": "python",
   "pygments_lexer": "ipython3",
   "version": "3.13.3"
  }
 },
 "nbformat": 4,
 "nbformat_minor": 5
}
