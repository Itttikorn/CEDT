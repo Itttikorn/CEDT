{
  "cells": [
    {
      "cell_type": "markdown",
      "metadata": {
        "id": "6RyqARXkWqHo"
      },
      "source": [
        "#Recommandation System"
      ]
    },
    {
      "cell_type": "markdown",
      "metadata": {
        "id": "ouIvMZn4WomD"
      },
      "source": [
        "In this project, we aim to build a personalized recommendation system using the Amazon Books Reviews dataset, a large-scale collection of user-generated content and interaction records from the Amazon platform. This dataset captures valuable insights into user preferences and reading behaviors by compiling a vast number of book reviews submitted by Amazon users over time.\n",
        "https://www.kaggle.com/datasets/mohamedbakhet/amazon-books-reviews\n"
      ]
    },
    {
      "cell_type": "code",
      "execution_count": 1,
      "metadata": {
        "id": "fR15lGxT5BRn"
      },
      "outputs": [],
      "source": [
        "# !pip install sentence-transformers"
      ]
    },
    {
      "cell_type": "markdown",
      "metadata": {
        "id": "Sji1iC-_d9yG"
      },
      "source": [
        "# Data Preparation"
      ]
    },
    {
      "cell_type": "markdown",
      "metadata": {
        "id": "N1hnRghAXINh"
      },
      "source": [
        "The dataset is structured into two main files:\n",
        "\n",
        "Books_data: This file contains detailed information about each book, including the book's title, author, publication details, and sometimes a summary or description. This serves as the content information for content-based recommendation approaches.\n",
        "\n",
        "Book_rating: This file records the interaction data between users and books. It includes the user ID, book ID, numerical ratings (typically on a scale of 1 to 5), and occasionally timestamps or review text. This file provides the core data for collaborative filtering techniques, as it reflects user preferences based on previous ratings."
      ]
    },
    {
      "cell_type": "code",
      "execution_count": 2,
      "metadata": {
        "id": "kBgmhaMBwinY"
      },
      "outputs": [],
      "source": [
        "import pandas as pd\n",
        "import numpy as np\n",
        "\n",
        "import kagglehub\n",
        "from kagglehub import KaggleDatasetAdapter\n",
        "pd.options.mode.chained_assignment = None"
      ]
    },
    {
      "cell_type": "code",
      "execution_count": 3,
      "metadata": {
        "id": "X2KrM-QYv2XT"
      },
      "outputs": [],
      "source": [
        "# Load the latest version\n",
        "# books_rating = kagglehub.load_dataset(\n",
        "#   KaggleDatasetAdapter.PANDAS,\n",
        "#   \"mohamedbakhet/amazon-books-reviews\",\n",
        "#   \"Books_rating.csv\",\n",
        "#   # Provide any additional arguments like\n",
        "#   # sql_query or pandas_kwargs. See the\n",
        "#   # documenation for more information:\n",
        "#   # https://github.com/Kaggle/kagglehub/blob/main/README.md#kaggledatasetadapterpandas\n",
        "# )\n",
        "\n",
        "# Load the latest version\n",
        "# books_data = kagglehub.load_dataset(\n",
        "#   KaggleDatasetAdapter.PANDAS,\n",
        "#   \"mohamedbakhet/amazon-books-reviews\",\n",
        "#   \"books_data.csv\",\n",
        "#   # Provide any additional arguments like\n",
        "#   # sql_query or pandas_kwargs. See the\n",
        "#   # documenation for more information:\n",
        "#   # https://github.com/Kaggle/kagglehub/blob/main/README.md#kaggledatasetadapterpandas\n",
        "# )\n",
        "\n",
        "books_rating = pd.read_csv(\"Books_rating.csv\")\n",
        "books_data = pd.read_csv(\"books_data.csv\")\n"
      ]
    },
    {
      "cell_type": "markdown",
      "metadata": {
        "id": "23JuLvBEozfx"
      },
      "source": [
        "## Clean"
      ]
    },
    {
      "cell_type": "markdown",
      "metadata": {
        "id": "tqG8-4ZPXa3p"
      },
      "source": [
        "Since the original dataset is very large and diverse, it can be challenging to work with directly, especially for tasks focused on learning the basic principles of recommendation systems. To make the problem more manageable and easier to interpret, we apply a series of data filtering steps aimed at reducing complexity while preserving meaningful structure."
      ]
    },
    {
      "cell_type": "code",
      "execution_count": 4,
      "metadata": {
        "id": "ZoQX9cLioxVg"
      },
      "outputs": [],
      "source": [
        "import ast\n",
        "from collections import Counter\n",
        "\n",
        "# Assuming books_data is your DataFrame\n",
        "books_data = books_data.dropna()\n",
        "books_data['categories'] = books_data['categories'].apply(ast.literal_eval)"
      ]
    },
    {
      "cell_type": "markdown",
      "metadata": {
        "id": "H2BWd58gXihj"
      },
      "source": [
        "First, we identify the top-level categories (or genres) that have a substantial number of books. Specifically, we select only those categories that contain more than 500 books, ensuring that we focus on well-represented and popular genres where meaningful recommendations can be made."
      ]
    },
    {
      "cell_type": "code",
      "execution_count": 5,
      "metadata": {
        "id": "BKGrpckJpj5l"
      },
      "outputs": [
        {
          "data": {
            "text/html": [
              "<div>\n",
              "<style scoped>\n",
              "    .dataframe tbody tr th:only-of-type {\n",
              "        vertical-align: middle;\n",
              "    }\n",
              "\n",
              "    .dataframe tbody tr th {\n",
              "        vertical-align: top;\n",
              "    }\n",
              "\n",
              "    .dataframe thead th {\n",
              "        text-align: right;\n",
              "    }\n",
              "</style>\n",
              "<table border=\"1\" class=\"dataframe\">\n",
              "  <thead>\n",
              "    <tr style=\"text-align: right;\">\n",
              "      <th></th>\n",
              "      <th>Title</th>\n",
              "      <th>description</th>\n",
              "      <th>authors</th>\n",
              "      <th>image</th>\n",
              "      <th>previewLink</th>\n",
              "      <th>publisher</th>\n",
              "      <th>publishedDate</th>\n",
              "      <th>infoLink</th>\n",
              "      <th>categories</th>\n",
              "      <th>ratingsCount</th>\n",
              "    </tr>\n",
              "  </thead>\n",
              "  <tbody>\n",
              "    <tr>\n",
              "      <th>5</th>\n",
              "      <td>The Church of Christ: A Biblical Ecclesiology ...</td>\n",
              "      <td>In The Church of Christ: A Biblical Ecclesiolo...</td>\n",
              "      <td>['Everett Ferguson']</td>\n",
              "      <td>http://books.google.com/books/content?id=kVqRa...</td>\n",
              "      <td>http://books.google.nl/books?id=kVqRaiPlx88C&amp;p...</td>\n",
              "      <td>Wm. B. Eerdmans Publishing</td>\n",
              "      <td>1996</td>\n",
              "      <td>http://books.google.nl/books?id=kVqRaiPlx88C&amp;d...</td>\n",
              "      <td>[Religion]</td>\n",
              "      <td>5.0</td>\n",
              "    </tr>\n",
              "    <tr>\n",
              "      <th>31</th>\n",
              "      <td>Voices from the Farm: Adventures in Community ...</td>\n",
              "      <td>Twenty-five years ago, at the height of the co...</td>\n",
              "      <td>['Rupert Fike']</td>\n",
              "      <td>http://books.google.com/books/content?id=IjTAB...</td>\n",
              "      <td>http://books.google.nl/books?id=IjTABgAAQBAJ&amp;p...</td>\n",
              "      <td>Book Publishing Company</td>\n",
              "      <td>2012-08-21</td>\n",
              "      <td>https://play.google.com/store/books/details?id...</td>\n",
              "      <td>[Biography &amp; Autobiography]</td>\n",
              "      <td>1.0</td>\n",
              "    </tr>\n",
              "    <tr>\n",
              "      <th>33</th>\n",
              "      <td>The Battleship Bismarck</td>\n",
              "      <td>The Bismarck is perhaps the most famous – and ...</td>\n",
              "      <td>['Stefan Draminski']</td>\n",
              "      <td>http://books.google.com/books/content?id=nxttD...</td>\n",
              "      <td>http://books.google.nl/books?id=nxttDwAAQBAJ&amp;p...</td>\n",
              "      <td>Bloomsbury Publishing</td>\n",
              "      <td>2018-09-20</td>\n",
              "      <td>https://play.google.com/store/books/details?id...</td>\n",
              "      <td>[History]</td>\n",
              "      <td>1.0</td>\n",
              "    </tr>\n",
              "    <tr>\n",
              "      <th>42</th>\n",
              "      <td>Tess and the Highlander</td>\n",
              "      <td>In 1543, on a windswept isle off of Scotland, ...</td>\n",
              "      <td>['May Mcgoldrick']</td>\n",
              "      <td>http://books.google.com/books/content?id=VmCRS...</td>\n",
              "      <td>http://books.google.nl/books?id=VmCRSPmY3WkC&amp;d...</td>\n",
              "      <td>Harper Collins</td>\n",
              "      <td>2002-11</td>\n",
              "      <td>http://books.google.nl/books?id=VmCRSPmY3WkC&amp;d...</td>\n",
              "      <td>[Juvenile Fiction]</td>\n",
              "      <td>2.0</td>\n",
              "    </tr>\n",
              "    <tr>\n",
              "      <th>54</th>\n",
              "      <td>Open marriage;: A new life style for couples,</td>\n",
              "      <td>Advocates the importance of individuality in b...</td>\n",
              "      <td>[\"Nena O'Neill\", \"George O'Neill\"]</td>\n",
              "      <td>http://books.google.com/books/content?id=xY2SD...</td>\n",
              "      <td>http://books.google.nl/books?id=xY2SD7v3070C&amp;p...</td>\n",
              "      <td>Rowman &amp; Littlefield</td>\n",
              "      <td>1984</td>\n",
              "      <td>http://books.google.nl/books?id=xY2SD7v3070C&amp;d...</td>\n",
              "      <td>[Family &amp; Relationships]</td>\n",
              "      <td>1.0</td>\n",
              "    </tr>\n",
              "    <tr>\n",
              "      <th>...</th>\n",
              "      <td>...</td>\n",
              "      <td>...</td>\n",
              "      <td>...</td>\n",
              "      <td>...</td>\n",
              "      <td>...</td>\n",
              "      <td>...</td>\n",
              "      <td>...</td>\n",
              "      <td>...</td>\n",
              "      <td>...</td>\n",
              "      <td>...</td>\n",
              "    </tr>\n",
              "    <tr>\n",
              "      <th>212365</th>\n",
              "      <td>The Road Back</td>\n",
              "      <td>The sequel to the masterpiece All Quiet on the...</td>\n",
              "      <td>['Erich Maria Remarque']</td>\n",
              "      <td>http://books.google.com/books/content?id=obZdA...</td>\n",
              "      <td>http://books.google.com/books?id=obZdAAAAQBAJ&amp;...</td>\n",
              "      <td>Random House Trade Paperbacks</td>\n",
              "      <td>1998-01-27</td>\n",
              "      <td>http://books.google.com/books?id=obZdAAAAQBAJ&amp;...</td>\n",
              "      <td>[Fiction]</td>\n",
              "      <td>6.0</td>\n",
              "    </tr>\n",
              "    <tr>\n",
              "      <th>212374</th>\n",
              "      <td>Thin Within</td>\n",
              "      <td>I want to lose weight, but dieting just doesn'...</td>\n",
              "      <td>['Judy Halliday', 'Arthur Halliday']</td>\n",
              "      <td>http://books.google.com/books/content?id=L_YV_...</td>\n",
              "      <td>http://books.google.com/books?id=L_YV_kuQwk8C&amp;...</td>\n",
              "      <td>Thomas Nelson</td>\n",
              "      <td>2005-04-17</td>\n",
              "      <td>https://play.google.com/store/books/details?id...</td>\n",
              "      <td>[Health &amp; Fitness]</td>\n",
              "      <td>9.0</td>\n",
              "    </tr>\n",
              "    <tr>\n",
              "      <th>212394</th>\n",
              "      <td>Final things</td>\n",
              "      <td>Grace's father believes in science and builds ...</td>\n",
              "      <td>['Jenny Offill']</td>\n",
              "      <td>http://books.google.com/books/content?id=UbSFB...</td>\n",
              "      <td>http://books.google.com/books?id=UbSFBAAAQBAJ&amp;...</td>\n",
              "      <td>Vintage</td>\n",
              "      <td>2015-03-17</td>\n",
              "      <td>https://play.google.com/store/books/details?id...</td>\n",
              "      <td>[Fiction]</td>\n",
              "      <td>4.0</td>\n",
              "    </tr>\n",
              "    <tr>\n",
              "      <th>212399</th>\n",
              "      <td>The Orphan Of Ellis Island (Time Travel Advent...</td>\n",
              "      <td>During a school trip to Ellis Island, Dominick...</td>\n",
              "      <td>['Elvira Woodruff']</td>\n",
              "      <td>http://books.google.com/books/content?id=J7M-N...</td>\n",
              "      <td>http://books.google.com/books?id=J7M-NwAACAAJ&amp;...</td>\n",
              "      <td>Scholastic Paperbacks</td>\n",
              "      <td>2000-06-01</td>\n",
              "      <td>http://books.google.com/books?id=J7M-NwAACAAJ&amp;...</td>\n",
              "      <td>[Juvenile Fiction]</td>\n",
              "      <td>2.0</td>\n",
              "    </tr>\n",
              "    <tr>\n",
              "      <th>212402</th>\n",
              "      <td>The Autograph Man</td>\n",
              "      <td>Alex-Li Tandem sells autographs. His business ...</td>\n",
              "      <td>['Zadie Smith']</td>\n",
              "      <td>http://books.google.com/books/content?id=JM6YV...</td>\n",
              "      <td>http://books.google.com/books?id=JM6YVPx_clMC&amp;...</td>\n",
              "      <td>Vintage</td>\n",
              "      <td>2003-08-12</td>\n",
              "      <td>https://play.google.com/store/books/details?id...</td>\n",
              "      <td>[Fiction]</td>\n",
              "      <td>19.0</td>\n",
              "    </tr>\n",
              "  </tbody>\n",
              "</table>\n",
              "<p>29233 rows × 10 columns</p>\n",
              "</div>"
            ],
            "text/plain": [
              "                                                    Title  \\\n",
              "5       The Church of Christ: A Biblical Ecclesiology ...   \n",
              "31      Voices from the Farm: Adventures in Community ...   \n",
              "33                                The Battleship Bismarck   \n",
              "42                                Tess and the Highlander   \n",
              "54          Open marriage;: A new life style for couples,   \n",
              "...                                                   ...   \n",
              "212365                                      The Road Back   \n",
              "212374                                        Thin Within   \n",
              "212394                                       Final things   \n",
              "212399  The Orphan Of Ellis Island (Time Travel Advent...   \n",
              "212402                                  The Autograph Man   \n",
              "\n",
              "                                              description  \\\n",
              "5       In The Church of Christ: A Biblical Ecclesiolo...   \n",
              "31      Twenty-five years ago, at the height of the co...   \n",
              "33      The Bismarck is perhaps the most famous – and ...   \n",
              "42      In 1543, on a windswept isle off of Scotland, ...   \n",
              "54      Advocates the importance of individuality in b...   \n",
              "...                                                   ...   \n",
              "212365  The sequel to the masterpiece All Quiet on the...   \n",
              "212374  I want to lose weight, but dieting just doesn'...   \n",
              "212394  Grace's father believes in science and builds ...   \n",
              "212399  During a school trip to Ellis Island, Dominick...   \n",
              "212402  Alex-Li Tandem sells autographs. His business ...   \n",
              "\n",
              "                                     authors  \\\n",
              "5                       ['Everett Ferguson']   \n",
              "31                           ['Rupert Fike']   \n",
              "33                      ['Stefan Draminski']   \n",
              "42                        ['May Mcgoldrick']   \n",
              "54        [\"Nena O'Neill\", \"George O'Neill\"]   \n",
              "...                                      ...   \n",
              "212365              ['Erich Maria Remarque']   \n",
              "212374  ['Judy Halliday', 'Arthur Halliday']   \n",
              "212394                      ['Jenny Offill']   \n",
              "212399                   ['Elvira Woodruff']   \n",
              "212402                       ['Zadie Smith']   \n",
              "\n",
              "                                                    image  \\\n",
              "5       http://books.google.com/books/content?id=kVqRa...   \n",
              "31      http://books.google.com/books/content?id=IjTAB...   \n",
              "33      http://books.google.com/books/content?id=nxttD...   \n",
              "42      http://books.google.com/books/content?id=VmCRS...   \n",
              "54      http://books.google.com/books/content?id=xY2SD...   \n",
              "...                                                   ...   \n",
              "212365  http://books.google.com/books/content?id=obZdA...   \n",
              "212374  http://books.google.com/books/content?id=L_YV_...   \n",
              "212394  http://books.google.com/books/content?id=UbSFB...   \n",
              "212399  http://books.google.com/books/content?id=J7M-N...   \n",
              "212402  http://books.google.com/books/content?id=JM6YV...   \n",
              "\n",
              "                                              previewLink  \\\n",
              "5       http://books.google.nl/books?id=kVqRaiPlx88C&p...   \n",
              "31      http://books.google.nl/books?id=IjTABgAAQBAJ&p...   \n",
              "33      http://books.google.nl/books?id=nxttDwAAQBAJ&p...   \n",
              "42      http://books.google.nl/books?id=VmCRSPmY3WkC&d...   \n",
              "54      http://books.google.nl/books?id=xY2SD7v3070C&p...   \n",
              "...                                                   ...   \n",
              "212365  http://books.google.com/books?id=obZdAAAAQBAJ&...   \n",
              "212374  http://books.google.com/books?id=L_YV_kuQwk8C&...   \n",
              "212394  http://books.google.com/books?id=UbSFBAAAQBAJ&...   \n",
              "212399  http://books.google.com/books?id=J7M-NwAACAAJ&...   \n",
              "212402  http://books.google.com/books?id=JM6YVPx_clMC&...   \n",
              "\n",
              "                            publisher publishedDate  \\\n",
              "5          Wm. B. Eerdmans Publishing          1996   \n",
              "31            Book Publishing Company    2012-08-21   \n",
              "33              Bloomsbury Publishing    2018-09-20   \n",
              "42                     Harper Collins       2002-11   \n",
              "54               Rowman & Littlefield          1984   \n",
              "...                               ...           ...   \n",
              "212365  Random House Trade Paperbacks    1998-01-27   \n",
              "212374                  Thomas Nelson    2005-04-17   \n",
              "212394                        Vintage    2015-03-17   \n",
              "212399          Scholastic Paperbacks    2000-06-01   \n",
              "212402                        Vintage    2003-08-12   \n",
              "\n",
              "                                                 infoLink  \\\n",
              "5       http://books.google.nl/books?id=kVqRaiPlx88C&d...   \n",
              "31      https://play.google.com/store/books/details?id...   \n",
              "33      https://play.google.com/store/books/details?id...   \n",
              "42      http://books.google.nl/books?id=VmCRSPmY3WkC&d...   \n",
              "54      http://books.google.nl/books?id=xY2SD7v3070C&d...   \n",
              "...                                                   ...   \n",
              "212365  http://books.google.com/books?id=obZdAAAAQBAJ&...   \n",
              "212374  https://play.google.com/store/books/details?id...   \n",
              "212394  https://play.google.com/store/books/details?id...   \n",
              "212399  http://books.google.com/books?id=J7M-NwAACAAJ&...   \n",
              "212402  https://play.google.com/store/books/details?id...   \n",
              "\n",
              "                         categories  ratingsCount  \n",
              "5                        [Religion]           5.0  \n",
              "31      [Biography & Autobiography]           1.0  \n",
              "33                        [History]           1.0  \n",
              "42               [Juvenile Fiction]           2.0  \n",
              "54         [Family & Relationships]           1.0  \n",
              "...                             ...           ...  \n",
              "212365                    [Fiction]           6.0  \n",
              "212374           [Health & Fitness]           9.0  \n",
              "212394                    [Fiction]           4.0  \n",
              "212399           [Juvenile Fiction]           2.0  \n",
              "212402                    [Fiction]          19.0  \n",
              "\n",
              "[29233 rows x 10 columns]"
            ]
          },
          "execution_count": 5,
          "metadata": {},
          "output_type": "execute_result"
        }
      ],
      "source": [
        "# Flatten all categories and count occurrences\n",
        "all_categories = [cat for sublist in books_data['categories'] for cat in sublist]\n",
        "category_counts = Counter(all_categories)\n",
        "\n",
        "sorted_categories = sorted(category_counts.items(), key=lambda x: x[1], reverse=True)\n",
        "unique_categories_sorted = sorted(category_counts.keys())\n",
        "popular_categories = {category for category, count in sorted_categories if count > 500}\n",
        "books_data['categories'] = books_data['categories'].apply(\n",
        "    lambda cats: [cat for cat in cats if cat in popular_categories]\n",
        ")\n",
        "\n",
        "# Now filter the DataFrame to only keep books that have at least one popular category\n",
        "filtered_books = books_data[\n",
        "    books_data['categories'].apply(len) > 0\n",
        "].copy()\n",
        "\n",
        "books_data = filtered_books\n",
        "books_data"
      ]
    },
    {
      "cell_type": "markdown",
      "metadata": {
        "id": "YM4mCwrlepmQ"
      },
      "source": [
        "## get only 10000 sample of book for this Homework"
      ]
    },
    {
      "cell_type": "markdown",
      "metadata": {
        "id": "2afCsI1qXnLo"
      },
      "source": [
        "After filtering by category, we then randomly sample 10,000 books from this subset. This step balances dataset size and diversity, making it more suitable for prototyping and educational purposes, while still retaining enough data for both content-based and interaction-based modeling."
      ]
    },
    {
      "cell_type": "code",
      "execution_count": 6,
      "metadata": {
        "id": "rk24Hunaeoai"
      },
      "outputs": [],
      "source": [
        "books_data = books_data.sample(n=10000, random_state=42)\n",
        "books_rating = books_rating[books_rating['Title'].isin(books_data['Title'])]"
      ]
    },
    {
      "cell_type": "markdown",
      "metadata": {
        "id": "QFYEEMo2em0o"
      },
      "source": [
        "## turn unix time to datetime format"
      ]
    },
    {
      "cell_type": "code",
      "execution_count": 7,
      "metadata": {
        "id": "1p4JMJBld4wF"
      },
      "outputs": [],
      "source": [
        "# Convert Unix time to datetime\n",
        "books_rating['datetime'] = pd.to_datetime(books_rating['review/time'], unit='s')\n",
        "\n",
        "# Extract year to a new column\n",
        "books_rating['year'] = books_rating['datetime'].dt.year"
      ]
    },
    {
      "cell_type": "markdown",
      "metadata": {
        "id": "wa-ml54h2aNy"
      },
      "source": [
        "## Drop null user, rating"
      ]
    },
    {
      "cell_type": "code",
      "execution_count": 8,
      "metadata": {
        "id": "WdNjn_GV2Xet"
      },
      "outputs": [],
      "source": [
        "books_rating.dropna(subset=['User_id', 'review/score'], inplace=True)\n",
        "books_rating.drop(columns=['Price', 'profileName', 'review/helpfulness', 'review/time', 'review/summary', 'review/text'], inplace=True)\n",
        "\n",
        "books_rating = books_rating.sort_values(['User_id', 'Title', 'datetime'], ascending=[True, True, False])\n",
        "books_rating.drop_duplicates(subset=['Title', 'User_id'], inplace=True)"
      ]
    },
    {
      "cell_type": "code",
      "execution_count": 9,
      "metadata": {
        "id": "OLvB96Iw7vAL"
      },
      "outputs": [],
      "source": [
        "books_rating['User_id'] = pd.factorize(books_rating['User_id'])[0]"
      ]
    },
    {
      "cell_type": "code",
      "execution_count": 10,
      "metadata": {
        "id": "JRPjRwvuya8C"
      },
      "outputs": [
        {
          "data": {
            "text/html": [
              "<div>\n",
              "<style scoped>\n",
              "    .dataframe tbody tr th:only-of-type {\n",
              "        vertical-align: middle;\n",
              "    }\n",
              "\n",
              "    .dataframe tbody tr th {\n",
              "        vertical-align: top;\n",
              "    }\n",
              "\n",
              "    .dataframe thead th {\n",
              "        text-align: right;\n",
              "    }\n",
              "</style>\n",
              "<table border=\"1\" class=\"dataframe\">\n",
              "  <thead>\n",
              "    <tr style=\"text-align: right;\">\n",
              "      <th></th>\n",
              "      <th>Id</th>\n",
              "      <th>Title</th>\n",
              "      <th>User_id</th>\n",
              "      <th>review/score</th>\n",
              "      <th>datetime</th>\n",
              "      <th>year</th>\n",
              "    </tr>\n",
              "  </thead>\n",
              "  <tbody>\n",
              "    <tr>\n",
              "      <th>1190823</th>\n",
              "      <td>0767908392</td>\n",
              "      <td>The Queen of Harlem: A Novel</td>\n",
              "      <td>0</td>\n",
              "      <td>5.0</td>\n",
              "      <td>2013-02-20</td>\n",
              "      <td>2013</td>\n",
              "    </tr>\n",
              "    <tr>\n",
              "      <th>2290392</th>\n",
              "      <td>B000KP4BMI</td>\n",
              "      <td>The Window of Larkspur Inn (The Gresham Chroni...</td>\n",
              "      <td>1</td>\n",
              "      <td>5.0</td>\n",
              "      <td>2013-01-17</td>\n",
              "      <td>2013</td>\n",
              "    </tr>\n",
              "    <tr>\n",
              "      <th>2600929</th>\n",
              "      <td>0890512930</td>\n",
              "      <td>Biblical Creationism</td>\n",
              "      <td>2</td>\n",
              "      <td>5.0</td>\n",
              "      <td>2013-01-13</td>\n",
              "      <td>2013</td>\n",
              "    </tr>\n",
              "    <tr>\n",
              "      <th>524186</th>\n",
              "      <td>B000IEZE3G</td>\n",
              "      <td>Harry Potter and The Sorcerer's Stone</td>\n",
              "      <td>3</td>\n",
              "      <td>5.0</td>\n",
              "      <td>2012-12-26</td>\n",
              "      <td>2012</td>\n",
              "    </tr>\n",
              "    <tr>\n",
              "      <th>2237510</th>\n",
              "      <td>B000BI3IBO</td>\n",
              "      <td>If You Give a Mouse a Cookie (Book and Audio C...</td>\n",
              "      <td>4</td>\n",
              "      <td>5.0</td>\n",
              "      <td>2013-01-10</td>\n",
              "      <td>2013</td>\n",
              "    </tr>\n",
              "  </tbody>\n",
              "</table>\n",
              "</div>"
            ],
            "text/plain": [
              "                 Id                                              Title  \\\n",
              "1190823  0767908392                       The Queen of Harlem: A Novel   \n",
              "2290392  B000KP4BMI  The Window of Larkspur Inn (The Gresham Chroni...   \n",
              "2600929  0890512930                               Biblical Creationism   \n",
              "524186   B000IEZE3G              Harry Potter and The Sorcerer's Stone   \n",
              "2237510  B000BI3IBO  If You Give a Mouse a Cookie (Book and Audio C...   \n",
              "\n",
              "         User_id  review/score   datetime  year  \n",
              "1190823        0           5.0 2013-02-20  2013  \n",
              "2290392        1           5.0 2013-01-17  2013  \n",
              "2600929        2           5.0 2013-01-13  2013  \n",
              "524186         3           5.0 2012-12-26  2012  \n",
              "2237510        4           5.0 2013-01-10  2013  "
            ]
          },
          "execution_count": 10,
          "metadata": {},
          "output_type": "execute_result"
        }
      ],
      "source": [
        "books_rating.head()"
      ]
    },
    {
      "cell_type": "markdown",
      "metadata": {
        "id": "AWNWAPjqeNvx"
      },
      "source": [
        "##  Train/Test Split"
      ]
    },
    {
      "cell_type": "markdown",
      "metadata": {
        "id": "AfjYe6BRP9G1"
      },
      "source": [
        "To create a more realistic recommendation setup, we splited the dataset based on time, using 2010 as the cutoff. Reviews before 2010 are used for training, and those from 2010 onward for testing, simulating how models learn from past behavior to predict future preferences.\n",
        "\n",
        "We further filter the training set to include only users with at least 5 reviews, ensuring the model has enough data to learn from. The test set is limited to users who also appear in the training set, allowing consistent evaluation and avoiding cold-start issues.\n",
        "\n",
        "This time-aware approach helps prevent data leakage and overfitting, leading to a more reliable and interpretable recommendation system."
      ]
    },
    {
      "cell_type": "code",
      "execution_count": 11,
      "metadata": {
        "id": "O6CRTfUyeM5p"
      },
      "outputs": [],
      "source": [
        "year = 2010\n",
        "train = books_rating[books_rating['year'] < year]\n",
        "user_counts = train[\"User_id\"].value_counts()\n",
        "users_with_5plus = user_counts[user_counts >= 5].index\n",
        "train = train[train[\"User_id\"].isin(users_with_5plus)]\n",
        "test = books_rating[books_rating['year'] >= year]\n",
        "test = test[test['User_id'].isin(train['User_id'])]\n",
        "test = test[test['Id'].isin(train['Id'])]"
      ]
    },
    {
      "cell_type": "code",
      "execution_count": 12,
      "metadata": {
        "id": "ZE0_hOI2sFAF"
      },
      "outputs": [
        {
          "name": "stdout",
          "output_type": "stream",
          "text": [
            "train:  34656\n",
            "test:   2491\n"
          ]
        }
      ],
      "source": [
        "print(\"train: \",len(train))\n",
        "print(\"test:  \",len(test))"
      ]
    },
    {
      "cell_type": "markdown",
      "metadata": {
        "id": "gLw5MARjYURU"
      },
      "source": [
        "In recommender systems, user feedback generally falls into two main categories: explicit feedback and implicit feedback.\n"
      ]
    },
    {
      "cell_type": "markdown",
      "metadata": {
        "id": "ejTUHPlVT3r-"
      },
      "source": [
        "### TODO 1: Based on the given dataset, is the feedback explicit or implicit?"
      ]
    },
    {
      "cell_type": "markdown",
      "metadata": {
        "id": "_3pgF__PT5xO"
      },
      "source": [
        "![image.png](data:image/png;base64,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)"
      ]
    },
    {
      "cell_type": "markdown",
      "metadata": {
        "id": "vkDHg-yvjBkW"
      },
      "source": [
        "Ans: Explicit"
      ]
    },
    {
      "cell_type": "markdown",
      "metadata": {
        "id": "reNHXVy8fGi4"
      },
      "source": [
        "# Feature Extraction"
      ]
    },
    {
      "cell_type": "markdown",
      "metadata": {
        "id": "Nwm_lEvoZTaU"
      },
      "source": [
        "To enable content-based recommendation, we need to extract meaningful features that describe each book. In our case, we focus on two key types of content features:\n"
      ]
    },
    {
      "cell_type": "markdown",
      "metadata": {
        "id": "juQI0e3hs52B"
      },
      "source": [
        "## Catergories"
      ]
    },
    {
      "cell_type": "markdown",
      "metadata": {
        "id": "D8MK3tlCZV1h"
      },
      "source": [
        "Catergories (One-Hot Encoding):\n",
        "We use the book's genre (or category) as a categorical feature and apply one-hot encoding to represent it in a machine-readable format. This allows the model to understand similarities between books based on their genre."
      ]
    },
    {
      "cell_type": "code",
      "execution_count": 13,
      "metadata": {
        "id": "Th3A-JLafP7a"
      },
      "outputs": [
        {
          "data": {
            "text/html": [
              "<div>\n",
              "<style scoped>\n",
              "    .dataframe tbody tr th:only-of-type {\n",
              "        vertical-align: middle;\n",
              "    }\n",
              "\n",
              "    .dataframe tbody tr th {\n",
              "        vertical-align: top;\n",
              "    }\n",
              "\n",
              "    .dataframe thead th {\n",
              "        text-align: right;\n",
              "    }\n",
              "</style>\n",
              "<table border=\"1\" class=\"dataframe\">\n",
              "  <thead>\n",
              "    <tr style=\"text-align: right;\">\n",
              "      <th></th>\n",
              "      <th>cat_Biography &amp; Autobiography</th>\n",
              "      <th>cat_Body, Mind &amp; Spirit</th>\n",
              "      <th>cat_Business &amp; Economics</th>\n",
              "      <th>cat_Computers</th>\n",
              "      <th>cat_Cooking</th>\n",
              "      <th>cat_Family &amp; Relationships</th>\n",
              "      <th>cat_Fiction</th>\n",
              "      <th>cat_Health &amp; Fitness</th>\n",
              "      <th>cat_History</th>\n",
              "      <th>cat_Juvenile Fiction</th>\n",
              "      <th>cat_Juvenile Nonfiction</th>\n",
              "      <th>cat_Philosophy</th>\n",
              "      <th>cat_Religion</th>\n",
              "      <th>cat_Science</th>\n",
              "      <th>cat_Social Science</th>\n",
              "    </tr>\n",
              "  </thead>\n",
              "  <tbody>\n",
              "    <tr>\n",
              "      <th>42</th>\n",
              "      <td>False</td>\n",
              "      <td>False</td>\n",
              "      <td>False</td>\n",
              "      <td>False</td>\n",
              "      <td>False</td>\n",
              "      <td>False</td>\n",
              "      <td>False</td>\n",
              "      <td>False</td>\n",
              "      <td>False</td>\n",
              "      <td>True</td>\n",
              "      <td>False</td>\n",
              "      <td>False</td>\n",
              "      <td>False</td>\n",
              "      <td>False</td>\n",
              "      <td>False</td>\n",
              "    </tr>\n",
              "    <tr>\n",
              "      <th>67</th>\n",
              "      <td>False</td>\n",
              "      <td>False</td>\n",
              "      <td>False</td>\n",
              "      <td>False</td>\n",
              "      <td>False</td>\n",
              "      <td>False</td>\n",
              "      <td>False</td>\n",
              "      <td>True</td>\n",
              "      <td>False</td>\n",
              "      <td>False</td>\n",
              "      <td>False</td>\n",
              "      <td>False</td>\n",
              "      <td>False</td>\n",
              "      <td>False</td>\n",
              "      <td>False</td>\n",
              "    </tr>\n",
              "    <tr>\n",
              "      <th>73</th>\n",
              "      <td>False</td>\n",
              "      <td>False</td>\n",
              "      <td>False</td>\n",
              "      <td>False</td>\n",
              "      <td>False</td>\n",
              "      <td>False</td>\n",
              "      <td>False</td>\n",
              "      <td>False</td>\n",
              "      <td>False</td>\n",
              "      <td>True</td>\n",
              "      <td>False</td>\n",
              "      <td>False</td>\n",
              "      <td>False</td>\n",
              "      <td>False</td>\n",
              "      <td>False</td>\n",
              "    </tr>\n",
              "    <tr>\n",
              "      <th>128</th>\n",
              "      <td>False</td>\n",
              "      <td>False</td>\n",
              "      <td>False</td>\n",
              "      <td>False</td>\n",
              "      <td>False</td>\n",
              "      <td>False</td>\n",
              "      <td>False</td>\n",
              "      <td>True</td>\n",
              "      <td>False</td>\n",
              "      <td>False</td>\n",
              "      <td>False</td>\n",
              "      <td>False</td>\n",
              "      <td>False</td>\n",
              "      <td>False</td>\n",
              "      <td>False</td>\n",
              "    </tr>\n",
              "    <tr>\n",
              "      <th>177</th>\n",
              "      <td>False</td>\n",
              "      <td>False</td>\n",
              "      <td>False</td>\n",
              "      <td>False</td>\n",
              "      <td>False</td>\n",
              "      <td>False</td>\n",
              "      <td>False</td>\n",
              "      <td>False</td>\n",
              "      <td>True</td>\n",
              "      <td>False</td>\n",
              "      <td>False</td>\n",
              "      <td>False</td>\n",
              "      <td>False</td>\n",
              "      <td>False</td>\n",
              "      <td>False</td>\n",
              "    </tr>\n",
              "  </tbody>\n",
              "</table>\n",
              "</div>"
            ],
            "text/plain": [
              "     cat_Biography & Autobiography  cat_Body, Mind & Spirit  \\\n",
              "42                           False                    False   \n",
              "67                           False                    False   \n",
              "73                           False                    False   \n",
              "128                          False                    False   \n",
              "177                          False                    False   \n",
              "\n",
              "     cat_Business & Economics  cat_Computers  cat_Cooking  \\\n",
              "42                      False          False        False   \n",
              "67                      False          False        False   \n",
              "73                      False          False        False   \n",
              "128                     False          False        False   \n",
              "177                     False          False        False   \n",
              "\n",
              "     cat_Family & Relationships  cat_Fiction  cat_Health & Fitness  \\\n",
              "42                        False        False                 False   \n",
              "67                        False        False                  True   \n",
              "73                        False        False                 False   \n",
              "128                       False        False                  True   \n",
              "177                       False        False                 False   \n",
              "\n",
              "     cat_History  cat_Juvenile Fiction  cat_Juvenile Nonfiction  \\\n",
              "42         False                  True                    False   \n",
              "67         False                 False                    False   \n",
              "73         False                  True                    False   \n",
              "128        False                 False                    False   \n",
              "177         True                 False                    False   \n",
              "\n",
              "     cat_Philosophy  cat_Religion  cat_Science  cat_Social Science  \n",
              "42            False         False        False               False  \n",
              "67            False         False        False               False  \n",
              "73            False         False        False               False  \n",
              "128           False         False        False               False  \n",
              "177           False         False        False               False  "
            ]
          },
          "execution_count": 13,
          "metadata": {},
          "output_type": "execute_result"
        }
      ],
      "source": [
        "exploded_categories = books_data['categories'].explode()\n",
        "one_hot = pd.get_dummies(exploded_categories, prefix='cat')\n",
        "one_hot_encoded = one_hot.groupby(level=0).max()\n",
        "one_hot_encoded.head()"
      ]
    },
    {
      "cell_type": "markdown",
      "metadata": {
        "id": "4XTNRAB1tA6z"
      },
      "source": [
        "## Title and Description"
      ]
    },
    {
      "cell_type": "markdown",
      "metadata": {
        "id": "eHxxEFqrZajG"
      },
      "source": [
        "Text Embeddings (Title + Description):\n",
        "To capture the semantic meaning of the book content, we combine the book's title and description into a single text string. Then, we use a sentence transformer (e.g., a pre-trained model from the sentence-transformers library) to convert this text into a dense vector embedding. These embeddings encode the underlying meaning of the text and allow the model to compute similarity between books in a meaningful way."
      ]
    },
    {
      "cell_type": "code",
      "execution_count": 14,
      "metadata": {
        "id": "ZColpVYMtKlV"
      },
      "outputs": [],
      "source": [
        "from sentence_transformers import SentenceTransformer"
      ]
    },
    {
      "cell_type": "code",
      "execution_count": 15,
      "metadata": {
        "id": "O5kekrYJ5oph"
      },
      "outputs": [],
      "source": [
        "model = SentenceTransformer('sentence-transformers/paraphrase-multilingual-MiniLM-L12-v2')"
      ]
    },
    {
      "cell_type": "code",
      "execution_count": 16,
      "metadata": {
        "id": "bDVz2WoSBj4t"
      },
      "outputs": [],
      "source": [
        "books_data[\"text\"]  = books_data[\"Title\"] + '. ' + books_data[\"description\"]\n",
        "embeddings = model.encode(books_data[\"text\"].tolist())"
      ]
    },
    {
      "cell_type": "markdown",
      "metadata": {
        "id": "UHcTOgjbtUwC"
      },
      "source": [
        "## Combine To Create Dataset"
      ]
    },
    {
      "cell_type": "code",
      "execution_count": 17,
      "metadata": {
        "id": "QF8m-VZozovr"
      },
      "outputs": [
        {
          "data": {
            "text/html": [
              "<div>\n",
              "<style scoped>\n",
              "    .dataframe tbody tr th:only-of-type {\n",
              "        vertical-align: middle;\n",
              "    }\n",
              "\n",
              "    .dataframe tbody tr th {\n",
              "        vertical-align: top;\n",
              "    }\n",
              "\n",
              "    .dataframe thead th {\n",
              "        text-align: right;\n",
              "    }\n",
              "</style>\n",
              "<table border=\"1\" class=\"dataframe\">\n",
              "  <thead>\n",
              "    <tr style=\"text-align: right;\">\n",
              "      <th></th>\n",
              "      <th>Title</th>\n",
              "      <th>text_embeddings</th>\n",
              "      <th>cat_Biography &amp; Autobiography</th>\n",
              "      <th>cat_Body, Mind &amp; Spirit</th>\n",
              "      <th>cat_Business &amp; Economics</th>\n",
              "      <th>cat_Computers</th>\n",
              "      <th>cat_Cooking</th>\n",
              "      <th>cat_Family &amp; Relationships</th>\n",
              "      <th>cat_Fiction</th>\n",
              "      <th>cat_Health &amp; Fitness</th>\n",
              "      <th>cat_History</th>\n",
              "      <th>cat_Juvenile Fiction</th>\n",
              "      <th>cat_Juvenile Nonfiction</th>\n",
              "      <th>cat_Philosophy</th>\n",
              "      <th>cat_Religion</th>\n",
              "      <th>cat_Science</th>\n",
              "      <th>cat_Social Science</th>\n",
              "    </tr>\n",
              "  </thead>\n",
              "  <tbody>\n",
              "    <tr>\n",
              "      <th>88230</th>\n",
              "      <td>Dr Haggards Disease</td>\n",
              "      <td>[-0.006928980350494385, 0.100972980260849, -0....</td>\n",
              "      <td>False</td>\n",
              "      <td>False</td>\n",
              "      <td>False</td>\n",
              "      <td>False</td>\n",
              "      <td>False</td>\n",
              "      <td>False</td>\n",
              "      <td>True</td>\n",
              "      <td>False</td>\n",
              "      <td>False</td>\n",
              "      <td>False</td>\n",
              "      <td>False</td>\n",
              "      <td>False</td>\n",
              "      <td>False</td>\n",
              "      <td>False</td>\n",
              "      <td>False</td>\n",
              "    </tr>\n",
              "    <tr>\n",
              "      <th>7255</th>\n",
              "      <td>American Science Fiction TV: Star Trek, Starga...</td>\n",
              "      <td>[0.17040036618709564, -0.30659911036491394, 0....</td>\n",
              "      <td>False</td>\n",
              "      <td>False</td>\n",
              "      <td>False</td>\n",
              "      <td>False</td>\n",
              "      <td>False</td>\n",
              "      <td>False</td>\n",
              "      <td>False</td>\n",
              "      <td>False</td>\n",
              "      <td>False</td>\n",
              "      <td>False</td>\n",
              "      <td>False</td>\n",
              "      <td>False</td>\n",
              "      <td>False</td>\n",
              "      <td>False</td>\n",
              "      <td>True</td>\n",
              "    </tr>\n",
              "    <tr>\n",
              "      <th>118038</th>\n",
              "      <td>Dearest Friend: A Life of Abigail Adams</td>\n",
              "      <td>[-0.14214184880256653, -0.1484207808971405, -0...</td>\n",
              "      <td>True</td>\n",
              "      <td>False</td>\n",
              "      <td>False</td>\n",
              "      <td>False</td>\n",
              "      <td>False</td>\n",
              "      <td>False</td>\n",
              "      <td>False</td>\n",
              "      <td>False</td>\n",
              "      <td>False</td>\n",
              "      <td>False</td>\n",
              "      <td>False</td>\n",
              "      <td>False</td>\n",
              "      <td>False</td>\n",
              "      <td>False</td>\n",
              "      <td>False</td>\n",
              "    </tr>\n",
              "    <tr>\n",
              "      <th>10658</th>\n",
              "      <td>American Mania: When More is Not Enough</td>\n",
              "      <td>[0.2640315890312195, -0.005020105745643377, 0....</td>\n",
              "      <td>False</td>\n",
              "      <td>False</td>\n",
              "      <td>False</td>\n",
              "      <td>False</td>\n",
              "      <td>False</td>\n",
              "      <td>False</td>\n",
              "      <td>False</td>\n",
              "      <td>False</td>\n",
              "      <td>False</td>\n",
              "      <td>False</td>\n",
              "      <td>False</td>\n",
              "      <td>False</td>\n",
              "      <td>False</td>\n",
              "      <td>False</td>\n",
              "      <td>True</td>\n",
              "    </tr>\n",
              "    <tr>\n",
              "      <th>114824</th>\n",
              "      <td>A Kiss of Shadows (Meredith Gentry, Book 1)</td>\n",
              "      <td>[0.016347261145710945, -0.2993292808532715, -0...</td>\n",
              "      <td>False</td>\n",
              "      <td>False</td>\n",
              "      <td>False</td>\n",
              "      <td>False</td>\n",
              "      <td>False</td>\n",
              "      <td>False</td>\n",
              "      <td>True</td>\n",
              "      <td>False</td>\n",
              "      <td>False</td>\n",
              "      <td>False</td>\n",
              "      <td>False</td>\n",
              "      <td>False</td>\n",
              "      <td>False</td>\n",
              "      <td>False</td>\n",
              "      <td>False</td>\n",
              "    </tr>\n",
              "  </tbody>\n",
              "</table>\n",
              "</div>"
            ],
            "text/plain": [
              "                                                    Title  \\\n",
              "88230                                 Dr Haggards Disease   \n",
              "7255    American Science Fiction TV: Star Trek, Starga...   \n",
              "118038            Dearest Friend: A Life of Abigail Adams   \n",
              "10658             American Mania: When More is Not Enough   \n",
              "114824        A Kiss of Shadows (Meredith Gentry, Book 1)   \n",
              "\n",
              "                                          text_embeddings  \\\n",
              "88230   [-0.006928980350494385, 0.100972980260849, -0....   \n",
              "7255    [0.17040036618709564, -0.30659911036491394, 0....   \n",
              "118038  [-0.14214184880256653, -0.1484207808971405, -0...   \n",
              "10658   [0.2640315890312195, -0.005020105745643377, 0....   \n",
              "114824  [0.016347261145710945, -0.2993292808532715, -0...   \n",
              "\n",
              "        cat_Biography & Autobiography  cat_Body, Mind & Spirit  \\\n",
              "88230                           False                    False   \n",
              "7255                            False                    False   \n",
              "118038                           True                    False   \n",
              "10658                           False                    False   \n",
              "114824                          False                    False   \n",
              "\n",
              "        cat_Business & Economics  cat_Computers  cat_Cooking  \\\n",
              "88230                      False          False        False   \n",
              "7255                       False          False        False   \n",
              "118038                     False          False        False   \n",
              "10658                      False          False        False   \n",
              "114824                     False          False        False   \n",
              "\n",
              "        cat_Family & Relationships  cat_Fiction  cat_Health & Fitness  \\\n",
              "88230                        False         True                 False   \n",
              "7255                         False        False                 False   \n",
              "118038                       False        False                 False   \n",
              "10658                        False        False                 False   \n",
              "114824                       False         True                 False   \n",
              "\n",
              "        cat_History  cat_Juvenile Fiction  cat_Juvenile Nonfiction  \\\n",
              "88230         False                 False                    False   \n",
              "7255          False                 False                    False   \n",
              "118038        False                 False                    False   \n",
              "10658         False                 False                    False   \n",
              "114824        False                 False                    False   \n",
              "\n",
              "        cat_Philosophy  cat_Religion  cat_Science  cat_Social Science  \n",
              "88230            False         False        False               False  \n",
              "7255             False         False        False                True  \n",
              "118038           False         False        False               False  \n",
              "10658            False         False        False                True  \n",
              "114824           False         False        False               False  "
            ]
          },
          "execution_count": 17,
          "metadata": {},
          "output_type": "execute_result"
        }
      ],
      "source": [
        "books_data['text_embeddings'] = embeddings.tolist()\n",
        "\n",
        "book_dataset = pd.concat([\n",
        "    books_data[[\"Title\", \"text_embeddings\"]],\n",
        "    one_hot_encoded,\n",
        "], axis=1)\n",
        "\n",
        "book_dataset.head()"
      ]
    },
    {
      "cell_type": "code",
      "execution_count": 18,
      "metadata": {
        "id": "NS1VUBv90bZL"
      },
      "outputs": [],
      "source": [
        "train_rating = train.merge(book_dataset, how='inner', on='Title')\n",
        "test_rating = test.merge(book_dataset, how='inner', on='Title')"
      ]
    },
    {
      "cell_type": "markdown",
      "metadata": {
        "id": "i-poLuxVuES8"
      },
      "source": [
        "# Collaborative Filtering"
      ]
    },
    {
      "cell_type": "markdown",
      "metadata": {
        "id": "8MMJXhD4aBx4"
      },
      "source": [
        "Collaborative filtering is a popular technique in recommendation systems that relies on user behavior to make recommendations. It works by grouping users with similar preferences or behavior patterns and recommends new items based on the shared characteristics of the group. This method doesn't require knowledge of the content itself — instead, it leverages historical interactions (such as ratings, views, or purchases) to make predictions."
      ]
    },
    {
      "cell_type": "markdown",
      "metadata": {
        "id": "xAbwaFveQoxR"
      },
      "source": [
        "![image.png](data:image/png;base64,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)"
      ]
    },
    {
      "cell_type": "markdown",
      "metadata": {
        "id": "Is9Xsh9G3gEg"
      },
      "source": [
        "## User-Item Interaction"
      ]
    },
    {
      "cell_type": "markdown",
      "metadata": {
        "id": "SpK70EIPafSF"
      },
      "source": [
        "To implement this, we first need to convert the interaction data into a sparse matrix. The rows of this matrix represent users, and the columns represent items (e.g., books). Each entry in the matrix contains a value representing the user’s interaction with the item, such as a rating or a binary indicator (e.g., whether the user has viewed or purchased the item).\n"
      ]
    },
    {
      "cell_type": "code",
      "execution_count": 19,
      "metadata": {
        "id": "el-Dq6BR5QA8"
      },
      "outputs": [],
      "source": [
        "train = train.dropna(subset=[\"User_id\"])\n",
        "train_interaction = train[[\"Id\", \"User_id\", \"review/score\"]].copy()\n",
        "train_interaction.columns = [\"item_id\", \"user_id\", \"weight\"]"
      ]
    },
    {
      "cell_type": "code",
      "execution_count": 20,
      "metadata": {
        "id": "RtOAYvON9O9z"
      },
      "outputs": [],
      "source": [
        "test = test.dropna(subset=[\"User_id\"])\n",
        "test_interaction = test[[\"Id\", \"User_id\", \"review/score\"]].copy()\n",
        "test_interaction.columns = [\"item_id\", \"user_id\", \"weight\"]"
      ]
    },
    {
      "cell_type": "code",
      "execution_count": 21,
      "metadata": {
        "id": "hfQD-Wby8-a4"
      },
      "outputs": [
        {
          "data": {
            "text/html": [
              "<div>\n",
              "<style scoped>\n",
              "    .dataframe tbody tr th:only-of-type {\n",
              "        vertical-align: middle;\n",
              "    }\n",
              "\n",
              "    .dataframe tbody tr th {\n",
              "        vertical-align: top;\n",
              "    }\n",
              "\n",
              "    .dataframe thead th {\n",
              "        text-align: right;\n",
              "    }\n",
              "</style>\n",
              "<table border=\"1\" class=\"dataframe\">\n",
              "  <thead>\n",
              "    <tr style=\"text-align: right;\">\n",
              "      <th></th>\n",
              "      <th>item_id</th>\n",
              "      <th>user_id</th>\n",
              "      <th>weight</th>\n",
              "    </tr>\n",
              "  </thead>\n",
              "  <tbody>\n",
              "    <tr>\n",
              "      <th>1039039</th>\n",
              "      <td>1564559181</td>\n",
              "      <td>202</td>\n",
              "      <td>5.0</td>\n",
              "    </tr>\n",
              "    <tr>\n",
              "      <th>2175610</th>\n",
              "      <td>B0001PIOWU</td>\n",
              "      <td>202</td>\n",
              "      <td>4.0</td>\n",
              "    </tr>\n",
              "    <tr>\n",
              "      <th>2898139</th>\n",
              "      <td>B000GM4X0A</td>\n",
              "      <td>202</td>\n",
              "      <td>3.0</td>\n",
              "    </tr>\n",
              "    <tr>\n",
              "      <th>1556172</th>\n",
              "      <td>0944344496</td>\n",
              "      <td>202</td>\n",
              "      <td>5.0</td>\n",
              "    </tr>\n",
              "    <tr>\n",
              "      <th>2112715</th>\n",
              "      <td>B00008HBR9</td>\n",
              "      <td>202</td>\n",
              "      <td>4.0</td>\n",
              "    </tr>\n",
              "    <tr>\n",
              "      <th>...</th>\n",
              "      <td>...</td>\n",
              "      <td>...</td>\n",
              "      <td>...</td>\n",
              "    </tr>\n",
              "    <tr>\n",
              "      <th>1485708</th>\n",
              "      <td>0785745521</td>\n",
              "      <td>177525</td>\n",
              "      <td>5.0</td>\n",
              "    </tr>\n",
              "    <tr>\n",
              "      <th>2762340</th>\n",
              "      <td>0764227122</td>\n",
              "      <td>177525</td>\n",
              "      <td>5.0</td>\n",
              "    </tr>\n",
              "    <tr>\n",
              "      <th>516240</th>\n",
              "      <td>0553253816</td>\n",
              "      <td>177525</td>\n",
              "      <td>5.0</td>\n",
              "    </tr>\n",
              "    <tr>\n",
              "      <th>2108485</th>\n",
              "      <td>0785745629</td>\n",
              "      <td>177525</td>\n",
              "      <td>5.0</td>\n",
              "    </tr>\n",
              "    <tr>\n",
              "      <th>2285501</th>\n",
              "      <td>1842834444</td>\n",
              "      <td>177525</td>\n",
              "      <td>5.0</td>\n",
              "    </tr>\n",
              "  </tbody>\n",
              "</table>\n",
              "<p>34656 rows × 3 columns</p>\n",
              "</div>"
            ],
            "text/plain": [
              "            item_id  user_id  weight\n",
              "1039039  1564559181      202     5.0\n",
              "2175610  B0001PIOWU      202     4.0\n",
              "2898139  B000GM4X0A      202     3.0\n",
              "1556172  0944344496      202     5.0\n",
              "2112715  B00008HBR9      202     4.0\n",
              "...             ...      ...     ...\n",
              "1485708  0785745521   177525     5.0\n",
              "2762340  0764227122   177525     5.0\n",
              "516240   0553253816   177525     5.0\n",
              "2108485  0785745629   177525     5.0\n",
              "2285501  1842834444   177525     5.0\n",
              "\n",
              "[34656 rows x 3 columns]"
            ]
          },
          "execution_count": 21,
          "metadata": {},
          "output_type": "execute_result"
        }
      ],
      "source": [
        "train_interaction"
      ]
    },
    {
      "cell_type": "code",
      "execution_count": 22,
      "metadata": {
        "id": "8cmrNNez9VJ1"
      },
      "outputs": [
        {
          "data": {
            "text/html": [
              "<div>\n",
              "<style scoped>\n",
              "    .dataframe tbody tr th:only-of-type {\n",
              "        vertical-align: middle;\n",
              "    }\n",
              "\n",
              "    .dataframe tbody tr th {\n",
              "        vertical-align: top;\n",
              "    }\n",
              "\n",
              "    .dataframe thead th {\n",
              "        text-align: right;\n",
              "    }\n",
              "</style>\n",
              "<table border=\"1\" class=\"dataframe\">\n",
              "  <thead>\n",
              "    <tr style=\"text-align: right;\">\n",
              "      <th></th>\n",
              "      <th>item_id</th>\n",
              "      <th>user_id</th>\n",
              "      <th>weight</th>\n",
              "    </tr>\n",
              "  </thead>\n",
              "  <tbody>\n",
              "    <tr>\n",
              "      <th>2855181</th>\n",
              "      <td>B0006E1KQ8</td>\n",
              "      <td>268</td>\n",
              "      <td>4.0</td>\n",
              "    </tr>\n",
              "    <tr>\n",
              "      <th>485477</th>\n",
              "      <td>B0000CMP8O</td>\n",
              "      <td>268</td>\n",
              "      <td>4.0</td>\n",
              "    </tr>\n",
              "    <tr>\n",
              "      <th>320832</th>\n",
              "      <td>B0006D6XAM</td>\n",
              "      <td>268</td>\n",
              "      <td>3.0</td>\n",
              "    </tr>\n",
              "    <tr>\n",
              "      <th>2264482</th>\n",
              "      <td>B000KPU0KU</td>\n",
              "      <td>1412</td>\n",
              "      <td>4.0</td>\n",
              "    </tr>\n",
              "    <tr>\n",
              "      <th>510977</th>\n",
              "      <td>B000Q7QGC8</td>\n",
              "      <td>1499</td>\n",
              "      <td>5.0</td>\n",
              "    </tr>\n",
              "    <tr>\n",
              "      <th>...</th>\n",
              "      <td>...</td>\n",
              "      <td>...</td>\n",
              "      <td>...</td>\n",
              "    </tr>\n",
              "    <tr>\n",
              "      <th>2653761</th>\n",
              "      <td>0060971231</td>\n",
              "      <td>175936</td>\n",
              "      <td>4.0</td>\n",
              "    </tr>\n",
              "    <tr>\n",
              "      <th>1093851</th>\n",
              "      <td>B0006AL5K8</td>\n",
              "      <td>175936</td>\n",
              "      <td>4.0</td>\n",
              "    </tr>\n",
              "    <tr>\n",
              "      <th>345808</th>\n",
              "      <td>B0006DBN8E</td>\n",
              "      <td>176072</td>\n",
              "      <td>5.0</td>\n",
              "    </tr>\n",
              "    <tr>\n",
              "      <th>1316418</th>\n",
              "      <td>B000U2H82Q</td>\n",
              "      <td>176683</td>\n",
              "      <td>5.0</td>\n",
              "    </tr>\n",
              "    <tr>\n",
              "      <th>839971</th>\n",
              "      <td>B0007EDZRY</td>\n",
              "      <td>177054</td>\n",
              "      <td>2.0</td>\n",
              "    </tr>\n",
              "  </tbody>\n",
              "</table>\n",
              "<p>2491 rows × 3 columns</p>\n",
              "</div>"
            ],
            "text/plain": [
              "            item_id  user_id  weight\n",
              "2855181  B0006E1KQ8      268     4.0\n",
              "485477   B0000CMP8O      268     4.0\n",
              "320832   B0006D6XAM      268     3.0\n",
              "2264482  B000KPU0KU     1412     4.0\n",
              "510977   B000Q7QGC8     1499     5.0\n",
              "...             ...      ...     ...\n",
              "2653761  0060971231   175936     4.0\n",
              "1093851  B0006AL5K8   175936     4.0\n",
              "345808   B0006DBN8E   176072     5.0\n",
              "1316418  B000U2H82Q   176683     5.0\n",
              "839971   B0007EDZRY   177054     2.0\n",
              "\n",
              "[2491 rows x 3 columns]"
            ]
          },
          "execution_count": 22,
          "metadata": {},
          "output_type": "execute_result"
        }
      ],
      "source": [
        "test_interaction"
      ]
    },
    {
      "cell_type": "markdown",
      "metadata": {
        "id": "nIh9flMR4ICS"
      },
      "source": [
        "## Matrix Factorization"
      ]
    },
    {
      "cell_type": "markdown",
      "metadata": {
        "id": "vyOkxbQ9aE0k"
      },
      "source": [
        "In this project, we implement collaborative filtering using Matrix Factorization. Matrix factorization decomposes the large user-item interaction matrix into two smaller matrices, one representing user preferences and the other representing item characteristics. The model then learns to predict missing values (such as unseen ratings or interactions) based on these latent factors. This technique helps us uncover hidden relationships between users and items, providing personalized recommendations."
      ]
    },
    {
      "cell_type": "markdown",
      "metadata": {
        "id": "BBJp-cqFVSJm"
      },
      "source": [
        "![image.png](data:image/png;base64,iVBORw0KGgoAAAANSUhEUgAAA1IAAADeCAYAAAA3vDE5AAAgAElEQVR4Aeyde8wc1Xn/f0r/aqq2StWolfpHFKK0VUkkoji0uKK1ZEC/EjcYhxpDAIFDEE7cpnINocZUKOYSQI4h8k+FFni52DEpOOCacLGJC8FJgBAcLrFNuDqAHWNs13bMa/LiPT99nvM+u7Pj2d0zs3Pb3WekeWfe2Zlz+Z4zZ57veS7n/zjnHrbdMLA+YH3A+oD1AesD1gesD1gfsD5gfcD6QHgf+D/OuS2HDx927M41nN/0OPmvHQwBQ6DGCPC+dn5n/budVPzuzyU9YdcMAUPAEDAEDAFDwBAwBDwCQqS6CWEGlCFgCNQXgcbh993E+B63c/urbsvWF90rr7zitm3bJscXX3pRznfsf29yokTr0XA8d2j/Tnlu59tvu0PvR0lV9JxnOpM0TdGOhoAhYAgYAoaAIWAIjBoCk0Rq1Kpt9TUEhgMBCNG+V3/kxq7/urvwwgvdOeec09zPO3euu3jpKrdm41Z34NBEW4UhUc89eKNbMv9Mueenr74jZGqi4UkUWqzG+xNufHx8kmS1PW7/GAKGgCFgCBgChoAhMPIIGJEa+S5gAAwyAhCpvbu2ued++D237OIvu2M//Nvutz7wAfehP/qoO2XeFW7FA0+4za+/7ZQg+bo23IE3n3JjF53uPvKh33F/9lefczc99IJDc+W1Tw3Rcm1/dp2QMH99kFGyshsChoAhUDcEGmIp0HKraE1ita7VrcxWHkPAEIgjYEQqjoj9bwg0ERgUk7aGEKV3Nvw/97fHfEyI1B98dIqQo99MoInSeujRufG929zDd17n5p7xeXfBwqvdA5t+2dI8HR53kCiI1mW3bnAv7zrYJFhNaOTEf/hb6Ud/beXV+j1+Tf/vlY7eF02/ynMvAFVZAsvbEDAEBhsBrAK2PvO4e/DBB5v7+vXr5Xzto8/IBJgfvwe7nlZ6Q2DYETAiNewtbPUbDQQOj7tXfnSX+8s//eM2ItXu++ShELO9SR8pfKreeuutlukfJOoXTwiJOuHTH3dfuu4e98ZuiFR8SyI3vQhRPI3o//ps9Jqee6Ko/9nREDAEDIHBRcCPnfu3b5bJrAvPO8vNPP4T7pNHH+M++anPuJNmzOlokj24dbaSGwLDi4ARqeFtW6tZMAIN8QXa+fxr7s2nX3QHdu6JBWcITqi6Gw+Pi89TskYqWqyG+834QSFLzISuWbPG3fvwOpn9PDDuSdQ3588UE8GoeeBPXnjN8Tt+U5gSbty4UWZO1z+ywT311FNu968PSQCLgwcPyizr2rVr3d133+N+/OMfS8ALZl7Ji13TgrA9vm6NW716tSMdNF+e+Dn3m/fecwgajz76qPz202d+6l56+WVHYIwqZ2mpH/1k10uvu3ff2R/pJ0nEMoq7nRsChoAhoAg0ZBxjLH3irivc7OM/0TTJPuHsK2SMZEz1Jn76jB0NAUOgjggYkapjq1iZSkLAk4o9r253z9+1wa394nXuvnOvcS8/9FSlwnrWyqOROoJIvYffU/umgSYunHGc+Eh95M+nNU34SONr53xWrn/wg7/rps/5Z7fsxnvcisd+4fbt2yeBLW69ap6bNWuWmAQuXLhQgltgAojmSk0GEQz+8Pd/z009Zb679Npvunn/cIKkCTlDUFix6j7x6aK83IefFtovyBRESQJoXHS6O+v8eTI7e9NNN7mvXXKJ+9bqJ4W0+RqVT14gUN+/9BbpJ098a7Wj70BMW+aL7Vjbf4aAIWAIdEKAialfPfNf7qszj2taEjAOml8qiJU/vndqJ7tuCHRDwIhUN3Tst6FFgJm+fW/sEtL0/X8bc6vPWNIUjhGW6+Ps2+tjwu+dfaRUw9PWkIfHhahcfe5JQmLwp4II8fGGCH33srOaGik+6kT0m5gYFw3RA8u+IuaDkCH8qoj8d970T7ljps0TsoXWCl8trkGQSJugF9dcc03zGmQKgnbV1VdL1EDMEZsE67FfSKALZmkxd9F88Nlavnx5hEj5erfVq4R/0FYq6V4181L3yKKb3ZY1P5S+ZLPHJTSAZTEUCKBxfm//u6J5HmmB+fB4IpFCGzXq2/sTEzJJRV8Z6T4y6h1hAOpvRGoAGsmKmB8CDM58wDHPQqMAgbp9+gI5IiDv2PSSO7B7n3t3997q93f2Twoaverv14VK8pHyH6Ejnydq343/dKpoiZRIoQ1iTSrIEtH/IDeqJSIF0mfmlEh/kCMlUmifSEPv1RlW1TRB0vDDuuuSOW2aLp7n3sVn/I1D+wUZI3ogGrPHrvdlQFtGupgDsi4WEQhpQ791J5kQG9oa8pNXe5IWfYe+su5f/r3Zd+hL0ncO/FpMHEPKN1kJOxgCI4MA7y7vEJMPT//n/WJK7d/n7u/y0AI0SaQYA4m2quNofLmKoa1/l4ox0Uk/YUfz3xr3uzxkPxkCFSBgRKoC0C3L6hDY+9oO+YBjwnfrX893//HpC+QIobr/K9eKcIyAXIddTceCZuM6+EgdqZHypAsihS+Uao2iGqlEInV4vElu+OBjijd33gLRKH3+lL8XB2nSgIxBuC465XgRDDDtgzBB0NZfOVcIGsLCqQtvc3v27RXNWJxIof1CqwVpo3wQuqOnzXHLVq6X9Fvawu7CFz5MCGtFtWVSH6LN0GgSlt42Q8AQ8AjwzqoFAFpctLmMt6899rMR1kr58UsnnqJEyjRSTsZRrEXoK4zhmNzTh4xQ2ahSNwSMSNWtRaw8BSLQkMEZYZfBGRKlRIr/IVN12hE40H6EbhCYEB8piFknjRTaoE5ESomQ+k4RopdAEwSCeOH55/16VRPeVAXTPjRXECn8qzD50+ejmi58oaJECh8oyB8mhmreR35K3iBTLf+B3kTq8StWSFsX1a5KxrUf8cEnYEknTWBoW9p9hsAwIKBa4agFAGMtYxskCu0/gnH75Ajv9WDufgKl+7jU1q65aqQGE7NObY01AX3kfybJFGM43+63ntwqlga+z7Shaf8YApUgYESqEtgt06oQYHBGY4C5ADOiCMLsaBfQXjDrxeCte/x/vV70kXwlguDufQH24Q3xYUpaR+pIjZRz7vC4EKm0GiklWJAafJfwndKPGaZzu3fvFsJEOUI0UgSniBMpMe173/t8KZlSc0IImJoUti8wnNSbGkJmEOC0DfWYR9vRfzZ+49vuzpMuFjLOkY88aWO6pLgklcyuGQKjgACTCYy1m7/7A9EoYELNzriLaSwCMeawfn+xec64x7VBOUbLynjD+x+2ecLVv0aqIcSiheXgYNepjbUu9BH6D8Sb77T2H65hXWLaqbCeZncVi4ARqWLxtdRrioASqp/ceZ985NV8gAEa8wGEAHYGaqLI6f+lHCcmJN+wj4SfhWQmNMlHqpWGzlb6BgnVSGGC94PNb4qPEhoiNE0QKfVdgkzt3P6qhDHHjwlzPTXtwyyvqZE6NNFVI8W9+EihkRofH3esb0V6kDNd1+rjf/LhZnqJBPGIvtZo4ggOebQl5oKQJUgU5JtZUrRekDQEqLByHVFQu2AIDB0CCLqdtP9ESNUoqdGjXh/EI+MBJJGxIHjropHyk0W9UvJkDOJB3pRhELFLKjN10fowzka1/0xcMQZT79Y3rhdW9rshUAwCRqSKwdVSHRAEcOplMOaDz2DNgI6gPEgaBXyKdD0SXZAX7Y36LFFHXx//0UUjRRQ8ovZF7fI12MRzN1/kWIwXkzp8oS5YeLWY5/HM2EWni58Tv0Gm0BAtWbJE/Jc0up9G8iNtDSAB2SIaIOZ+lA2CRuAI9YXSe4VI7d3mHr33Znf55Ze7NRu3CpGCxE2bNq2pCeutkSqmA+L0rHb7CC5opiDeYUJPMWWyVA2B+iHQkPciGpRFzV8ZZ1lCgPdoqPZLb5FJFbQoYZsfj/vXSHl/IiZ0hglXTPq0fzDWqvaffkQf4puNBtCIVFhvs7uKQ8CIVHHYWsoDgYBfGFEjSaGhGqTBGU0UGpuH77yuuVaTBmg4acYcWcOJYA/RKFBqMkd4cb1X1nbCl+nQhJAszP4gZZClL/7rjWLGJwv2PrvOsY4Uv0Gm2sztJsbFt4nfIWKkzfOQpjvuuKMZ8Y9n0FSxPlX8XvJCE7Vp3d1u7Pqve5J28Zfd3DM+LyHTMf2jjFURFw1WohHH0J61kdSB6PNWyHohMDnBUa9C9V0a3gs0/4ynvC8Iv9EIqZh18T5FdyYqov8PyrmWm0mVAwd+HY5dF41UWCK+7zAOkTflGOSd9lYsOcc0FA0fhAoiRf/RwBO7du2yNfzCOondVTACRqQKBtiSHxwEMNvjI8gxKFJeLarWEG3U4+vWCFkZGxtzukNeWPgWTRHmibrJgrw//J5buXJl85m77/brRWGahoYLcnb/ytubzysR0/Wk1q5d62655RZJA62RkhvShgTdFinHvQ+vcxs3bpT0KBvPUS6uUW7Kode5F9+pHb/6lfhIPBcpJ8Etqo5mJX1k5x5ZnNhmQrVH2bE3Ag0J64/JKn3bm4AiBPudqJZbtmxxW7a+KMFUqtK49q5H2ju8vyMmulGTWDQMaBQQlAdJ+5+29sn3t9od6wA0UiyOjlaeSSaWewgNqNOevidV7dcG9z8Ckah/FCQcAoWGE2Luv9GDWzcr+XAhYERquNrTajNyCPhw5o33VUujH2knAkpLIIt+ZP090d84R7sV3VXIix9bGhhNU/NstOVJWpLH4XEJcMG5z9M1r+v/SlwhJ9H0Ode9Hk2rda5HaawUg4BAw/F+Yhq77OIvixkskwX6XsnEBgtbnztXtL/4JLbei0GoX1gZIY9o/iFUBA9QzYKf5Bml98rXlXbf+szjEiUVDb4SKfErfeAJMX0eZZ9LCBP9BNKNRhPSffDgwcj3Iazf2V2GQNEIGJEqGmFL3xAoBYE0ggj36h4tnF7To/7G/2zRo55P/tRMT59tHVUo1GN7WtF0o2klXdffqzxqvaosg+U9WAg0ZCIBf8B5/3BCc+Fq3ic0UfgUEuUSf0JdKy35/Uxb6/g7mvb5vO/3Ey2YCCMUQ6gw3/ITJ3nnVe/0GAv3b98sJtlfO+ez7nMzPuumTp3qTvi/J8uafJg4i6Z/fLzeFSmwdJBuzPrwOeO8/ftRYMaWtCGQEgEjUikBs9sNAUMgKwJKQpKOWdO05wyBPBDw4fIxGWppRPNIlzQ8kSKaZZRIqSYKQRp/RgKtSMCXhhIgPWYph69PS8ObJY3ingFjBON6kygf9RMtCOQvP1Ne365qzqlr8bEen+74iaK1HGWNFHjzPpoZX3HvoaWcDwJGpPLB0VIxBApEoB+BqsBiWdKGwFAg4E3OmP3W5Q9a2tc8KnikRoqIlWiiTjrxRIlECYlCWM8rXw3TT50IQlBvwpIHxvmngWky69wtX75cSK43x8wvH69hSRrbuaZ7fvlZSoaAIVAMAkakisHVUjUEckOADzqzovv27ZuMvpf08c0tO0vIEBgJBCAXRDvDzEyjyuG3s2PTiznXv0Wk0D5htkV4f851eYC8g6hAnnStM4I6ECGv5V+Sc/WGLrlJEjMZCOKM6cdK5FGC9thmCBgChkAcASNScUTsf0OgZghgAoLgRbhwjZBXsyJacQyBgUIAsyH8c4gChkM7C3Kzhhz/44+R79Yy7SM6G+uhoYk66qijRBvF8gSdtRNZStKQ6KOscQYxjC42TmhpM5UKw5QJLPyYJHrpA09EIumFPW93GQKGwGggYERqNNrZajnACOBLwZpKp5+1WExM8p69HmBorOiGQAoEvN8QBEpJBuvSsD4N69RgBod2it/R6KTdMafraEJ3eFwWnz5v+qfcH3x0iqyjxtpoR0+b0ww+EV2iIKlSkD9CQoeWC9KkIcd1DScioEEWSSM/n5+k0g72td+MH3SEqsdnCX8lrAE6tu1gV9VKbwgYAn0iYESqTwDtcUOgcAQOe/OjZ599VpzRR9kBuXCsLYOhRQBBmJDKmLyhpfmPT18gO0QKgoFmCkL1/UtvSbXLc5feIkSMBWiTNtZfY70giJSa87FG2uIz/kbI1GW3bpg020162pvyQtQwQdT8epWT+9hVK6X1pe66hpPXTpmpcDvqrYh6kF1MMVsh6Q2rdqzsP0PAEDAiZX3AEKgpAqw9s3P7qw6Ba/0jG2RdETPLqWljWbFqjwAaH0IpQy4gT0os0Erdd+41YtrHMcveNAs88OsEHFo+UkTtO3XhbfIuY7L7xF1XOHxwps/5ZxHWEx5uBqBAiwQBSlM+ysX9UeJIvXUNJ0/8jBzEcccKgCiLV597Usz8Mn6n/W8IGAKjjoARqVHvAVb/+iJweLy5iCeCFrPWrRXv61tsK5khUEcE0EhBHDB5w7wNLRQkih1yxTVM4QjMwA7p0iPnvXbSTTaXazhI3JHrSDk3vnebLMiqAQ3QfHTSODOJgkatVzmiv2OuqOSLekKo0LpxD2aCyeWtY+uVW6boAsqMu4Sl95uRznJbwnIzBOqPgBGp+reRlXAkEfBrrOiCneedO1f8ow4cmhhJNKzShkB+CDSEUEGSlGTgQ/T4FSuESEG2IF0EG2DnvNvOPQSL4JgcvrzhMO1LIlLu8LgENLj1qnluypQp4i/lo8MlC+zdyhH9DR8fSBemgBBG6gdZ1PDuvfyx8sN6MFNSbSHj7k0PvdDF7HIw62elNgQMgfwQMCKVH5aWkiGQGwIqFOkH/YKFVzuie3Warc4tY0vIEBgRBNDw7Nq1S3ybIBmQDbQ1aJby3bxpHz5ShDz/0nX3TGo4IEsNh/Yj6j/FmlI+oEwymQopm5oBUidM+yBUOza9JNH8GFts64wAhBhN4for50qAHxt3O2NlvxgChoBzRqSsFxgCtUTAC1ksCDl20eni8GzrmNSyoaxQA4uAf8d0LSlM+1Rjk3eVEM4Jpf34ujV+CYPm4ru+DEyYsMTBHXfcIRMm/WqeCeFOfdC4Ya7I//mGWM8boTql1xCT6m/On+lOmXeFkF6PXZ3KaGUxBAyBuiBgRKouLWHlMATaEPCz2M89eKO76JTjzT+qDRv7xxDIHwE0VJCqYjQ23vSvZf7nCVS8FqqJjl9P+z++T5goqpli2udH+v7D445xl4h9aA+ZwEJD6PsF7WabIWAIGAItBIxItbCwM0OgVggwS/308n90nz/l78VO3/waatU8VhhDIAMCyQQqQ0I9HymGEPbMduBvUHPqz834rMOkesWq+4RM+cAcRqQGvoGtAoZAzggYkcoZUEvOEMgHgYY78OZT7q5L5kho5BUPPOF2vv22+UjlA66lYggYAoZAIgJKpNBIQaTWPvqMe2P3QdNIJaJlFw0BQ8CIlPUBQ6CGCGACtP3ZdbKOyZ/91efcshvvycV3ooZVtSIZAoaAIVAbBBh79+7aJqHvf/LCaxIm3oL81KZ5rCCGQO0QMCJVuyaxAhkCINAQ5/SH77zOLV682KGRYlbU+1gYQoaAIWAIGAJFI2DmkUUjbOkbAoOPgBGpwW9Dq8FQIuDDIh88eFAibpnT+FA2slXKEDAEDAFDwBAwBAYYASNSA9x4VvRhRqA8p/RhRtHqZggYAlUj0JBoiAcO/FrWsbKj4VBUH2DiMXlR7KrfAct/mBEwIjXMrWt1MwQMAUPAEOiKANHYXnnlFffjH/+41P2pp54qNb9o/bZs2SLkpgyhk5Dya9ascV+75JJK9kWLFlWSL/Udtbypb1V1XrhwoVu+fLmQ9a4vvP1oCOSMgBGpnAG15OqJALbuzILt3r27lH3v/+4tJZ+k+lSZd1J58r62a9cuwVbrqf/nnU9Sevv27XM+DHI9+7mVKg0CPpQ148KSJUvc1KlT3bRp00Zinz9/vtu2bVsasDLfy3v61a9+VfBVMoXQW/ROXhdeeKE76qij3Gf+4mPuqzOPa+6szaf/F3FO2id8+uOSN1hTlqLrS/qaz8knnyx4g7teKzJ/8mCfNWuW++TRx7hzzjmnlHy1zuRNndl3/OpXmfuqPWgIZEHAiFQW1OyZIxBAuGTmkUUty5jlPKIAPS4wuF5zzTUywJ9//vmu6J0PyXnnzi08n3g9yPPMM88sNW/qyh4vS5H/U8+zz/pCqXlSR2Zb0V7YNjwIIOjTn0477TS3cuXKUvbLL7/cnXTiiTImkeeqVatKyZd8FixY4GbMmOFefOnFUhoRfCETCPVMevA/O5MSRR4hyGj9wHnxGX/jXl95qdtx12Wyl3FOnqxFBc7Utej6Kq5gjGaGdoYsl5Uv+dO/IDOPPvpo4e2s9dXjTTfd5GbOnOneeuutTP2ayVbkFwswkgm+kX7IiNRIN38+lZdwsa/tcFvW/NC99tjPJslUPmnnlQofM4QHhPtbbrml0P2qq6+WWW2i7Y2NjRWaV7wuF1xwgcyC8hGN/5b3/9SNj9fs2bNl9nPp0qWF56l1oB2nTJniyLMMjMmDWU+Esp8+89O8uqWlUykCXiOFIIbmgomWsrSNmNlBLH7+882lI7B27Vo3Z86c0vIGX+rKJASTbWVumDBCZiA1+777dffuf1/V2tdcmf/5f1/l3vve1bJffe5JoqFh/b8yNxZuZ7zi+wOJKnOjb82cNctt+tmmMrOVvCBxaMSyECnI055Xt4sMs++NXaWX3TIcbASMSA12+9Wi9MziQKLWfvE69/gVKyTKXC0KFikERIoZ57vvvkeIHmUuZJ+YkBlIBAcEbp3lKiSvhDpQPwjGgw8+WEreCEbLli1zEDg+YHzEC6/rxITMfKJ5I0+E36LzJA9mWRFAmeW2rV8ENJiKJzP9ppbt+XYixQRImUQKLU0VRAp/JfoxJKOMTYkUExFVE6mD917pDq5ZUugOWTvw31fKGoAI9mWbmjEWQqQgrpUQqZkzK5hsaohGNyuReved/e7p/7zf3XfuNe7lh56aHAeqHJvKeDMtj7wQMCKVF5IjnA4zON//tzF361/Pd6tmXureenJr7dTjEClmyiAaRW8vvfyymLKUrbmAtK1evVqI1Pr164uupqSP4AmRQkNU5swrs4+Y9mWZfcwKzMaNG0X7Vna7Zi1vXZ9Dg43gwl6tGY0RqTL6SK2IVIREoaGCVPU6cg/kSAjYvVf2vL8YIkVfDRPsjUilNe1ruB2bXnL3f+VakWH+59/GajkZXMa7anlkQ8CIVDbc7KlJBBi00UbdedLF7j8+fYHsaKVQk1crJLU3UTuRCvsgtacQ/l9VRApSUwWRwrwOIlXmzCtESjVS4S2T9U7fX9qJVLF9KGtJB+E5Jl6Y/WWHTFW3+TZU0z7TSBXTEmmIFN8MfJt6hbHmu4O2hWO3LW7al1YjBSlSvyqOTUIVIWRxDVeUSGEFkXVcRLuvAW+8pjRszMmPSDWkLcA59Fsupn19aaR8nkzK+T7QrXWjv2XXSLFG48ZvfFtkGJ0M3vzdH7jfjBNK3TZDoDcCRqR6Y2R3JCLgF4yFMH3/0luaJAoyhVaKgYgBqi6bEaliWiKqkcoqMGQp2Xe+852KiVSWUtszCHn4UTJGYAqM9toLiVVgkyeRChNytZb4SJlpn6Lhj/QDtL1Ll17n0KhDJJI2BHssC7iPcb3bhulk1EdKSU+IFop7Hrv+K+JfRRQ+/KyeXv6P7t013jywUxoQKXb1kcoyLkI+Mc8mmiSBSTArDiUWeREptP1MkhG4AkIXsvVDpCBrtJcGysD/1mPHu9Xr/cpGpMiTMQht1OozljT3df/y76KlCqmz3WMIGJGyPpARgYbMJj9/1wYZfBCMdDaHcx2IQmeyMhYi+LHqiFSvD0BwFXreiCBiGqmeMGW4wbehaaQyQBd5hLGAiRdMZxgrbp++wD3xrdUVmtH4ds1DI4VwTzqh412eRArBGaGXaG29BU4nazrVz0eqIQEKCJKjQWSS/KmURGl4bwiG35LH2SSNlBIgJVWdjpCmmcd/QsKYnzf9UxJCHTKFZurQ/ZOmfgmaqTw0Ui88/7wEi0BLSiAUtO/0mZAtDyIFiYXQ0BZEwgsNld8PkaK9iWBJH2AnONQNN9wQSCCzESk04oxBjyy6WY4QKrRT+EpxvU6TwSFtb/dUg4ARqWpwH/hcGWiZWWbAYcdHCsEIAsU5ZKpdSEr+0JUFRFYipeYV/qMeVodBNO2DhDHriKCSZuM59ZHKMvOaJq/ovaaRiqIxCOcN9+7uvWLOFzUDZhYY5278psrf+idSmKEhzCP4IQQmCf9J9cqHSDVEm4f2BkGbGfyQcaqOwSZUG4XJLqHo0TYlaWAgi9SXiHRE0OxFpDpppKLkSYmVHkXjdO+V7ruXneX+8k//2H3tnM+KJgoydeGM45pESu+PH6NEKmuwCcZilllgPKaOmAgySRZC1LMTqdb3DdwImMQOkeObFrL1Q6ToAxA2nRTgnSIirJ8g6JV7NiLF+8v48+bTL4oVDUSK/5FtOBqR6oW7/Q4CRqSsH2RCQGdylDChmUJAgkQxCEGoIFg4cbKFfAAyFSTwoSxEKmpe8eyzzwbN9lKcdiLV+jgFFjXzbXyIsmikVBgkqlbaYBzkaT5SmZtsZB6kn+jEC9oodsyAOVYX6bM/IkWdIEQIfMza8x4kCf9JjZwPkXIiePLespgwJmAhEyHZiVSjLSon9Q/RgDGOIpB3j9rnSSGCNHh2IlJMbJEvpFXXK/L4Jo+zSRopSJSSnyihip5DptBInTH9WNFEcYRU3fhPp/Z+NpeofQ0hEJg66kRVaJCb7ETKI8n3AFIOxvQV2q4YIhXpT7G+RBnoL+RN/+m9ZSNS9F/6FJhp5GFIlV4L6d+9y2Z3DDsCRqSGvYULqh8DHeQJrdOOTS82A05ApHAmx0eK33a99HpBJUiXbFoixeDN7ChhvZkN9DOfyR/reEnaiVT81+L+R8BIS6QguOsf2SD+GghjCINpNvLUD71ppNIgN1r3MvGCyQwTL0ywcFSfBP5n9hdhptytPyJFeTHBYmxgfTNMoRgXQ7Y8iJS+74S5RuhkHawQoTMLkXGrG1gAACAASURBVELTBckh9D9aB9KgDlzr1W5hRMqjRnoIz52IlGJ7xx13BBGprBopTPcw4cOU7yMf+h33h7//e3JESxUlXFFSpuQsDx8pMKVf0a5o3tAKhS4EzrP9hD+HsNGn+GZSBtojNO80Gin6Bf0I8z0sDKJRX+lb1LnlK9fr25uVSPkexbsEkUIjhc+U33rlqb3RjqOOgBGpUe8BGevPwHNg5x6ZNSO6jUbug0gxK4tAAaEKNXXJWIzgx9ISKTUh4cOgzr6hWrV2IlXeYKyCFXbtfIBCNmbeVDhauHChCIMhz+k95GkaKUXDjkkI0EcQTiBMaKp/cud9R5zjo8CkC/eWt/VHpJitprzsaHLzJlK8m4xDmDohZMYJC6QDEzeEUTQIEKn8NFIeG/IkHyaVCI6B5o3xhR2NEMIumgsE7Vb52se8bESqpd0DX592K90jNVLJvSaukVKyo8ckUsRv7JCmvzvuE0Kmxi46XfylZh//CffczRfJgrvxZ/X/qGlfmqh9Us+JCbHe0LZnYVtIo5putjBOri9XuSctkeLbRv60FQEuzjnnHCHM9CnanO9JyLc8DZHCfJF2JD8mIujn1FuJXJr3iXeRtLKuIwVmqpFqEanOGNsvhkAUASNSUTTsPAUCfNQmP7aTszmY9uFI7u2KWx+9FIkWdmtaIqV1Q8uCwy9aG73Wq5DtRKrX3fn9zocwrUZKc0cA44PG7GCajTxNI5UGsdG7FyEFDTUkCmEF0xki9jHpgukvYdCZCcb0L0RQzA9BP0YhPEIIsoY/5x0ogkghaCJEM5GDUBnVCjBRhfDJb1yHSPH+en+S7mNvqEaKCTHVSHzy6GPcBz/4u+63PvCBI3Z+U+1BkmljGJHypJRxWtuC+jPmUj/GNa+xaEgfoe5oaohsh/DdaeulkYoTKkgSpAmzPqLuffxPPizmfC/efrEjct/fHvMxieT3/oPXNjVTmoYeo0Qq3EeqIRog2obvB5pOSBTYQQYhNmiJQjSeWYgUGEOWyJu+hCZMCRWkmWuUpdeWhkj5tOirfofM0d/wkaOulIn+xPvVe+uPSJHHkRqp3rnaHYYACBiRsn7QNwI6CKmPVItIRT/o0fO+s0ydQHoi5bNglkyIlGh4wurQTqTCnkldoYQHaIesRIqPJEJZFiJlGqmExrBLTQTolzuff02I0oHd++QcIoUWiih+aKIw7eOce8vb/LtJ31fhvXf+PBPdKW1D3jvIThKRSKpPiGkfaaEthiwQMTJKkhhjEK4xPVatARoiIRY9TCRDiRR5ownBrC2JQEWvcQ/aF+/Ho/j4moMv5mEI5520GgjRPIvwjokxdUF4p87UCdLE7xAJxjiiDh511FHSbgjfndotrpHSdaSU9ES1SJzfdcmcpi/UA8u+IhH7PvMXH5MjPlKY+r2+8lIfte9eHwZd09BjFiJF+SHjRKrjSB3pkxAKNIG0dS/SqP0sPZFqSNoQGCVvTCCiiUTLw/VWu2ouycf0RKqVDm2LfxzEnCP9mj5AX/fvXOveI8/yIVK6JMOR6dsVQ6AzAkakOmNjvwQiwEdATftaGqnAh0u6LSuR4oPCgM7HOnRrJ1KhT/V/H+2QlUipRgphMM1GnqaRSoPYaN5LP0HAm2g0hEhh5geR2vvaDtEoMPniNQue3JSDks8rDZFC2EM7DbGBFPA/AifvDRMRW7a+OKk16F6PECIFBhAMcGEHQwRdBGryIU/McRE6IRrTpk0TIbwTWVFMQ4gU4wHjHmSlkyYqSqQ4/9AffVSe8YRPc3OiyehFpKgbmCpxgDwwgcVEFtoZygLOlAuzNdLjHuqO8M7zSVsajdSB//YBJtBEsX4UZGv9lXPdRaccL9H6vjl/pkMzJWQsQqKUlOkxm49UQ0gzE1kENkL7BqECD8gl2ISS9PREygnGal7XwrEh6zrhvxRv09Y97Wf9ECnqRxm0XWlb+kBYoKf+iBSYoREn8I0GyGqvmf1nCHRGwIhUZ2zsl0AE+IgpkcJcp6WRCkyghNvSEinqxEebjzgfMwgKpiYMuL1mx9qJVHeBKs+qU+b0RKohH2jKjFDGR7tVz96lI0/TSPXGye5ovQdop5RIoYWqbktPpBBwVXPL+IDWBj8ltDFoE9C6IPTyXnTbQomUT8OXEzKFqR/vKRM8QrLee0/eX4RdZu8pE9e7bb2IFGMc9YKYxclSr/95BqIZrX+IRory8gx5R3fV/vn0wKEVZU3vi+YVr3dcI6VkR4+qRdIjJIhAExoCXc4nF9gVgsRivJMkqlsakDIIWRofKerm207fFW/G6CcY4jXr/D+4pPWRIu8Wxq20KU97mVq/JZ31Q6RIL6kP9OrPvhxZiJTvTzxPHsgt7X7d2g5JNbVrhkALASNSLSzsLCMCDH5KpIZFI6X+CZhXYGrCB5HZQmZFe23tRKrX3fn9TjukJVJ8QJjhZhaQeiIIMfsL8fRCTPfykadppLpjZL+2EIhrpDyRqkpg8fmm0UghpDIGqGM8hAbSAXlihyBxrde7k45IKX4NSRvfEcrR2hqiwdAyta4nn/UiUuABKUMb1Ys4xX/nGSZWSEO3UCKl9+d5jBMpJUx6VDKkR70ePUKKov/Hz/VZPWYx7cuzztmIVD4l6JdIZS9FOiLFd88TtKSxxxNagmj10u5mL689OUwIGJEaptasqC5RIjUsGilmdvkoIBRALNiZDfZCUneg24lU0kDd/fmsv2YlUgiAhBvWeiJEISz6D0330pCnaaS6Y2S/tiMQ1Uhh2ge5qmZLT6Tay5m93NmIVHvurf/SlaMXkYKQYVYV4hsVJ1I8g9lddJysFZHqoU1SMqTHXqQp/jv/G5GaOelT1eqhxZ+lI1IT43vc5tffTiRKExPjbvsvnpBIlT954bWg72Dx9bMc6oyAEak6t86AlC1KpIZFIwX06gOB7bbuIeSinUiV14hZiBSlYwYTXw+tI0fSCtm4zzRSIUjZPSAQ10hBpHppb4pDrl8ilb1k+RKpdOXoRaTQeM2ePTu1NkpJFQEqopp7JVKYSLdr0tKVO8vdcY3Ue9+7WoiOmOlFTfZyOFczQPJgx7SPqH0+2mCW0md7BoxvGxsTk1MmBMvcRCM1a5b48pWZL3kRoj8k/Dnf8P3bN7sl8890y268x72862BzDIJgPXrvzW7uGZ93p5+12P1g85tlV8PyG0AEjEgNYKPVrchRIjUsGql+MG4nUulmi/vJNyuR6jdP00j1g+DoPRvVSGHaVxeNFBrZ0AmEflutzkQKEkQ0wNAgE0qgOPIM5tBotXSDSGE6zHXGRohaWTtBggjEQehyQpsTLKKMnby+ds5nJfogpp9l1Zd8MMtmTAZzgpMUnTdtqu0KgQNvyDr56vUiyqD56pE6s+ZVVBuqfTB+PLR/pyMqI9EfL166yr2x+6Ab37utSaLmzlvg1mzc6g4c8ut6xZ+3/w2BKAJGpKJo2HkmBKJEapg0UpnAcE4+HnzEfMjYrKmkf64qIlWFRorZR2a+owJbesTSPYEJJDP1ZbdrulLW+27TSPn2qTORIkIbQmlWHykNWKM9Ea0I4yFhrQnjXdZO2O6Zs2bJWlCELmcx3TOmH+vOm/4pOXKe9H8/16JpkycYnjZ7dml1VmzxdwVvxiu9VsYREkWdCV9/9llfKDzvaB7UmfxDiBTfyr27trmH77xOCP6l137TjV3/ddFEcf7TV99xh97XSVA9ao+2oyHQjoARqXY87L8MCESJlGmk4kSqvEG4KiI1/Bop/1K0E6ny2jXDK1nrR0wj5SQoBeSC8Nxlb71M+zBpRpODYBrVNoWc8wzBa6JO+qqRQlugayQRFKfonXoSIp4FZWce/wlZaJd1osraIVXkTQS9ousaTZ8IjvQtAiTh1xv9rehzzDepMz63RecVTx/fPAhcCJHincPE793de92mdXcLgSLQ0peuu0d8pzCP5HsaYspf9vtr+dUPASNS9WuTgStRlEjVWSOF/TSDb9EbZgwM6phVlL1RPz5khCAuY6PtiWaIKVCZvgAIC8xGhn4088ACLQKmIJjq2JYNgbprpBCgEJ7o10XtpK8aKZZX4P+i89S64I+GHwv9GP+h5K0hSyAQ1j1NwAnuRZD272RroqFSH6mtL7rPzfisLKRLIIj3H7xW/JfUjynNER+okPvJg0h/rDsFmSlzXKQ9NUw+7Yfva5kbJBrCXMW3L9RHincAAoUvFM+w6DBmmCy8PH3OP0vESgjovQ+vE1JVJn6W12AiYERqMNutVqXmI63hz+uukWKA5MNe1I4ZCwsI4g+ABoMPGdeK3rU+fBQgUszGkrdeL+JInQgTz6KJmNFgq861IvKKpkke2OJjtoI/QFl5rl+/XvI0ItXf8FNHjRT9F7Mg+nIZuy6rwIRLGflF82ACgjWv/BIHndqyIVopMAnxleIeZvTRZPE9iG68u9STNbaimqroPUWdx4NNJEXZy/MaBArCpetIVRVsIv06Uvm0wKCEPycq39KZp4nWFS0q30xMEjGH5H92SBV+UrYZAr0QMCLVCyH7vScCUSJVV40UQj4zZQgGaE+K2hGQEPAZkJkJvfC8s2THPl3PizwizDAzjKBEWYqqZzRdPjrq/1BGnuRBO/LhE1xLqCd5gin4mo9UzyGh4w111UhBpD7+Jx8WEzDMwIre//aYj0l+f3dc8XnF68LMO+9PdyLlZEKECRneMd61JELFNX7DXxFtOKTJb0dqpEaBSMXDn/PNKV0jlWlB3o6vbKof6C/UufwxMl34c4JNPL5ujUw4Qv7QpLFzTh3Yseoo0+IhFdB2c60QMCJVq+YYzMJEiVTdNVIIxLfcckuhO7O/kIvFZ/yN2OXf+E+nurL2C2ccJwLawoULxTa/6LqSPmZCEAx8pcrIjzxoRzAuK0+d4cUGv3whYTDHhU6lrqNG6sLz58r7uuOuy1zRO9oKIobxrj52/VcKzy9aH9ZHGrvodPf5U/6+i2lfq+UwE4NwEVCGiQQmTCBO7JzzPvAbvl6dQpvXUSOl60T1OhImHXM+zPXQNB2MrUMVfz5OpDDtK1sYpx10vEJb33lrkd3O96T7ZVA0UulqZXcbAt0RMCLVHR/7NQCBKJGqq0YKYaDlI8UHpKjdSdhXBLOnl/+jfID5GPMRZtfz6LGf82iafPBxpGbGueUjVVQ9fboIWghSEJvWzGuxedJ2OK0zU96K2ld0nk5MNZl5NyIVMCh0uKWuGqnzzz9f1v2B5KgfDO8l5yHHkHtIi/QRyiFQEKkn7rqi6bcTmkY/95H3dy87yxOprS92aKX2y/hvEckPk1Zm6jGPZuccXy9+455OWx5Eim8M7/qWrS/KjoUBvqieKPDuJ299mfbde6WDKGm4dAgp2PcyBeSeqGlfFiIFGSIMPfWFpFJX1vcL2cKIlMeM8Zv2w0Q7qQ1Ji/JrOfiOdiNn/RGphtSRevfK50gc0mmkjnzerhgC2REwIpUdO3tyEoEokaq7RgoBvOiNjx7me1EipR9XPrDs0f/7Ode0SANSdSSRKqq2/kNM26MVwtSvRaSKyrOVLsEmqgh/jvbNE6nOwlurlHaWhEBdNVIsoIrgrO9oEUfSjxIp1htCy1FEXtE0tV5tRKpjsImkVuNaoxmAAwGcd99PSHW631/Pg0jh7wl5wzyQHZ8rzDExJ+zmdxUnUuAAEep15B4IFJYEEF5Cp190yvEypr+75squaeh4Tn/KqpGCSBB5j3pefvnlEgCB70rIFkaknPjQ4veJ9QLYJhE1SA0WFmBOOVhrjQApnbZ+iBTtyPPkR9ASIi6Gk9B+iVTDvfvOfscC4d36U6d62/XRRsCI1Gi3fy61jxKpOmukWFPEE6liheA4keo1g5nn700itX59Lm3bKxFmMYc//LnvL+3hz3shY78nIVCMRir+PvO/XtPz6FFL5u9B0FfTPsgHgvARwnbUpCvhXN9hEdATftfrpB8nUpLf5DNtpmOd0gkgAnGiIOW712vbGCPEtC9QI6VoZT3mQaQgB5ALNGBoxgivjWkvBMATuuTSoc3RqH2KibZVtyNkiYkwzCDR4BHKHN9TzLVJR8lUUhq0JztECiuIcDLQqgP1xI+NoDqQwbw1Uozb+ARB1jDPhLgkaZoInARhRfsI/i1Nkb5frTJz1g+RgixD7GhfgpaQL8GTaPveW39ESmWY7196i2OixzZDIA0CRqTSoGX3JiKgg9CdJ13sBkMjlfwRSKxchouYnUQ1Unxs9SPe6YiAxX16jD6jwlX0WjwdfuPj3iRSJYY/V41UFoEhA7zyCGFriT7WMu3LmlLIc76/tBOpYvtQSKkG9Z78NVIN1zj8viywufWZxyVk8YHxcYEHp3IEUd7J3b8+FIPMt6ESKdVIKZHineq1cy+aYDUH5LzbM7y3cSIl7/ykGVm3Z+O/kTf59soz+hz3N037UmukYvAF/psHkYpmhTaMRX/RDvdahyuukdKxND5+6v9RrLiX6+CMZuojH/od0UpxTcdpfU6PPM/9/N6PRgoiBcGBSDCuejIRNuaEaKT4ZoMdhAWNFKHSk4gUYcwxe4V0UQ6vtepcjn6IFOTOa4MakhdaMIgy7d17649Igdnzd21wa794ndux6aXe2dkdhkAEASNSETDsNBsCUSJlGqlJH6mIaV/bx7mDcKYCWfSoH2UVlhCY+L1Tem1EKlgj5T+KfMT4mNCWfuv8sYz2kn41UjzfyjOacvdziFR5pn0ei3Yi1b189msyAkVopOg/+7dvFn8j1oPRRTUhV9ufXeeWXfxld9mtG9zLu+I+Jr5dEfQxTUXboO8cRxWOux1fX3mpwzwP7QU75mD40nR6BgGb91l9pHhW3mnVSAXkSxrs5BPNM6TM5F1PjVRDfHQQ5vHZoU06kQfMzdBW3HTTTT21FVk0Utp24MmYC85fnXmcaKQgVGDPb5122pN7+tFIQWCIfke/xKQOzZSfNOo9LocQKX07SRPC0olI4RsVNTHE3K6biWE/RIoykbaa95Fvy4ywV72NSGmb2rF8BIxIlY/50OUYJVKmkXIy+92mkYrMNutHWo+QH86ZJZ73DyfIB5sjwg4fYwQ1zEsQ8vgwIzjps1HBifM2IhWskWqI4ILJI+YdCCfMPEJwQjbaPotGivTJhxlH/J3CZh1bJTKNVAuLQTvLWyM1Mb7HPffD77mx678u79CpC29zP331HTHvI5gDyxFApHbsj5sItYgUpn1pNVII2DxDcBd2QppjAsY72mnCg3e3k0aqk2Aevc47zrig5mbkecKnP+7WXzm3Y57R5+uskWI8wAcHTRNjUZK2ifEGMzOE/24Cvb4TcY2Ujp2djjKOTk5W0YbcRxtraHyIMuRKyVQ8HX2+XyKFmRtmdfhj4gfGpBHmjEl+TFpXPaYlUt00UmiI0OZC7CA4lANtYKdy9EekGhLUgm8C7Y/FAZqwsG+DESltfzuWj4ARqfIxH7oclUjdPn2By18j5YUdBG8EJmYrMdthZhs/iN+MH5SIQ1zzwn/yzBW23XX0kUIwgiwhgOnHGsHom/NnynVmQFkHBkENG32cnpnFTjLnaSNSgRop/egibC5YsEAi4fGhRKgJ2cA8i48Us8o8x0KImI6EfSxbJTKNVAuLQTorQiPFGLBz+6vu0XtvFiKFRgrtE+MFYcZPP2uxu+mhF9yBQ/HgCO1EKq6RQiiOC8r6P0I2760uN8B7CpnRcOZKXvR+OU4GlYgTKSFdUX+oHvmSh64NBaFioiVO3tryjaRXX42UD36ASRtECZMzgtcgsEfNybgGiRJtVECwiziR0nbpdIQAqUaRc9r0L//0jx3rfYE7bcc42+l5rtOe7BCwND5SkBY0cvGxEO0cZAcNDee9Nh3TO/k9RZ9nnI9rpMgfIhcvB+Xj29CtHGmJFLKD5PXee5IfZae9KRffI74NIXVGFsAMEryzmHuT75GmfcmyRBQ/OzcEQMCIlPWDvhFgMNz83R84JVLv7u492Idn6v0fxvduE0EJ4XvFY7/wQtHhcTHdwdzggU2/nBz4kwe/MolU3Eeqk1DDRxdChEAGQYJMca7mQXzQ+ZCzo6GCaGGnz/9KpDRt+YDHfKQ82eyOtH5I+QhBUtFMYZvPTKAnpt2fp+2zaKTUYZwZTsxX+JCl2UwjlQatet2bt0YKIQrShPaJIAqQpkPvN9yBN5+SCYlT5l0h48ORKLQTqTQaKSVSvLMI2ryfTHDwPkaJUVzg5vc4kRLtRsS0L/6M/o8Az/OqIeGIcN/Mt4eATzp11ki12se3CwI1gjljkxemGxKMAJM3iJbfksd7TesIItWBsArG914peIIrYyy4QqAYdyHZYB21CNCxN36k/VUjFRq1j7HWj4lLRQvFRBMaN8Zn6spSDywz4X2ItHbJx1AiRVqYzrF0BdEByY9ykDdElf8Ji873jGuQXMpBVL1O5UhLpCDG5EXa5EewCfLjnO8Ce3VEKhlfu2oIxBEwIhVHxP5PjQAzV6899jN3/1eudU//5/0dB9nUCcsDDYfD+Cs/ukt8HU6aMUd8IDDT4Toft+lz/lnIlWqpkvIpk0jxEWgz7etmTx/RSKF1wqwPbRT14uPOBxnhh//5oLPzkeeaClh6zKKRwnSEGUnwYcOcBtMaFr3t9LGM4ptVI8UsJB9n7P+Z4cxCpMxHKtoSg3FehEbKHR4X0oRmBu3TDza/2UasVEN1JEJeCEcLoFH7eJeECE2+s3EhWf/nXVPTPoiUmvfx/nYTtqPvM9oshHUlXpp2p6Pmqf46ataHBhuNmD5HHfQ8fqyzRirePowRCNloQXStI8zb0LSEah3S+EiBFWMr2j6IMedgy5jLkR1CxURX0vjbHIcjRCpUI8U4CgnRwA74Y1JvxmY0M718k6LYhRIpyAuaLibOWGwZs0rGZPyiuI5pId8FJsooA2QLEgU57bSlJVLkR148R5tCFsmHHb8tvk9M1vXesmmkwIqw5+xopJBh3nz6xeY12sU2Q6AXAkakeiFkvwcg0HAHdu+TaDeswxA28AUkyy2Hxx3aKHwgbr1qnvuzv/pc09+BGWeEpxPOjs44J89Qlkmk4hqpboINvyGQUQ8EKz7WaJ3QUOkHmw88s6SY9p0x/Vi5rhqpaNptRCrIR6rRjNoE+WPjyMecDxqCTK8tq0aKdJlxVlORLETKovb1ap16/p63RmpiYty9s+H/OQJNfPFfbxSzPoJM8E4x8fKt1U8mROwDGz9WMOOdxkdKiRbvJe8okxyY2PHu8o7yriqBUeFaj1zPqpHinWesYJxgjECoh0ApkYOURccFzTN6hABQVgl/3kUgzrPngC+CMaQgZHJG82ZsQdBmTGKyjvECIZ5rod+YuEZK2yV+VIzAFyKMZQA7bcsOqeLYJMldNFtRjVQokaIvQhYhfmiBIPcQGbRR+CdR99AtlEhBXEhfd4gVbUVefC850l4QK+6B1FCubltaIkX6fC+pOxhQJkgk+YWSZV+etERqchLljV0y+fvyQ0/JESK1Zc0P5ZxJ4ff2v9utuvabISAIGJGyjlBrBIi8hQ8EUbkgUqp9wnQHLdWS+Wc6nMt9RC4Gx+qJVIhGCtKDUBOdjeYjjjCk/lJ8uLmHI8ISghofdA3hqx9/PbYRqUAfKT6eCDhKpPiAYr7BTHDIxzurRopOR/r9ECnTSNX61U0sXP4aKa+x5h1hvSCCShAC/f6Vt8vYcNb584RIbX79bTH3ax8fWkQKE6K4j1Rc2Nb/0Sqx8x5CXCBG/K+THaSj9+q7Kf8H+Ehxvz6rR66RPmOFEqmjjjpKCBHCPhoUtCaMHaIp6RLcht/RtgzaOlKJnSngYhqNlLYVbcpYqmM0mNHGHIWo9jDDpJ3Y6Q/hRCqgMoG3hBKpwORS3ZaWSHVPvPP3/Mjn0hIpnwLEceM3vu0eWXSzHAl/zv/3nXuNaKiQPWwzBHohYESqF0L2e8UIeB8pDWOsEbnUkRyzhOSIXO3FrlQjlSDY6Gyn+kMhBEWJFIISwiE7dvqY8TCTzD0IWCLIRYQuhIA2IhWkkfIaKMw2mAFkdpAjZh5EigqZ9e1HI8VHDNM+hFhP2pJJcHtL+v/MRyoJlcG4lrdGChNfgkqgrb1g4dXiU3Pvwz7sORqpi5eucms2bk3QSrWIVIhGSokMprdognhneSd15z1lwgNNmArl8SPvbjeNVJQ8yTs9SZ5IE8EcjQh5Q5wuOuV4OddogYwplDGeZ/R/yMCgaKTy6M1xjZROQinO8WMUKzlX0sRRz3uZfUZM+0J9pPKoq6YxPERKaxRyzEakmKjFlA9N1KqZl8q++owlQqb2vLo9JGO7xxCwYBPWB+qPAKTpuQdvFPMbHMlZWBNihSAx9ZT54h+FhqrbViaR6qWRggQxK4zQpQIZs9hoojDp4zp1U+3Ub33gA6KN4ho+GGillEhFP/xtRCpQI4X5HnbvrMuC/wGOx2ioMJ8J2bJqpMAIrRdEeNq0aSL8huZJuSxqX0jr1O+e/DVSTvyhNPw5/hyQJkyFNq27W3xLVjzwhHtj98GE4CntRKqXRgqSwsQH7yjmdUpqeG/RCnEdwsNkhxKauKDOewuZYYIk7iMVfZf1HA0IBIl3H8LEu08ZIFUQN3Z8pkhPn+EYz1f/J2/TSHVeAyoJu+i1+Dn/x3fannY2jVSZ4082IkUJmUB84lurJVjWf3z6AtFGQa7MP6rM9hvsvEwjNdjtNxKlx0eKGee58xZI9C1CHT9853VCKojIhXN5nYhU3EdKhZjoBxeBCFKkWiaOCFbszHgjLCFA8TFGUGO2nSN7nEhp+m1E6pENkyHie3WRhvgd4GgMiYJMQTpDPyJZNVLY26MJg8Cx40DeWnyxV5k9kRpdH6nukwa90av2jrw1UtQGPymihaLlZCkETPi4xkSBD3ueVOd2IsW7xrukJCj6vuo5vzPBwc457yjnEBne2ZDnkzRSCN48Sz5J3X5Z2AAAIABJREFUR9ImH9E6TQa6gMiRL9dUW6LPannjxyo1UrzjaX0hk1otzTX8ezD5FJJ8ryexkNMidzBmZxzHtM/7/6QpdX/34k/GWkwEawjxc+0vt/anifZKnfHvKntjPULyTudbRSkb7q0ntwqBgkhBqjxugz3Olo3/KOdnRGqUW39A6k5QCTQ3ROTCZOfxdWuESM094/NyDWdyfCDqHrUvKuRwjgDEUQS3e/16Us1rk6GOmd3mmhIrzrmGgBTXSrURqUCNlO8CDXEiRiOEo3O7H0n3TpJVI8WHivyie4hPlpbGNFINmUlFaIC4cwTT3gS4MWmyWY2QUIRGSvtE6xhaN39fp6h9+r7qUUjJpDCOoKyaB4iR7ryDUfKiz8ox0Ecq+nxSnlwjb81T/HZimpG2fCPkjHJXpZEi4ATvOyG9y9gJrY0P6EknnigavegYyjha9A55Q+POBFEZ9dU8GAuI8gfeTIrp9aKP4E2oeupMGPOi84unj4UDofHTEyknwbKI2rfuX/5dSJX/BoaOI62Rx85GEwEjUqPZ7gNVa9VI4SCNDwSmOpjyEGiC4BMQqQM793StU5mmfXGNVFwwUiEHYUhI1KR/k/4fFca4prOnECf+VwKl6eixjUgF+kh1Jk1hH5GsGqmujRXw4yj7SDHjjECKHxvaPEwjNUAIgiNkONm/rSHCDf0z+fcA4HO4pQiNVLZi+T6OFivER0rfM7Q/+g7ybnOuu96jx6R3P0kjFdco6fN6jOcZzTeaR/P+GLHSeyBSVfhI4QeJ3yf+l2XtCNWQKCIp4lOmppBlHcnzQ3/0USlDWXXWfD559DGCN6RGr5VxnDp1quDNmFRGftE8qDP5QrDSbkxAIUPseul1maBK+7zdP9oIGJEa7fYfgNp7E53tv3hCAiEQGhV/BxzMWcCQ/4nYVyfTvriPlAo3elShJs1RBTc9Jj3bRqRSaaSyd4OsGqnsOfonR1UjBd440GO2M2XKFBFa8KH74Ad/tyk4YZ7JewGhgnTxDNo+zJzwIbrhhhsqExbK0UiF9q4WkQqJ2qfvnL7HbcdYIIJO9/L+QmZCfaQ6paN5x3+P/6/36bEKjRR9j4W+WS8Ic96yd3w+Ne8ijtE0Odf/o/mWWWctg5aj6Lyj+XBOvYvOM56+lgFNXH/mjGETiKEjjN03GggYkRqNdh6yWqYf7OqokVLhJvSoQhLH+DNcayNSwRqp/rqGaaT6wy/8ad/nERIIDsLsKzszwMzCcmTGH0LFTDgztQgVhCNe/8gGCc6BqQ/kC0EHB+uqtkHVSKnWKPoetp2rpiohwlvzvnuvTIza15wgmXxW/u+Wjmqc4gQu/r/eN3msQiOF1hvfKAhV2TvvS9l5Vp3fKNYZzKm3H9fSywdVjYWW73AgYERqONqx5FowUEUHKz1vuMb7E/LR5MPJbHj7fSUXM5IdRApHVGZGi97iGikhOZjxTa5NUtjxv68S/4fP/MXHRHguup6kTxuzeC8z+tjIl7WVq5HytULLM2fOHFmYsqx6xvPB/p/1swgMAkmiX2Pmh5YKUz/a4ZOf+oxoqjBpwrRITYwgWpgCUg+0VFVsddVIqWmfmtEWccQsFyITN+3j/yLyi6epeTdN+7a+WEUXsDwNAUPAEBgqBIxIDVVzllEZT6IgTMwC4V+gkbIwt9vy5MMS1hrHz7WPPiNmeHUgU1EihRYFApD7/t574nsS95Fidpm9KAIFUZP0o0Rq/XoRlpXQFlFX0mQGEHMxBHiEfMlnkkTnnudkm9F+SqQgEdKeReY52a51IFKY642NjQmZi0dA439IPA7f559/flNLBaFCY4X5C+awVWqjGKHqqJECL42ISVTMInfM+gieQ8h0wqUXmVc8bfImOiGR7BgT6zA2l/HVsjwMAUPAECgKASNSRSE75OkSAOLRe292yy7+sgSAIJoe/7OmyUc+9DsyE84aT6z71Dn8cHkgQW5wPkajsGTJksJ2zK6w32bNF0KZI7QQvamsnbVswB/NA2Upsq6aNg7NajJWRp7kMXv27NLyZNFg8kTYxnmd0O1VbZAl8X167z0RgvmfCQ3IkWqZ+B9CReQsJjTwiWKhZUhni3ypFrncmtRVI0WwDjR3J3z646XsaI3Jj2NZeZIPgRbIl37MmGibIWAIGAKGQH8IGJHqD78RfNoLYBpJjw8yazmNXf91IQ4I8R/582lCrhA+l914TyQ0eXVwKZGivGhPMI0qasf0Cv8VZn0xGUrapQzR3yhP9H/OQ67F7qF+mHPhI1NU/aLpUg+0HdQXYTT6W5Hn1BNTtTLy1P4CpvgjVUmkeIPQ9EGKWLMFkgfBI/gEmijKxro1aOnYIVjsnEO0ML+EZPF/VVtUI7X3tR1VFaOpjUGjThuzgyk+ZUXvEqp51izRLhadl6S/fn2zTozLmDljDmpb/RHgvWUCRPYulhQ6kVL/GlkJDYHhQsCI1HC1Z0m1acjil/evvN2tWHWfzHaz+CAkCmf3L113j/vpq++4rc887u64doUsmMtMdJWbmvYhbKo5YhFH1qRBmEUoQwuAA6zms2ffXlfkjqaC+qEdWrNmTVveWoa8j+TJYr5owCCreaffKb3bxsZEu0gkOjDvdF+e1xGy0YRVS6QaYpKFNhACy/sWjdoH2cNnjTDo4KKmWwhhtA/aqbpE7fv+v425fW/sqnBY8GMSfQTST7TDYoTRI8c++hCaa/pv2Rv9mMkeI1JlI58+P76b+7dvdnxrId+33HJLx/0nL7wWuAh7+nLYE4aAIdAZASNSnbGxX7ogoIM7/hpoo/7yT/9YBLqjp81xD2z6pSNc+cN3Xucuu3WDhCcvRkDpUsDYT0qkcMgvemPGnwhp5QvcDQk4AJHCrKuMDc0GgjuCaJnBJljF/uyzvpBpzZCsuLT7SB0pHGdNN81zEHOIKxpANHIcaW+OmGxpGHTMWBG8IPOQKvo9fZL7qozaxziARmrtF69zj1+xYnL9t2qwVJKpRApNTVmaOtpk/vz57uc/35ym+XO5l0kWTJyNSOUCZ8GJNNxzD94oJplYGmgAmeiR8z/46BT51qKtts0QMATKRcCIVLl4D01uBJZ44q4rxPcHEsUg/2d/9Tl38dJV7vF1a8SJGmdqtFOs86RCS1UAQKRmNqP2FSu4MfOPkFQ2kUJIRWAuk0iRpwabyLIQYtb+gOaNWfUsq9hnzRMiVbVGCowRguNECfMtCC0aKQgWwhVH+oKaXvI/5qZE+/MTG8W+B51whkjd/5Vr3cZvfLvnQtqd0sjnuq+/Eal80LRUikHgV8/8l7vwvLPErBjTYvzq0ELzzeXdxswZP1UWpu+1nmIxJbRUDYHRRsCI1Gi3f+baY3Kwd9c2T6YWL5ZZbgbyza+/7Tatu7sZhGLZyvW10UgNO5FiNr1sIkWeECn8dMokUhq1rzoiVTYJ8flhSol5DxqNePQ9gkyg4bjjjjukPSBRECq0VJyjiYIMotWqbmuIOd/zd21wLz9UdQTBPIlUuv5gGqnqeuCg5cx7vXP7qzJphKXHkvlnynvNxCWRcRkD2Xf/+lDlE5aDhq2V1xDIAwEjUnmgOJJpNFzj8PtuYnyP+KcwiBOdD4KFoIbAd2DnHjkvy1ymWzOMgkaqKiKFJmS4iZQXkuugkcJ0h2ASreh78V7fkCh+aEUh1QShwBcHc672qH3x58r9/73970odvGas3LxbueVJpFqphpwZkQpBye7xCLRIOt/bW6+aJ/7ImNHji2ybIWAIVIuAEalq8R/Y3H8zfrC5ZhQBJ97YfVCIlTfhY+DXwT96Xl11sxGphsz6Y/oTn/3vVpN20z7FodsT7b8hJPv80j1bFZHKrpHy+KbBVpFCI4WPVFqNFEREg1OE+xP4dmgnUunaRsudzzEpb65Fr3tsmdBgb+9P0fvyKdFgpuJxyMO0j8mjF55/XjR++B51JroeqX6IFGnT71kT7Nlnn5WJrDT4m49UGrTqcm9DJikxqYdIoWlGIwWRYkKz9d2tS3mtHIbA6CBgRGp02jrHmvpIQiwmSaQ+BvQVj/1CwjLnmEmuSaUjUl4oZQYfh31m9PHJQRMQ8sFqJ1Kh1fBCHQIZmgTMt9KaYFVFpLJppBpiCkg9MUVLq5lIZ9rnscVEBl+iRYsWiZkbgRjCyJR/vp1Ihbar3VdfBHy79kukIDaQEw2Pj78KfaXblp1INYRAMSahBSZPog36salbjq3fjEi1sBi0MyVS+t1taaR8Xx60+lh5DYFhQMCI1DC0YgV1IGqfhjzXSH11dnRNR6SczPiyRg9aD6KdIbAQLY3Z/V5bO5EK/8AhDBHWG0GMgAJphCPKVBWRSqeR8nhAUnkO3x1Cp4cRmhby6TRS5NkQEkWwCIRQogySrw8I0quN/O/tRKrXM62y2lldEfBt2C+REoK+fr1MgBDIg7XNCE/fbSIkK5FiwoF+SLRUNFKQKAKP9CJu0RYwIhVFo4xz+ll0j+fpzeTjV/3/7c8pkcLvUU37qgwck1xmu2oIjBYCRqRGq71zqm3DMaA/d/NF7ozpx7oTzr5CTAzia0U13p+Q9aaymG7lVNBmMmmJFOHDiQqH0EEQBUgUAgsCkN+8ENbMIHLSTqQiP/Q43fSzTZIPEf9Yhypt8IaqiFQWjZQKgQid1DULkQqL2ufbCXM+hE4CLkDiaCMI8vLlywPMNn0a7USqR2PazwOAgG/X7ETKP48gC5niyFjHOl30s26TLlmJFAI5BI382FgTikkXNK2hmxGpUKTyuQ8zeNZUBHfGPXyJaUdM8ggiwbeG3+gTO/a/1yRd9J/nfvg9aWPWiGKMVCJlGql82sZSMQTyQMCIVB4ojlQaCA8NCTLB+hZXn3uSO+H/nixhzpmN5aOgOyZq+E8RyS9OssqGLC2RwtwMQoPQzcYHEIGFOrVmF5Nr0U6kvLCVfGf7VYR9fB8070EhUuk0Ur7OCIPUlZl7tEOQwDRbOo2U1zBi0sf6U+TFDoniWjeB15fJt2E7kQpv1zT1snvLRMC3YQiRwnyPddLos2iK24l/qy8wXixcuFBMglt+Uq3ftXbZiZTXPDOeMd7y7qBh1XFK0+92NCLVDZ38f1Pywzpv0UlHCBZrLZ7w6Y/7UOanzHdrNm6VEOaQLEgUE5Wf/NRnJLQ5BEzTMo1U/u1kKRoCWREwIpUVuRF/DtO+G//pVFkElDUtGNhZ14KPhR5Zt4YPxw82vzlgRKohghAaCwQnti1bXxSTnRB/nnYila6jIHzhjwWJGxQilUUjBSrMqkOkqGtL6AzDK52PlHMskozAiRDpTWGcEFaE3t44e0G4nUiFlXO071ICoce6oeHLFUKk6D9omiDejAFJZrekw7uAlhWi023rh0hB4tBEEZERU1XGqTQL+xqR6tYy+f8G+YEw8W38yJ9Pczc99IJ8D8f3bpNlQggcwTeURXVZh1Gi347vaXsGH2RM53lGo/ZpsIleE3v518hSNAQMgSgCRqSiaNh5AAJe+Djw5lOijcLEABKlu5IqPUKkHtj0ywEjUu4IIkVELgQkBHj/4eoMVTuRSidEDiKRyqKRAj0lUsyqZyFSaaL2qaZAiRRkCj8TBOMkobi9dX0bthOpdO3ant6w/+fNlnw0sTrX1bdhCJFCa0n7Q2Dwq6Pv0mdVM4WGlcApmJui9ezVn9MRqYakh9kg/ZY8yQ8NGQFTTjvtNK8BC9TqGpEquU8eHnev/Oiupubpsls3CFliTaivzjxOIvBBppiAPGXeFbLuomqe+L5OPWX+ZJhzb1K/7OIvt0Xt8xNDNh6V3KqWnSHQRMCIVBMKOwlDwA/YaKSYGWPFdXxcEIajO1oGnPm/+K83DqBGyrm7775H6oXfEgIMwhECi/dFAIPOH652IhWGKnfxQURAUtM+hH//kQxLY5B8pMAPAZaAHvQfBNM0dU2rkYIskRfmfJhQIhijDcNvCsy7b76t24lU9ydG+Vd8I8EXTZ8SjXri4du1N5HSd70x2UcbUi9IDDvjA+bMPoLeUkf4c+rO9U7jRBoiBSkjfTTVjAkQOfoiWjKuK5EKNY81IlV2b2w4JU1MOPJNxBdqy5MPu7877hNCoFgsXkkTFhx8Xxef8TeiqeJ+lhehL7GO1Nj1X3ef+YuPuelz/rlJsDr1s7JravkZAqOIgBGpUWz1HOqMkIDZmyy6Oz4uQgPXEIg5sr/7zn6359Xt7sD4+MBppBCGIIMI+QjcmNAQcKK39sJJIAOeDYsI12oMBCPCrTOrPXXqVIlqxzoxoQSjKiKVRSOF6RNmUCedeKLUlXpT/9AtrY8UAj3keNasWUKo0ETRtmFtlESkVLgOLfHo3Iewt2nd3e6Oa1eIbyFmsZieddppdxb09sJgmbj6vHoTqSPbDnIDKaffQho5JxgNQSbYMQNkQqXTloZIMaaSPmMK4wHkjf6LqaoGTDEfqU5I1+O6muSheULDRPCIR++9uUmelt14j/vbYz4mpn/fWv2kaLBmH/8JsfRYtnK9mPVJTQ6Pu727PJnmG+UDV9SjjlYKQ2BUETAiNaot31e9W8IOQj6CEx9yIVaHJhxOtMzyM8hj3lN1oAmqmjbYBIISASYgTwgtzAZ7f6lW3TtBmFUjhaCJ1gThCKGJc2aeQ2eaqyJSWXykIDDgSj3ZIatp/DzSaqRoK0gw2j4EXfJmNr+XCZZvY9/mppHq1OPbr/P+E4gGbfVZ589rtrG2dfx4wcKr3YoHnhCTpnLHiuxECtLHeMAOSYcMQo7oI+xosiFonbY0RIoxlnwYw3SiijGGNHiPfD69xyUti2mkFImyjl6TpH5S+DatffSZ5sK6aJxoy/Omf0q0U/hJce+xH/5t8ZvCP4qtZSpLW6t2VOsQ3v76hB0NAUMgHwSMSOWD44il4gdtBHdMEBj0557xeYdAhD8U14hux8eiNdNcLURpiZQvbUPMwMRE6T3C0oZt7UQq/AOHkKTCGXlyjhlaqNlGVUQqi0YKog351npSV+ofuqXVSGm6ECfyxL8klKAq/u1EKrxdNe9ROUY1UvihoQlkPEje7xFTJcgVviM+/HNZSPk2zKKR6reEaYhUv3nFnzciFUekhP8Pj8vkAiZ5BJVAA/W1cz7rz1eulzDoRMBFY4WfFIvdcw7pwtSPMQgihTaKcYg2xF8PzRbfWE+y6M82LpXQmpaFIdCGgBGpNjjsnzAEGm5iwjvQMvjzcSC4BIM+EYkY7DFbQKPC/978oNoBPhuRCkMjflc7kYr/2un//vGpikhl0Uh5FLLXOYtGqhPyva/7crYTqd5PjeYdDecOj7tdL70uQp5EIGv42XM0K7rTVxH+8KfS8eLSa78ZGS/KQM+3qxGpMrAe5Tx8P8NPCnM9gkoQuAhTPr6ZaJz4nj6w7CsS2Y9rM4//hBApgjW9vOugvFOEQ4d8EQ2XCIAcCY3OBCZki3fLiNQo9zOre1UIGJGqCvkBzxebbwZ+BnzWkcLXBTMePgoIT0T1IxgFZgusI1X11h+RUoFfj91r006kwp7pnmLYr4NHpMLqlXRXVo1UUlq9r/k2bCdS5bVr7/LV7Y5Gc62u3iUDx4ZosXGi/9J190QWJe39dH93+DY0ItUfivZ0LwR8P+ObCRFi0hEyhcapGTAiEtmP6+zcg5nfnn175f3gWV1mBB/aKVOmNNPSsOlGpHq1hf1uCOSPgBGp/DEdiRSZXUPwwUSB2TB8Ivgf0z7Wu8C8765L5oiZwiCGP++nEduJVD8ppXu2SiJF4AZM5sraTCNVFtJF59MSMjERZuJFZuDFRMn/VlwJjEgVh62lHEcAk1cmFyFJSqbo7xKR7/B4W2Q/fhcTwJXrJViThk9HC8Uz+O9i9cFivpArCJmP7BfP1f43BAyBohEwIlU0wkOaPkQJ4sRMGKuxM9DzP07jmCCw1gWDvK7kXjUMaKSI2IafRtEbRIqAETicl7lh2kH9mKkkkEIZG+SNCGUQKfyOytoIR090wzLJm2qkEGJs64aA10j50OeQld6EiNl6xg+ExJ+++o4k7k2VuuXT72/tRIrAMvTnMjb6EH5haQKs5FUu85HKC8m06TTcE3ddIUEk2ojSIfqcXyOKyUfCoPP70dPmyLeVACxMXN42NibBctTCY+f2V2UdqnYi1ftdS1tqu98QMAS6I2BEqjs+9usRCPiBmtk1PgqfP+XvxbSPI2tinDRjjjtj+rHyMWBGDVMdP8N8REKlXlAihSZDw7MXcSSYAcIRQhLCEv8XkU9SmgRrgGBApHBERpBNui/Pa+TJWkznn3++BI/IM+1uaRFFcc6cOZJnGRiTB2GnCYPvQ6aX2n0HK7PD49IuCHyeTPUo/uFxt+/VH7lvzp8pEy+MF+X4e7QTKSJH0p+79bu8foOUM0boOnV5pdsrHfoxky28O4TPtq1MBBpu+7PrxLyPMRotEtYczUiVkwEp+JZiutfSzvoy8k603ouGrEOFnxVECj8plhmxzRAwBMpHwIhU+ZgPRY44iqsfFJonZtCiO/bdrJchjrSN6mfJ0BKxzguLVyIwFbVfdfXVoo3iQ8kCxfxfVF5J6SIg4YiMM3NZeZ988slC3ggrnlSmIq5BaD559DESyryMepIHZBFfQCNS3YcwJllYbHTFqvtkUoF1pNiZzIjvvJdbn3lc/C2nTZvmTl14m/hIFa+Nog4tIsXi4bRtEX01KU36EmMEZCrp96Ku0Y8ZI1g8mLawrVwEeDfQLjEpw5pg0ai2EKpD+3fK+wDR5t3ATD5Knnxpven8kvlnipmgBKx44InJtaaq/9aWi6jlZghUj4ARqerbYGBLQKQhDX9+4YzjZBaNmTQEImbTIFH+Q1F9FZVIUb6zz/qC7JiG5b1DYCBs2LJDMPg/7zy6pUf9sMFHKOx2Xx6/gSPpIBBSX0wn80i3VxpgSj3LylP7C/2avWyTzerfnjQl8FH78JnEOZ5+yHvQaUeg5x7a8php8xyLkfoon2nyzHpvO5GCmNP3tF/36odZfyd98CA/jmXkqWUlb/ow+RqRytpv+nuuqYFKSIbfuv2OxhGtFiSKCTNIFH7KLb/ChETtkiFgCBSKgBGpQuEd5sT9uhbM6rIAJwtSvvD88zIDjWkbjq9BZj0lQYTQMHPWLLExZ2FWdnx68txJc/fu3aKxQBvFrCP/k0cR+WnZtT4cMXkjJC5+EORddL74KOFbwgw7WodoWbR8eR41fRbWVfOkMupJHphLmmlfwAs7aaJEqOeolrrTOaZJ+IOwjhQCYTdBMiD3FLe0iBTvK8s1lPWuMjaQJ+tJaZ/O8z1JSot86MeY/+q7kwIsu7VyBBrif4zpPJNlvDP4JGPSV947UzkIVgBDoHYIGJGqXZMMQoEQQFohjnUxQAgVZgv4IbEThKJlt12tyQFEqqxgE5DKKoJN0CYQKDREoxBsAs0UAmNZG+Y2CKBm2tcdccyX0EhddMrxghft1GlHQzJ33gLRREGiMGUqb2snUmUHm2CMqMJPae3atUakyutkOeTkzfuw/kDLqySKBe9b74v/JueQmSVhCBgCKREwIpUSMLvdD9jqB3H/ytvFFwLhkmh9OIxjcoDZCiu0E/rcFuQtp9dUFf586dKlopEqM4Je9eHPyxT4y+k/eeWiYwM+UgScoF+89dZbHXd+11n1cnyjtKbtRAr/obKi9qGJsqh92g527I5AwxHVktDpRPQjiBOm8+sf2SBWD2g3f/LCaxLYSP3+uqdnvxoChkCeCBiRyhPNEUoLp1gW5MXeHsJE6OKvzjyuOdBzDYdp7LcJZ1y16YGa9t199z1NJ/Oimgt/LISksjUXVRGpZcuWlU6kNPw5Anrxmxe4Nfx52e1afP3yzqHh3n1nv5j3lkuM0tbDiFRaxOz+8hHAFxkN71/+6R+LqSymsExW4leoe2sdKZvgKb+FLMdRR8CI1Kj3gNT19wM1RIoFAZcvX+7ufXidzJYd++HfllCsRN4irCuRu+64doXMlo0uker3wxb+fFVEyjRSqV8ie6AWCPh3a+//7m1G2MxfI5X8/uavkUrOJwlmW0cqCZX6XkPDy2LVLC+CpUfSjnmsX5A3vB/Ut8ZWMkNgsBAwIjVY7VWT0jbcnle3OzXrY5DX9Sw0FCuLBUK00Ej5BQSrHeAHRSO1b98+8ZsgcAfnabZ+iBSBQbZt25ba54g8B0kjhYYEvyo0WaypE7b5vmsaqTC0Bucu366hRIqIabwjBw78uksVGxLQAXPFbqQsDyJFOejHlCvNZkQqDVrV30s/4nvKuoSMQUk7pn0tf6nqy2wlMARGCQEjUqPU2jnWFY0UC/Li/PqZv/CLAkKiWID38XVr3NhFp4vZny7Iaxqp3uAT9Y61mHBCZyeKGGaCoVs2ItUQYnHTTTfJ2jJEw0uzkeegaKRYbJXIe4SCBudws8AkIlXtxECaNrJ7OyEQRqQg3/QVJgyI2ohAm7RBaBByL7jgAolk2W0ipB8ixaQHIfh1rIDcpdmMSKVBqx73HmkiS99N2utRXiuFITBKCBiRGqXWzrGuECMW5MVPat4/nCCL7168dJWY8aGh4tpJM+Y4rpUb0ji5knXXSPGhVDKD8zBR91g8eGxsLHjGOQuR4hmieOHTxXo+CItpNp4fFI0UwicElXW+CNceTlK9wG0aqTQ9YxDuDSNShAy/5ZZbpM+wfhlkPL7xHuA7t3DhQulfHHmu09YPkYI46TvHGMHYlmYzIpUGrbrfq2Sq7uW08hkCw4uAEanhbdsCa+YHb4SHvbu2SchzTAt07SjMEDBNY+V2zPqI2nfkjFqBxUtIujoi5YW1hCK1XcK8aMGCBRKgQ3D9371u8eLFopXqJpBFE+G51atXpwp/zjNowphlJz983tJsPD8YGqmGmGUhwEJYwTpcAPVt2E6kwto1DZZ2b9kI+DbsZdqHZon3g8kNwt8nLS3Ae8CyB0yC0L94l7q9t/0QKUxTIW1MgJwu3CRgAAAgAElEQVR37twU/djja0Sq7H5m+RkChsAwI2BEaphbt8C6ITjgBKuLPCI06MKSesSPisV5+W10iVRYI+BTgUkQRAasMENj1hkNSqgJGm2Slkj50jXEHwtTwhtuuCGswJN3kafOjlOHsrYsUfvAFb8otHzg2h+RKqumlk9xCIQRKfoNO5og1r1K0khF19UjMmiRRIqykB9kCiKVdi0qI1LF9ShL2RAwBEYPASNSo9fmudSYdS0w4UMgxSwsaecjz3oXRPAzH6nusEeJFEISRApSUzyRagmTWYnUYGikPP74l2Cm1T+RMo1U9x7d+VfagPDo7+1/t+IJllbfv/DCC12vdaTQOLGwcDKR8vVlYqFoIuV9Y5wRqc5dzH4xBAwBQ6A0BIxIlQb1sGTkhY99r/7IXX3uSbJu1G994AOyvkX0yFoX7Cec7RflHV0iFdbuaO0go9dcc43MNmNOBLHpNbMdTT27RsqJRop1v7KY9g2KRgqswAiNFKZ9CMZhm+/z7aZ9YU/aXXEEfMTPp//zfrdlzQ+FTMXvKO//dEQKjRREKmrah4bTR83zaUFy0Pjw7mIy2GlLa9pHPuxeG+VTRSOVztfPP2caqU6tYtcNAUPAEEiPgBGp9JiN+BNeYCDQxI3/dKpE7Eta14IFAz/0Rx+VxXpZkLfq0Kx195FCSIKQEFFOg01g6rdq1argMN3ZiFRDTDLxAYHILVq0SAiGD/GswmHnLk+eg6KRgpziuwdhVIE4zOzU49BOpHpj0xm1Uf6l4d58+kW3+owl7vErVrgDO/dUCIZvw14+UmjQMK+FQM2YMUN8oCBVGgUSnyj6Ee8M/oa8x2i4eKc69a80RIqxAX8oJjnIV8OwY95K4BR+w2+KdzFkMyIVgpLdYwgYAoZAGAJGpMJwsrvaEGiIAESYc8xcEAqiO0QAsz9M+y67dYPbsb99JrUtqZL+qY5IhVeQMqKBgtAQ9QsBDQEpdMtCpJjhRkAklDKO9PiAQIx8RLveZIE8B0UjhS8J+NIvZ82aJaSRfoug3H1LIlLdn7BfOyHQTqTe3d1Za9MphfyuhxEpCDikBXNQjfiIeSjvppqJQrQgUWiU6V+ESWdSgrEwaZ2nNEQKwgaJgpzhc0pejA38T3koF2QqKZ8krIxIJaFi1wwBQ8AQyIaAEalsuI34Uw03MTEuM7LMliJMszcOv+8a70/Ijsbq1qvmSfhzNFJVb9URqd5kRLGB1GhELkJ1h2qF9PksRApTJAQzZs91J9piN7MkzY8jeQ6KRoo6aR05YhrlA2T0aqMkItXrmShKdh5FIKqRGgQixRjHxALkh37DEUIDcaH/YCLKPfQv3ttoH+Pd4h2Jb2mIFM+TD2WAVLEzKaDlIT80VUn5xPPlfyNSSajYNUPAEDAEsiFgRCobbiP/FBH7tj7zuFu9+h4xP2PGNrozU3vRKceLad8Dm35ZOV7VEanyqo4glS1qX/Yykmf9NVL9kp4kIpUds1F/csemlmnfIBCpItorDZHKO38jUnkjaukZAobAKCNgRGqUW7+PuqNx+ub8me7YD/+2BJX4w9//PRff8ZE6deFtzjRSfQCd4tGqiNSgaKRSQBm7NYlI9UvOYlmM0L+DppEqommMSBWBqqVpCBgChkD5CBiRKh/zocgRIkXUPoJKQKAgTfHj0dPmuG+tflIW5K260qaRKqYFqtJIEYSDwByYThW/JRGp4nMd1hzqqpHCv4n+XMamRIrgJ2VvppEqG3HLzxAwBIYZASNSw9y6BdZt//bNbuz6r0sENEy74jvO0SseeMK9sfuglKIO4c8JMIDpm67DUhQ8+EzgAI4PTtF5ReuAj1VVpn1EGPT+RtESFXcOkSLyXjlEyteDqH0E5Ci7XYtDsZqU66qRqoJI4WtV9kZgCvpx2oV8yy6n5WcIGAKGwCAgYERqEFqpdmVsiHM1oYsP7N4nTtc4Xkf3A+PjEvK8RaCqNYVCIwWR0mhbu3btkrDfeR4JFEF6OH+zvgvR8Ah/nGcendIib4gMayRNmTJFFgUlby1Tp+f6vU6eGk6c2fV+0+v1PPVhJ2oZ7VlWnmCJAHraaadNEqnavZQDU6C6aqSI6Fj0+6L9m2injBGQc71WxpF+vHLlSokqaERqYF4ZK6ghYAjUGAEjUjVunPoWLYQUcU/IfeXUkohXhApmHRhCixe1E0YcAQkyg8aE/1n8taj8NF3yYKd+mFki8PNbUXlruhynTZvmWEuMcMzUV8tU5PHkk08uLU/qSL0IaU1dvUaqnH47jLnUUSNFyPKpU6c23xft30X1YcxSGSPIt6g8ktKlHzMO8v4wuWSbIWAIGAKGQH8IGJHqDz97ekAQUCIFwbj88stlPSFmoPPeSZt1oBCSIFRF5hUtu+ZD/fBbg8Tpteh9eZ5r+ghl1BfhU6/lmU88LfKgnpA3hMWy8gTTk0480YhUn+98HTVSvKu0bbyvFfE//ZX8IG5MPhSRR6c0yRuzPiZcjEj12ZHtcUPAEDAEnHNGpKwbpESgPlqmNAXXYBOYtbA+EzvrsehR12fJ44i5GQISDuWsL1NEHvFyap2oH6RGF+gsKm9Nl+PSpX7xZXzDisI0Xt877rhDBELyxKRUyxO/L6//yWP9IxtEK2U+UmnevCPvraNGivcVE1XtR3rMq//E02GhXvKkL8V/K+J/6sNOP7777nvMR+rIbmlXDAFDwBDIhIARqUywjdpDDUcgA/ZB3ZRIIUQUvaH9agWbKDq3VvpVBptghh3/krI2jdpXZoAL/Fkw7zPTvv5auY4aKUjNVVdfXXrUviqCTVjUvv76rz1tCBgChkAUASNSUTTsPBGBxuH33d5d29zm19+WABKJN9X8YjuRKlarBpHCvK9sgbsqIjX860j5zt1OpIrtQzV/nfoqXl01Ukak+mpWe9gQMAQMgZFEwIjUSDZ7ykofHnfbf/GEu+PaFW7to884ZlGTdkzauA6RIOz5offrI2yOApGqakFeQt+jkSpTO4RG6uyzvlBS+HPfj9uJVMp3yG5vImAaKSdmv0y2mEaq2S3sxBAwBAyBgUTAiNRANlvJhT487l750V1u6czT3Nx5C9yiRYs67kSF4vdlN97jfrD5zQiZqpZUVUekyqt3VURq+DVSSUSqvHYt+W0vPDvTSBmRKryTWQaGgCFgCJSEgBGpkoAe6GwOj7utzzze1Eg9++yzrtOOVurhO68TR+ovXXePmAPWIQx6dUSqvJbvl0gRGIM9zUae/WikfjMxIQ7wafLk3u985zuOENLlLMibRKTSltjuVwSGTSOFSS2BHPb+717Z9+3bJ//TtzttBKLpRyOleRI8Iu34aj5SnVrFrhsChoAhkB4BI1LpMRuxJxoOH6md2191P3nhNREQugPQcON7t7nnHrxRwlLf9NALbvevD6X+2HfPI/2v1RGp8jQXWYkUwhgEmMWKMV9Ls5FnFo0UhA0T0NvGxtzq1atTBzLRYBPVEany2jVNewzCvcOmkYJAQU5uuOEG2XkfWDCa/t2J5PRDpAjqwoK+y5cvl50FwD2hCmt9I1JhONldhoAhYAiEIGBEKgSlkb7HC4zMgCL8cgzZIFNopi5eusr99NV3OgoUIWnlcU91RCqP0oelkYVI0Z6ESmdhUBabRbuUZsuqkSIQB5ENyfOCCy5IrQkzjVSaVqrXvcOmkSJcOWQGgsK7RNAK1lbrNimRlUjxvkKiyIOlDtBqsaZamsA2RqTq9T5YaQwBQ2CwETAiNdjtV2Lp083AT4zvEa0URApfqYlGuufzrlh1RKq8emchUpgfsT4SxITFbZnlTrNl1Ugh+LEWFGQKYTCtSaFppNK0Ur3uHVyNFO+y7smY0o/p1yx82205gKxEilwJ6sKupIrFdSFwoZsRqVCk7D5DwBAwBHojYESqN0Z2h2vI+ire5j+EGDScEqkv/uuN7oFNvxxhIlVe98lCpBAMEf4wT2JBUsyT0mxZNVKYIpEnM+tZiJRppNK0Ur3uHUyNVGstPa+VTx4HWSCayQHISiezPlqjHyKlrUk5dHFdFvgN3YxIhSJl9xkChoAh0BsBI1K9MRr5O3QdKfGROjQhM6F8xDvt3H/gzafcXZfMcaeftViIVNUgmkaqewtAaphFz0KksvhIURpMoiBvLIbazTE/qeSmkUpCZTCuDaJGCl88TOl4PyAiu3fvngS7RahUG4WZLISq25YHkdq2bZuYxTIZ0SpPt1z9b0akemNkdxgChoAhEIqAEalQpEb4vomJ1jpSmIEhBHTbn/vh99zY9V93Z0w/1p268Db38q6DlaNXHZEqr+rZNFK+fEQag9RkMe3LGrVPiZRopLpEOEtC0DRSSagMxrVB1EhBWgggwWQDhCqJuECezjnnHLd48eKeQXnSE6kWYaOVd+3aJe8q2i/GtjSbEak0aNm9hoAhYAh0R8CIVHd87FcQODzutjz5sJv3Dye4KVOmuKlTp3bduefjf/Jh95E/n+Yuu3WDO3BoYoRN+9oFoCI7VDYi5U2WEMwQEiFFpOPNl3qXlnuzaaQaYtpHnmikIFWheVIq00j1bpu63jGIGik1f+U9YdKB/1kCggV16beYqhL18qQTTwzyV0pDpMhr0882Ocz3yBvtMRMeBGnB15C8eQ9DNyNSoUjZfYaAIWAI9EbAiFRvjEb8joYQqV89819u9vGfcL/1gQ+4D37wd7vuf/j7vyckinWkiNhXdaAJGtA0UsndGAEMYQzBbPbs2RK9D78LH1a8Nwnk+SwaKUJDM8M/Z84ciXBGGHRm/UM300iFIlW/+wZRIxVHEXJDv8fUj0kAgj+gWUUb1S3IhKaThkixRhWTFZgMskwBgSUgbPzPOwSBIz3KFLIZkQpBye4xBAwBQyAMASNSYTiN8F2eSG1/dp1bOvM0N3feAonuRoS3pH3BggVu0aJFbtnK9WLS1/q49xbKiwS5OiJVXr0hNazJhEZw/fr1QXAymw6RQiDTHZICkQrREJFnFo0URAoBUPMk0lkvv5JohUwjFUVjsM4HUSMVR5h+T8hzds4x9SMsebe1o6JppCFSjKHcD4GCpKGd0vdGj5SjNdZGczry3IjUkZjYFUPAEDAEsiJgRCorciPznCdSW7ZscStW3ec2v/62CA2YuCA8xHeu79m31x0YHw8SxMuCsToiVVYNnQh0aYkUpSPQA+ZB0T2ERPEsQmQWjRTPaX4IgGnNk0wjVV6/yjunYdBIgQnviL4nHHmP9P9emKUhUkT/I13eGT3XdwZtGO9OmmAtRqR6tY79bggYAoZAOAJGpMKxGtE7G44ofIf27xQSleaDXSfAqiNS9dZI9dtGCHdZNFL95msaqX4RrO75YdBI9YteOiLVb27tzxuRasfD/jMEDAFDoB8EjEj1g95IPOuJQOhMawuS8ghEK8/OZ9URqc5lyvsXSE0WjVQ/5SDPLBqpfvLkWdNI9Ytgdc8Pi0aqHwSNSPWDnj1rCBgChkB9EDAiVZ+2sJIUiEB1RKo8QlkVkTKNVIEddwiTNo1UPgvyZu0appHKipw9ZwgYAobAkQgYkToSE7syhAhUR6TKA7MqImUaqfLaeBhyMo1Ui0gRha/szYhU2YhbfoaAITDMCBiRGubWtbo1EYBIzZo1yxHau+iNyF2EQiYaXnlbI3OwiX7KqKZ9rGkTEva5n7z8s17DV65pn89548aNEq7dt2t5msb+MatXCnXVSF1zzTWTAR2KxwvTPhbTrYJIEf2PZQcIIGSbIWAIGAKGQH8IGJHqDz97ekAQUI0U67wQprjInbDeM2fOlLWZCENeZF7xtKnfUUcd5RAK478V9T8L6p588smySG5RecTTJcQ+a+kQdKIMjMkDE8YZM2aUTJAH5AVLUcw6aqSYCGBdpng/K+p/tLiMEYQvLyqPTumyCDaTSlu2vpii1exWQ8AQMAQMgSQEjEgloWLX+kSgfrP1aIkQXFhjidnY02bPzn1nQVtdYBYyg6BfVF7x8pP3aaed5qZOnepYEHnatGmywG78viL+/+TRxwh5g2SUUV/yoJ5gXFae4Aum7OVqGvt8FWv4eB01UpAo+jHvUBHvSDRN+hJjg44R/C/vbwFjUjRfzsmHd4eJDyaXbDMEDAFDwBDoDwEjUv3hZ09PIvCb8YPuwM497r397wavpVImeGrax0wwC1oWuWM6c84554i2BNOdIvOKpo2AT/0QCJnpfvbZZ0vJ+2uXXCIC2qOPPlpKftR56dLrhEStf2RDKfUESxYNnjlrlizCWmbfHba86qqRwtSOdyj6ThVxTl9Ck8oYQZRN8igjX/Ih7+XLl8v7aqZ9w/ZmWX0MAUOgCgSMSFWB+pDlSWj0t57c6jZ+49vu+bs2OBaLrNumRApH66K3bdu2uQULFojQUnRe8fSpH1o3SE0ZG22PYIZPGIsxl7UhgCKIlpknfi1ow5566qmyqjmU+dRRI4V5Kqab6Zd5yNZEECfGiCrM6zD5O/PMM81HKlvT2VOGgCFgCLQhYESqDQ77JwsCBBzYsuaH7s6TLnb/829jopXKkk6Rz6iPlA82UazpYTXBJlxlwSaGP/y575kEm8A0CiHYtuwI1FEjBZG66uqrSw02weTDz3++OTuQGZ+0qH0ZgbPHDAFDwBBIQMCIVAIodikdAkqkbp++wH2/SaSKJSvpSujEHwCzrPKJVHk4jFL4c0yjmFV/66230naFzPe3E6ny2jVzgWv6YF01UlUQqSqi9hmRqumLYcUyBAyBgUTAiNRANlu9Cq1EyjRSvl0GSyPVHyGg7atYR6pcIuUxaidS9XoHB6k0ddVIlR3+PJtGqr/3lX5iRGqQ3hYrqyFgCNQdASNSdW+hAShflEgNn0aq4cbHx91vJiaCW6KdSPUv+IRmnF0j5eu493/3uoMHDzrnwstMnpj2ET56x69+FVrUvu+DSJ191hdK0kglEalwjPqu7JAlMIwaKd4DxolQHyv87bISKfLhXdV93759knfoe2tEasheKKuOIWAIVIqAEalK4R+OzKNEajh8pBCSGxI0A3+YlStXuldeeSWYYLQTqfLaOCuRIjgGdbzhhhsca2DhTxYqEHLf8PtIJRGp8tp12HKqq0Yqq2nfgQO/lrXMWCR69+7dQc2VlUhBoggkQ9RKNGjsS5YscUQK9ZMgvbM3ItUbI7vDEDAEDIFQBIxIhSJl93VEIEqkhkUjxWwv5AJNC5oPHwUvTAvRTqTCnukIboofshAphECIEAvcImAhTOJ4H+oET56mkUrRSHarGyaNFJMQkBnGCMYK3v2QLSuRIiIqIczx9WRnmQPWUuO9NSIVgrzdYwgYAoZAvggYkcoXz5FMLUqkhkMj5dzOt9+WtV4QVi6//PI+iFR5XSILkULTRhhmBDs2jiwWyux6iDmjaaTKa99hyWmYiBTaW7S4EBrWoQoNZ56VSMX7AKH4zz//fJkEif/W6X/TSHVCxq4bAoaAIZAeASNS6TGzJ2IIRInUsGikmPllhhe/H2acWfg11AdhkDRSCGIsqOtNF310Q9ZnQjAMmeE2jVTsZbB/j0Cgcfh99+47+927u/dKePE4kdLFvDFbC33Hjsgk0wWvLUb7nDX8OWXmPSEQSdlEijEKbTC+VmjGQjcjUqFI2X2GgCFgCPRGwIhUb4zsjh4IRInUsGikVKAjvDZmM9mJVA/wcvw5i0YKAXDhwoVNIgWhYoabSHyY/fXaTCPVCyH7HaLEOnNP/+f9bs+r292OTS+51WcscY9fscLtfW2He/mhp2Qx753Pvxbsm5cPqumIFO8XEw933HGHu21szEVDl2P6WzaR4l1lgWjKkmYRdCNS+fQeS8UQMAQMARAwImX9oG8EokRqWDRSCgpECo0UglJoAIZB0kgRTCNKpLZs2SLCGeZKXkOgSCQfaXvzkUrGxq56BBDyn79rg1s181IhU6899jN337nXyOLdnN//lWtlh2BNNMrzKdTJklCNFH39wQcfFFPfxYsXT5r7+joyPmAii6mf37rXI61pH3mza5nBFEKH9li1yZMZ9zwYkeoJkd1gCBgChkAwAkakgqGyGzshwAeeGefhWkeqIT5CmMyIRmr9+slZ3+4CEhi1E6lOqOV/nXZYvXq1mzJlikQRC8kBIYyZ9PXr1wtxQlA8+eSTJQqYF9y6p2Iaqe742K9OCACR+iBPa794nXviW6tFI7XuX/5dtFJop9BWHdi9L3iyIh9c02mkIDGY8RGZj92bvvpxQjVSBGkJmXBJQ6TwVWTCg3dUowLy3hLcAhPckAmPKF5GpKJo2LkhYAgYAv0hYESqP/zsaecFJSVSw6KRwqwNYQfNzHnnzpVZ6KggozPDSR2gnUj1Jl5JaWS5loVIadQ+/CwQyvCXYrYdTVzIRp6mkQpBarTveW//u0Kg0EpBnG6fvkA0VPwPodr10usVAJSWSB1ZxF27domWismW0047zS1fvlxITy9TuzREincUU1vGISL2MfYw4cH/jDVpNyNSaRGz+w0BQ8AQ6IyAEanO2NgvgQggTCuRGhYfKYQXZpnHxsaETEGoEEAQnPzWmSC1E6lAEHO4LQuRIlsiFLIODXXkqLPeIUUyjVQISnYP/QTTPcz4bv3r+e4/Pn2B7GixN3/3B0ERIvNHsX8ixbvDuMC7w465HX6HeRIp0sI3C/LE+AOWEKqQfJIwMyKVhIpdMwQMAUMgGwJGpLLhZk9FEIgSqWHRSCGsIMBgNsNR926aKIWknUh1Jlx6f17HrESK/HmWunJMs3G/aaTSIDa696KVUl8pJVKPLLpZAlDwvpW/9U+kdJzQ8UGOEV+mTnVKo5EiDfLx76YvM+dZMTMi1alV7LohYAgYAukRMCKVHjN7IoYAH/Vh00jFqpjq33YilerRvm6mHdL6SPWV4aSAB5Ei0h+h4svaVq1a5c4888xgE8T+yuWFVzQAs2fPFtOt/tIb3aeJ2sdkC1opTPwYNyAfIRMU+aPWTqQIKuPJSv45xVNMS6Tiz/fzvxGpftCzZw0BQ8AQaEfAiFQ7HvZfBgTiRIr1YvzmBZUMSeb+CNG0Zs6a5Vhgt2ihrUoiRf3SBJvoF2gc4U0j1S+Ko/M8Y8VbT24VvyiCThzYuafCyrcTKfycjEhV2ByWtSFgCBgCA4iAEakBbLQ6FBmzEkx12JlRjmukEEhYhLMswaQXJhCpWSUSKSLhEWmrvK0hWJetkYJI4QhPBLGWRqp4Al2uRsq3ommk+u3N9IuGROcj7DnrRtF/qtuqJ1LRtajKwkE1UkQYtM0QMAQMAUOgPwSMSPWH38g+DYFCGMLngYhbUSKFRopZZ5zIWXCzDptqpCAaXiPlhbr8z52s69JOpIrKqz1dSOuRRKr9nnzr60QQhkhdeOGFErTCt3WReZK2E83i2Wd9IWLaV2SevlbtRMqXw/9if9MgEPUr8v0xzdN53uvbUNeRKtO0j+ARRMqsgswQUIaFfKvIO8/Ws7QMAUPAEKgDAkak6tAKA1gGtE26HsxP7rxPCBURuPB/gGAR0pgIXUTqqsMmRGrmTBH4NcJWEcfbxsZkAd+TTjxRQqYTxauIfDqliXB21FFHySK7lKXTfXlc14iGCGXTpk0TzVTReVJu8oW4YcIIiSs6T/KjHRctWiRrbJWraazD21NEGaLEt4j0w9OESKFRpX1Zn4m144reITP4FbKkQtF5xdPnHcLXz4hUeB+xOw0BQ8AQ6ISAEalOyNj1rghgzvfyQ0+JwzgLbW78xrdlQV4IFOesD8Nx3xsaLrxrcoX/yLpIrI80Y8YMWe+FNV8QJoo4YkJIPhxJP5pH9Dyv/DUPjjNnzhRhn2P0el55xdMhD+qq9dXfua7neR+1nppn0XmRPjv5QVTxgbNteBBgqQO0UbTtDTfcUMp++eWXC5HCL4u1p8rKl7wgjOwQLNsMAUPAEDAE+kPAiFR/+I300ziKo5XSRTY1EhfRuNBGoZnyEbmqh4lyIDhs+tkmWYOFY947a7to+vg+6P9559MtPfLUvMvKn3x071a2PH+L1jPPdLulRZ6QKMLE2zY8CGBqqGMD2sYydu1nZeSVlAeaN9+PzUR1eHqy1cQQMASqQMCIVBWoD0me+ORgusdaMLrIJkeIFeZ+mP/ZZggYAoaAIWAIGAKGgCFgCAwjAkakhrFVS6tToxmx7/bpCxyLbEKk8JNivZh6blHfDDvPN/jEsONZzx5tpcoDAdPM5IGipWEIGAKGwKghYERq1Fq8gPpCmjDlg0gRcALfqWrDGhdQSUvSEDAEDAFDwBAwBAwBQ8AQiCBgRCoChp1mQwBb+//f3v2HVlXGcRyH+iujwkgK+kNUrCj/MCrLgTVQpB+WRmVzyFCzcCQshhVZgZQkJGn0l0G4IkVphgllOUMqS7TIlT+WSFmWTre1ZF7Hnd7tfuPznD13mz/YZXh2z33u+8Jlm+fec895PffI+T7f5/k+KnWuuVEa5peUAhNDOxvehQACCCCAAAIIIIDA4AIEUoMb8YpBBLI93S54UiZK60edS3cO8g42F16AoUyFbwOOAAEEEEAAAQSKWYBAqphbL0HHrqF8WqRXT1XB4pFsgWx3xjo6Oqytrc0tpNvS2jrgp/49RXW6ZDciR5dYARXiaWk+Ylq/7sTJk9bVHc0fdJ1OHR1uvSq/zQ+D1rbOzk5XQVBV9XR9Rv+X0umR2IbmwBBAoOQFCKRK/itwuQCiG4WoeMHl2if7iUsgfeqobft4pVs7R+vn1NTU5J76u7a21lav2eTKfUc3gXEdCftFIDyB081NtvatatPC3M+8ssb+aVeWPmuZ9H/2zeYP7ImZj7pFrJ9bssJ+PvKvZbJZy2TS1thQb4vmz7Wqqipb9+3h3gAsPB/OCAEEEAhFgEAqlJbkPBDIU0A3bR1Hdtlrc+63ESOuueTzhuuutakVL9jWxr/djV6eu+dlCJS8QNfpFhdIjR55td1632PuGjxeKikAAAeSSURBVBKKAqwV86a7a+7KK66w0beV23uf7rFUV8YNid66+nnz79ny/SGuu5L/JgGAAAJJFyCQSnoLcXwIxCDgAyndzI28cYw9OXu2zZ+3wD0rKyvtgYnjTIGUtr30zgZrP9MVw1GwSwRCFMia9aRdxvfeW27KBUvqwGg+vNvmTJ2U67zQ9fXsyk124vRZU5b4zcWV7rpTB8bvbZ0Mkw7x68E5IYBAUAIEUkE1JyeDQH4CPpBSRqps5mLXY665HMePH3dzOzTsT8GUts+sXu5u6hi2mZ8tr0JA18ofuzbarCkTcp0Ryjrt++ELd10pgCorK8sFTU1/tboscc2syabODQ0HVHA18NF/+LT/feAr+AsBBBBAYHgFCKSG15tPQyARAucHUt81HbNU6ox7nmqL5k/5QOrxJR+6OR6aDM8DAQTyE9AwvperHnHBkuZCKcOkDgoN3ZtYXm2vvr3Kxt88yu4or3AdGQqypt013gVeq9dvv2B+lKqh/rZnm63b8Jkp8FKGiwcCCCCAQGEFCKQK68+nI1AQAR9I+XkaC6prbdmyZe65dOlS15OuG77rx9xtr6/d4eZwkJEqSFPxoUUooGp7fp6Uhsgq6/vTgT/dvCn9rYzTzoYtLjula0yBk4KsSaOuctecCk30f6jKpoKo6qemuaGCer0yXDwQQAABBAorQCBVWH8+HYGCCKSO/eiKTSiQ0lM3dxrGp5/+dw0/0g2fqopF2Sh6wAvSWHxoUQoog6TgyGedNm9rcBkq3zmh8ujzp96ZG/pX9+LTLlulDJUyxLmOi560Nf8avVfXqH8/gVRRfi04aAQQCEyAQCqwBuV0EMhHwGekdGOmgKm8vNw9lYVSYKVKYxp6pCFEWhMnd1OXz855DQIlLxDNYdI8KQ2RVfCjJQUemjwhN5RPGSsFT+q4mD6jwhbNmJybkxiVSzdXgOLz9R+5AhV6na5Nn8GKAik6N0r+qwYAAggUVIBAqqD8fDgChRHoH0ipB1yllg/t3ZmrGuazUZrXwdyowrQRn1r8AponpQBJAdDYsWPd0xdv0bpRuzcuN1X20zYFSgqS+lfJ1HA+X7Bi2oMPu+zWwIwUgVTxf0s4AwQQKGYBAqlibj2OHYEhCvQPpFRqWcP39PCVxi7s+R7iB/E2BEpSIMpIaQHeVYtnuUBK15Q6KHKBUk/azXuaPWWCy0Rpu9aVWrd1d2+hiajy36KFC9zi2FrIVxktMlIl+YXipBFAIKECBFIJbRgOC4E4BXwgpZs3TYRXIKUqYH6CvHrJtW3ggrz0fsfZJuw7LAGXye1dT8oPmVUQpAV4lY3Swy/Qq2vNX4taADsaSps1VdA8eLDJreOmjLGyU2SkwvqecDYIIFDcAgRSxd1+HD0CQxLwgZTmSPlAyu9Ii4aumDfdDTXqP8SPeVJeiJ8I5CMQZaUaG+pNWSddS5oLFRWS0PuzpoyVClLcc/s4N7zPl0nXNlX+i0qcRx0YKjjhA6m+qn10buTTErwGAQQQiEuAQCouWfaLQIIFLhZI5dal6Unbvi/XuGFE6iVX4Yn3vzpg586ev0Bogk+QQ0MgIQLpU0ddqfO6ujrb/vWO3oV2oyBLWSt1XKigRH39JlciPZVWtiraHp1C9LufL0VGKiENy2EggAACZkYgxdcAgRIU0JCiunffsIqKCledT0Ul+h7RkCK/fe7CarfODeWW+4T4DYF8BZRZ0jpQ5zKZ3Nyn89+rTgxtz3VmDHhBFEiRkRqAwh8IIIBAIgQIpBLRDBwEAsMroJ7wzs5Oa2trc/Mvurr794Cbq9SndXDa29vdM5U6c4mbvOE9bj4NgdITiK5NP0dKQwRZJLv0vgWcMQIIJFOAQCqZ7cJRIRCzwMDA6eIfptfwQACBwgpkXSfGyb2f5OZIEUgVtkX4dAQQQMALEEh5CX4igAACCCCQOIGo00NzqbQmleYs9lX+o7Mjcc3FASGAQEkJEEiVVHNzsggggAACxSaguVOq8Hdg/35r/KXRWlpbGWpbbI3I8SKAQJACBFJBNisnhQACCCCAAAIIIIAAAnEKEEjFqcu+EUAAAQQQQAABBBBAIEgBAqkgm5WTQgABBBBAAAEEEEAAgTgFCKTi1GXfCCCAAAIIIIAAAgggEKQAgVSQzcpJIYAAAggggAACCCCAQJwCBFJx6rJvBBBAAAEEEEAAAQQQCFKAQCrIZuWkEEAAAQQQQAABBBBAIE4BAqk4ddk3AggggAACCCCAAAIIBClAIBVks3JSCCCAAAIIIIAAAgggEKcAgVScuuwbAQQQQAABBBBAAAEEghQgkAqyWTkpBBBAAAEEEEAAAQQQiFOAQCpOXfaNAAIIIIAAAggggAACQQoQSAXZrJwUAggggAACCCCAAAIIxClAIBWnLvtGAAEEEEAAAQQQQACBIAUIpIJsVk4KAQQQQAABBBBAAAEE4hQgkIpTl30jgAACCCCAAAIIIIBAkAIEUkE2KyeFAAIIIIAAAggggAACcQoQSMWpy74RQAABBBBAAAEEEEAgSAECqSCblZNCAAEEEEAAAQQQQACBOAUIpOLUZd8IIIAAAggggAACCCAQpMD/c+lZ8vhDMukAAAAASUVORK5CYII=)"
      ]
    },
    {
      "cell_type": "code",
      "execution_count": 23,
      "metadata": {
        "id": "mmKT0Q5Wxn7s"
      },
      "outputs": [],
      "source": [
        "from scipy.sparse import coo_matrix, csr_matrix\n",
        "import numpy as np\n",
        "from tqdm import tqdm"
      ]
    },
    {
      "cell_type": "code",
      "execution_count": 24,
      "metadata": {
        "id": "5foJ-li-v83K"
      },
      "outputs": [],
      "source": [
        " # Create mappings from user/item to their indices\n",
        "user_ids = train_interaction[\"user_id\"].unique()\n",
        "item_ids = train_interaction[\"item_id\"].unique()\n",
        "\n",
        "user_to_idx = {u: i for i, u in enumerate(user_ids)}\n",
        "item_to_idx = {i: idx for idx, i in enumerate(item_ids)}\n",
        "\n",
        "idx_to_user = {i: u for u, i in user_to_idx.items()}\n",
        "idx_to_item = {i: j for j, i in item_to_idx.items()}\n",
        "\n",
        "n_users = len(user_ids)\n",
        "n_items = len(item_ids)\n",
        "\n",
        "# Convert dataframe to sparse matrix\n",
        "rows = train_interaction[\"user_id\"].map(user_to_idx)\n",
        "cols = train_interaction[\"item_id\"].map(item_to_idx)\n",
        "values = train_interaction[\"weight\"].values\n",
        "\n",
        "# Create sparse rating matrix\n",
        "ratings = coo_matrix((values, (rows, cols)),\n",
        "                        shape=(n_users, n_items)).tocsr()\n",
        "\n",
        "ratings = ratings.toarray()\n",
        "unk = 0\n",
        "ratings[ratings  == 0] = unk\n",
        "R = ratings.copy()"
      ]
    },
    {
      "cell_type": "markdown",
      "metadata": {
        "id": "O6SklzkFeGy6"
      },
      "source": [
        "We initialize the user factors matrix (U) and item factors matrix (V) randomly with small values. These matrices represent the latent factors (hidden features) of users and items, respectively."
      ]
    },
    {
      "cell_type": "code",
      "execution_count": 25,
      "metadata": {
        "id": "0Kkzg5urxvmV"
      },
      "outputs": [],
      "source": [
        "num_users, num_items = R.shape\n",
        "num_factors = 40\n",
        "np.random.seed(42)\n",
        "# Random initialization of user and item factors\n",
        "U = np.random.rand(num_users, num_factors) * 0.01\n",
        "V = np.random.rand(num_items, num_factors) * 0.01"
      ]
    },
    {
      "cell_type": "markdown",
      "metadata": {
        "id": "4LeQgm8WeRif"
      },
      "source": [
        "We set a regularization parameter (lambda_reg) and define the number of training iterations (num_iterations). The regularization term helps prevent overfitting by penalizing large values in the factor matrices."
      ]
    },
    {
      "cell_type": "code",
      "execution_count": 26,
      "metadata": {
        "id": "3HamTs5neUTo"
      },
      "outputs": [],
      "source": [
        "lambda_reg = 0.1\n",
        "num_iterations = 200"
      ]
    },
    {
      "cell_type": "code",
      "execution_count": 27,
      "metadata": {
        "id": "OhcYzjJxyPQF"
      },
      "outputs": [
        {
          "name": "stderr",
          "output_type": "stream",
          "text": [
            "100%|██████████| 200/200 [02:33<00:00,  1.30it/s]\n"
          ]
        }
      ],
      "source": [
        "def train_matrix_factorization(unk):\n",
        "    \"\"\"\n",
        "    The function train_matrix_factorization() performs the core optimization process,\n",
        "    where we update the user and item factors alternately using the Alternating Least Squares (ALS) method.\n",
        "    \"\"\"\n",
        "    global U, V\n",
        "    for iteration in tqdm(range(num_iterations)):\n",
        "        # Update user factors\n",
        "        \"\"\"\n",
        "        For each user, we look at the items they have rated (i.e., where the rating is not unk).\n",
        "        We then update the user’s preferences by solving a least squares problem using the item factors for the rated items.\n",
        "        \"\"\"\n",
        "        for u in range(num_users):\n",
        "            V_u = V[R[u, :] != unk, :]\n",
        "            R_u = R[u, R[u, :] != unk]\n",
        "            if V_u.shape[0] > 0:\n",
        "                U[u, :] = np.linalg.solve(\n",
        "                    np.dot(V_u.T, V_u) + lambda_reg * np.eye(num_factors),\n",
        "                    np.dot(V_u.T, R_u)\n",
        "                )\n",
        "\n",
        "        # Update item factors\n",
        "        \"\"\"\n",
        "        Similarly, for each item, we update the item factors using the user factors for all users who have rated that item.\n",
        "        \"\"\"\n",
        "        for i in range(num_items):\n",
        "            U_i = U[R[:, i] != unk, :]\n",
        "            R_i = R[R[:, i] != unk, i]\n",
        "            if U_i.shape[0] > 0:\n",
        "                V[i, :] = np.linalg.solve(\n",
        "                    np.dot(U_i.T, U_i) + lambda_reg * np.eye(num_factors),\n",
        "                    np.dot(U_i.T, R_i)\n",
        "                )\n",
        "\n",
        "train_matrix_factorization(unk)"
      ]
    },
    {
      "cell_type": "code",
      "execution_count": 28,
      "metadata": {
        "id": "mtBf1SyGyrd0"
      },
      "outputs": [],
      "source": [
        "import numpy as np\n",
        "import math\n",
        "\n",
        "user_vector = U.copy()\n",
        "item_vector = V.copy()"
      ]
    },
    {
      "cell_type": "markdown",
      "metadata": {
        "id": "HLcF23zkWJEd"
      },
      "source": [
        "## Evaluation"
      ]
    },
    {
      "cell_type": "markdown",
      "metadata": {
        "id": "ViSmUr1vb__7"
      },
      "source": [
        "Prediction: Reconstructing the Sparse Matrix\n",
        "In collaborative filtering, after we have learned the user vectors (representing user preferences) and item vectors (representing item characteristics) through matrix factorization, we can use these vectors to predict missing values in the original sparse interaction matrix.\n",
        "\n",
        "The user vector and item vector are latent feature representations for users and items, respectively. By multiplying the user vector (U) with the item vector (V), we obtain predicted ratings for user-item pairs that were previously missing in the sparse matrix.\n",
        "\n",
        "\n",
        "This operation reconstructs the sparse matrix by filling in the previously missing entries with predicted values. The resulting predicted scores are then used to recommend items for users based on their predicted preferences.\n",
        "\n",
        "To get the predicted ratings for a given user, we multiply the user's latent feature vector with the latent feature vectors of all items in the system. This will provide a predicted score for each item, representing how likely the user is to rate (or interact with) the item.\n",
        "\n",
        "For each user, we compute their predicted ratings for all items by performing a matrix multiplication between the user vector and the item matrix (V), which is the collection of item vectors (one for each item). This results in a score for every item for that user.\n",
        "\n",
        "`item_score = user_vector[u] @ item_vector.T`\n",
        "\n",
        "Here, the `user_vector[u]` is multiplied by the transposed item matrix (`item_vector.T`) to obtain scores for all items that user has not yet interacted with.\n",
        "\n",
        "Normalization: After calculating the predicted scores, we often normalize them to fall within the desired rating range (in this case, 1-5) by scaling the predicted values. This step ensures the predicted ratings are interpretable.\n",
        "\n",
        "By performing this matrix multiplication for each user in the system, we can fill in the missing entries in the interaction matrix, thereby predicting how much a user might like each item based on their learned preferences and the item characteristics."
      ]
    },
    {
      "cell_type": "code",
      "execution_count": 29,
      "metadata": {
        "id": "7EII-PHNOdZ1"
      },
      "outputs": [
        {
          "name": "stdout",
          "output_type": "stream",
          "text": [
            "MSE: 1.669610598153352\n"
          ]
        }
      ],
      "source": [
        "mse_list = []\n",
        "for u in range(len(user_vector)):\n",
        "    item_score = user_vector[u] @ item_vector.T\n",
        "    item_score = (item_score - item_score.min()) / (item_score.max() - item_score.min()) * 5\n",
        "    user_id = idx_to_user[u]\n",
        "    user_data = test_interaction[test_interaction[\"user_id\"] == user_id]\n",
        "\n",
        "    if not user_data.empty:\n",
        "        item_list = user_data[\"item_id\"].tolist()\n",
        "        rating_list = user_data[\"weight\"].tolist()\n",
        "\n",
        "        for i in range(len(item_list)):\n",
        "            item_idx = item_to_idx.get(item_list[i])\n",
        "            if item_idx is not None:\n",
        "                pred = math.ceil(item_score[item_idx])\n",
        "                true = rating_list[i]\n",
        "                mse_list.append((pred - true) ** 2)\n",
        "\n",
        "# Final MSE\n",
        "mse = np.mean(mse_list)\n",
        "print(\"MSE:\", mse)\n"
      ]
    },
    {
      "cell_type": "markdown",
      "metadata": {
        "id": "RT5V2U0-WgcC"
      },
      "source": [
        "### TODO 2: From user_vector and item_vector , Generate top-20 book recommendations for each user, excluding any books they have already rated in train. (based on `item_score = user_vector[u] @ item_vector.T`)"
      ]
    },
    {
      "cell_type": "markdown",
      "metadata": {
        "id": "7FZ4TCplP_W-"
      },
      "source": [
        "![image.png](data:image/png;base64,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)"
      ]
    },
    {
      "cell_type": "code",
      "execution_count": 30,
      "metadata": {
        "id": "tXZK7-myaA4l"
      },
      "outputs": [],
      "source": [
        "top_k = 20\n",
        "user_top_k_recs = {}\n",
        "## CODE HERE ###\n",
        "# Hint: check the evaluation code, how to convert score to fit in range 0-5\n",
        "for u in range(len(user_vector)):\n",
        "    item_score = user_vector[u] @ item_vector.T\n",
        "    item_score = (item_score - item_score.min()) / (item_score.max() - item_score.min()) * 5\n",
        "    user_id = idx_to_user[u]\n",
        "    rated_items = train_interaction[train_interaction[\"user_id\"] == user_id][\"item_id\"].tolist()\n",
        "    rated_item_index = [item_to_idx[item] for item in rated_items if item in item_to_idx]\n",
        "    item_score[rated_item_index] = -1  \n",
        "    top_k_items = np.argsort(item_score)[-top_k:][::-1] \n",
        "    top_k_item_ids = [item_ids[idx] for idx in top_k_items]\n",
        "    user_top_k_recs[user_id] = top_k_item_ids\n"
      ]
    },
    {
      "cell_type": "code",
      "execution_count": 31,
      "metadata": {},
      "outputs": [
        {
          "name": "stdout",
          "output_type": "stream",
          "text": [
            "('B000NSFDQK', 3.907891159772533)\n",
            "('B0006CWGKE', 4.36383474622171)\n",
            "('B000PCPLS4', 3.409551548193553)\n",
            "('B000PIIMPW', 4.480875119596586)\n",
            "('B000I5MM8A', 3.795843170536482)\n",
            "('B000NIOKGY', 4.345449975310956)\n",
            "('B000KF8HTG', 4.046513750218183)\n",
            "('B000GRK90S', 4.313486445997776)\n",
            "('B000IEZE3G', 3.4923711372485484)\n",
            "('0743436164', 4.442839201636649)\n",
            "('B000CRFW9A', 4.092779677101481)\n",
            "('B000P18Z2O', 3.461471168195811)\n",
            "('B0007EDZRY', 3.532958190834206)\n",
            "('9993183709', 4.4675447032408915)\n",
            "('B000HJNEYS', 3.947385638203386)\n",
            "('B0007G64NO', 3.898037994800721)\n",
            "('0792737822', 4.538113403137017)\n",
            "('B000KHZ3QE', 3.9634928332139725)\n",
            "('0786258918', 3.1734937782115136)\n",
            "('034073891X', 4.257442558152919)\n"
          ]
        }
      ],
      "source": [
        "for i in user_top_k_recs[52983]:\n",
        "    idx = item_to_idx[i]\n",
        "    print((i, float(item_score[idx])))"
      ]
    },
    {
      "cell_type": "markdown",
      "metadata": {
        "id": "etjpQmaUZQAw"
      },
      "source": [
        "For user_id = 52983, should get (not necessary to be exactly the same at decimal level)\n",
        "```\n",
        "[\n",
        " ('B000NSFDQK', 5.0),\n",
        " ('B0006CWGKE', 4.690235616564033),\n",
        " ('B000PCPLS4', 4.563453567417001),\n",
        " ('B000PIIMPW', 4.533352521289076),\n",
        " ('B000I5MM8A', 4.4182726821962985),\n",
        " ('B000NIOKGY', 4.412939047427911),\n",
        " ('B000KF8HTG', 4.407360158668951),\n",
        " ('B000GRK90S', 4.407210202908275),\n",
        " ('B000IEZE3G', 4.406401202943635),\n",
        " ('0743436164', 4.381658336736284),\n",
        " ('B000CRFW9A', 4.3535383526001254),\n",
        " ('B000P18Z2O', 4.340717764836055),\n",
        " ('B0007EDZRY', 4.330200895353807),\n",
        " ('9993183709', 4.327618731466481),\n",
        " ('B000HJNEYS', 4.324314833610357),\n",
        " ('B0007G64NO', 4.27289062110324),\n",
        " ('0792737822', 4.258248751288252),\n",
        " ('B000KHZ3QE', 4.236991629035886),\n",
        " ('0786258918', 4.236101547138868),\n",
        " ('034073891X', 4.234663302746484)\n",
        " ]\n",
        "```"
      ]
    },
    {
      "cell_type": "markdown",
      "metadata": {
        "id": "qVMx8c1VbTVN"
      },
      "source": [
        "# Content Based"
      ]
    },
    {
      "cell_type": "markdown",
      "metadata": {
        "id": "TaXbfxrwhkrH"
      },
      "source": [
        "Content-based filtering is an information retrieval method that uses item features to select and return items relevant to a user’s query. This method often takes features of other items in which a user expresses interest into account. Content-based is a bit of a misnomer however. Some content-based recommendation algorithms match items according to descriptive features (i.e., metadata) attached to items rather than the actual content of an item. Nevertheless, several content-based methods. (i.e., content-based image retrieval or natural language processing applications—do match items according to intrinsic item attributes)\n"
      ]
    },
    {
      "cell_type": "markdown",
      "metadata": {
        "id": "MkijOXocQrP5"
      },
      "source": [
        "![image.png](data:image/png;base64,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)"
      ]
    },
    {
      "cell_type": "markdown",
      "metadata": {
        "id": "hHqWJLmflq2W"
      },
      "source": [
        "In this exercise, we will recommend unreviewed books to users based on the predicted rating of those books. In the first section, we will create a model to predict book ratings for unreviewed books based on users' past reviews."
      ]
    },
    {
      "cell_type": "markdown",
      "metadata": {
        "id": "eRgFxJz7OErL"
      },
      "source": [
        "## User Id Solution"
      ]
    },
    {
      "cell_type": "markdown",
      "metadata": {
        "id": "S5uyeJaHlm_F"
      },
      "source": [
        "In the first solution, we will use user_id, book categories, and text embeddings of book titles and descriptions as features to predict rating scores"
      ]
    },
    {
      "cell_type": "code",
      "execution_count": 32,
      "metadata": {
        "id": "uuxzI4T-4ZCj"
      },
      "outputs": [],
      "source": [
        "# Prepare train and test data which are user_id, book categories and text_embeddings of book titles and descriptions\n",
        "# Predict rating (review/score)\n",
        "\n",
        "X_train = train_rating[['User_id'] + \\\n",
        "                        one_hot_encoded.columns.tolist()\n",
        "                        ].to_numpy()\n",
        "\n",
        "X_train = np.concatenate([X_train, np.array(train_rating['text_embeddings'].tolist())], axis=1)\n",
        "\n",
        "y_train = train_rating['review/score']\n",
        "\n",
        "X_test = test_rating[['User_id'] + \\\n",
        "                        one_hot_encoded.columns.tolist()\n",
        "                        ].to_numpy()\n",
        "\n",
        "X_test = np.concatenate([X_test, np.array(test_rating['text_embeddings'].tolist())], axis=1)\n",
        "\n",
        "y_test = test_rating['review/score']"
      ]
    },
    {
      "cell_type": "markdown",
      "metadata": {
        "id": "dmiRws5bfbgN"
      },
      "source": [
        "### TODO 3.1: Build XGBoost model to create content based filtering model and find MSE score of the model."
      ]
    },
    {
      "cell_type": "code",
      "execution_count": 33,
      "metadata": {
        "id": "tl9l3SEyaOGZ"
      },
      "outputs": [],
      "source": [
        "import xgboost as xgb\n",
        "from sklearn.metrics import mean_squared_error"
      ]
    },
    {
      "cell_type": "code",
      "execution_count": 34,
      "metadata": {
        "id": "2z22rRfe6I-a"
      },
      "outputs": [
        {
          "data": {
            "text/html": [
              "<style>#sk-container-id-1 {\n",
              "  /* Definition of color scheme common for light and dark mode */\n",
              "  --sklearn-color-text: #000;\n",
              "  --sklearn-color-text-muted: #666;\n",
              "  --sklearn-color-line: gray;\n",
              "  /* Definition of color scheme for unfitted estimators */\n",
              "  --sklearn-color-unfitted-level-0: #fff5e6;\n",
              "  --sklearn-color-unfitted-level-1: #f6e4d2;\n",
              "  --sklearn-color-unfitted-level-2: #ffe0b3;\n",
              "  --sklearn-color-unfitted-level-3: chocolate;\n",
              "  /* Definition of color scheme for fitted estimators */\n",
              "  --sklearn-color-fitted-level-0: #f0f8ff;\n",
              "  --sklearn-color-fitted-level-1: #d4ebff;\n",
              "  --sklearn-color-fitted-level-2: #b3dbfd;\n",
              "  --sklearn-color-fitted-level-3: cornflowerblue;\n",
              "\n",
              "  /* Specific color for light theme */\n",
              "  --sklearn-color-text-on-default-background: var(--sg-text-color, var(--theme-code-foreground, var(--jp-content-font-color1, black)));\n",
              "  --sklearn-color-background: var(--sg-background-color, var(--theme-background, var(--jp-layout-color0, white)));\n",
              "  --sklearn-color-border-box: var(--sg-text-color, var(--theme-code-foreground, var(--jp-content-font-color1, black)));\n",
              "  --sklearn-color-icon: #696969;\n",
              "\n",
              "  @media (prefers-color-scheme: dark) {\n",
              "    /* Redefinition of color scheme for dark theme */\n",
              "    --sklearn-color-text-on-default-background: var(--sg-text-color, var(--theme-code-foreground, var(--jp-content-font-color1, white)));\n",
              "    --sklearn-color-background: var(--sg-background-color, var(--theme-background, var(--jp-layout-color0, #111)));\n",
              "    --sklearn-color-border-box: var(--sg-text-color, var(--theme-code-foreground, var(--jp-content-font-color1, white)));\n",
              "    --sklearn-color-icon: #878787;\n",
              "  }\n",
              "}\n",
              "\n",
              "#sk-container-id-1 {\n",
              "  color: var(--sklearn-color-text);\n",
              "}\n",
              "\n",
              "#sk-container-id-1 pre {\n",
              "  padding: 0;\n",
              "}\n",
              "\n",
              "#sk-container-id-1 input.sk-hidden--visually {\n",
              "  border: 0;\n",
              "  clip: rect(1px 1px 1px 1px);\n",
              "  clip: rect(1px, 1px, 1px, 1px);\n",
              "  height: 1px;\n",
              "  margin: -1px;\n",
              "  overflow: hidden;\n",
              "  padding: 0;\n",
              "  position: absolute;\n",
              "  width: 1px;\n",
              "}\n",
              "\n",
              "#sk-container-id-1 div.sk-dashed-wrapped {\n",
              "  border: 1px dashed var(--sklearn-color-line);\n",
              "  margin: 0 0.4em 0.5em 0.4em;\n",
              "  box-sizing: border-box;\n",
              "  padding-bottom: 0.4em;\n",
              "  background-color: var(--sklearn-color-background);\n",
              "}\n",
              "\n",
              "#sk-container-id-1 div.sk-container {\n",
              "  /* jupyter's `normalize.less` sets `[hidden] { display: none; }`\n",
              "     but bootstrap.min.css set `[hidden] { display: none !important; }`\n",
              "     so we also need the `!important` here to be able to override the\n",
              "     default hidden behavior on the sphinx rendered scikit-learn.org.\n",
              "     See: https://github.com/scikit-learn/scikit-learn/issues/21755 */\n",
              "  display: inline-block !important;\n",
              "  position: relative;\n",
              "}\n",
              "\n",
              "#sk-container-id-1 div.sk-text-repr-fallback {\n",
              "  display: none;\n",
              "}\n",
              "\n",
              "div.sk-parallel-item,\n",
              "div.sk-serial,\n",
              "div.sk-item {\n",
              "  /* draw centered vertical line to link estimators */\n",
              "  background-image: linear-gradient(var(--sklearn-color-text-on-default-background), var(--sklearn-color-text-on-default-background));\n",
              "  background-size: 2px 100%;\n",
              "  background-repeat: no-repeat;\n",
              "  background-position: center center;\n",
              "}\n",
              "\n",
              "/* Parallel-specific style estimator block */\n",
              "\n",
              "#sk-container-id-1 div.sk-parallel-item::after {\n",
              "  content: \"\";\n",
              "  width: 100%;\n",
              "  border-bottom: 2px solid var(--sklearn-color-text-on-default-background);\n",
              "  flex-grow: 1;\n",
              "}\n",
              "\n",
              "#sk-container-id-1 div.sk-parallel {\n",
              "  display: flex;\n",
              "  align-items: stretch;\n",
              "  justify-content: center;\n",
              "  background-color: var(--sklearn-color-background);\n",
              "  position: relative;\n",
              "}\n",
              "\n",
              "#sk-container-id-1 div.sk-parallel-item {\n",
              "  display: flex;\n",
              "  flex-direction: column;\n",
              "}\n",
              "\n",
              "#sk-container-id-1 div.sk-parallel-item:first-child::after {\n",
              "  align-self: flex-end;\n",
              "  width: 50%;\n",
              "}\n",
              "\n",
              "#sk-container-id-1 div.sk-parallel-item:last-child::after {\n",
              "  align-self: flex-start;\n",
              "  width: 50%;\n",
              "}\n",
              "\n",
              "#sk-container-id-1 div.sk-parallel-item:only-child::after {\n",
              "  width: 0;\n",
              "}\n",
              "\n",
              "/* Serial-specific style estimator block */\n",
              "\n",
              "#sk-container-id-1 div.sk-serial {\n",
              "  display: flex;\n",
              "  flex-direction: column;\n",
              "  align-items: center;\n",
              "  background-color: var(--sklearn-color-background);\n",
              "  padding-right: 1em;\n",
              "  padding-left: 1em;\n",
              "}\n",
              "\n",
              "\n",
              "/* Toggleable style: style used for estimator/Pipeline/ColumnTransformer box that is\n",
              "clickable and can be expanded/collapsed.\n",
              "- Pipeline and ColumnTransformer use this feature and define the default style\n",
              "- Estimators will overwrite some part of the style using the `sk-estimator` class\n",
              "*/\n",
              "\n",
              "/* Pipeline and ColumnTransformer style (default) */\n",
              "\n",
              "#sk-container-id-1 div.sk-toggleable {\n",
              "  /* Default theme specific background. It is overwritten whether we have a\n",
              "  specific estimator or a Pipeline/ColumnTransformer */\n",
              "  background-color: var(--sklearn-color-background);\n",
              "}\n",
              "\n",
              "/* Toggleable label */\n",
              "#sk-container-id-1 label.sk-toggleable__label {\n",
              "  cursor: pointer;\n",
              "  display: flex;\n",
              "  width: 100%;\n",
              "  margin-bottom: 0;\n",
              "  padding: 0.5em;\n",
              "  box-sizing: border-box;\n",
              "  text-align: center;\n",
              "  align-items: start;\n",
              "  justify-content: space-between;\n",
              "  gap: 0.5em;\n",
              "}\n",
              "\n",
              "#sk-container-id-1 label.sk-toggleable__label .caption {\n",
              "  font-size: 0.6rem;\n",
              "  font-weight: lighter;\n",
              "  color: var(--sklearn-color-text-muted);\n",
              "}\n",
              "\n",
              "#sk-container-id-1 label.sk-toggleable__label-arrow:before {\n",
              "  /* Arrow on the left of the label */\n",
              "  content: \"▸\";\n",
              "  float: left;\n",
              "  margin-right: 0.25em;\n",
              "  color: var(--sklearn-color-icon);\n",
              "}\n",
              "\n",
              "#sk-container-id-1 label.sk-toggleable__label-arrow:hover:before {\n",
              "  color: var(--sklearn-color-text);\n",
              "}\n",
              "\n",
              "/* Toggleable content - dropdown */\n",
              "\n",
              "#sk-container-id-1 div.sk-toggleable__content {\n",
              "  max-height: 0;\n",
              "  max-width: 0;\n",
              "  overflow: hidden;\n",
              "  text-align: left;\n",
              "  /* unfitted */\n",
              "  background-color: var(--sklearn-color-unfitted-level-0);\n",
              "}\n",
              "\n",
              "#sk-container-id-1 div.sk-toggleable__content.fitted {\n",
              "  /* fitted */\n",
              "  background-color: var(--sklearn-color-fitted-level-0);\n",
              "}\n",
              "\n",
              "#sk-container-id-1 div.sk-toggleable__content pre {\n",
              "  margin: 0.2em;\n",
              "  border-radius: 0.25em;\n",
              "  color: var(--sklearn-color-text);\n",
              "  /* unfitted */\n",
              "  background-color: var(--sklearn-color-unfitted-level-0);\n",
              "}\n",
              "\n",
              "#sk-container-id-1 div.sk-toggleable__content.fitted pre {\n",
              "  /* unfitted */\n",
              "  background-color: var(--sklearn-color-fitted-level-0);\n",
              "}\n",
              "\n",
              "#sk-container-id-1 input.sk-toggleable__control:checked~div.sk-toggleable__content {\n",
              "  /* Expand drop-down */\n",
              "  max-height: 200px;\n",
              "  max-width: 100%;\n",
              "  overflow: auto;\n",
              "}\n",
              "\n",
              "#sk-container-id-1 input.sk-toggleable__control:checked~label.sk-toggleable__label-arrow:before {\n",
              "  content: \"▾\";\n",
              "}\n",
              "\n",
              "/* Pipeline/ColumnTransformer-specific style */\n",
              "\n",
              "#sk-container-id-1 div.sk-label input.sk-toggleable__control:checked~label.sk-toggleable__label {\n",
              "  color: var(--sklearn-color-text);\n",
              "  background-color: var(--sklearn-color-unfitted-level-2);\n",
              "}\n",
              "\n",
              "#sk-container-id-1 div.sk-label.fitted input.sk-toggleable__control:checked~label.sk-toggleable__label {\n",
              "  background-color: var(--sklearn-color-fitted-level-2);\n",
              "}\n",
              "\n",
              "/* Estimator-specific style */\n",
              "\n",
              "/* Colorize estimator box */\n",
              "#sk-container-id-1 div.sk-estimator input.sk-toggleable__control:checked~label.sk-toggleable__label {\n",
              "  /* unfitted */\n",
              "  background-color: var(--sklearn-color-unfitted-level-2);\n",
              "}\n",
              "\n",
              "#sk-container-id-1 div.sk-estimator.fitted input.sk-toggleable__control:checked~label.sk-toggleable__label {\n",
              "  /* fitted */\n",
              "  background-color: var(--sklearn-color-fitted-level-2);\n",
              "}\n",
              "\n",
              "#sk-container-id-1 div.sk-label label.sk-toggleable__label,\n",
              "#sk-container-id-1 div.sk-label label {\n",
              "  /* The background is the default theme color */\n",
              "  color: var(--sklearn-color-text-on-default-background);\n",
              "}\n",
              "\n",
              "/* On hover, darken the color of the background */\n",
              "#sk-container-id-1 div.sk-label:hover label.sk-toggleable__label {\n",
              "  color: var(--sklearn-color-text);\n",
              "  background-color: var(--sklearn-color-unfitted-level-2);\n",
              "}\n",
              "\n",
              "/* Label box, darken color on hover, fitted */\n",
              "#sk-container-id-1 div.sk-label.fitted:hover label.sk-toggleable__label.fitted {\n",
              "  color: var(--sklearn-color-text);\n",
              "  background-color: var(--sklearn-color-fitted-level-2);\n",
              "}\n",
              "\n",
              "/* Estimator label */\n",
              "\n",
              "#sk-container-id-1 div.sk-label label {\n",
              "  font-family: monospace;\n",
              "  font-weight: bold;\n",
              "  display: inline-block;\n",
              "  line-height: 1.2em;\n",
              "}\n",
              "\n",
              "#sk-container-id-1 div.sk-label-container {\n",
              "  text-align: center;\n",
              "}\n",
              "\n",
              "/* Estimator-specific */\n",
              "#sk-container-id-1 div.sk-estimator {\n",
              "  font-family: monospace;\n",
              "  border: 1px dotted var(--sklearn-color-border-box);\n",
              "  border-radius: 0.25em;\n",
              "  box-sizing: border-box;\n",
              "  margin-bottom: 0.5em;\n",
              "  /* unfitted */\n",
              "  background-color: var(--sklearn-color-unfitted-level-0);\n",
              "}\n",
              "\n",
              "#sk-container-id-1 div.sk-estimator.fitted {\n",
              "  /* fitted */\n",
              "  background-color: var(--sklearn-color-fitted-level-0);\n",
              "}\n",
              "\n",
              "/* on hover */\n",
              "#sk-container-id-1 div.sk-estimator:hover {\n",
              "  /* unfitted */\n",
              "  background-color: var(--sklearn-color-unfitted-level-2);\n",
              "}\n",
              "\n",
              "#sk-container-id-1 div.sk-estimator.fitted:hover {\n",
              "  /* fitted */\n",
              "  background-color: var(--sklearn-color-fitted-level-2);\n",
              "}\n",
              "\n",
              "/* Specification for estimator info (e.g. \"i\" and \"?\") */\n",
              "\n",
              "/* Common style for \"i\" and \"?\" */\n",
              "\n",
              ".sk-estimator-doc-link,\n",
              "a:link.sk-estimator-doc-link,\n",
              "a:visited.sk-estimator-doc-link {\n",
              "  float: right;\n",
              "  font-size: smaller;\n",
              "  line-height: 1em;\n",
              "  font-family: monospace;\n",
              "  background-color: var(--sklearn-color-background);\n",
              "  border-radius: 1em;\n",
              "  height: 1em;\n",
              "  width: 1em;\n",
              "  text-decoration: none !important;\n",
              "  margin-left: 0.5em;\n",
              "  text-align: center;\n",
              "  /* unfitted */\n",
              "  border: var(--sklearn-color-unfitted-level-1) 1pt solid;\n",
              "  color: var(--sklearn-color-unfitted-level-1);\n",
              "}\n",
              "\n",
              ".sk-estimator-doc-link.fitted,\n",
              "a:link.sk-estimator-doc-link.fitted,\n",
              "a:visited.sk-estimator-doc-link.fitted {\n",
              "  /* fitted */\n",
              "  border: var(--sklearn-color-fitted-level-1) 1pt solid;\n",
              "  color: var(--sklearn-color-fitted-level-1);\n",
              "}\n",
              "\n",
              "/* On hover */\n",
              "div.sk-estimator:hover .sk-estimator-doc-link:hover,\n",
              ".sk-estimator-doc-link:hover,\n",
              "div.sk-label-container:hover .sk-estimator-doc-link:hover,\n",
              ".sk-estimator-doc-link:hover {\n",
              "  /* unfitted */\n",
              "  background-color: var(--sklearn-color-unfitted-level-3);\n",
              "  color: var(--sklearn-color-background);\n",
              "  text-decoration: none;\n",
              "}\n",
              "\n",
              "div.sk-estimator.fitted:hover .sk-estimator-doc-link.fitted:hover,\n",
              ".sk-estimator-doc-link.fitted:hover,\n",
              "div.sk-label-container:hover .sk-estimator-doc-link.fitted:hover,\n",
              ".sk-estimator-doc-link.fitted:hover {\n",
              "  /* fitted */\n",
              "  background-color: var(--sklearn-color-fitted-level-3);\n",
              "  color: var(--sklearn-color-background);\n",
              "  text-decoration: none;\n",
              "}\n",
              "\n",
              "/* Span, style for the box shown on hovering the info icon */\n",
              ".sk-estimator-doc-link span {\n",
              "  display: none;\n",
              "  z-index: 9999;\n",
              "  position: relative;\n",
              "  font-weight: normal;\n",
              "  right: .2ex;\n",
              "  padding: .5ex;\n",
              "  margin: .5ex;\n",
              "  width: min-content;\n",
              "  min-width: 20ex;\n",
              "  max-width: 50ex;\n",
              "  color: var(--sklearn-color-text);\n",
              "  box-shadow: 2pt 2pt 4pt #999;\n",
              "  /* unfitted */\n",
              "  background: var(--sklearn-color-unfitted-level-0);\n",
              "  border: .5pt solid var(--sklearn-color-unfitted-level-3);\n",
              "}\n",
              "\n",
              ".sk-estimator-doc-link.fitted span {\n",
              "  /* fitted */\n",
              "  background: var(--sklearn-color-fitted-level-0);\n",
              "  border: var(--sklearn-color-fitted-level-3);\n",
              "}\n",
              "\n",
              ".sk-estimator-doc-link:hover span {\n",
              "  display: block;\n",
              "}\n",
              "\n",
              "/* \"?\"-specific style due to the `<a>` HTML tag */\n",
              "\n",
              "#sk-container-id-1 a.estimator_doc_link {\n",
              "  float: right;\n",
              "  font-size: 1rem;\n",
              "  line-height: 1em;\n",
              "  font-family: monospace;\n",
              "  background-color: var(--sklearn-color-background);\n",
              "  border-radius: 1rem;\n",
              "  height: 1rem;\n",
              "  width: 1rem;\n",
              "  text-decoration: none;\n",
              "  /* unfitted */\n",
              "  color: var(--sklearn-color-unfitted-level-1);\n",
              "  border: var(--sklearn-color-unfitted-level-1) 1pt solid;\n",
              "}\n",
              "\n",
              "#sk-container-id-1 a.estimator_doc_link.fitted {\n",
              "  /* fitted */\n",
              "  border: var(--sklearn-color-fitted-level-1) 1pt solid;\n",
              "  color: var(--sklearn-color-fitted-level-1);\n",
              "}\n",
              "\n",
              "/* On hover */\n",
              "#sk-container-id-1 a.estimator_doc_link:hover {\n",
              "  /* unfitted */\n",
              "  background-color: var(--sklearn-color-unfitted-level-3);\n",
              "  color: var(--sklearn-color-background);\n",
              "  text-decoration: none;\n",
              "}\n",
              "\n",
              "#sk-container-id-1 a.estimator_doc_link.fitted:hover {\n",
              "  /* fitted */\n",
              "  background-color: var(--sklearn-color-fitted-level-3);\n",
              "}\n",
              "</style><div id=\"sk-container-id-1\" class=\"sk-top-container\"><div class=\"sk-text-repr-fallback\"><pre>XGBRegressor(base_score=None, booster=None, callbacks=None,\n",
              "             colsample_bylevel=None, colsample_bynode=None,\n",
              "             colsample_bytree=None, device=None, early_stopping_rounds=None,\n",
              "             enable_categorical=False, eval_metric=None, feature_types=None,\n",
              "             feature_weights=None, gamma=None, grow_policy=None,\n",
              "             importance_type=None, interaction_constraints=None,\n",
              "             learning_rate=0.05, max_bin=None, max_cat_threshold=None,\n",
              "             max_cat_to_onehot=None, max_delta_step=None, max_depth=8,\n",
              "             max_leaves=None, min_child_weight=None, missing=nan,\n",
              "             monotone_constraints=None, multi_strategy=None, n_estimators=200,\n",
              "             n_jobs=None, num_parallel_tree=None, ...)</pre><b>In a Jupyter environment, please rerun this cell to show the HTML representation or trust the notebook. <br />On GitHub, the HTML representation is unable to render, please try loading this page with nbviewer.org.</b></div><div class=\"sk-container\" hidden><div class=\"sk-item\"><div class=\"sk-estimator fitted sk-toggleable\"><input class=\"sk-toggleable__control sk-hidden--visually\" id=\"sk-estimator-id-1\" type=\"checkbox\" checked><label for=\"sk-estimator-id-1\" class=\"sk-toggleable__label fitted sk-toggleable__label-arrow\"><div><div>XGBRegressor</div></div><div><a class=\"sk-estimator-doc-link fitted\" rel=\"noreferrer\" target=\"_blank\" href=\"https://xgboost.readthedocs.io/en/release_3.0.0/python/python_api.html#xgboost.XGBRegressor\">?<span>Documentation for XGBRegressor</span></a><span class=\"sk-estimator-doc-link fitted\">i<span>Fitted</span></span></div></label><div class=\"sk-toggleable__content fitted\"><pre>XGBRegressor(base_score=None, booster=None, callbacks=None,\n",
              "             colsample_bylevel=None, colsample_bynode=None,\n",
              "             colsample_bytree=None, device=None, early_stopping_rounds=None,\n",
              "             enable_categorical=False, eval_metric=None, feature_types=None,\n",
              "             feature_weights=None, gamma=None, grow_policy=None,\n",
              "             importance_type=None, interaction_constraints=None,\n",
              "             learning_rate=0.05, max_bin=None, max_cat_threshold=None,\n",
              "             max_cat_to_onehot=None, max_delta_step=None, max_depth=8,\n",
              "             max_leaves=None, min_child_weight=None, missing=nan,\n",
              "             monotone_constraints=None, multi_strategy=None, n_estimators=200,\n",
              "             n_jobs=None, num_parallel_tree=None, ...)</pre></div> </div></div></div></div>"
            ],
            "text/plain": [
              "XGBRegressor(base_score=None, booster=None, callbacks=None,\n",
              "             colsample_bylevel=None, colsample_bynode=None,\n",
              "             colsample_bytree=None, device=None, early_stopping_rounds=None,\n",
              "             enable_categorical=False, eval_metric=None, feature_types=None,\n",
              "             feature_weights=None, gamma=None, grow_policy=None,\n",
              "             importance_type=None, interaction_constraints=None,\n",
              "             learning_rate=0.05, max_bin=None, max_cat_threshold=None,\n",
              "             max_cat_to_onehot=None, max_delta_step=None, max_depth=8,\n",
              "             max_leaves=None, min_child_weight=None, missing=nan,\n",
              "             monotone_constraints=None, multi_strategy=None, n_estimators=200,\n",
              "             n_jobs=None, num_parallel_tree=None, ...)"
            ]
          },
          "execution_count": 34,
          "metadata": {},
          "output_type": "execute_result"
        }
      ],
      "source": [
        "#### CODE HERE ####\n",
        "xgb_model = xgb.XGBRegressor(\n",
        "    objective='reg:squarederror', \n",
        "    n_estimators=200,  \n",
        "    learning_rate=0.05,  \n",
        "    max_depth=8,  \n",
        "    random_state=1234\n",
        ")\n",
        "\n",
        "xgb_model.fit(X_train, y_train)"
      ]
    },
    {
      "cell_type": "code",
      "execution_count": 35,
      "metadata": {
        "id": "6SyJlj5A72c8"
      },
      "outputs": [
        {
          "name": "stdout",
          "output_type": "stream",
          "text": [
            "Mean Squared Error (MSE): 0.8642493705896744\n"
          ]
        }
      ],
      "source": [
        "# Evaluate review/score with mse metrics\n",
        "min_score, max_score = 0, 5\n",
        "#### CODE HERE ####\n",
        "y_pred = xgb_model.predict(X_test)\n",
        "mse = mean_squared_error(y_test, y_pred)\n",
        "print(f\"Mean Squared Error (MSE): {mse}\")\n"
      ]
    },
    {
      "cell_type": "markdown",
      "metadata": {
        "id": "1w6n5SNViTJj"
      },
      "source": [
        "### TODO 3.2: Normaly we wouldn't use user id as a feature, Why?"
      ]
    },
    {
      "cell_type": "markdown",
      "metadata": {
        "id": "Cim1c8gjiTqC"
      },
      "source": [
        "Ans: User ID are unique and can lead to overfitting, also user ID does not contain user behavior data"
      ]
    },
    {
      "cell_type": "markdown",
      "metadata": {
        "id": "raHCrxzWOPSN"
      },
      "source": [
        "## User Embeddings Solution"
      ]
    },
    {
      "cell_type": "markdown",
      "metadata": {
        "id": "TTDbZ_T7iXc-"
      },
      "source": [
        "In this solution, we will create user embeddings for the model instead of using user_id. There are many ways to create user embeddings, but for this exercise, we selected the text embeddings of the book with the highest individual review score for each user."
      ]
    },
    {
      "cell_type": "code",
      "execution_count": 36,
      "metadata": {
        "id": "cDQTnhBIsCiy"
      },
      "outputs": [],
      "source": [
        "# Finding the most rated book for each user. If there are 2 or more books with the highest rating, the most recent one will be used.\n",
        "def weighted_avg_top_n_embeddings(df, n=5):\n",
        "    user_embeddings = {}\n",
        "\n",
        "    df_sorted = df.sort_values(['User_id', 'review/score', 'datetime'], ascending=[True, False, False])\n",
        "\n",
        "    for user_id, group in df_sorted.groupby('User_id'):\n",
        "        top_n = group.head(n)\n",
        "\n",
        "        weights = top_n['review/score'].values\n",
        "        embeddings = np.stack(top_n['text_embeddings'].values)\n",
        "\n",
        "        weights = weights / weights.sum()\n",
        "\n",
        "        weighted_embedding = np.average(embeddings, axis=0, weights=weights)\n",
        "\n",
        "        user_embeddings[user_id] = weighted_embedding\n",
        "\n",
        "    return user_embeddings"
      ]
    },
    {
      "cell_type": "code",
      "execution_count": 37,
      "metadata": {
        "id": "lClebjrVVOi-"
      },
      "outputs": [],
      "source": [
        "user_embeddings = weighted_avg_top_n_embeddings(train_rating, 1)"
      ]
    },
    {
      "cell_type": "code",
      "execution_count": 38,
      "metadata": {
        "id": "-EuuYctFWR2I"
      },
      "outputs": [],
      "source": [
        "train_rating['user_embeddings'] = train_rating['User_id'].map(user_embeddings)\n",
        "test_rating['user_embeddings'] = test_rating['User_id'].map(user_embeddings)"
      ]
    },
    {
      "cell_type": "code",
      "execution_count": 39,
      "metadata": {
        "id": "ugso7nRZwDur"
      },
      "outputs": [
        {
          "data": {
            "text/html": [
              "<div>\n",
              "<style scoped>\n",
              "    .dataframe tbody tr th:only-of-type {\n",
              "        vertical-align: middle;\n",
              "    }\n",
              "\n",
              "    .dataframe tbody tr th {\n",
              "        vertical-align: top;\n",
              "    }\n",
              "\n",
              "    .dataframe thead th {\n",
              "        text-align: right;\n",
              "    }\n",
              "</style>\n",
              "<table border=\"1\" class=\"dataframe\">\n",
              "  <thead>\n",
              "    <tr style=\"text-align: right;\">\n",
              "      <th></th>\n",
              "      <th>Id</th>\n",
              "      <th>Title</th>\n",
              "      <th>User_id</th>\n",
              "      <th>review/score</th>\n",
              "      <th>datetime</th>\n",
              "      <th>year</th>\n",
              "      <th>text_embeddings</th>\n",
              "      <th>cat_Biography &amp; Autobiography</th>\n",
              "      <th>cat_Body, Mind &amp; Spirit</th>\n",
              "      <th>cat_Business &amp; Economics</th>\n",
              "      <th>...</th>\n",
              "      <th>cat_Fiction</th>\n",
              "      <th>cat_Health &amp; Fitness</th>\n",
              "      <th>cat_History</th>\n",
              "      <th>cat_Juvenile Fiction</th>\n",
              "      <th>cat_Juvenile Nonfiction</th>\n",
              "      <th>cat_Philosophy</th>\n",
              "      <th>cat_Religion</th>\n",
              "      <th>cat_Science</th>\n",
              "      <th>cat_Social Science</th>\n",
              "      <th>user_embeddings</th>\n",
              "    </tr>\n",
              "  </thead>\n",
              "  <tbody>\n",
              "    <tr>\n",
              "      <th>0</th>\n",
              "      <td>B0006E1KQ8</td>\n",
              "      <td>The Mangan inheritance</td>\n",
              "      <td>268</td>\n",
              "      <td>4.0</td>\n",
              "      <td>2012-07-20</td>\n",
              "      <td>2012</td>\n",
              "      <td>[-0.17252177000045776, 0.14521357417106628, -0...</td>\n",
              "      <td>False</td>\n",
              "      <td>False</td>\n",
              "      <td>False</td>\n",
              "      <td>...</td>\n",
              "      <td>True</td>\n",
              "      <td>False</td>\n",
              "      <td>False</td>\n",
              "      <td>False</td>\n",
              "      <td>False</td>\n",
              "      <td>False</td>\n",
              "      <td>False</td>\n",
              "      <td>False</td>\n",
              "      <td>False</td>\n",
              "      <td>[0.019812151789665222, 0.12745703756809235, -0...</td>\n",
              "    </tr>\n",
              "    <tr>\n",
              "      <th>1</th>\n",
              "      <td>B0000CMP8O</td>\n",
              "      <td>The Millstone</td>\n",
              "      <td>268</td>\n",
              "      <td>4.0</td>\n",
              "      <td>2011-03-12</td>\n",
              "      <td>2011</td>\n",
              "      <td>[0.09369620680809021, -0.13554872572422028, -0...</td>\n",
              "      <td>False</td>\n",
              "      <td>False</td>\n",
              "      <td>False</td>\n",
              "      <td>...</td>\n",
              "      <td>True</td>\n",
              "      <td>False</td>\n",
              "      <td>False</td>\n",
              "      <td>False</td>\n",
              "      <td>False</td>\n",
              "      <td>False</td>\n",
              "      <td>False</td>\n",
              "      <td>False</td>\n",
              "      <td>False</td>\n",
              "      <td>[0.019812151789665222, 0.12745703756809235, -0...</td>\n",
              "    </tr>\n",
              "    <tr>\n",
              "      <th>2</th>\n",
              "      <td>B0006D6XAM</td>\n",
              "      <td>The Spy Who Came In From the Cold</td>\n",
              "      <td>268</td>\n",
              "      <td>3.0</td>\n",
              "      <td>2011-11-06</td>\n",
              "      <td>2011</td>\n",
              "      <td>[-0.37328195571899414, 0.12529827654361725, -0...</td>\n",
              "      <td>False</td>\n",
              "      <td>False</td>\n",
              "      <td>False</td>\n",
              "      <td>...</td>\n",
              "      <td>True</td>\n",
              "      <td>False</td>\n",
              "      <td>False</td>\n",
              "      <td>False</td>\n",
              "      <td>False</td>\n",
              "      <td>False</td>\n",
              "      <td>False</td>\n",
              "      <td>False</td>\n",
              "      <td>False</td>\n",
              "      <td>[0.019812151789665222, 0.12745703756809235, -0...</td>\n",
              "    </tr>\n",
              "    <tr>\n",
              "      <th>3</th>\n",
              "      <td>B000KPU0KU</td>\n",
              "      <td>Man Who Ate Everything</td>\n",
              "      <td>1412</td>\n",
              "      <td>4.0</td>\n",
              "      <td>2011-08-06</td>\n",
              "      <td>2011</td>\n",
              "      <td>[0.11606423556804657, -0.11528254300355911, -0...</td>\n",
              "      <td>False</td>\n",
              "      <td>False</td>\n",
              "      <td>False</td>\n",
              "      <td>...</td>\n",
              "      <td>False</td>\n",
              "      <td>False</td>\n",
              "      <td>False</td>\n",
              "      <td>False</td>\n",
              "      <td>False</td>\n",
              "      <td>False</td>\n",
              "      <td>False</td>\n",
              "      <td>False</td>\n",
              "      <td>False</td>\n",
              "      <td>[0.452089786529541, -0.24501261115074158, 0.03...</td>\n",
              "    </tr>\n",
              "    <tr>\n",
              "      <th>4</th>\n",
              "      <td>B000Q7QGC8</td>\n",
              "      <td>Blow Up and Other Stories</td>\n",
              "      <td>1499</td>\n",
              "      <td>5.0</td>\n",
              "      <td>2012-07-07</td>\n",
              "      <td>2012</td>\n",
              "      <td>[0.11299232393503189, -0.017953066155314445, -...</td>\n",
              "      <td>False</td>\n",
              "      <td>False</td>\n",
              "      <td>False</td>\n",
              "      <td>...</td>\n",
              "      <td>True</td>\n",
              "      <td>False</td>\n",
              "      <td>False</td>\n",
              "      <td>False</td>\n",
              "      <td>False</td>\n",
              "      <td>False</td>\n",
              "      <td>False</td>\n",
              "      <td>False</td>\n",
              "      <td>False</td>\n",
              "      <td>[-0.10308095812797546, 0.07773701846599579, 0....</td>\n",
              "    </tr>\n",
              "    <tr>\n",
              "      <th>...</th>\n",
              "      <td>...</td>\n",
              "      <td>...</td>\n",
              "      <td>...</td>\n",
              "      <td>...</td>\n",
              "      <td>...</td>\n",
              "      <td>...</td>\n",
              "      <td>...</td>\n",
              "      <td>...</td>\n",
              "      <td>...</td>\n",
              "      <td>...</td>\n",
              "      <td>...</td>\n",
              "      <td>...</td>\n",
              "      <td>...</td>\n",
              "      <td>...</td>\n",
              "      <td>...</td>\n",
              "      <td>...</td>\n",
              "      <td>...</td>\n",
              "      <td>...</td>\n",
              "      <td>...</td>\n",
              "      <td>...</td>\n",
              "      <td>...</td>\n",
              "    </tr>\n",
              "    <tr>\n",
              "      <th>2486</th>\n",
              "      <td>0060971231</td>\n",
              "      <td>In His Own Write</td>\n",
              "      <td>175936</td>\n",
              "      <td>4.0</td>\n",
              "      <td>2010-05-02</td>\n",
              "      <td>2010</td>\n",
              "      <td>[-0.25685080885887146, 0.2927987277507782, -0....</td>\n",
              "      <td>False</td>\n",
              "      <td>False</td>\n",
              "      <td>False</td>\n",
              "      <td>...</td>\n",
              "      <td>True</td>\n",
              "      <td>False</td>\n",
              "      <td>False</td>\n",
              "      <td>False</td>\n",
              "      <td>False</td>\n",
              "      <td>False</td>\n",
              "      <td>False</td>\n",
              "      <td>False</td>\n",
              "      <td>False</td>\n",
              "      <td>[0.08184327185153961, -0.23445706069469452, -0...</td>\n",
              "    </tr>\n",
              "    <tr>\n",
              "      <th>2487</th>\n",
              "      <td>B0006AL5K8</td>\n",
              "      <td>The Murder at the vicarage;: A detective story</td>\n",
              "      <td>175936</td>\n",
              "      <td>4.0</td>\n",
              "      <td>2010-03-23</td>\n",
              "      <td>2010</td>\n",
              "      <td>[0.29365378618240356, 0.004810013808310032, -0...</td>\n",
              "      <td>False</td>\n",
              "      <td>False</td>\n",
              "      <td>False</td>\n",
              "      <td>...</td>\n",
              "      <td>True</td>\n",
              "      <td>False</td>\n",
              "      <td>False</td>\n",
              "      <td>False</td>\n",
              "      <td>False</td>\n",
              "      <td>False</td>\n",
              "      <td>False</td>\n",
              "      <td>False</td>\n",
              "      <td>False</td>\n",
              "      <td>[0.08184327185153961, -0.23445706069469452, -0...</td>\n",
              "    </tr>\n",
              "    <tr>\n",
              "      <th>2488</th>\n",
              "      <td>B0006DBN8E</td>\n",
              "      <td>Voltaire In Love</td>\n",
              "      <td>176072</td>\n",
              "      <td>5.0</td>\n",
              "      <td>2010-09-12</td>\n",
              "      <td>2010</td>\n",
              "      <td>[-0.06647967547178268, 0.2228788584470749, -0....</td>\n",
              "      <td>True</td>\n",
              "      <td>False</td>\n",
              "      <td>False</td>\n",
              "      <td>...</td>\n",
              "      <td>False</td>\n",
              "      <td>False</td>\n",
              "      <td>False</td>\n",
              "      <td>False</td>\n",
              "      <td>False</td>\n",
              "      <td>False</td>\n",
              "      <td>False</td>\n",
              "      <td>False</td>\n",
              "      <td>False</td>\n",
              "      <td>[-0.05653613805770874, -0.04750073701143265, -...</td>\n",
              "    </tr>\n",
              "    <tr>\n",
              "      <th>2489</th>\n",
              "      <td>B000U2H82Q</td>\n",
              "      <td>Maximum Bob.</td>\n",
              "      <td>176683</td>\n",
              "      <td>5.0</td>\n",
              "      <td>2010-06-13</td>\n",
              "      <td>2010</td>\n",
              "      <td>[-0.09960000962018967, 0.05931280925869942, -0...</td>\n",
              "      <td>False</td>\n",
              "      <td>False</td>\n",
              "      <td>False</td>\n",
              "      <td>...</td>\n",
              "      <td>True</td>\n",
              "      <td>False</td>\n",
              "      <td>False</td>\n",
              "      <td>False</td>\n",
              "      <td>False</td>\n",
              "      <td>False</td>\n",
              "      <td>False</td>\n",
              "      <td>False</td>\n",
              "      <td>False</td>\n",
              "      <td>[-0.033185042440891266, -0.07698997110128403, ...</td>\n",
              "    </tr>\n",
              "    <tr>\n",
              "      <th>2490</th>\n",
              "      <td>B0007EDZRY</td>\n",
              "      <td>The problem of pain</td>\n",
              "      <td>177054</td>\n",
              "      <td>2.0</td>\n",
              "      <td>2010-12-14</td>\n",
              "      <td>2010</td>\n",
              "      <td>[-0.1573234349489212, 0.07190167158842087, 0.0...</td>\n",
              "      <td>False</td>\n",
              "      <td>False</td>\n",
              "      <td>False</td>\n",
              "      <td>...</td>\n",
              "      <td>False</td>\n",
              "      <td>False</td>\n",
              "      <td>False</td>\n",
              "      <td>False</td>\n",
              "      <td>False</td>\n",
              "      <td>False</td>\n",
              "      <td>True</td>\n",
              "      <td>False</td>\n",
              "      <td>False</td>\n",
              "      <td>[0.001691020093858242, -0.08029615879058838, -...</td>\n",
              "    </tr>\n",
              "  </tbody>\n",
              "</table>\n",
              "<p>2491 rows × 23 columns</p>\n",
              "</div>"
            ],
            "text/plain": [
              "              Id                                           Title  User_id  \\\n",
              "0     B0006E1KQ8                          The Mangan inheritance      268   \n",
              "1     B0000CMP8O                                   The Millstone      268   \n",
              "2     B0006D6XAM               The Spy Who Came In From the Cold      268   \n",
              "3     B000KPU0KU                          Man Who Ate Everything     1412   \n",
              "4     B000Q7QGC8                       Blow Up and Other Stories     1499   \n",
              "...          ...                                             ...      ...   \n",
              "2486  0060971231                                In His Own Write   175936   \n",
              "2487  B0006AL5K8  The Murder at the vicarage;: A detective story   175936   \n",
              "2488  B0006DBN8E                                Voltaire In Love   176072   \n",
              "2489  B000U2H82Q                                    Maximum Bob.   176683   \n",
              "2490  B0007EDZRY                             The problem of pain   177054   \n",
              "\n",
              "      review/score   datetime  year  \\\n",
              "0              4.0 2012-07-20  2012   \n",
              "1              4.0 2011-03-12  2011   \n",
              "2              3.0 2011-11-06  2011   \n",
              "3              4.0 2011-08-06  2011   \n",
              "4              5.0 2012-07-07  2012   \n",
              "...            ...        ...   ...   \n",
              "2486           4.0 2010-05-02  2010   \n",
              "2487           4.0 2010-03-23  2010   \n",
              "2488           5.0 2010-09-12  2010   \n",
              "2489           5.0 2010-06-13  2010   \n",
              "2490           2.0 2010-12-14  2010   \n",
              "\n",
              "                                        text_embeddings  \\\n",
              "0     [-0.17252177000045776, 0.14521357417106628, -0...   \n",
              "1     [0.09369620680809021, -0.13554872572422028, -0...   \n",
              "2     [-0.37328195571899414, 0.12529827654361725, -0...   \n",
              "3     [0.11606423556804657, -0.11528254300355911, -0...   \n",
              "4     [0.11299232393503189, -0.017953066155314445, -...   \n",
              "...                                                 ...   \n",
              "2486  [-0.25685080885887146, 0.2927987277507782, -0....   \n",
              "2487  [0.29365378618240356, 0.004810013808310032, -0...   \n",
              "2488  [-0.06647967547178268, 0.2228788584470749, -0....   \n",
              "2489  [-0.09960000962018967, 0.05931280925869942, -0...   \n",
              "2490  [-0.1573234349489212, 0.07190167158842087, 0.0...   \n",
              "\n",
              "      cat_Biography & Autobiography  cat_Body, Mind & Spirit  \\\n",
              "0                             False                    False   \n",
              "1                             False                    False   \n",
              "2                             False                    False   \n",
              "3                             False                    False   \n",
              "4                             False                    False   \n",
              "...                             ...                      ...   \n",
              "2486                          False                    False   \n",
              "2487                          False                    False   \n",
              "2488                           True                    False   \n",
              "2489                          False                    False   \n",
              "2490                          False                    False   \n",
              "\n",
              "      cat_Business & Economics  ...  cat_Fiction  cat_Health & Fitness  \\\n",
              "0                        False  ...         True                 False   \n",
              "1                        False  ...         True                 False   \n",
              "2                        False  ...         True                 False   \n",
              "3                        False  ...        False                 False   \n",
              "4                        False  ...         True                 False   \n",
              "...                        ...  ...          ...                   ...   \n",
              "2486                     False  ...         True                 False   \n",
              "2487                     False  ...         True                 False   \n",
              "2488                     False  ...        False                 False   \n",
              "2489                     False  ...         True                 False   \n",
              "2490                     False  ...        False                 False   \n",
              "\n",
              "      cat_History  cat_Juvenile Fiction  cat_Juvenile Nonfiction  \\\n",
              "0           False                 False                    False   \n",
              "1           False                 False                    False   \n",
              "2           False                 False                    False   \n",
              "3           False                 False                    False   \n",
              "4           False                 False                    False   \n",
              "...           ...                   ...                      ...   \n",
              "2486        False                 False                    False   \n",
              "2487        False                 False                    False   \n",
              "2488        False                 False                    False   \n",
              "2489        False                 False                    False   \n",
              "2490        False                 False                    False   \n",
              "\n",
              "      cat_Philosophy  cat_Religion  cat_Science  cat_Social Science  \\\n",
              "0              False         False        False               False   \n",
              "1              False         False        False               False   \n",
              "2              False         False        False               False   \n",
              "3              False         False        False               False   \n",
              "4              False         False        False               False   \n",
              "...              ...           ...          ...                 ...   \n",
              "2486           False         False        False               False   \n",
              "2487           False         False        False               False   \n",
              "2488           False         False        False               False   \n",
              "2489           False         False        False               False   \n",
              "2490           False          True        False               False   \n",
              "\n",
              "                                        user_embeddings  \n",
              "0     [0.019812151789665222, 0.12745703756809235, -0...  \n",
              "1     [0.019812151789665222, 0.12745703756809235, -0...  \n",
              "2     [0.019812151789665222, 0.12745703756809235, -0...  \n",
              "3     [0.452089786529541, -0.24501261115074158, 0.03...  \n",
              "4     [-0.10308095812797546, 0.07773701846599579, 0....  \n",
              "...                                                 ...  \n",
              "2486  [0.08184327185153961, -0.23445706069469452, -0...  \n",
              "2487  [0.08184327185153961, -0.23445706069469452, -0...  \n",
              "2488  [-0.05653613805770874, -0.04750073701143265, -...  \n",
              "2489  [-0.033185042440891266, -0.07698997110128403, ...  \n",
              "2490  [0.001691020093858242, -0.08029615879058838, -...  \n",
              "\n",
              "[2491 rows x 23 columns]"
            ]
          },
          "execution_count": 39,
          "metadata": {},
          "output_type": "execute_result"
        }
      ],
      "source": [
        "test_rating"
      ]
    },
    {
      "cell_type": "markdown",
      "metadata": {
        "id": "GnxHE1yMifvA"
      },
      "source": [
        "We will use user embeddings, book categories, and text embeddings of book titles and descriptions as features to predict rating scores."
      ]
    },
    {
      "cell_type": "code",
      "execution_count": 40,
      "metadata": {
        "id": "9eSW28uBOOXv"
      },
      "outputs": [],
      "source": [
        "# Prepare train and test data which are user_embeddings, book categories and text_embeddings of book titles and descriptions\n",
        "# Predict rating (review/score)\n",
        "\n",
        "X_train = train_rating[one_hot_encoded.columns.tolist()].to_numpy()\n",
        "\n",
        "X_train = np.concatenate([np.array(train_rating['user_embeddings'].tolist()), X_train, np.array(train_rating['text_embeddings'].tolist())], axis=1)\n",
        "\n",
        "y_train = train_rating['review/score']\n",
        "\n",
        "X_test = test_rating[one_hot_encoded.columns.tolist()].to_numpy()\n",
        "\n",
        "X_test = np.concatenate([np.array(test_rating['user_embeddings'].tolist()), X_test, np.array(test_rating['text_embeddings'].tolist())], axis=1)\n",
        "\n",
        "y_test = test_rating['review/score']"
      ]
    },
    {
      "cell_type": "markdown",
      "metadata": {
        "id": "IjPh9tXfgEw3"
      },
      "source": [
        "### TODO 3.3: Build XGBoost model to create content based filtering model. Also find MSE score of the model."
      ]
    },
    {
      "cell_type": "code",
      "execution_count": 41,
      "metadata": {
        "id": "LOAgeflPOqV0"
      },
      "outputs": [
        {
          "data": {
            "text/html": [
              "<style>#sk-container-id-2 {\n",
              "  /* Definition of color scheme common for light and dark mode */\n",
              "  --sklearn-color-text: #000;\n",
              "  --sklearn-color-text-muted: #666;\n",
              "  --sklearn-color-line: gray;\n",
              "  /* Definition of color scheme for unfitted estimators */\n",
              "  --sklearn-color-unfitted-level-0: #fff5e6;\n",
              "  --sklearn-color-unfitted-level-1: #f6e4d2;\n",
              "  --sklearn-color-unfitted-level-2: #ffe0b3;\n",
              "  --sklearn-color-unfitted-level-3: chocolate;\n",
              "  /* Definition of color scheme for fitted estimators */\n",
              "  --sklearn-color-fitted-level-0: #f0f8ff;\n",
              "  --sklearn-color-fitted-level-1: #d4ebff;\n",
              "  --sklearn-color-fitted-level-2: #b3dbfd;\n",
              "  --sklearn-color-fitted-level-3: cornflowerblue;\n",
              "\n",
              "  /* Specific color for light theme */\n",
              "  --sklearn-color-text-on-default-background: var(--sg-text-color, var(--theme-code-foreground, var(--jp-content-font-color1, black)));\n",
              "  --sklearn-color-background: var(--sg-background-color, var(--theme-background, var(--jp-layout-color0, white)));\n",
              "  --sklearn-color-border-box: var(--sg-text-color, var(--theme-code-foreground, var(--jp-content-font-color1, black)));\n",
              "  --sklearn-color-icon: #696969;\n",
              "\n",
              "  @media (prefers-color-scheme: dark) {\n",
              "    /* Redefinition of color scheme for dark theme */\n",
              "    --sklearn-color-text-on-default-background: var(--sg-text-color, var(--theme-code-foreground, var(--jp-content-font-color1, white)));\n",
              "    --sklearn-color-background: var(--sg-background-color, var(--theme-background, var(--jp-layout-color0, #111)));\n",
              "    --sklearn-color-border-box: var(--sg-text-color, var(--theme-code-foreground, var(--jp-content-font-color1, white)));\n",
              "    --sklearn-color-icon: #878787;\n",
              "  }\n",
              "}\n",
              "\n",
              "#sk-container-id-2 {\n",
              "  color: var(--sklearn-color-text);\n",
              "}\n",
              "\n",
              "#sk-container-id-2 pre {\n",
              "  padding: 0;\n",
              "}\n",
              "\n",
              "#sk-container-id-2 input.sk-hidden--visually {\n",
              "  border: 0;\n",
              "  clip: rect(1px 1px 1px 1px);\n",
              "  clip: rect(1px, 1px, 1px, 1px);\n",
              "  height: 1px;\n",
              "  margin: -1px;\n",
              "  overflow: hidden;\n",
              "  padding: 0;\n",
              "  position: absolute;\n",
              "  width: 1px;\n",
              "}\n",
              "\n",
              "#sk-container-id-2 div.sk-dashed-wrapped {\n",
              "  border: 1px dashed var(--sklearn-color-line);\n",
              "  margin: 0 0.4em 0.5em 0.4em;\n",
              "  box-sizing: border-box;\n",
              "  padding-bottom: 0.4em;\n",
              "  background-color: var(--sklearn-color-background);\n",
              "}\n",
              "\n",
              "#sk-container-id-2 div.sk-container {\n",
              "  /* jupyter's `normalize.less` sets `[hidden] { display: none; }`\n",
              "     but bootstrap.min.css set `[hidden] { display: none !important; }`\n",
              "     so we also need the `!important` here to be able to override the\n",
              "     default hidden behavior on the sphinx rendered scikit-learn.org.\n",
              "     See: https://github.com/scikit-learn/scikit-learn/issues/21755 */\n",
              "  display: inline-block !important;\n",
              "  position: relative;\n",
              "}\n",
              "\n",
              "#sk-container-id-2 div.sk-text-repr-fallback {\n",
              "  display: none;\n",
              "}\n",
              "\n",
              "div.sk-parallel-item,\n",
              "div.sk-serial,\n",
              "div.sk-item {\n",
              "  /* draw centered vertical line to link estimators */\n",
              "  background-image: linear-gradient(var(--sklearn-color-text-on-default-background), var(--sklearn-color-text-on-default-background));\n",
              "  background-size: 2px 100%;\n",
              "  background-repeat: no-repeat;\n",
              "  background-position: center center;\n",
              "}\n",
              "\n",
              "/* Parallel-specific style estimator block */\n",
              "\n",
              "#sk-container-id-2 div.sk-parallel-item::after {\n",
              "  content: \"\";\n",
              "  width: 100%;\n",
              "  border-bottom: 2px solid var(--sklearn-color-text-on-default-background);\n",
              "  flex-grow: 1;\n",
              "}\n",
              "\n",
              "#sk-container-id-2 div.sk-parallel {\n",
              "  display: flex;\n",
              "  align-items: stretch;\n",
              "  justify-content: center;\n",
              "  background-color: var(--sklearn-color-background);\n",
              "  position: relative;\n",
              "}\n",
              "\n",
              "#sk-container-id-2 div.sk-parallel-item {\n",
              "  display: flex;\n",
              "  flex-direction: column;\n",
              "}\n",
              "\n",
              "#sk-container-id-2 div.sk-parallel-item:first-child::after {\n",
              "  align-self: flex-end;\n",
              "  width: 50%;\n",
              "}\n",
              "\n",
              "#sk-container-id-2 div.sk-parallel-item:last-child::after {\n",
              "  align-self: flex-start;\n",
              "  width: 50%;\n",
              "}\n",
              "\n",
              "#sk-container-id-2 div.sk-parallel-item:only-child::after {\n",
              "  width: 0;\n",
              "}\n",
              "\n",
              "/* Serial-specific style estimator block */\n",
              "\n",
              "#sk-container-id-2 div.sk-serial {\n",
              "  display: flex;\n",
              "  flex-direction: column;\n",
              "  align-items: center;\n",
              "  background-color: var(--sklearn-color-background);\n",
              "  padding-right: 1em;\n",
              "  padding-left: 1em;\n",
              "}\n",
              "\n",
              "\n",
              "/* Toggleable style: style used for estimator/Pipeline/ColumnTransformer box that is\n",
              "clickable and can be expanded/collapsed.\n",
              "- Pipeline and ColumnTransformer use this feature and define the default style\n",
              "- Estimators will overwrite some part of the style using the `sk-estimator` class\n",
              "*/\n",
              "\n",
              "/* Pipeline and ColumnTransformer style (default) */\n",
              "\n",
              "#sk-container-id-2 div.sk-toggleable {\n",
              "  /* Default theme specific background. It is overwritten whether we have a\n",
              "  specific estimator or a Pipeline/ColumnTransformer */\n",
              "  background-color: var(--sklearn-color-background);\n",
              "}\n",
              "\n",
              "/* Toggleable label */\n",
              "#sk-container-id-2 label.sk-toggleable__label {\n",
              "  cursor: pointer;\n",
              "  display: flex;\n",
              "  width: 100%;\n",
              "  margin-bottom: 0;\n",
              "  padding: 0.5em;\n",
              "  box-sizing: border-box;\n",
              "  text-align: center;\n",
              "  align-items: start;\n",
              "  justify-content: space-between;\n",
              "  gap: 0.5em;\n",
              "}\n",
              "\n",
              "#sk-container-id-2 label.sk-toggleable__label .caption {\n",
              "  font-size: 0.6rem;\n",
              "  font-weight: lighter;\n",
              "  color: var(--sklearn-color-text-muted);\n",
              "}\n",
              "\n",
              "#sk-container-id-2 label.sk-toggleable__label-arrow:before {\n",
              "  /* Arrow on the left of the label */\n",
              "  content: \"▸\";\n",
              "  float: left;\n",
              "  margin-right: 0.25em;\n",
              "  color: var(--sklearn-color-icon);\n",
              "}\n",
              "\n",
              "#sk-container-id-2 label.sk-toggleable__label-arrow:hover:before {\n",
              "  color: var(--sklearn-color-text);\n",
              "}\n",
              "\n",
              "/* Toggleable content - dropdown */\n",
              "\n",
              "#sk-container-id-2 div.sk-toggleable__content {\n",
              "  max-height: 0;\n",
              "  max-width: 0;\n",
              "  overflow: hidden;\n",
              "  text-align: left;\n",
              "  /* unfitted */\n",
              "  background-color: var(--sklearn-color-unfitted-level-0);\n",
              "}\n",
              "\n",
              "#sk-container-id-2 div.sk-toggleable__content.fitted {\n",
              "  /* fitted */\n",
              "  background-color: var(--sklearn-color-fitted-level-0);\n",
              "}\n",
              "\n",
              "#sk-container-id-2 div.sk-toggleable__content pre {\n",
              "  margin: 0.2em;\n",
              "  border-radius: 0.25em;\n",
              "  color: var(--sklearn-color-text);\n",
              "  /* unfitted */\n",
              "  background-color: var(--sklearn-color-unfitted-level-0);\n",
              "}\n",
              "\n",
              "#sk-container-id-2 div.sk-toggleable__content.fitted pre {\n",
              "  /* unfitted */\n",
              "  background-color: var(--sklearn-color-fitted-level-0);\n",
              "}\n",
              "\n",
              "#sk-container-id-2 input.sk-toggleable__control:checked~div.sk-toggleable__content {\n",
              "  /* Expand drop-down */\n",
              "  max-height: 200px;\n",
              "  max-width: 100%;\n",
              "  overflow: auto;\n",
              "}\n",
              "\n",
              "#sk-container-id-2 input.sk-toggleable__control:checked~label.sk-toggleable__label-arrow:before {\n",
              "  content: \"▾\";\n",
              "}\n",
              "\n",
              "/* Pipeline/ColumnTransformer-specific style */\n",
              "\n",
              "#sk-container-id-2 div.sk-label input.sk-toggleable__control:checked~label.sk-toggleable__label {\n",
              "  color: var(--sklearn-color-text);\n",
              "  background-color: var(--sklearn-color-unfitted-level-2);\n",
              "}\n",
              "\n",
              "#sk-container-id-2 div.sk-label.fitted input.sk-toggleable__control:checked~label.sk-toggleable__label {\n",
              "  background-color: var(--sklearn-color-fitted-level-2);\n",
              "}\n",
              "\n",
              "/* Estimator-specific style */\n",
              "\n",
              "/* Colorize estimator box */\n",
              "#sk-container-id-2 div.sk-estimator input.sk-toggleable__control:checked~label.sk-toggleable__label {\n",
              "  /* unfitted */\n",
              "  background-color: var(--sklearn-color-unfitted-level-2);\n",
              "}\n",
              "\n",
              "#sk-container-id-2 div.sk-estimator.fitted input.sk-toggleable__control:checked~label.sk-toggleable__label {\n",
              "  /* fitted */\n",
              "  background-color: var(--sklearn-color-fitted-level-2);\n",
              "}\n",
              "\n",
              "#sk-container-id-2 div.sk-label label.sk-toggleable__label,\n",
              "#sk-container-id-2 div.sk-label label {\n",
              "  /* The background is the default theme color */\n",
              "  color: var(--sklearn-color-text-on-default-background);\n",
              "}\n",
              "\n",
              "/* On hover, darken the color of the background */\n",
              "#sk-container-id-2 div.sk-label:hover label.sk-toggleable__label {\n",
              "  color: var(--sklearn-color-text);\n",
              "  background-color: var(--sklearn-color-unfitted-level-2);\n",
              "}\n",
              "\n",
              "/* Label box, darken color on hover, fitted */\n",
              "#sk-container-id-2 div.sk-label.fitted:hover label.sk-toggleable__label.fitted {\n",
              "  color: var(--sklearn-color-text);\n",
              "  background-color: var(--sklearn-color-fitted-level-2);\n",
              "}\n",
              "\n",
              "/* Estimator label */\n",
              "\n",
              "#sk-container-id-2 div.sk-label label {\n",
              "  font-family: monospace;\n",
              "  font-weight: bold;\n",
              "  display: inline-block;\n",
              "  line-height: 1.2em;\n",
              "}\n",
              "\n",
              "#sk-container-id-2 div.sk-label-container {\n",
              "  text-align: center;\n",
              "}\n",
              "\n",
              "/* Estimator-specific */\n",
              "#sk-container-id-2 div.sk-estimator {\n",
              "  font-family: monospace;\n",
              "  border: 1px dotted var(--sklearn-color-border-box);\n",
              "  border-radius: 0.25em;\n",
              "  box-sizing: border-box;\n",
              "  margin-bottom: 0.5em;\n",
              "  /* unfitted */\n",
              "  background-color: var(--sklearn-color-unfitted-level-0);\n",
              "}\n",
              "\n",
              "#sk-container-id-2 div.sk-estimator.fitted {\n",
              "  /* fitted */\n",
              "  background-color: var(--sklearn-color-fitted-level-0);\n",
              "}\n",
              "\n",
              "/* on hover */\n",
              "#sk-container-id-2 div.sk-estimator:hover {\n",
              "  /* unfitted */\n",
              "  background-color: var(--sklearn-color-unfitted-level-2);\n",
              "}\n",
              "\n",
              "#sk-container-id-2 div.sk-estimator.fitted:hover {\n",
              "  /* fitted */\n",
              "  background-color: var(--sklearn-color-fitted-level-2);\n",
              "}\n",
              "\n",
              "/* Specification for estimator info (e.g. \"i\" and \"?\") */\n",
              "\n",
              "/* Common style for \"i\" and \"?\" */\n",
              "\n",
              ".sk-estimator-doc-link,\n",
              "a:link.sk-estimator-doc-link,\n",
              "a:visited.sk-estimator-doc-link {\n",
              "  float: right;\n",
              "  font-size: smaller;\n",
              "  line-height: 1em;\n",
              "  font-family: monospace;\n",
              "  background-color: var(--sklearn-color-background);\n",
              "  border-radius: 1em;\n",
              "  height: 1em;\n",
              "  width: 1em;\n",
              "  text-decoration: none !important;\n",
              "  margin-left: 0.5em;\n",
              "  text-align: center;\n",
              "  /* unfitted */\n",
              "  border: var(--sklearn-color-unfitted-level-1) 1pt solid;\n",
              "  color: var(--sklearn-color-unfitted-level-1);\n",
              "}\n",
              "\n",
              ".sk-estimator-doc-link.fitted,\n",
              "a:link.sk-estimator-doc-link.fitted,\n",
              "a:visited.sk-estimator-doc-link.fitted {\n",
              "  /* fitted */\n",
              "  border: var(--sklearn-color-fitted-level-1) 1pt solid;\n",
              "  color: var(--sklearn-color-fitted-level-1);\n",
              "}\n",
              "\n",
              "/* On hover */\n",
              "div.sk-estimator:hover .sk-estimator-doc-link:hover,\n",
              ".sk-estimator-doc-link:hover,\n",
              "div.sk-label-container:hover .sk-estimator-doc-link:hover,\n",
              ".sk-estimator-doc-link:hover {\n",
              "  /* unfitted */\n",
              "  background-color: var(--sklearn-color-unfitted-level-3);\n",
              "  color: var(--sklearn-color-background);\n",
              "  text-decoration: none;\n",
              "}\n",
              "\n",
              "div.sk-estimator.fitted:hover .sk-estimator-doc-link.fitted:hover,\n",
              ".sk-estimator-doc-link.fitted:hover,\n",
              "div.sk-label-container:hover .sk-estimator-doc-link.fitted:hover,\n",
              ".sk-estimator-doc-link.fitted:hover {\n",
              "  /* fitted */\n",
              "  background-color: var(--sklearn-color-fitted-level-3);\n",
              "  color: var(--sklearn-color-background);\n",
              "  text-decoration: none;\n",
              "}\n",
              "\n",
              "/* Span, style for the box shown on hovering the info icon */\n",
              ".sk-estimator-doc-link span {\n",
              "  display: none;\n",
              "  z-index: 9999;\n",
              "  position: relative;\n",
              "  font-weight: normal;\n",
              "  right: .2ex;\n",
              "  padding: .5ex;\n",
              "  margin: .5ex;\n",
              "  width: min-content;\n",
              "  min-width: 20ex;\n",
              "  max-width: 50ex;\n",
              "  color: var(--sklearn-color-text);\n",
              "  box-shadow: 2pt 2pt 4pt #999;\n",
              "  /* unfitted */\n",
              "  background: var(--sklearn-color-unfitted-level-0);\n",
              "  border: .5pt solid var(--sklearn-color-unfitted-level-3);\n",
              "}\n",
              "\n",
              ".sk-estimator-doc-link.fitted span {\n",
              "  /* fitted */\n",
              "  background: var(--sklearn-color-fitted-level-0);\n",
              "  border: var(--sklearn-color-fitted-level-3);\n",
              "}\n",
              "\n",
              ".sk-estimator-doc-link:hover span {\n",
              "  display: block;\n",
              "}\n",
              "\n",
              "/* \"?\"-specific style due to the `<a>` HTML tag */\n",
              "\n",
              "#sk-container-id-2 a.estimator_doc_link {\n",
              "  float: right;\n",
              "  font-size: 1rem;\n",
              "  line-height: 1em;\n",
              "  font-family: monospace;\n",
              "  background-color: var(--sklearn-color-background);\n",
              "  border-radius: 1rem;\n",
              "  height: 1rem;\n",
              "  width: 1rem;\n",
              "  text-decoration: none;\n",
              "  /* unfitted */\n",
              "  color: var(--sklearn-color-unfitted-level-1);\n",
              "  border: var(--sklearn-color-unfitted-level-1) 1pt solid;\n",
              "}\n",
              "\n",
              "#sk-container-id-2 a.estimator_doc_link.fitted {\n",
              "  /* fitted */\n",
              "  border: var(--sklearn-color-fitted-level-1) 1pt solid;\n",
              "  color: var(--sklearn-color-fitted-level-1);\n",
              "}\n",
              "\n",
              "/* On hover */\n",
              "#sk-container-id-2 a.estimator_doc_link:hover {\n",
              "  /* unfitted */\n",
              "  background-color: var(--sklearn-color-unfitted-level-3);\n",
              "  color: var(--sklearn-color-background);\n",
              "  text-decoration: none;\n",
              "}\n",
              "\n",
              "#sk-container-id-2 a.estimator_doc_link.fitted:hover {\n",
              "  /* fitted */\n",
              "  background-color: var(--sklearn-color-fitted-level-3);\n",
              "}\n",
              "</style><div id=\"sk-container-id-2\" class=\"sk-top-container\"><div class=\"sk-text-repr-fallback\"><pre>XGBRegressor(base_score=None, booster=None, callbacks=None,\n",
              "             colsample_bylevel=None, colsample_bynode=None,\n",
              "             colsample_bytree=None, device=None, early_stopping_rounds=None,\n",
              "             enable_categorical=False, eval_metric=None, feature_types=None,\n",
              "             feature_weights=None, gamma=None, grow_policy=None,\n",
              "             importance_type=None, interaction_constraints=None,\n",
              "             learning_rate=0.05, max_bin=None, max_cat_threshold=None,\n",
              "             max_cat_to_onehot=None, max_delta_step=None, max_depth=8,\n",
              "             max_leaves=None, min_child_weight=None, missing=nan,\n",
              "             monotone_constraints=None, multi_strategy=None, n_estimators=200,\n",
              "             n_jobs=None, num_parallel_tree=None, ...)</pre><b>In a Jupyter environment, please rerun this cell to show the HTML representation or trust the notebook. <br />On GitHub, the HTML representation is unable to render, please try loading this page with nbviewer.org.</b></div><div class=\"sk-container\" hidden><div class=\"sk-item\"><div class=\"sk-estimator fitted sk-toggleable\"><input class=\"sk-toggleable__control sk-hidden--visually\" id=\"sk-estimator-id-2\" type=\"checkbox\" checked><label for=\"sk-estimator-id-2\" class=\"sk-toggleable__label fitted sk-toggleable__label-arrow\"><div><div>XGBRegressor</div></div><div><a class=\"sk-estimator-doc-link fitted\" rel=\"noreferrer\" target=\"_blank\" href=\"https://xgboost.readthedocs.io/en/release_3.0.0/python/python_api.html#xgboost.XGBRegressor\">?<span>Documentation for XGBRegressor</span></a><span class=\"sk-estimator-doc-link fitted\">i<span>Fitted</span></span></div></label><div class=\"sk-toggleable__content fitted\"><pre>XGBRegressor(base_score=None, booster=None, callbacks=None,\n",
              "             colsample_bylevel=None, colsample_bynode=None,\n",
              "             colsample_bytree=None, device=None, early_stopping_rounds=None,\n",
              "             enable_categorical=False, eval_metric=None, feature_types=None,\n",
              "             feature_weights=None, gamma=None, grow_policy=None,\n",
              "             importance_type=None, interaction_constraints=None,\n",
              "             learning_rate=0.05, max_bin=None, max_cat_threshold=None,\n",
              "             max_cat_to_onehot=None, max_delta_step=None, max_depth=8,\n",
              "             max_leaves=None, min_child_weight=None, missing=nan,\n",
              "             monotone_constraints=None, multi_strategy=None, n_estimators=200,\n",
              "             n_jobs=None, num_parallel_tree=None, ...)</pre></div> </div></div></div></div>"
            ],
            "text/plain": [
              "XGBRegressor(base_score=None, booster=None, callbacks=None,\n",
              "             colsample_bylevel=None, colsample_bynode=None,\n",
              "             colsample_bytree=None, device=None, early_stopping_rounds=None,\n",
              "             enable_categorical=False, eval_metric=None, feature_types=None,\n",
              "             feature_weights=None, gamma=None, grow_policy=None,\n",
              "             importance_type=None, interaction_constraints=None,\n",
              "             learning_rate=0.05, max_bin=None, max_cat_threshold=None,\n",
              "             max_cat_to_onehot=None, max_delta_step=None, max_depth=8,\n",
              "             max_leaves=None, min_child_weight=None, missing=nan,\n",
              "             monotone_constraints=None, multi_strategy=None, n_estimators=200,\n",
              "             n_jobs=None, num_parallel_tree=None, ...)"
            ]
          },
          "execution_count": 41,
          "metadata": {},
          "output_type": "execute_result"
        }
      ],
      "source": [
        "import xgboost as xgb\n",
        "from sklearn.metrics import mean_squared_error\n",
        "\n",
        "#### CODE HERE ####\n",
        "xgb_model = xgb.XGBRegressor(\n",
        "    objective='reg:squarederror', \n",
        "    n_estimators=200,  \n",
        "    learning_rate=0.05,  \n",
        "    max_depth=8,  \n",
        "    random_state=1234\n",
        ")\n",
        "\n",
        "xgb_model.fit(X_train, y_train)"
      ]
    },
    {
      "cell_type": "code",
      "execution_count": 42,
      "metadata": {
        "id": "N5nfiVkOOvEe"
      },
      "outputs": [
        {
          "name": "stdout",
          "output_type": "stream",
          "text": [
            "Mean Squared Error (MSE): 0.8227808585506912\n"
          ]
        }
      ],
      "source": [
        "# Evaluate review/score with mse metrics\n",
        "min_score, max_score = 0, 5\n",
        "#### CODE HERE ####\n",
        "y_pred = xgb_model.predict(X_test)\n",
        "mse = mean_squared_error(y_test, y_pred)\n",
        "print(f\"Mean Squared Error (MSE): {mse}\")"
      ]
    },
    {
      "cell_type": "markdown",
      "metadata": {
        "id": "rK9hNMDwgagn"
      },
      "source": [
        "### TODO 3.4: According to 3.1 and 3.3. <br>Which method have better performance? Why?"
      ]
    },
    {
      "cell_type": "markdown",
      "metadata": {
        "id": "_vcIDYiIirsq"
      },
      "source": [
        "Ans: 3.3 has better performance. Because it is using user embedding instead of user id, which helps the model to be better and generalization and less overfitting"
      ]
    },
    {
      "cell_type": "markdown",
      "metadata": {
        "id": "8Z332QAKtrUL"
      },
      "source": [
        "## Recommend all unreviewed books"
      ]
    },
    {
      "cell_type": "markdown",
      "metadata": {
        "id": "a6FJ104tivRi"
      },
      "source": [
        "After training a model to predict the ratings for books that a user has not yet reviewed, we generate personalized book recommendation lists for each user based on the predicted rating scores. Since user ratings come from transaction data, the next reviewed books in the transaction sequence reflect the user's interests and are considered suitable recommendations.\n",
        "\n",
        "In this section, we use the test data to represent the next books that the user is interested in (i.e., books they reviewed or rated)."
      ]
    },
    {
      "cell_type": "markdown",
      "metadata": {
        "id": "O0Kli7-kkYNz"
      },
      "source": [
        "First, for each user, we predict the ratings of all unreviewed books and sort them by the predicted rating score. In this exercise, we use the top 20 books to form the recommendation list."
      ]
    },
    {
      "cell_type": "code",
      "execution_count": 43,
      "metadata": {
        "id": "kc7iRlZgtqsF"
      },
      "outputs": [],
      "source": [
        "def recommend_items(test_rating, train_rating, model, top_k=5):\n",
        "\n",
        "    user_recommendations = {}\n",
        "\n",
        "    for user_id, user_group in test_rating.groupby('User_id') :\n",
        "        rated_items = set(train_rating[train_rating['User_id'] == user_id]['Title'])\n",
        "        all_items = set(book_dataset['Title'].tolist())\n",
        "        candidate_items = all_items - rated_items\n",
        "\n",
        "        book_candidates = book_dataset[book_dataset['Title'].isin(candidate_items)]\n",
        "\n",
        "        book_cat = book_candidates[one_hot_encoded.columns.tolist()].to_numpy()\n",
        "        book_embeddings = np.array(book_candidates['text_embeddings'].tolist())\n",
        "        user_embeddings = np.array(user_group['user_embeddings'].iloc[0].tolist())\n",
        "\n",
        "        user_embeddings = np.broadcast_to(user_embeddings, (book_embeddings.shape[0], user_embeddings.shape[-1]))\n",
        "\n",
        "        book_candidates['score'] = model.predict(np.concatenate([user_embeddings, book_cat, book_embeddings], axis=1))\n",
        "\n",
        "        user_recommendations[user_id] = book_candidates[['Title', 'score']].sort_values('score', ascending=False).head(top_k).to_numpy()\n",
        "\n",
        "    return user_recommendations\n"
      ]
    },
    {
      "cell_type": "code",
      "execution_count": 44,
      "metadata": {
        "id": "4ARGbtsQC12l"
      },
      "outputs": [],
      "source": [
        "user_next_rating = test_rating.sort_values('datetime', ascending=True)"
      ]
    },
    {
      "cell_type": "code",
      "execution_count": 45,
      "metadata": {
        "id": "VSSfGEHE0_Ah"
      },
      "outputs": [],
      "source": [
        "user_recommendations_list = recommend_items(user_next_rating, train_rating, xgb_model, top_k=20)"
      ]
    },
    {
      "cell_type": "markdown",
      "metadata": {
        "id": "wx8QUfxtWU6F"
      },
      "source": [
        "## Evaluation"
      ]
    },
    {
      "cell_type": "markdown",
      "metadata": {
        "id": "NM7la-3FjWq2"
      },
      "source": [
        "These are the widely used recommendation metrics for our project. We'd like you to focus on implementing Hit Rate@K and MRR@K."
      ]
    },
    {
      "cell_type": "markdown",
      "metadata": {
        "id": "gxtY2F0khUqG"
      },
      "source": [
        "https://www.evidentlyai.com/ranking-metrics/evaluating-recommender-systems"
      ]
    },
    {
      "cell_type": "markdown",
      "metadata": {
        "id": "zWj7VCQ6eDgF"
      },
      "source": [
        "### TODO 4: complete hit rate func. (K = 20)"
      ]
    },
    {
      "cell_type": "code",
      "execution_count": 46,
      "metadata": {
        "id": "7r67MvKuErAt"
      },
      "outputs": [],
      "source": [
        "def hit_rate_at_k(predictions, ground_truth, k=5):\n",
        "    hits = 0\n",
        "    total = len(ground_truth)\n",
        "    #### CODE HERE ####\n",
        "    for user_id, user_recommendations in predictions.items():\n",
        "        recommended_items = set(user_recommendations[:, 0])\n",
        "        actual_items = set(ground_truth[ground_truth['User_id'] == user_id]['Title'].tolist())\n",
        "        hits += len(recommended_items.intersection(actual_items)) > 0\n",
        "    print(f\"Hits: {hits}, Total: {total}\")\n",
        "\n",
        "    return hits / total"
      ]
    },
    {
      "cell_type": "code",
      "execution_count": 47,
      "metadata": {
        "id": "1S_XgMFyFOiK"
      },
      "outputs": [
        {
          "name": "stdout",
          "output_type": "stream",
          "text": [
            "Hits: 32, Total: 2491\n"
          ]
        },
        {
          "data": {
            "text/plain": [
              "0.012846246487354477"
            ]
          },
          "execution_count": 47,
          "metadata": {},
          "output_type": "execute_result"
        }
      ],
      "source": [
        "hit_rate_at_k(user_recommendations_list, user_next_rating[['User_id', 'Title']], k=20)"
      ]
    },
    {
      "cell_type": "markdown",
      "metadata": {
        "id": "rnbbTJpce_dn"
      },
      "source": [
        "### TODO 5: complete MRR@K func. (K = 20)"
      ]
    },
    {
      "cell_type": "code",
      "execution_count": 48,
      "metadata": {
        "id": "WP5GcZSMCZ5M"
      },
      "outputs": [],
      "source": [
        "def mrr_at_k(predictions, ground_truth, k=5):\n",
        "    rr_total = 0\n",
        "    total = len(ground_truth)\n",
        "    #### CODE HERE ####\n",
        "    for user_id, user_recommendations in predictions.items():\n",
        "        recommended_items = [item[0] for item in user_recommendations[:k]]\n",
        "        actual_items = ground_truth[ground_truth['User_id'] == user_id]['Title'].tolist()\n",
        "        \n",
        "        for rank, item in enumerate(recommended_items, start=1):\n",
        "            if item in actual_items:\n",
        "                rr_total += 1 / rank\n",
        "                break\n",
        "    print(f\"RR Total: {rr_total}, Total: {total}\")\n",
        "    return rr_total / total"
      ]
    },
    {
      "cell_type": "code",
      "execution_count": 49,
      "metadata": {
        "id": "Tx75fvppIHGx"
      },
      "outputs": [
        {
          "name": "stdout",
          "output_type": "stream",
          "text": [
            "RR Total: 10.468616982432774, Total: 2491\n"
          ]
        },
        {
          "data": {
            "text/plain": [
              "0.004202576066813638"
            ]
          },
          "execution_count": 49,
          "metadata": {},
          "output_type": "execute_result"
        }
      ],
      "source": [
        "mrr_at_k(user_recommendations_list, user_next_rating[['User_id', 'Title']], k=20)"
      ]
    }
  ],
  "metadata": {
    "accelerator": "GPU",
    "colab": {
      "gpuType": "T4",
      "provenance": []
    },
    "kernelspec": {
      "display_name": "Python 3",
      "name": "python3"
    },
    "language_info": {
      "codemirror_mode": {
        "name": "ipython",
        "version": 3
      },
      "file_extension": ".py",
      "mimetype": "text/x-python",
      "name": "python",
      "nbconvert_exporter": "python",
      "pygments_lexer": "ipython3",
      "version": "3.13.3"
    }
  },
  "nbformat": 4,
  "nbformat_minor": 0
}
