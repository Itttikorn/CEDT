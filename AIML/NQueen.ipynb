{
 "cells": [
  {
   "cell_type": "code",
   "execution_count": 19,
   "metadata": {},
   "outputs": [],
   "source": [
    "import random\n",
    "import copy\n",
    "\n",
    "def fitness(population):\n",
    "    n = len(population) #population size\n",
    "    h = 0 #number of illegal pairs\n",
    "    for i in range(n-1):\n",
    "        for j in range(i+1,n):\n",
    "            if population[i] == population[j]:\n",
    "                h += 1 #check same row\n",
    "            if abs(i-j) == abs(population[i]-population[j]):\n",
    "                h += 1 #check same diagonal\n",
    "    return h\n",
    "\n",
    "def mutation(population):\n",
    "    new_population = []\n",
    "    p = copy.deepcopy(population)\n",
    "    for pop in p:\n",
    "        n = len(pop) #population size\n",
    "        pos = int(random.random() * n) #select random position in range n\n",
    "        pop[pos] = int(random.random() * n) #random the value in that position in range n\n",
    "        new_population.append(pop)\n",
    "    return new_population\n",
    "\n",
    "def crossover(population):\n",
    "    n = len(population[0]) #population size\n",
    "    pos = [i for i in range(1,n-1)]\n",
    "    split_pos = random.choice(pos) #random split position\n",
    "    p1 = population[0] #population 1\n",
    "    p2 = population[1] #population 2\n",
    "    c1 = p1[:split_pos] + p2[split_pos:] #child 1\n",
    "    c2 = p2[:split_pos] + p1[split_pos:] #child 2\n",
    "    return [c1, c2]\n",
    "\n",
    "def selection(population):\n",
    "    unique_pop = []\n",
    "    for pop in population:\n",
    "        if pop not in unique_pop:\n",
    "            unique_pop.append(pop) #remove duplicate population\n",
    "    population = unique_pop\n",
    "    fitness_list = [(fitness(pop),pop) for pop in population] #get fitness of each population\n",
    "    fitness_list.sort() #sort by fitness\n",
    "    return fitness_list[0],[p for f,p in fitness_list[:2]] #return best population and 2nd best population\n",
    "\n",
    "def is_better(p1,p2):\n",
    "    return len(p2) == 0 or p1[0] <= p2[0] #check if p1 is better than p2\n"
   ]
  },
  {
   "cell_type": "code",
   "execution_count": null,
   "metadata": {},
   "outputs": [
    {
     "name": "stdout",
     "output_type": "stream",
     "text": [
      "Solution found at iteration 451\n",
      "Best solution conflicts: 0\n",
      "Best solution: [6, 9, 5, 2, 15, 10, 3, 1, 12, 4, 8, 13, 0, 14, 7, 11]\n"
     ]
    }
   ],
   "source": [
    "n = 16 #population size\n",
    "population = [[int(random.random() * n) for i in range(n)]] #generate random population 1\n",
    "population.append([int(random.random() * n) for i in range(n)]) #generate random population 2\n",
    "\n",
    "best_current = tuple()\n",
    "found = False\n",
    "for i in range(100000):\n",
    "    mutated = mutation(population) #mutate population\n",
    "    crossed = crossover(population) #crossover population\n",
    "    best_select, population = selection(population + mutated + crossed) #select best population\n",
    "    if is_better(best_select, best_current):\n",
    "        best_current = best_select\n",
    "    if fitness(best_current[1]) == 0:\n",
    "        print(\"Solution found at iteration\",i)\n",
    "        found = True\n",
    "        break\n",
    "if not found:\n",
    "    print(\"No solution found\")\n",
    "print(\"Best solution conflicts:\",best_current[0])\n",
    "print(\"Best solution:\",best_current[1])\n",
    "    "
   ]
  },
  {
   "cell_type": "code",
   "execution_count": 32,
   "metadata": {},
   "outputs": [
    {
     "name": "stdout",
     "output_type": "stream",
     "text": [
      "Solution found at iteration 56854\n",
      "Best solution conflicts: 0\n",
      "Best solution: [34, 60, 22, 10, 33, 87, 45, 15, 3, 12, 58, 44, 93, 82, 36, 21, 59, 42, 89, 43, 25, 63, 52, 37, 99, 7, 80, 2, 68, 74, 53, 9, 20, 65, 31, 76, 49, 6, 64, 19, 26, 79, 38, 4, 55, 72, 98, 94, 84, 30, 54, 70, 11, 90, 28, 17, 32, 67, 23, 8, 27, 16, 56, 1, 14, 81, 5, 24, 40, 61, 85, 29, 18, 41, 95, 92, 78, 86, 62, 50, 13, 66, 71, 83, 77, 97, 73, 39, 51, 0, 35, 47, 91, 57, 48, 96, 69, 88, 75, 46]\n"
     ]
    }
   ],
   "source": [
    "n = 100 #population size\n",
    "population = [[int(random.random() * n) for i in range(n)]] #generate random population 1\n",
    "population.append([int(random.random() * n) for i in range(n)]) #generate random population 2\n",
    "\n",
    "best_current = tuple()\n",
    "found = False\n",
    "for i in range(100000):\n",
    "    mutated = mutation(population) #mutate population\n",
    "    crossed = crossover(population) #crossover population\n",
    "    best_select, population = selection(population + mutated + crossed) #select best population\n",
    "    if is_better(best_select, best_current):\n",
    "        best_current = best_select\n",
    "    if fitness(best_current[1]) == 0:\n",
    "        print(\"Solution found at iteration\",i)\n",
    "        found = True\n",
    "        break\n",
    "if not found:\n",
    "    print(\"No solution found\")\n",
    "print(\"Best solution conflicts:\",best_current[0])\n",
    "print(\"Best solution:\",best_current[1])\n",
    "    "
   ]
  }
 ],
 "metadata": {
  "kernelspec": {
   "display_name": "Python 3",
   "language": "python",
   "name": "python3"
  },
  "language_info": {
   "codemirror_mode": {
    "name": "ipython",
    "version": 3
   },
   "file_extension": ".py",
   "mimetype": "text/x-python",
   "name": "python",
   "nbconvert_exporter": "python",
   "pygments_lexer": "ipython3",
   "version": "3.11.9"
  }
 },
 "nbformat": 4,
 "nbformat_minor": 2
}
