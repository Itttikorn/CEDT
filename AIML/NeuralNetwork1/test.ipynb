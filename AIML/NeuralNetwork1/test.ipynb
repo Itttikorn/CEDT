{
 "cells": [
  {
   "cell_type": "code",
   "execution_count": 3,
   "id": "49ec0942",
   "metadata": {},
   "outputs": [],
   "source": [
    "import json\n",
    "\n",
    "# Read the JSON file with the correct encoding\n",
    "with open('test.json', 'r', encoding='utf-8') as file:\n",
    "    data = json.load(file)\n",
    "\n",
    "# Delete the metadata.widgets key if it exists\n",
    "if 'metadata' in data and 'widgets' in data['metadata']:\n",
    "    del data['metadata']['widgets']\n",
    "\n",
    "# Save the modified data to a new file\n",
    "with open('test_modified.json', 'w', encoding='utf-8') as file:\n",
    "    json.dump(data, file, indent=4)"
   ]
  }
 ],
 "metadata": {
  "kernelspec": {
   "display_name": "Python 3",
   "language": "python",
   "name": "python3"
  },
  "language_info": {
   "codemirror_mode": {
    "name": "ipython",
    "version": 3
   },
   "file_extension": ".py",
   "mimetype": "text/x-python",
   "name": "python",
   "nbconvert_exporter": "python",
   "pygments_lexer": "ipython3",
   "version": "3.13.3"
  }
 },
 "nbformat": 4,
 "nbformat_minor": 5
}
