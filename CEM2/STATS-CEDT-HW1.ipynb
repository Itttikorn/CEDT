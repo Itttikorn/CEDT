{
  "cells": [
    {
      "cell_type": "markdown",
      "metadata": {
        "id": "gr5LunAY0DUT"
      },
      "source": [
        "# 2110203 COMP ENG MATH II (CEDT) -- Stats Homework I\n",
        "\n",
        "**Instructions**:\n",
        "- Only ASSIGNMENT 1 and 2 will be graded. The rest are for your practise.\n",
        "- Submit as PDF file. You can create PDF file using File -> Print from the Google Colab menu.\n"
      ]
    },
    {
      "cell_type": "code",
      "execution_count": 42,
      "metadata": {
        "id": "k-f8k6ho0pJl"
      },
      "outputs": [],
      "source": [
        "import numpy as np\n",
        "import matplotlib.pyplot as plt\n",
        "import math, random"
      ]
    },
    {
      "cell_type": "markdown",
      "metadata": {
        "id": "DhHH770U0dZT"
      },
      "source": [
        "## Sampling\n",
        "\n",
        "Sampling is a process that is very important for writing simulations. In this section, you will try to sample from some common distributions.\n"
      ]
    },
    {
      "cell_type": "code",
      "execution_count": 43,
      "metadata": {
        "id": "XifPw0U4z5ck"
      },
      "outputs": [],
      "source": [
        "from scipy.stats import norm, bernoulli, binom, uniform, geom, expon\n",
        "\n",
        "# Sample from Uniform(a, b)\n",
        "def sample_uniform(sample_size, a, b):\n",
        "  # [YOUR CODE HERE]  \n",
        "  return uniform.rvs(a,b-a,size=sample_size)\n",
        "\n",
        "def sample_normal(sample_size, mu, sigma):\n",
        "  # [YOUR CODE HERE]  \n",
        "  return norm.rvs(mu,sigma,size=sample_size)\n",
        "\n",
        "def sample_bernoulli(sample_size, p):\n",
        "  # [YOUR CODE HERE]\n",
        "  return bernoulli.rvs(p,size=sample_size)\n",
        "\n",
        "def sample_binomial(sample_size, n, p):\n",
        "  # [YOUR CODE HERE]\n",
        "  return binom.rvs(n,p,size=sample_size)\n",
        "\n",
        "def sample_geometric(sample_size, p):\n",
        "  # [YOUR CODE HERE]\n",
        "  return geom.rvs(p,size=sample_size)\n",
        "\n",
        "def sample_exponential(sample_size, l):\n",
        "  # [YOUR CODE HERE]\n",
        "  return expon.rvs(scale=1/l,size=sample_size)\n",
        "\n",
        "# ASSIGNMENT 1\n",
        "# sample from pdf f(x)=x/50, 0<=x<=10\n",
        "def sample_increasing(sample_size):\n",
        "  # [YOUR CODE HERE]\n",
        "  x = uniform.rvs(0,10,size=sample_size)\n",
        "  x = np.sqrt(x*100)\n",
        "  return x"
      ]
    },
    {
      "cell_type": "code",
      "execution_count": 44,
      "metadata": {
        "id": "1l_kk9kR1YMx"
      },
      "outputs": [],
      "source": [
        "def plot_histogram(data):\n",
        "  plt.hist(data)"
      ]
    },
    {
      "cell_type": "code",
      "execution_count": 45,
      "metadata": {
        "colab": {
          "base_uri": "https://localhost:8080/",
          "height": 433
        },
        "id": "9oiU_hYy1fuL",
        "outputId": "6e5c5b76-5746-4075-dc89-5094cbb303b9"
      },
      "outputs": [
        {
          "data": {
            "image/png": "[encoded data removed]",
            "text/plain": [
              "<Figure size 640x480 with 1 Axes>"
            ]
          },
          "metadata": {},
          "output_type": "display_data"
        }
      ],
      "source": [
        "plot_histogram(sample_uniform(1000, 10, 20))"
      ]
    },
    {
      "cell_type": "code",
      "execution_count": 46,
      "metadata": {
        "colab": {
          "base_uri": "https://localhost:8080/",
          "height": 430
        },
        "id": "bUsefLc-20A0",
        "outputId": "055785ca-ff61-4835-c8f0-aa0a15a82e1c"
      },
      "outputs": [
        {
          "data": {
            "image/png": "[encoded data removed]",
            "text/plain": [
              "<Figure size 640x480 with 1 Axes>"
            ]
          },
          "metadata": {},
          "output_type": "display_data"
        }
      ],
      "source": [
        "plot_histogram(sample_increasing(1000))"
      ]
    },
    {
      "cell_type": "markdown",
      "metadata": {
        "id": "v61N269e7Ipr"
      },
      "source": [
        "### Problem 0\n",
        "\n",
        "Try playing with the sample size and see how the histogram change with each run. Check if the result match what you think. Explain in detail."
      ]
    },
    {
      "cell_type": "markdown",
      "metadata": {
        "id": "FUkp1FJP7VDV"
      },
      "source": [
        "## Maximum Likelihood Estimation\n",
        "\n",
        "### Problem 1\n",
        "\n",
        "Machines in Hamtaro’s factory have their lifetime modelled by exponential distribution with an unknown parameter. Hamtaro found out that his machines failed after $x_1, x_2, ..., x_n$ years. Estimate the unknown parameter."
      ]
    },
    {
      "cell_type": "code",
      "execution_count": 47,
      "metadata": {
        "colab": {
          "base_uri": "https://localhost:8080/"
        },
        "id": "enBPX0Pj6sGR",
        "outputId": "3a81c0c2-a314-4c51-d33a-2613e6175c97"
      },
      "outputs": [
        {
          "name": "stdout",
          "output_type": "stream",
          "text": [
            "The estimated parameter is: 0.38461538461538464\n"
          ]
        }
      ],
      "source": [
        "machine_failed_time = [2, 3, 1, 3, 4]   # In class example\n",
        "# machine_failed_time = sample_exponential(5, 0.3)  # Sampled from exponential distribution\n",
        "\n",
        "def prob1_mle(X):\n",
        "  return len(X)/np.sum(X)\n",
        "\n",
        "print('The estimated parameter is: {}'.format(prob1_mle(machine_failed_time)))"
      ]
    },
    {
      "cell_type": "markdown",
      "metadata": {
        "id": "JdxTws1z_VFY"
      },
      "source": [
        "### Problem 2\n",
        "\n",
        "The number of attempts for the STATS COMP ENG class before passing following a Geometric distribution with unknown parameter. $n$ students failed $x_1, x_2, ..., x_n$ times before passing. Find the MLE of the parameter."
      ]
    },
    {
      "cell_type": "code",
      "execution_count": 48,
      "metadata": {
        "colab": {
          "base_uri": "https://localhost:8080/"
        },
        "id": "UqIGzO46DzFO",
        "outputId": "0c364d42-8cc7-4aba-952f-46e23fab17fa"
      },
      "outputs": [
        {
          "name": "stdout",
          "output_type": "stream",
          "text": [
            "The MLE is 0.6\n"
          ]
        }
      ],
      "source": [
        "X = [0, 0, 2]\n",
        "# X = sample_geometric(10, 0.9)   # Sample from actual geometric distribution\n",
        "\n",
        "def prob2_mle(X):\n",
        "  # [YOUR CODE HERE]\n",
        "  n = len(X)\n",
        "  sum_x = sum(X)\n",
        "  mle = n/(sum_x+n)\n",
        "  \n",
        "  return mle\n",
        "\n",
        "print('The MLE is {}'.format(prob2_mle(X)))"
      ]
    },
    {
      "cell_type": "markdown",
      "metadata": {
        "id": "qZtI9JjY_w_C"
      },
      "source": [
        "### Problem 3\n",
        "\n",
        "Suppose our data $x_1, x_2, ..., x_n$ is randomly drawn from uniform distribution $U(a,b)$. Find MLE of $a$ and $b$."
      ]
    },
    {
      "cell_type": "code",
      "execution_count": 49,
      "metadata": {
        "colab": {
          "base_uri": "https://localhost:8080/"
        },
        "id": "dQDe72Xo_7nG",
        "outputId": "19a9fa8e-e5da-4da3-dcba-930ec513456f"
      },
      "outputs": [
        {
          "name": "stdout",
          "output_type": "stream",
          "text": [
            "The MLE is (60.218400609072596, 77.84282105398299)\n"
          ]
        }
      ],
      "source": [
        "X = sample_uniform(100, 60, 78)\n",
        "\n",
        "def prob3_mle(X):\n",
        "  # [YOUR CODE HERE]\n",
        "  a = np.min(X)\n",
        "  b = np.max(X)\n",
        "  return a, b\n",
        "\n",
        "a, b = prob3_mle(X)\n",
        "print('The MLE is ({}, {})'.format(a, b))"
      ]
    },
    {
      "cell_type": "markdown",
      "metadata": {
        "id": "h-jmKliF9RSi"
      },
      "source": [
        "## Maximum A Posteriori Estimation\n",
        "\n",
        "### Problem 4\n",
        "\n",
        "Toss an unknown coin $n$ times. The result has a head $h$ times. Koshi-kun told us that there are three possible coins:\n",
        "\n",
        "- Coin A – P[H] = $c_a$\n",
        "- Coin B – P[H] = $c_b$\n",
        "- Coin C – P[H] = $c_c$\n",
        "\n",
        "Koshi-kun also told us A, B, C has probability of being the coin with probability $p_a, p_b, p_c$, respectively. Find the MAP estimate."
      ]
    },
    {
      "cell_type": "code",
      "execution_count": 50,
      "metadata": {
        "id": "XrONAhxe8bpx"
      },
      "outputs": [],
      "source": [
        "num_coin = 3\n",
        "coin_head_prob = [0.8, 0.5, 0.4]\n",
        "coin_select_prob = [0.4, 0.4, 0.2]\n",
        "n = 5\n",
        "h = 2"
      ]
    },
    {
      "cell_type": "code",
      "execution_count": 51,
      "metadata": {
        "colab": {
          "base_uri": "https://localhost:8080/"
        },
        "id": "DXy8tnjR-MNZ",
        "outputId": "605cca60-bca1-4d85-8207-135020b13ede"
      },
      "outputs": [
        {
          "name": "stdout",
          "output_type": "stream",
          "text": [
            "Coint 0 has posterior of 0.02047999999999999\n",
            "Coint 1 has posterior of 0.125\n",
            "Coint 2 has posterior of 0.06912\n",
            "\n",
            "The estimated parameter is 0.5\n"
          ]
        }
      ],
      "source": [
        "def coin_posterior(n, h, head_prob, select_prob):\n",
        "  # ASSIGNMENT 2\n",
        "  # [YOUR CODE HERE]\n",
        "  return math.comb(n,h) * pow(head_prob,h) * pow(1-head_prob,n-h) * select_prob\n",
        "\n",
        "p_map = 0\n",
        "p_map_val = 0\n",
        "for i in range(num_coin):\n",
        "  posterior = coin_posterior(n, h, coin_head_prob[i], coin_select_prob[i])\n",
        "  print('Coint {} has posterior of {}'.format(i, posterior))\n",
        "  if posterior > p_map_val:\n",
        "    p_map_val = posterior\n",
        "    p_map = coin_head_prob[i]\n",
        "\n",
        "print()\n",
        "print('The estimated parameter is {}'.format(p_map))"
      ]
    },
    {
      "cell_type": "markdown",
      "metadata": {
        "id": "DmNlNsZp_SZs"
      },
      "source": [
        "### Problem 5\n",
        "\n",
        "From https://xkcd.com/1132/. Assume that chance of the sun actually explode is $10^{-6}$. What are the chance that the machine said the sun exploded when it actually isn't?"
      ]
    },
    {
      "cell_type": "code",
      "execution_count": 52,
      "metadata": {
        "colab": {
          "base_uri": "https://localhost:8080/"
        },
        "id": "zaoI1rrA-yzF",
        "outputId": "04987361-ed20-4139-99fb-45ce411a0b6e"
      },
      "outputs": [
        {
          "name": "stdout",
          "output_type": "stream",
          "text": [
            "The sun exploded 27978 times.\n",
            "Explode rate: 0.027978\n"
          ]
        }
      ],
      "source": [
        "sun_prior = 1e-6\n",
        "lie_prob = 1/36\n",
        "\n",
        "def check_sun():\n",
        "  # [YOUR CODE HERE]\n",
        "  dice1 = random.randint(1,6)\n",
        "  dice2 = random.randint(1,6)\n",
        "\n",
        "  if(dice1 == 6 and dice2 == 6): return True\n",
        "  else: return np.random.rand() < sun_prior\n",
        "\n",
        "count_exploded = 0\n",
        "ask_times = 1000000\n",
        "for i in range(ask_times):\n",
        "  if check_sun():\n",
        "    count_exploded += 1\n",
        "\n",
        "print('The sun exploded {} times.'.format(count_exploded))\n",
        "print('Explode rate: {}'.format(count_exploded / ask_times))"
      ]
    },
    {
      "cell_type": "markdown",
      "metadata": {
        "id": "kD3eU43MFcXh"
      },
      "source": [
        "### Problem 6\n",
        "\n",
        "Go back to problem 2-5, and try to play with input size and parameter. Observe the change in result. Explain in detail."
      ]
    },
    {
      "cell_type": "code",
      "execution_count": 11,
      "metadata": {
        "id": "GjOPqYfXGKd2"
      },
      "outputs": [],
      "source": []
    }
  ],
  "metadata": {
    "colab": {
      "provenance": []
    },
    "kernelspec": {
      "display_name": "Python 3",
      "name": "python3"
    },
    "language_info": {
      "codemirror_mode": {
        "name": "ipython",
        "version": 3
      },
      "file_extension": ".py",
      "mimetype": "text/x-python",
      "name": "python",
      "nbconvert_exporter": "python",
      "pygments_lexer": "ipython3",
      "version": "3.11.9"
    }
  },
  "nbformat": 4,
  "nbformat_minor": 0
}
