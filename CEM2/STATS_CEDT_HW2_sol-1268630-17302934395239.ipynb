{
 "cells": [
  {
   "cell_type": "markdown",
   "metadata": {
    "id": "yEhmgCbjHKA6"
   },
   "source": [
    "# 2110203 COMP ENG MATH II (CEDT) -- Stats Homework II\n",
    "\n",
    "**Instructions**:\n",
    "- Only Problem 4 and 6 will be graded. The rest are for your practise.\n",
    "- Submit as PDF file. You can create PDF file using File -> Print from the Google Colab menu.\n",
    "\n",
    "**DO NOT USE scipy.stats.ttest_1samp OR RELATED FUNCTION UNLESS EXPLICITLY INSTRUCTED**"
   ]
  },
  {
   "cell_type": "code",
   "execution_count": 1,
   "metadata": {
    "id": "iSTCsMkDL3ZG"
   },
   "outputs": [],
   "source": [
    "import numpy as np\n",
    "import matplotlib.pyplot as plt\n",
    "import scipy.stats as stats\n",
    "import math"
   ]
  },
  {
   "cell_type": "markdown",
   "metadata": {
    "id": "ujwcOLvlVOhl"
   },
   "source": [
    "# Problem 1: Hamtaro and his entertainment\n"
   ]
  },
  {
   "cell_type": "markdown",
   "metadata": {
    "id": "iMAByYuRxg6j"
   },
   "source": [
    "Hamtaro operates an entertainment website called HamHub.\n",
    "\n",
    "Last Monday, the most famous website in this field of entertainment was blocked by the government. Hearing the news, Hamtaro wants to know whether the blockade has a significant effect on the number of HamHub's visitors?\n",
    "\n",
    "*   Before last Monday, the average number of visitors was $x_0 \\sim \\mathcal{N}(10000, \\sigma^2)$.\n",
    "*   After last Monday, Hamtaro spent ten days collecting the number of users.\n",
    "```\n",
    "X1 = array([10190.25479236, 10082.65748517, 10161.37971691, 10042.27783459,\n",
    "       10129.73858138,  9962.73586162, 10187.78833611, 10013.48007958,\n",
    "       10372.98760763, 10238.55408072])\n",
    "```\n",
    "1. Can Hamtaro conclude that the blockade significantly increases the number of visitors with a significant level of 0.001?\n",
    "2. If the sample mean and variance are held the same, what is the minimum number of samples Hamtaro need to reject the null hypothesis? For the same observation effect, larger sample size will result in a significant result."
   ]
  },
  {
   "cell_type": "code",
   "execution_count": 2,
   "metadata": {
    "colab": {
     "base_uri": "https://localhost:8080/"
    },
    "id": "CmzNpisTLktP",
    "outputId": "a57a9be3-d837-4e85-e119-b0a3a22cebd7"
   },
   "outputs": [
    {
     "name": "stdout",
     "output_type": "stream",
     "text": [
      "Not reject null\n"
     ]
    },
    {
     "data": {
      "text/plain": [
       "(0.0026942708869087556, 0.0026942708869087556)"
      ]
     },
     "execution_count": 2,
     "metadata": {},
     "output_type": "execute_result"
    }
   ],
   "source": [
    "X1 = np.array([10190.25479236, 10082.65748517, 10161.37971691, 10042.27783459,\n",
    "       10129.73858138,  9962.73586162, 10187.78833611, 10013.48007958,\n",
    "       10372.98760763, 10238.55408072])\n",
    "\n",
    "def calculate_sample_variance(X):\n",
    "  # HINT: Look up parameter ddof of numpy.var\n",
    "  # [YOUR CODE HERE]\n",
    "  return np.var(X, ddof=1)\n",
    "\n",
    "def studentized_mean(X, mu0):\n",
    "  # [YOUR CODE HERE]\n",
    "  xbar = np.mean(X)\n",
    "  s = np.sqrt(calculate_sample_variance(X))\n",
    "  return (xbar-mu0)/(s/np.sqrt(len(X)))\n",
    "\n",
    "t_score = studentized_mean(X1, 10000)\n",
    "\n",
    "# [YOUR CODE HERE]\n",
    "# Calculate p-value and decide of hamtaro can reject the null hypothesis or not.\n",
    "# HINT: scipy.stats.t\n",
    "pvalue = stats.t.sf(t_score, df=len(X1)-1)\n",
    "if pvalue < 0.001:\n",
    "  print('Reject null')\n",
    "else:\n",
    "  print('Not reject null')\n",
    "\n",
    "# Check if it is equal to the library\n",
    "result = stats.ttest_1samp(X1, 10000, alternative='greater')\n",
    "result.pvalue, pvalue"
   ]
  },
  {
   "cell_type": "markdown",
   "metadata": {
    "id": "yE8_YJnFACLS"
   },
   "source": [
    "# Problem 2: T-Test"
   ]
  },
  {
   "cell_type": "markdown",
   "metadata": {
    "id": "fP0ZPEoJBiqB"
   },
   "source": [
    "Hamtaro performs a t-test for the null hypothesis $H_0: \\mu=10$ at significance level $\\alpha=0.05$ from a dataset consisting of $n=16$ elements with sample mean $11$ and sample variance $4$.\n",
    "1. Should we reject the null hypothesis in favor of $H_a: \\mu \\neq 10$\n",
    "2. What if we test against $H_{a^{'}}: \\mu >10$ ?"
   ]
  },
  {
   "cell_type": "code",
   "execution_count": 3,
   "metadata": {
    "colab": {
     "base_uri": "https://localhost:8080/"
    },
    "id": "-4_VYGI2PtWJ",
    "outputId": "7e946481-092a-47bc-944c-a3d187f8de31"
   },
   "outputs": [
    {
     "name": "stdout",
     "output_type": "stream",
     "text": [
      "1. p-value=0.0639450072847202 Do not reject null\n",
      "2. p-value=0.0319725036423601 Reject null\n"
     ]
    }
   ],
   "source": [
    "mu = 11\n",
    "s2 = 4\n",
    "n = 16\n",
    "\n",
    "#[YOUR CODE HERE]\n",
    "t_score = (mu-10)/(np.sqrt(s2)/np.sqrt(n))\n",
    "pvalue_1tail = stats.t.sf(t_score, df=n-1)\n",
    "pvalue_2tail = stats.t.sf(t_score, df=n-1) + stats.t.cdf(-t_score, df=n-1)\n",
    "\n",
    "print('1. p-value={} {}'.format(pvalue_2tail, 'Reject null' if pvalue_2tail < 0.05 else 'Do not reject null'))\n",
    "print('2. p-value={} {}'.format(pvalue_1tail, 'Reject null' if pvalue_1tail < 0.05 else 'Do not reject null'))"
   ]
  },
  {
   "cell_type": "markdown",
   "metadata": {
    "id": "4GBa-72Jdz_P"
   },
   "source": [
    "# Problem 3: Hamtaro and his entertainment #2"
   ]
  },
  {
   "cell_type": "markdown",
   "metadata": {
    "id": "daqElfoQUgo1"
   },
   "source": [
    "The story in this problem is a parallel universe of problem 1.\n",
    "\n",
    "Last Monday, Hamtaro added the new channel to the website, and he wanted to know its effects on the number of visitors. However, the most famous website in this field of entertainment was also blocked by the government on the same day. Since there was no sign of unblocking from the government, Hamtaro could not perform a hypothesis testing on only the factor of adding the new channel. How could Hamtaro know that the changes from adding the new channel are significant?\n",
    "\n",
    "There are four scenarios in this problem:\n",
    "1.   Before the last Monday, the average number of visitors was $x_0 \\sim \\mathcal{N}(\\mu_0, \\sigma^2)$ (no block + no new channel).\n",
    "2.  After the last Monday, the average number of visitors are $x_1 \\sim \\mathcal{N}(\\mu_1, \\sigma^2)$ (block + new channel).\n",
    "3.  Days after removing the channel, the average number of visitors are $x_2 \\sim \\mathcal{N}(\\mu_2, \\sigma^2)$ (block + no new channel).\n",
    "4.  In an imaginative scenario that the new channel is added but the most famous website haven't been blocked, the average number of visitors is $x_3 \\sim \\mathcal{N}(\\mu_3, \\sigma_3^2)$ (no block + new channel).\n",
    "\n",
    "Assuming that a user decides to visit\n",
    "the website because of the blockade, a new channel, or none of the two (independent).\n",
    "\n",
    "1. Hamtaro found the p-value of 0.03 from doing a t-test on $H_a:x_1 > x_0$. Can he conclude that adding the new channel significantly increases the number of visitors? Justify your answer.\n",
    "2. Hamtaro did another t-test and found the p-value of 0.1 from testing $H_a: x_1 > x_2$. Does he now have enough information to conclude anything about $x_3$ ?\n",
    "3. Does the current setups, 1. and 2., lead to the final question about the significance of adding the new channel?\n",
    "  * If yes, what should you do next to get the final answer?\n",
    "  * If no, Can we use the hypothesis testing answer to solve this problem?\n",
    "    * If yes, design your testing, describe assumptions you made.\n",
    "    * If no, explain why."
   ]
  },
  {
   "cell_type": "markdown",
   "metadata": {
    "id": "nQLEdRe_Wjrx"
   },
   "source": [
    "## Answer\n",
    "\n",
    "1. No. Though the difference may significant, either blocking website and adding channel can affects the difference. Hamtaro cannot conclude which one incrases view significantly from the experiment in 1.\n",
    "\n",
    "2. Since 0.1 is lower than the common significant level, which usually less than 0.05, Hamtaro may not reject the null hypothesis. Thus, he cannot conclude that adding a new channel significantly increases the number of visitors if another site is already blocked.\n",
    "\n",
    "3. We know that:\n",
    "   - Adding channels and blocking sites affect the number of visitor independently\n",
    "   - The number of visitors increases significantly after blocking sites and adding channels\n",
    "   - Removing a channel does not significantly change the number of visitors\n",
    "\n",
    " Unless we use the larger significant level for 2., we have to conclude that adding a new channel probably does not significantly affect the number of visitor."
   ]
  },
  {
   "cell_type": "markdown",
   "metadata": {
    "id": "IOfrSdEeNeyt"
   },
   "source": [
    "# Problem 4: Hamtaro and his casino"
   ]
  },
  {
   "cell_type": "markdown",
   "metadata": {
    "id": "luopiGSlWDUV"
   },
   "source": [
    "After opening HamHub for a short while, the website was also banned by the government since it contains some 'immoral' videos. Hamtaro then moves on and follows his other passionate dream of creating a gambling empire. Therefore, he hones his skills on public gambling websites which can be easily found even if they are illegal.\n",
    "\n",
    "After playing for a while, he notices that the online gambling business has great business potential since the risk of gambling websites being banned is much lower than his previous entertainment business. Thus, he decides to open his own online casino.\n",
    "\n",
    "At the opening date, he offers only a dice game.\n",
    "The rule is simple, the player selects a number and rolls a die. The player will receive a reward if the rolled number is the same as the one he chooses.\n",
    "Hamtaro wants to maximize his profit by cheating using a baised die. Since it is an online casino, he could easily change the biasness of the die after the player selects a number. However, the player is not a fool and would notice if it is too biased.\n",
    "\n",
    "As a player,\n",
    "1. Formulate the null hypothesis $H_0$ and alternative hypothesis $H_A$ to investigate the biasness of the dice.\n",
    "2. Should the $H_A$ be one-sided or two-sided? What are the differences and benefits over another in this problem?\n",
    "3. The player found the selected number is rolled out 3 out of 30 attempts. If he wants no more than $10\\%$ of type-I error, can he reject the $H_0$? Justify your answer.\n",
    "4. If the player plays 200 games, what is the rejection region if he wants no more than $10\\%$ type-I error?\n",
    "5. What would be the result in 4. if the true distribution is approximated by the Normal distribution?\n",
    "\n",
    "As Hamtaro,\n",
    "\n",
    "6. The mastermind Hamtaro observes that players will play no more than 200 games a day. He knows that some players studied COMP ENG MATH 2 and might perform hypothesis testing to check whether Hamtaro cheats. Hamtaro assumes that the players will use a significant level of $0.01$. He thinks that it is safe enough if the probability of being caught by a player is less than $0.05$. What should be the lowest probability of rolling the selected number? (How much bias can he put in the dice) Answer in floating number with a precision of 3.\n",
    "\n",
    "7. What if Hamtaro accepts the probability of being caught $=0.01$ instead? Answer in floating number with the precision of 5.\n",
    "\n",
    "(Hint: Problem 6 and 7 are related to test power)\n"
   ]
  },
  {
   "cell_type": "markdown",
   "metadata": {
    "id": "t6NDVLtLXESc"
   },
   "source": [
    "## Answer\n",
    "\n",
    "1. $H_0$: the selected number should be rolled out one if for six turns.\\\n",
    "$H_0: N_s = N/6$ where $N=\\sum_{i=1}^{6} N_i$ \\\n",
    "$H_A: N_s \\neq N/6$.\n",
    "\n",
    "2. For the correctness, it should be two sides. However, one-sided testing is also fine becuase you'll be exploited only if $N_s < N/6$. From now on, we will use Ha: N_s < N/6 as we don't care the correctness if we're winning.\n"
   ]
  },
  {
   "cell_type": "code",
   "execution_count": 4,
   "metadata": {
    "colab": {
     "base_uri": "https://localhost:8080/"
    },
    "id": "CoMrLC-hYCrM",
    "outputId": "33df1f64-52a9-43dc-8277-470700e2aee1"
   },
   "outputs": [
    {
     "name": "stdout",
     "output_type": "stream",
     "text": [
      "p-value = 0.23961952685801308\n",
      "Not reject null\n",
      "Not enough evidence that the casio is cheating at 10% significant level.\n"
     ]
    }
   ],
   "source": [
    "# Problem 3\n",
    "N = 30\n",
    "p = 1/6\n",
    "Ns = 3\n",
    "alpha = 0.1\n",
    "\n",
    "pvalue = stats.binom.cdf(Ns, N, p)\n",
    "\n",
    "print(\"p-value = {}\".format(pvalue))\n",
    "if pvalue < alpha:\n",
    "  print('Reject null')\n",
    "  print('Enough evidence that the casio is cheating at 10% significant level.')\n",
    "else:\n",
    "  print('Not reject null')\n",
    "  print('Not enough evidence that the casio is cheating at 10% significant level.')"
   ]
  },
  {
   "cell_type": "code",
   "execution_count": 5,
   "metadata": {
    "colab": {
     "base_uri": "https://localhost:8080/"
    },
    "id": "qkyFKfvrYrTx",
    "outputId": "dde4bfc6-7eff-4131-dbcf-d821ec06cf2f"
   },
   "outputs": [
    {
     "name": "stdout",
     "output_type": "stream",
     "text": [
      "Critical value = 26.0\n",
      "p-value = 0.09453848341113857\n"
     ]
    }
   ],
   "source": [
    "# Problem 4\n",
    "N = 200\n",
    "p = 1/6\n",
    "alpha = 0.1\n",
    "\n",
    "# PPF is reverse CDF\n",
    "Ns = stats.binom.ppf(alpha, N, p) - 1\n",
    "\n",
    "print('Critical value = {}'.format(Ns))\n",
    "print('p-value = {}'.format(stats.binom.cdf(Ns, N, p)))"
   ]
  },
  {
   "cell_type": "code",
   "execution_count": 6,
   "metadata": {
    "colab": {
     "base_uri": "https://localhost:8080/"
    },
    "id": "xg7q6vYUZ7XP",
    "outputId": "45ff30a2-438a-4168-d4a0-53a481c23f4a"
   },
   "outputs": [
    {
     "name": "stdout",
     "output_type": "stream",
     "text": [
      "Critical value = 26\n",
      "p-value = 0.09453848341113857\n"
     ]
    }
   ],
   "source": [
    "# Problem 5\n",
    "N = 200\n",
    "p = 1/6\n",
    "alpha = 0.1\n",
    "\n",
    "mu = N*p\n",
    "std = (N*p*(1-p))**0.5\n",
    "\n",
    "Ns = math.floor(stats.norm.ppf(alpha, mu, std))\n",
    "\n",
    "print('Critical value = {}'.format(Ns))\n",
    "print('p-value = {}'.format(stats.binom.cdf(Ns, N, p)))"
   ]
  },
  {
   "cell_type": "code",
   "execution_count": 7,
   "metadata": {
    "colab": {
     "base_uri": "https://localhost:8080/"
    },
    "id": "tEoSP5gNabB5",
    "outputId": "a8a40d5a-d2e7-45ab-b96a-4101450aa2d9"
   },
   "outputs": [
    {
     "name": "stdout",
     "output_type": "stream",
     "text": [
      "Fair dice\n",
      "n=200 p=0.167; P(X <= 21.0) = 0.009\n",
      "Bias dice\n",
      "n=200 p=0.148; P(X <= 21.0) = 0.049\n",
      "The biased probability should greater than 0.148 in order to have the chance of being caught less than 0.05.\n"
     ]
    }
   ],
   "source": [
    "# Problem 6\n",
    "N = 200\n",
    "p = 1/6\n",
    "alpha = 0.01\n",
    "accept_threshold = 0.05\n",
    "\n",
    "Ns = stats.binom.ppf(alpha, N, p) - 1\n",
    "\n",
    "print(\"Fair dice\")\n",
    "print(\"n={} p={:.3f}; P(X <= {}) = {:.3f}\".format(N, p, Ns, stats.binom.cdf(Ns, N, p)))\n",
    "\n",
    "# Iteratively find the answer\n",
    "new_p = round(p,3)\n",
    "while stats.binom.cdf(Ns, N, new_p) < accept_threshold:\n",
    "  new_p -= 0.001\n",
    "new_p += 0.001\n",
    "\n",
    "print(\"Bias dice\")\n",
    "print(\"n={} p={:.3f}; P(X <= {}) = {:.3f}\".format(N, new_p, Ns, stats.binom.cdf(Ns, N, new_p)))\n",
    "print(\"The biased probability should greater than {:.3f} in order to have the chance of being caught less than {}.\".format(new_p, accept_threshold))"
   ]
  },
  {
   "cell_type": "code",
   "execution_count": 8,
   "metadata": {
    "colab": {
     "base_uri": "https://localhost:8080/"
    },
    "id": "cOqRAFy0dN7w",
    "outputId": "3fc4e169-bd35-48ca-f39a-897a87abb46b"
   },
   "outputs": [
    {
     "name": "stdout",
     "output_type": "stream",
     "text": [
      "Fair dice\n",
      "n=200 p=0.16667; P(X <= 21.0) = 0.00940\n",
      "Bias dice\n",
      "n=200 p=0.16602; P(X <= 21.0) = 0.01000\n",
      "The biased probability should greater than 0.16602 in order to have the chance of being caught less than 0.01.\n"
     ]
    }
   ],
   "source": [
    "# Problem 7\n",
    "N = 200\n",
    "p = 1/6\n",
    "alpha = 0.01\n",
    "accept_threshold = 0.01\n",
    "\n",
    "Ns = stats.binom.ppf(alpha, N, p) - 1\n",
    "\n",
    "print(\"Fair dice\")\n",
    "print(\"n={} p={:.5f}; P(X <= {}) = {:.5f}\".format(N, p, Ns, stats.binom.cdf(Ns, N, p)))\n",
    "\n",
    "# Iteratively find the answer\n",
    "new_p = round(p,5)\n",
    "while stats.binom.cdf(Ns, N, new_p) < accept_threshold:\n",
    "  new_p -= 0.00001\n",
    "new_p += 0.00001\n",
    "\n",
    "print(\"Bias dice\")\n",
    "print(\"n={} p={:.5f}; P(X <= {}) = {:.5f}\".format(N, new_p, Ns, stats.binom.cdf(Ns, N, new_p)))\n",
    "print(\"The biased probability should greater than {:.5f} in order to have the chance of being caught less than {}.\".format(new_p, accept_threshold))"
   ]
  },
  {
   "cell_type": "code",
   "execution_count": 9,
   "metadata": {
    "colab": {
     "base_uri": "https://localhost:8080/",
     "height": 430
    },
    "id": "ezWHCEC6dhWb",
    "outputId": "ab33306f-da2f-4c7f-883f-31304686735a"
   },
   "outputs": [
    {
     "data": {
      "image/png": "[encoded data removed]",
      "text/plain": [
       "<Figure size 640x480 with 1 Axes>"
      ]
     },
     "metadata": {},
     "output_type": "display_data"
    }
   ],
   "source": [
    "n=200\n",
    "p=1/6\n",
    "fig, ax = plt.subplots(1, 1)\n",
    "\n",
    "x1 = np.arange(stats.binom.ppf(0.0001, n, p), stats.binom.ppf(0.9999, n, p))\n",
    "ax.plot(x1, stats.binom.pmf(x1, n, p), 'bo', ms=8, label='binom 0.167', alpha=0.5)\n",
    "ax.vlines(x1, 0, stats.binom.pmf(x1, n, p), colors='b', lw=5, alpha=0.5)\n",
    "\n",
    "x2 = np.arange(stats.binom.ppf(0.0001, n, 0.149), stats.binom.ppf(0.9999, n, 0.149))\n",
    "ax.plot(x2, stats.binom.pmf(x2, n, 0.149), 'ro', ms=8, label='binom 0.149', alpha=0.5)\n",
    "ax.vlines(x2, 0, stats.binom.pmf(x2, n, 0.149), colors='r', lw=5, alpha=0.5)\n",
    "\n",
    "x3 = np.arange(stats.binom.ppf(0.0001, n, 0.16602), stats.binom.ppf(0.9999, n, 0.16602))\n",
    "ax.plot(x3, stats.binom.pmf(x3, n, 0.16602), 'go', ms=8, label='binom 0.16602', alpha=0.5)\n",
    "ax.vlines(x3, 0, stats.binom.pmf(x3, n, 0.16602), colors='g', lw=5, alpha=0.5)\n",
    "\n",
    "plt.legend()\n",
    "plt.show()"
   ]
  },
  {
   "cell_type": "markdown",
   "metadata": {
    "id": "QehWwXb9u2Le"
   },
   "source": [
    "# Problem 5: Hamtaro and the new AC company\n",
    "\n"
   ]
  },
  {
   "cell_type": "markdown",
   "metadata": {
    "id": "E8hUirF4EiF3"
   },
   "source": [
    "In a datacenter for HamHub, Hamtaro tried to control the temperature of the cloud storage room so that the failure rate of storage disks is as low as possible. Later, a new company came to him and offered a new AC system that, in theory, could provide a more stable room temperature. To strengthen their claim, the company sends the historical room temperature of the new AC, of which the target temperature is set 15, to Hamtaro.\n",
    "\n",
    "Given that Hamtaro's existing AC provides the room temperature of $t \\sim \\mathcal{N}(15, 0.5^2)$:\n",
    "\n",
    "1. Formulate the null and alternative hypotheses for determining whether the new AC is better than the existing one or not. List your assumptions that are required to make this experiment possible.\n",
    "2. Can you decide which AC system is better? Justify your answer.\n"
   ]
  },
  {
   "cell_type": "markdown",
   "metadata": {
    "id": "r_cZhu-nTZku"
   },
   "source": [
    "## Answer 1\n",
    "\n",
    "$H_0: \\sigma^2=0.5^2$ \\\n",
    "$H_A: \\sigma^2 < 0.5^2$\n",
    "\n",
    "We need to do Chi-squared test for variance in a normal population:\n",
    "\n",
    "$T = (N-1)/(s/\\sigma)^2$. Test for $T < \\chi^2_{\\alpha,N-1}$.\n",
    "\n",
    "Choice of significant level: 0.05, 0.01, 0.001.\n",
    "\n",
    "**Furthur reading: https://online.stat.psu.edu/stat415/lesson/12/12.1**"
   ]
  },
  {
   "cell_type": "code",
   "execution_count": 10,
   "metadata": {
    "id": "WkR_qW5h2Jxq"
   },
   "outputs": [],
   "source": [
    "temp_log = np.array([14.66017243, 14.82134507, 14.75354867, 15.02847413, 15.96338554,\n",
    "       15.46598137, 15.35605532, 14.91048177, 15.13237189, 14.38789873,\n",
    "       15.76833691, 14.85383663, 15.28335022, 15.06718901, 15.44364169,\n",
    "       14.29511914, 15.13458572, 14.57428013, 15.14885716, 14.08580661,\n",
    "       15.6006654 , 14.98109974, 14.95059512, 14.91460432, 14.68809902,\n",
    "       15.4988617 , 14.99646465, 15.00654947, 14.65024467, 15.20684546,\n",
    "       15.540787  , 15.39207656, 14.53129171, 14.27527689, 14.37856735,\n",
    "       15.4685476 , 14.94268835, 15.28311368, 14.8878152 , 15.52350034,\n",
    "       14.35791689, 15.11741279, 15.41721681, 15.56690632, 15.30108101,\n",
    "       14.7138976 , 15.39536719, 15.02994055, 14.74887633, 14.81419334,\n",
    "       15.36735467, 14.89706838, 14.89134826, 15.19781408, 15.3273354 ,\n",
    "       15.16729623, 14.82748547, 15.59488402, 15.49763473, 15.12876929,\n",
    "       14.11446324, 14.61298282, 14.57006854, 15.13227246, 14.68369474,\n",
    "       14.96443757, 15.73872741, 15.48498884, 15.35770021, 15.13471147,\n",
    "       14.94871779, 13.91322937, 14.84786617, 14.42086587, 15.26216287,\n",
    "       14.33225067, 14.94179209, 14.57095395, 15.1261513 , 14.93201265,\n",
    "       14.82252959, 15.19061294, 15.33257912, 14.72448901, 15.54406202,\n",
    "       14.72704346, 14.9902773 , 14.71477903, 14.90866689, 14.28862563,\n",
    "       15.04302902, 15.06973955, 14.51951387, 14.61413562, 14.58725869,\n",
    "       14.41407727, 15.05585075, 14.69229146, 14.30425173, 14.76913898,\n",
    "       14.27819269, 14.93917912, 14.22675051, 15.20964   , 14.96122782,\n",
    "       14.05371218, 15.10273752, 15.50886439, 15.43965366, 14.98863063,\n",
    "       15.34326459, 15.23694786, 13.90170147, 15.29660252, 15.26635161,\n",
    "       15.34710713, 14.34928594, 15.61509746, 15.80476574, 15.36769161,\n",
    "       14.52027993, 14.80624255, 14.58269606, 15.58830065, 14.25665696,\n",
    "       14.86914893, 15.40500584, 15.28855103, 15.43907472, 15.18196326,\n",
    "       15.47088551, 15.06327054, 15.01022434, 14.43508736, 15.3791887 ,\n",
    "       14.86202479, 15.1697766 , 14.6434633 , 15.7263277 , 14.31813452,\n",
    "       15.30657752, 14.91471004, 15.1456617 , 14.93856484, 15.14098396,\n",
    "       14.76996958, 15.3890821 , 15.53549397, 15.28528007, 15.61416247,\n",
    "       14.4514347 , 14.75105769, 14.22367585, 14.93898327, 14.61033024,\n",
    "       14.96348807, 15.24771829, 14.84653005, 15.36780845, 14.96846837,\n",
    "       14.66094081, 14.75905691, 14.96864336, 15.55687252, 14.62138304,\n",
    "       16.02201637, 14.95786084, 14.98549356, 15.18029872, 14.82305383,\n",
    "       15.093562  , 15.98065684, 15.27950419, 15.42169411, 15.66950953,\n",
    "       14.90725077, 13.69523862, 15.7470953 , 14.93824139, 15.65590845,\n",
    "       14.69911713, 14.63306529, 15.09566097, 15.00531748, 15.0664824 ,\n",
    "       15.00496274, 15.1577527 , 15.26365236, 14.98708579, 14.43256043,\n",
    "       15.5816707 , 14.69227952, 15.22774367, 15.01510129, 15.03105086,\n",
    "       15.07222669, 15.22579141, 15.34835664, 15.14017702, 15.12604511])"
   ]
  },
  {
   "cell_type": "code",
   "execution_count": 11,
   "metadata": {
    "colab": {
     "base_uri": "https://localhost:8080/"
    },
    "id": "WBgnvmY2d6on",
    "outputId": "dccc68b1-353d-4e11-fb48-fe82db87c372"
   },
   "outputs": [
    {
     "name": "stdout",
     "output_type": "stream",
     "text": [
      "Old variance: 0.25\n",
      "New variance: 0.18217927406414045\n",
      "pvalue = 0.0015161592411656664\n"
     ]
    }
   ],
   "source": [
    "# Answer 2\n",
    "s2 = calculate_sample_variance(temp_log)\n",
    "t_score = (len(temp_log)-1)*(s2/0.25)\n",
    "pvalue = stats.chi2.cdf(t_score, len(temp_log)-1)\n",
    "\n",
    "print('Old variance: 0.25')\n",
    "print('New variance: {}'.format(s2))\n",
    "print('pvalue = {}'.format(pvalue))\n",
    "# Hamtaro can reject H0 using the significant level of 0.05 and 0.01.\n",
    "# This means the the new system has lower variance, and is the better system."
   ]
  },
  {
   "cell_type": "markdown",
   "metadata": {
    "id": "A45j1o63GVhw"
   },
   "source": [
    "#Problem 6: Hamtaro Empire\n",
    "\n",
    "Hamtaro also have a factory. He tried to boost the factory productivity by replacing the old machines with a new type-II variant. However, there is a concern from the local factory managers that Hamtaro might get bamboozled, since they do not observe an increase in productivity compared to the previous one. Therefore, to ease their concern, he decided to conduct a z-testing.\n",
    "\n",
    "Given that the number of goods produced each day by the old machines was $x \\sim \\mathcal{N}(5000, 20^2)$ :\n",
    "\n",
    "1. Formulate the null and alternative hypothesis for determining whether the new machine is better than the previous one at a significant level = 0.05.\n",
    "2. From the testing, can Hamtaro conclude that factory productivity increased as a whole?\n",
    "3. Can Hamtaro say the same for each individual factory?\n",
    "4. Repeat 1-3 again but with a t-test. Is there any difference from the z-test? What, and why does it happen?"
   ]
  },
  {
   "cell_type": "code",
   "execution_count": 12,
   "metadata": {
    "id": "rBk8C64niMqY"
   },
   "outputs": [],
   "source": [
    "from scipy.stats import norm\n",
    "import numpy as np\n",
    "\n",
    "# 30 days of product quantity in 4 factories\n",
    "\n",
    "fac_0 = np.array([4993.89323126, 5021.67118211, 5023.54710937, 4999.11746331,\n",
    "       5001.53450095, 4986.27990953, 4987.12362188, 5004.91535087,\n",
    "       4999.97591193, 5038.09176163, 4993.94184053, 5026.5264468 ,\n",
    "       5040.62862593, 4979.91124088, 5008.59143715, 5016.45331659,\n",
    "       5013.63203948, 5010.84253735, 5014.99772195, 5002.39462129,\n",
    "       5047.80507624, 5007.23005532, 5019.87205007, 5005.76363012,\n",
    "       4997.09106036, 4982.80291132, 5037.18158407, 4996.54197735,\n",
    "       5007.57964251, 4971.18880247])\n",
    "\n",
    "fac_1 = np.array([5036.80041897, 4989.33779117, 4971.68709581, 5041.92493487,\n",
    "       5041.64823146, 5026.33602398, 5009.58334612, 4989.05382998,\n",
    "       5031.17423169, 4992.20198911, 4970.63425555, 5007.17615704,\n",
    "       4993.84416738, 5028.59671588, 5009.91388156, 5049.64187466,\n",
    "       5015.12711371, 5032.2900513 , 5013.66869347, 4988.21257317,\n",
    "       5020.44276181, 4985.62886808, 5022.46800468, 5042.35501669,\n",
    "       5001.6153908 , 5012.14209858, 5006.14666402, 4999.93219541,\n",
    "       5002.77927647, 5002.20750425])\n",
    "\n",
    "fac_2 = np.array([5029.95293241, 5019.47959949, 4976.8427836 , 4985.22792264,\n",
    "       4994.97618684, 5026.75059569, 5015.71350753, 5008.46632673,\n",
    "       5037.96915682, 4990.38948551, 4988.7082206 , 5032.42440206,\n",
    "       5036.41040953, 5003.75236158, 5002.62361815, 4998.8932057 ,\n",
    "       5000.51153033, 5002.19196574, 5023.74534474, 5032.03601587,\n",
    "       5000.10614764, 4989.74566985, 4985.97436664, 4973.63380449,\n",
    "       5028.58100504, 4997.8426781 , 5011.4202198 , 5018.71432385,\n",
    "       4969.03296199, 5009.23456565])\n",
    "fac_3 = np.array([4962.36508403, 5015.91734917, 5030.86885403, 5012.74787091,\n",
    "       5036.94455211, 4995.2103757 , 5029.84241184, 5015.68062582,\n",
    "       4996.43546786, 4999.57614716, 5006.88735305, 5035.10432486,\n",
    "       5017.33437936, 5006.70625696, 5007.97827037, 4981.80482708,\n",
    "       5020.78603239, 4993.12742287, 4996.10718141, 4988.00315629,\n",
    "       5003.00004152, 4949.54117305, 5008.6250048 , 5004.09075453,\n",
    "       5026.56246304, 5011.02296759, 5010.67413795, 4990.58062539,\n",
    "       5009.64435703, 5001.9413428 ])\n"
   ]
  },
  {
   "cell_type": "markdown",
   "metadata": {
    "id": "NnLZdZK9fv4Y"
   },
   "source": [
    "## Answer.\n",
    "\n",
    "1. $H_0:$ new_mean = old_mean\\\n",
    "$H_A:$ new_mean > old_mean"
   ]
  },
  {
   "cell_type": "code",
   "execution_count": 13,
   "metadata": {
    "colab": {
     "base_uri": "https://localhost:8080/"
    },
    "id": "ZpeC4cbjfvgY",
    "outputId": "7a31ddb1-b14b-4e7c-cbed-d699247a8946"
   },
   "outputs": [
    {
     "name": "stdout",
     "output_type": "stream",
     "text": [
      "p-value as a whole = 1.1354014685771574e-05\n"
     ]
    }
   ],
   "source": [
    "# Problem 2\n",
    "prev_mean = 5000\n",
    "prev_var = 20**2\n",
    "\n",
    "def RHS_p_value(fac):\n",
    "  new_var = 20**2/len(fac)\n",
    "  z = (fac.mean()-prev_mean) / (new_var**0.5)\n",
    "  p_value = 1-norm.cdf(z)\n",
    "  return p_value\n",
    "\n",
    "print('p-value as a whole = {}'.format(RHS_p_value(np.concatenate([fac_0, fac_1, fac_2, fac_3]))))\n",
    "# The machines are better\n"
   ]
  },
  {
   "cell_type": "code",
   "execution_count": 14,
   "metadata": {
    "colab": {
     "base_uri": "https://localhost:8080/"
    },
    "id": "9-UGscYEgLqX",
    "outputId": "38a972c8-a88b-4a89-c4ba-6c59ec47d514"
   },
   "outputs": [
    {
     "name": "stdout",
     "output_type": "stream",
     "text": [
      "p-value for factory 0 = 0.015206852813733351\n",
      "p-value for factory 1 = 0.0011282972610209274\n",
      "p-value for factory 2 = 0.040336840487064096\n",
      "p-value for factory 3 = 0.0658734743204481\n"
     ]
    }
   ],
   "source": [
    "# Problem 3\n",
    "print('p-value for factory 0 = {}'.format(RHS_p_value(fac_0)))\n",
    "print('p-value for factory 1 = {}'.format(RHS_p_value(fac_1)))\n",
    "print('p-value for factory 2 = {}'.format(RHS_p_value(fac_2)))\n",
    "print('p-value for factory 3 = {}'.format(RHS_p_value(fac_3)))\n",
    "\n",
    "# Even if factory 3 cannot reject null hypothesis at significant level 0.05, e cannot conclude that factory has the same productivity as the previous."
   ]
  },
  {
   "cell_type": "markdown",
   "metadata": {
    "id": "A-lTw0kfgol9"
   },
   "source": [
    "4. T-test: same null and alternate hypothesis."
   ]
  },
  {
   "cell_type": "code",
   "execution_count": 15,
   "metadata": {
    "colab": {
     "base_uri": "https://localhost:8080/"
    },
    "id": "tWBkxGqbgSFs",
    "outputId": "4b46240f-a9c6-4f60-fe45-c26d43ec0fbe"
   },
   "outputs": [
    {
     "name": "stdout",
     "output_type": "stream",
     "text": [
      "p-value as a whole = 1.4980212512005764e-05\n",
      "p-value for factory 0 = 0.013599797606286934\n",
      "p-value for factory 1 = 0.0036764678223550895\n",
      "p-value for factory 2 = 0.04077133002863409\n",
      "p-value for factory 3 = 0.06493877130251391\n"
     ]
    }
   ],
   "source": [
    "# Problem 4 code:\n",
    "\n",
    "def RHS_p_value_t(fac):\n",
    "  n = len(fac)\n",
    "  new_var = ((fac-fac.mean())**2).sum()/(n-1)\n",
    "  t_val = (fac.mean()-5000)/(new_var**0.5 / np.sqrt(n))\n",
    "  p_value = 1-stats.t.cdf(t_val, n-1)\n",
    "  return p_value\n",
    "\n",
    "print('p-value as a whole = {}'.format(RHS_p_value_t(np.concatenate([fac_0, fac_1, fac_2, fac_3]))))\n",
    "print('p-value for factory 0 = {}'.format(RHS_p_value_t(fac_0)))\n",
    "print('p-value for factory 1 = {}'.format(RHS_p_value_t(fac_1)))\n",
    "print('p-value for factory 2 = {}'.format(RHS_p_value_t(fac_2)))\n",
    "print('p-value for factory 3 = {}'.format(RHS_p_value_t(fac_3)))\n",
    "\n",
    "# Same result as using z-test. Factory 3 cannot reject null hypothesis again.\n"
   ]
  },
  {
   "cell_type": "code",
   "execution_count": 15,
   "metadata": {
    "id": "4fJIUxmegzr_"
   },
   "outputs": [],
   "source": []
  }
 ],
 "metadata": {
  "colab": {
   "provenance": []
  },
  "kernelspec": {
   "display_name": "Python 3",
   "name": "python3"
  }
 },
 "nbformat": 4,
 "nbformat_minor": 0
}
